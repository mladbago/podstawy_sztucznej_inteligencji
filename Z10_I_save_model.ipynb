{
  "cells": [
    {
      "cell_type": "markdown",
      "metadata": {
        "id": "view-in-github",
        "colab_type": "text"
      },
      "source": [
        "<a href=\"https://colab.research.google.com/github/mladbago/podstawy_sztucznej_inteligencji/blob/main/Z10_I_save_model.ipynb\" target=\"_parent\"><img src=\"https://colab.research.google.com/assets/colab-badge.svg\" alt=\"Open In Colab\"/></a>"
      ]
    },
    {
      "cell_type": "code",
      "execution_count": 1,
      "metadata": {
        "id": "7UHnCoNjxHx8",
        "outputId": "759c409e-c88a-48e8-a5eb-07b8fca058cd",
        "colab": {
          "base_uri": "https://localhost:8080/"
        }
      },
      "outputs": [
        {
          "output_type": "stream",
          "name": "stdout",
          "text": [
            "2.12.0\n",
            "2.12.0\n"
          ]
        }
      ],
      "source": [
        "import tensorflow as tf\n",
        "from tensorflow import keras\n",
        "print(tf.__version__)\n",
        "\n",
        "print(keras.__version__)"
      ]
    },
    {
      "cell_type": "code",
      "execution_count": 2,
      "metadata": {
        "id": "-B5npeacxHx_"
      },
      "outputs": [],
      "source": [
        "import numpy as np\n",
        "import pandas as pd\n",
        "import matplotlib.pyplot as plt\n",
        "import os"
      ]
    },
    {
      "cell_type": "code",
      "execution_count": 4,
      "metadata": {
        "id": "vBj-VObzxHyD",
        "outputId": "7825ad7c-3a4b-4586-8675-8a4c4954d270",
        "colab": {
          "base_uri": "https://localhost:8080/",
          "height": 409
        }
      },
      "outputs": [
        {
          "output_type": "stream",
          "name": "stderr",
          "text": [
            "<ipython-input-4-d866d9954fc4>:6: ParserWarning: Falling back to the 'python' engine because the 'c' engine does not support regex separators (separators > 1 char and different from '\\s+' are interpreted as regex); you can avoid this warning by specifying engine='python'.\n",
            "  train_set = pd.read_csv('https://raw.githubusercontent.com/mladbago/podstawy_sztucznej_inteligencji/main/Dane/adult/adult.data', sep=\", \",header = None)\n",
            "<ipython-input-4-d866d9954fc4>:7: ParserWarning: Falling back to the 'python' engine because the 'c' engine does not support regex separators (separators > 1 char and different from '\\s+' are interpreted as regex); you can avoid this warning by specifying engine='python'.\n",
            "  test_set = pd.read_csv('https://raw.githubusercontent.com/mladbago/podstawy_sztucznej_inteligencji/main/Dane/adult/adult.test', sep=\", \",skiprows = 1, header = None) # Make sure to skip a row for the test set\n"
          ]
        },
        {
          "output_type": "execute_result",
          "data": {
            "text/plain": [
              "   age         workclass  fnlwgt  education  education_num  \\\n",
              "0   39         State-gov   77516  Bachelors             13   \n",
              "1   50  Self-emp-not-inc   83311  Bachelors             13   \n",
              "2   38           Private  215646    HS-grad              9   \n",
              "3   53           Private  234721       11th              7   \n",
              "4   28           Private  338409  Bachelors             13   \n",
              "\n",
              "       marital_status         occupation   relationship   race     sex  \\\n",
              "0       Never-married       Adm-clerical  Not-in-family  White    Male   \n",
              "1  Married-civ-spouse    Exec-managerial        Husband  White    Male   \n",
              "2            Divorced  Handlers-cleaners  Not-in-family  White    Male   \n",
              "3  Married-civ-spouse  Handlers-cleaners        Husband  Black    Male   \n",
              "4  Married-civ-spouse     Prof-specialty           Wife  Black  Female   \n",
              "\n",
              "   capital_gain  capital_loss  hours_per_week native_country wage_class  \n",
              "0          2174             0              40  United-States      <=50K  \n",
              "1             0             0              13  United-States      <=50K  \n",
              "2             0             0              40  United-States      <=50K  \n",
              "3             0             0              40  United-States      <=50K  \n",
              "4             0             0              40           Cuba      <=50K  "
            ],
            "text/html": [
              "\n",
              "  <div id=\"df-2a25209e-2cef-4b6b-9d4b-205cd0ee911e\">\n",
              "    <div class=\"colab-df-container\">\n",
              "      <div>\n",
              "<style scoped>\n",
              "    .dataframe tbody tr th:only-of-type {\n",
              "        vertical-align: middle;\n",
              "    }\n",
              "\n",
              "    .dataframe tbody tr th {\n",
              "        vertical-align: top;\n",
              "    }\n",
              "\n",
              "    .dataframe thead th {\n",
              "        text-align: right;\n",
              "    }\n",
              "</style>\n",
              "<table border=\"1\" class=\"dataframe\">\n",
              "  <thead>\n",
              "    <tr style=\"text-align: right;\">\n",
              "      <th></th>\n",
              "      <th>age</th>\n",
              "      <th>workclass</th>\n",
              "      <th>fnlwgt</th>\n",
              "      <th>education</th>\n",
              "      <th>education_num</th>\n",
              "      <th>marital_status</th>\n",
              "      <th>occupation</th>\n",
              "      <th>relationship</th>\n",
              "      <th>race</th>\n",
              "      <th>sex</th>\n",
              "      <th>capital_gain</th>\n",
              "      <th>capital_loss</th>\n",
              "      <th>hours_per_week</th>\n",
              "      <th>native_country</th>\n",
              "      <th>wage_class</th>\n",
              "    </tr>\n",
              "  </thead>\n",
              "  <tbody>\n",
              "    <tr>\n",
              "      <th>0</th>\n",
              "      <td>39</td>\n",
              "      <td>State-gov</td>\n",
              "      <td>77516</td>\n",
              "      <td>Bachelors</td>\n",
              "      <td>13</td>\n",
              "      <td>Never-married</td>\n",
              "      <td>Adm-clerical</td>\n",
              "      <td>Not-in-family</td>\n",
              "      <td>White</td>\n",
              "      <td>Male</td>\n",
              "      <td>2174</td>\n",
              "      <td>0</td>\n",
              "      <td>40</td>\n",
              "      <td>United-States</td>\n",
              "      <td>&lt;=50K</td>\n",
              "    </tr>\n",
              "    <tr>\n",
              "      <th>1</th>\n",
              "      <td>50</td>\n",
              "      <td>Self-emp-not-inc</td>\n",
              "      <td>83311</td>\n",
              "      <td>Bachelors</td>\n",
              "      <td>13</td>\n",
              "      <td>Married-civ-spouse</td>\n",
              "      <td>Exec-managerial</td>\n",
              "      <td>Husband</td>\n",
              "      <td>White</td>\n",
              "      <td>Male</td>\n",
              "      <td>0</td>\n",
              "      <td>0</td>\n",
              "      <td>13</td>\n",
              "      <td>United-States</td>\n",
              "      <td>&lt;=50K</td>\n",
              "    </tr>\n",
              "    <tr>\n",
              "      <th>2</th>\n",
              "      <td>38</td>\n",
              "      <td>Private</td>\n",
              "      <td>215646</td>\n",
              "      <td>HS-grad</td>\n",
              "      <td>9</td>\n",
              "      <td>Divorced</td>\n",
              "      <td>Handlers-cleaners</td>\n",
              "      <td>Not-in-family</td>\n",
              "      <td>White</td>\n",
              "      <td>Male</td>\n",
              "      <td>0</td>\n",
              "      <td>0</td>\n",
              "      <td>40</td>\n",
              "      <td>United-States</td>\n",
              "      <td>&lt;=50K</td>\n",
              "    </tr>\n",
              "    <tr>\n",
              "      <th>3</th>\n",
              "      <td>53</td>\n",
              "      <td>Private</td>\n",
              "      <td>234721</td>\n",
              "      <td>11th</td>\n",
              "      <td>7</td>\n",
              "      <td>Married-civ-spouse</td>\n",
              "      <td>Handlers-cleaners</td>\n",
              "      <td>Husband</td>\n",
              "      <td>Black</td>\n",
              "      <td>Male</td>\n",
              "      <td>0</td>\n",
              "      <td>0</td>\n",
              "      <td>40</td>\n",
              "      <td>United-States</td>\n",
              "      <td>&lt;=50K</td>\n",
              "    </tr>\n",
              "    <tr>\n",
              "      <th>4</th>\n",
              "      <td>28</td>\n",
              "      <td>Private</td>\n",
              "      <td>338409</td>\n",
              "      <td>Bachelors</td>\n",
              "      <td>13</td>\n",
              "      <td>Married-civ-spouse</td>\n",
              "      <td>Prof-specialty</td>\n",
              "      <td>Wife</td>\n",
              "      <td>Black</td>\n",
              "      <td>Female</td>\n",
              "      <td>0</td>\n",
              "      <td>0</td>\n",
              "      <td>40</td>\n",
              "      <td>Cuba</td>\n",
              "      <td>&lt;=50K</td>\n",
              "    </tr>\n",
              "  </tbody>\n",
              "</table>\n",
              "</div>\n",
              "      <button class=\"colab-df-convert\" onclick=\"convertToInteractive('df-2a25209e-2cef-4b6b-9d4b-205cd0ee911e')\"\n",
              "              title=\"Convert this dataframe to an interactive table.\"\n",
              "              style=\"display:none;\">\n",
              "        \n",
              "  <svg xmlns=\"http://www.w3.org/2000/svg\" height=\"24px\"viewBox=\"0 0 24 24\"\n",
              "       width=\"24px\">\n",
              "    <path d=\"M0 0h24v24H0V0z\" fill=\"none\"/>\n",
              "    <path d=\"M18.56 5.44l.94 2.06.94-2.06 2.06-.94-2.06-.94-.94-2.06-.94 2.06-2.06.94zm-11 1L8.5 8.5l.94-2.06 2.06-.94-2.06-.94L8.5 2.5l-.94 2.06-2.06.94zm10 10l.94 2.06.94-2.06 2.06-.94-2.06-.94-.94-2.06-.94 2.06-2.06.94z\"/><path d=\"M17.41 7.96l-1.37-1.37c-.4-.4-.92-.59-1.43-.59-.52 0-1.04.2-1.43.59L10.3 9.45l-7.72 7.72c-.78.78-.78 2.05 0 2.83L4 21.41c.39.39.9.59 1.41.59.51 0 1.02-.2 1.41-.59l7.78-7.78 2.81-2.81c.8-.78.8-2.07 0-2.86zM5.41 20L4 18.59l7.72-7.72 1.47 1.35L5.41 20z\"/>\n",
              "  </svg>\n",
              "      </button>\n",
              "      \n",
              "  <style>\n",
              "    .colab-df-container {\n",
              "      display:flex;\n",
              "      flex-wrap:wrap;\n",
              "      gap: 12px;\n",
              "    }\n",
              "\n",
              "    .colab-df-convert {\n",
              "      background-color: #E8F0FE;\n",
              "      border: none;\n",
              "      border-radius: 50%;\n",
              "      cursor: pointer;\n",
              "      display: none;\n",
              "      fill: #1967D2;\n",
              "      height: 32px;\n",
              "      padding: 0 0 0 0;\n",
              "      width: 32px;\n",
              "    }\n",
              "\n",
              "    .colab-df-convert:hover {\n",
              "      background-color: #E2EBFA;\n",
              "      box-shadow: 0px 1px 2px rgba(60, 64, 67, 0.3), 0px 1px 3px 1px rgba(60, 64, 67, 0.15);\n",
              "      fill: #174EA6;\n",
              "    }\n",
              "\n",
              "    [theme=dark] .colab-df-convert {\n",
              "      background-color: #3B4455;\n",
              "      fill: #D2E3FC;\n",
              "    }\n",
              "\n",
              "    [theme=dark] .colab-df-convert:hover {\n",
              "      background-color: #434B5C;\n",
              "      box-shadow: 0px 1px 3px 1px rgba(0, 0, 0, 0.15);\n",
              "      filter: drop-shadow(0px 1px 2px rgba(0, 0, 0, 0.3));\n",
              "      fill: #FFFFFF;\n",
              "    }\n",
              "  </style>\n",
              "\n",
              "      <script>\n",
              "        const buttonEl =\n",
              "          document.querySelector('#df-2a25209e-2cef-4b6b-9d4b-205cd0ee911e button.colab-df-convert');\n",
              "        buttonEl.style.display =\n",
              "          google.colab.kernel.accessAllowed ? 'block' : 'none';\n",
              "\n",
              "        async function convertToInteractive(key) {\n",
              "          const element = document.querySelector('#df-2a25209e-2cef-4b6b-9d4b-205cd0ee911e');\n",
              "          const dataTable =\n",
              "            await google.colab.kernel.invokeFunction('convertToInteractive',\n",
              "                                                     [key], {});\n",
              "          if (!dataTable) return;\n",
              "\n",
              "          const docLinkHtml = 'Like what you see? Visit the ' +\n",
              "            '<a target=\"_blank\" href=https://colab.research.google.com/notebooks/data_table.ipynb>data table notebook</a>'\n",
              "            + ' to learn more about interactive tables.';\n",
              "          element.innerHTML = '';\n",
              "          dataTable['output_type'] = 'display_data';\n",
              "          await google.colab.output.renderOutput(dataTable, element);\n",
              "          const docLink = document.createElement('div');\n",
              "          docLink.innerHTML = docLinkHtml;\n",
              "          element.appendChild(docLink);\n",
              "        }\n",
              "      </script>\n",
              "    </div>\n",
              "  </div>\n",
              "  "
            ]
          },
          "metadata": {},
          "execution_count": 4
        }
      ],
      "source": [
        "# Wczytaj dane treningowe i testowe\n",
        "import numpy as np\n",
        "import matplotlib.pyplot as plt\n",
        "import pandas as pd\n",
        "\n",
        "train_set = pd.read_csv('https://raw.githubusercontent.com/mladbago/podstawy_sztucznej_inteligencji/main/Dane/adult/adult.data', sep=\", \",header = None)\n",
        "test_set = pd.read_csv('https://raw.githubusercontent.com/mladbago/podstawy_sztucznej_inteligencji/main/Dane/adult/adult.test', sep=\", \",skiprows = 1, header = None) # Make sure to skip a row for the test set\n",
        "\n",
        "col_labels = ['age', 'workclass', 'fnlwgt', 'education', 'education_num', 'marital_status', 'occupation', \n",
        "              'relationship', 'race', 'sex', 'capital_gain', 'capital_loss', 'hours_per_week', 'native_country',\n",
        "             'wage_class']\n",
        "train_set.columns = col_labels\n",
        "test_set.columns = col_labels\n",
        "\n",
        "train = train_set.replace('?', np.nan).dropna()\n",
        "test = test_set.replace('?', np.nan).dropna()\n",
        "\n",
        "train_set.head()\n"
      ]
    },
    {
      "cell_type": "markdown",
      "metadata": {
        "id": "b0wyjsVWxHyF"
      },
      "source": [
        "# Zad.\n",
        "Zróbmy szybki preprocesing"
      ]
    },
    {
      "cell_type": "code",
      "execution_count": 5,
      "metadata": {
        "id": "87XAyRQGxHyH"
      },
      "outputs": [],
      "source": [
        "dataset = pd.concat([train,test])\n",
        "\n",
        "dataset['wage_class'] = dataset.wage_class.replace({'<=50K.': 0,'<=50K':0, '>50K.':1, '>50K':1})\n",
        "\n",
        "dataset.drop([\"fnlwgt\"],axis=1,inplace=True)\n",
        "\n",
        "dataset.drop([\"education\"],axis=1,inplace=True)\n",
        "\n",
        "x = dataset.groupby('native_country')[\"wage_class\"].mean()\n",
        "\n",
        "d = dict(pd.cut(x[x.index!=\" United-States\"],5,labels=range(5)))\n",
        "\n",
        "dataset['native_country'] = dataset['native_country'].replace(d)\n",
        "\n",
        "dataset = pd.get_dummies(dataset,drop_first=True)\n",
        "\n",
        "train = dataset.iloc[:train.shape[0]]\n",
        "test = dataset.iloc[train.shape[0]:]\n",
        "\n",
        "X_train = train.drop(\"wage_class\",axis=1)\n",
        "y_train = train.wage_class\n",
        "\n",
        "X_test = test.drop(\"wage_class\",axis=1)\n",
        "y_test = test.wage_class\n"
      ]
    },
    {
      "cell_type": "code",
      "execution_count": 6,
      "metadata": {
        "id": "9RpyulvPxHyH"
      },
      "outputs": [],
      "source": [
        "from keras.callbacks import ModelCheckpoint"
      ]
    },
    {
      "cell_type": "code",
      "execution_count": null,
      "metadata": {
        "id": "7rddOgwwxHyI"
      },
      "outputs": [],
      "source": []
    },
    {
      "cell_type": "code",
      "execution_count": 7,
      "metadata": {
        "id": "RqWk4VCjxHyI",
        "outputId": "2bf32107-71b0-42f1-b165-567b2656e435",
        "colab": {
          "base_uri": "https://localhost:8080/"
        }
      },
      "outputs": [
        {
          "output_type": "stream",
          "name": "stdout",
          "text": [
            "Model: \"sequential\"\n",
            "_________________________________________________________________\n",
            " Layer (type)                Output Shape              Param #   \n",
            "=================================================================\n",
            " dense (Dense)               (None, 100)               4200      \n",
            "                                                                 \n",
            " dense_1 (Dense)             (None, 50)                5050      \n",
            "                                                                 \n",
            " dense_2 (Dense)             (None, 10)                510       \n",
            "                                                                 \n",
            " dense_3 (Dense)             (None, 1)                 11        \n",
            "                                                                 \n",
            "=================================================================\n",
            "Total params: 9,771\n",
            "Trainable params: 9,771\n",
            "Non-trainable params: 0\n",
            "_________________________________________________________________\n"
          ]
        }
      ],
      "source": [
        "from keras.models import Sequential\n",
        "from keras.layers import Dense\n",
        "\n",
        "from keras.callbacks import History\n",
        "\n",
        "history = History()\n",
        "model = Sequential()\n",
        "model.add(Dense(100,activation=\"sigmoid\",input_shape=(X_train.shape[1],)))\n",
        "model.add(Dense(50,activation=\"sigmoid\"))\n",
        "model.add(Dense(10,activation=\"sigmoid\"))\n",
        "model.add(Dense(1,activation=\"sigmoid\"))\n",
        "model.summary()"
      ]
    },
    {
      "cell_type": "code",
      "execution_count": 8,
      "metadata": {
        "id": "NmrOvD5txHyI"
      },
      "outputs": [],
      "source": [
        "save_best_model = ModelCheckpoint(\"wagi_best.h5py\",save_best_only=True)\n",
        "model.compile(loss=\"binary_crossentropy\",optimizer=\"Adam\", metrics=[\"accuracy\"])"
      ]
    },
    {
      "cell_type": "code",
      "execution_count": 9,
      "metadata": {
        "id": "3LY9CbwixHyJ",
        "outputId": "2e9c786f-428f-47f7-a0f0-eb1dfbd8ef48",
        "colab": {
          "base_uri": "https://localhost:8080/"
        }
      },
      "outputs": [
        {
          "output_type": "stream",
          "name": "stdout",
          "text": [
            "Epoch 1/100\n",
            "943/943 [==============================] - ETA: 0s - loss: 0.4413 - accuracy: 0.7893"
          ]
        },
        {
          "output_type": "stream",
          "name": "stderr",
          "text": [
            "WARNING:absl:Found untraced functions such as _update_step_xla while saving (showing 1 of 1). These functions will not be directly callable after loading.\n"
          ]
        },
        {
          "output_type": "stream",
          "name": "stdout",
          "text": [
            "\b\b\b\b\b\b\b\b\b\b\b\b\b\b\b\b\b\b\b\b\b\b\b\b\b\b\b\b\b\b\b\b\b\b\b\b\b\b\b\b\b\b\b\b\b\b\b\b\b\b\b\b\b\b\b\b\b\b\b\b\b\b\b\b\b\b\b\b\b\b\b\b\b\b\b\b\b\b\b\b\b\b\b\b\r943/943 [==============================] - 5s 4ms/step - loss: 0.4413 - accuracy: 0.7893 - val_loss: 0.3772 - val_accuracy: 0.8131\n",
            "Epoch 2/100\n",
            "927/943 [============================>.] - ETA: 0s - loss: 0.3805 - accuracy: 0.8098"
          ]
        },
        {
          "output_type": "stream",
          "name": "stderr",
          "text": [
            "WARNING:absl:Found untraced functions such as _update_step_xla while saving (showing 1 of 1). These functions will not be directly callable after loading.\n"
          ]
        },
        {
          "output_type": "stream",
          "name": "stdout",
          "text": [
            "\b\b\b\b\b\b\b\b\b\b\b\b\b\b\b\b\b\b\b\b\b\b\b\b\b\b\b\b\b\b\b\b\b\b\b\b\b\b\b\b\b\b\b\b\b\b\b\b\b\b\b\b\b\b\b\b\b\b\b\b\b\b\b\b\b\b\b\b\b\b\b\b\b\b\b\b\b\b\b\b\b\b\b\b\r943/943 [==============================] - 4s 4ms/step - loss: 0.3802 - accuracy: 0.8100 - val_loss: 0.3741 - val_accuracy: 0.8096\n",
            "Epoch 3/100\n",
            "940/943 [============================>.] - ETA: 0s - loss: 0.3748 - accuracy: 0.8126"
          ]
        },
        {
          "output_type": "stream",
          "name": "stderr",
          "text": [
            "WARNING:absl:Found untraced functions such as _update_step_xla while saving (showing 1 of 1). These functions will not be directly callable after loading.\n"
          ]
        },
        {
          "output_type": "stream",
          "name": "stdout",
          "text": [
            "\b\b\b\b\b\b\b\b\b\b\b\b\b\b\b\b\b\b\b\b\b\b\b\b\b\b\b\b\b\b\b\b\b\b\b\b\b\b\b\b\b\b\b\b\b\b\b\b\b\b\b\b\b\b\b\b\b\b\b\b\b\b\b\b\b\b\b\b\b\b\b\b\b\b\b\b\b\b\b\b\b\b\b\b\r943/943 [==============================] - 3s 3ms/step - loss: 0.3748 - accuracy: 0.8124 - val_loss: 0.3737 - val_accuracy: 0.8149\n",
            "Epoch 4/100\n",
            "921/943 [============================>.] - ETA: 0s - loss: 0.3701 - accuracy: 0.8179"
          ]
        },
        {
          "output_type": "stream",
          "name": "stderr",
          "text": [
            "WARNING:absl:Found untraced functions such as _update_step_xla while saving (showing 1 of 1). These functions will not be directly callable after loading.\n"
          ]
        },
        {
          "output_type": "stream",
          "name": "stdout",
          "text": [
            "\b\b\b\b\b\b\b\b\b\b\b\b\b\b\b\b\b\b\b\b\b\b\b\b\b\b\b\b\b\b\b\b\b\b\b\b\b\b\b\b\b\b\b\b\b\b\b\b\b\b\b\b\b\b\b\b\b\b\b\b\b\b\b\b\b\b\b\b\b\b\b\b\b\b\b\b\b\b\b\b\b\b\b\b\r943/943 [==============================] - 3s 3ms/step - loss: 0.3697 - accuracy: 0.8181 - val_loss: 0.3575 - val_accuracy: 0.8345\n",
            "Epoch 5/100\n",
            "916/943 [============================>.] - ETA: 0s - loss: 0.3566 - accuracy: 0.8279"
          ]
        },
        {
          "output_type": "stream",
          "name": "stderr",
          "text": [
            "WARNING:absl:Found untraced functions such as _update_step_xla while saving (showing 1 of 1). These functions will not be directly callable after loading.\n"
          ]
        },
        {
          "output_type": "stream",
          "name": "stdout",
          "text": [
            "\b\b\b\b\b\b\b\b\b\b\b\b\b\b\b\b\b\b\b\b\b\b\b\b\b\b\b\b\b\b\b\b\b\b\b\b\b\b\b\b\b\b\b\b\b\b\b\b\b\b\b\b\b\b\b\b\b\b\b\b\b\b\b\b\b\b\b\b\b\b\b\b\b\b\b\b\b\b\b\b\b\b\b\b\r943/943 [==============================] - 4s 4ms/step - loss: 0.3568 - accuracy: 0.8278 - val_loss: 0.3555 - val_accuracy: 0.8241\n",
            "Epoch 6/100\n",
            "935/943 [============================>.] - ETA: 0s - loss: 0.3544 - accuracy: 0.8298"
          ]
        },
        {
          "output_type": "stream",
          "name": "stderr",
          "text": [
            "WARNING:absl:Found untraced functions such as _update_step_xla while saving (showing 1 of 1). These functions will not be directly callable after loading.\n"
          ]
        },
        {
          "output_type": "stream",
          "name": "stdout",
          "text": [
            "\b\b\b\b\b\b\b\b\b\b\b\b\b\b\b\b\b\b\b\b\b\b\b\b\b\b\b\b\b\b\b\b\b\b\b\b\b\b\b\b\b\b\b\b\b\b\b\b\b\b\b\b\b\b\b\b\b\b\b\b\b\b\b\b\b\b\b\b\b\b\b\b\b\b\b\b\b\b\b\b\b\b\b\b\r943/943 [==============================] - 4s 4ms/step - loss: 0.3541 - accuracy: 0.8300 - val_loss: 0.3504 - val_accuracy: 0.8316\n",
            "Epoch 7/100\n",
            "943/943 [==============================] - 2s 2ms/step - loss: 0.3554 - accuracy: 0.8286 - val_loss: 0.3566 - val_accuracy: 0.8260\n",
            "Epoch 8/100\n",
            "943/943 [==============================] - 2s 2ms/step - loss: 0.3520 - accuracy: 0.8298 - val_loss: 0.3633 - val_accuracy: 0.8207\n",
            "Epoch 9/100\n",
            "943/943 [==============================] - 2s 3ms/step - loss: 0.3490 - accuracy: 0.8319 - val_loss: 0.3604 - val_accuracy: 0.8195\n",
            "Epoch 10/100\n",
            "931/943 [============================>.] - ETA: 0s - loss: 0.3488 - accuracy: 0.8318"
          ]
        },
        {
          "output_type": "stream",
          "name": "stderr",
          "text": [
            "WARNING:absl:Found untraced functions such as _update_step_xla while saving (showing 1 of 1). These functions will not be directly callable after loading.\n"
          ]
        },
        {
          "output_type": "stream",
          "name": "stdout",
          "text": [
            "\b\b\b\b\b\b\b\b\b\b\b\b\b\b\b\b\b\b\b\b\b\b\b\b\b\b\b\b\b\b\b\b\b\b\b\b\b\b\b\b\b\b\b\b\b\b\b\b\b\b\b\b\b\b\b\b\b\b\b\b\b\b\b\b\b\b\b\b\b\b\b\b\b\b\b\b\b\b\b\b\b\b\b\b\r943/943 [==============================] - 4s 4ms/step - loss: 0.3488 - accuracy: 0.8319 - val_loss: 0.3485 - val_accuracy: 0.8303\n",
            "Epoch 11/100\n",
            "932/943 [============================>.] - ETA: 0s - loss: 0.3475 - accuracy: 0.8346"
          ]
        },
        {
          "output_type": "stream",
          "name": "stderr",
          "text": [
            "WARNING:absl:Found untraced functions such as _update_step_xla while saving (showing 1 of 1). These functions will not be directly callable after loading.\n"
          ]
        },
        {
          "output_type": "stream",
          "name": "stdout",
          "text": [
            "\b\b\b\b\b\b\b\b\b\b\b\b\b\b\b\b\b\b\b\b\b\b\b\b\b\b\b\b\b\b\b\b\b\b\b\b\b\b\b\b\b\b\b\b\b\b\b\b\b\b\b\b\b\b\b\b\b\b\b\b\b\b\b\b\b\b\b\b\b\b\b\b\b\b\b\b\b\b\b\b\b\b\b\b\r943/943 [==============================] - 4s 4ms/step - loss: 0.3473 - accuracy: 0.8348 - val_loss: 0.3457 - val_accuracy: 0.8309\n",
            "Epoch 12/100\n",
            "943/943 [==============================] - 2s 3ms/step - loss: 0.3501 - accuracy: 0.8307 - val_loss: 0.3580 - val_accuracy: 0.8182\n",
            "Epoch 13/100\n",
            "943/943 [==============================] - 2s 3ms/step - loss: 0.3528 - accuracy: 0.8288 - val_loss: 0.3461 - val_accuracy: 0.8315\n",
            "Epoch 14/100\n",
            "943/943 [==============================] - 3s 4ms/step - loss: 0.3460 - accuracy: 0.8330 - val_loss: 0.3485 - val_accuracy: 0.8345\n",
            "Epoch 15/100\n",
            "943/943 [==============================] - 2s 3ms/step - loss: 0.3446 - accuracy: 0.8343 - val_loss: 0.3480 - val_accuracy: 0.8312\n",
            "Epoch 16/100\n",
            "940/943 [============================>.] - ETA: 0s - loss: 0.3500 - accuracy: 0.8285"
          ]
        },
        {
          "output_type": "stream",
          "name": "stderr",
          "text": [
            "WARNING:absl:Found untraced functions such as _update_step_xla while saving (showing 1 of 1). These functions will not be directly callable after loading.\n"
          ]
        },
        {
          "output_type": "stream",
          "name": "stdout",
          "text": [
            "\b\b\b\b\b\b\b\b\b\b\b\b\b\b\b\b\b\b\b\b\b\b\b\b\b\b\b\b\b\b\b\b\b\b\b\b\b\b\b\b\b\b\b\b\b\b\b\b\b\b\b\b\b\b\b\b\b\b\b\b\b\b\b\b\b\b\b\b\b\b\b\b\b\b\b\b\b\b\b\b\b\b\b\b\r943/943 [==============================] - 3s 3ms/step - loss: 0.3501 - accuracy: 0.8284 - val_loss: 0.3451 - val_accuracy: 0.8357\n",
            "Epoch 17/100\n",
            "943/943 [==============================] - 2s 3ms/step - loss: 0.3455 - accuracy: 0.8321 - val_loss: 0.3492 - val_accuracy: 0.8337\n",
            "Epoch 18/100\n",
            "943/943 [==============================] - 3s 3ms/step - loss: 0.3462 - accuracy: 0.8320 - val_loss: 0.3472 - val_accuracy: 0.8315\n",
            "Epoch 19/100\n",
            "939/943 [============================>.] - ETA: 0s - loss: 0.3410 - accuracy: 0.8346"
          ]
        },
        {
          "output_type": "stream",
          "name": "stderr",
          "text": [
            "WARNING:absl:Found untraced functions such as _update_step_xla while saving (showing 1 of 1). These functions will not be directly callable after loading.\n"
          ]
        },
        {
          "output_type": "stream",
          "name": "stdout",
          "text": [
            "\b\b\b\b\b\b\b\b\b\b\b\b\b\b\b\b\b\b\b\b\b\b\b\b\b\b\b\b\b\b\b\b\b\b\b\b\b\b\b\b\b\b\b\b\b\b\b\b\b\b\b\b\b\b\b\b\b\b\b\b\b\b\b\b\b\b\b\b\b\b\b\b\b\b\b\b\b\b\b\b\b\b\b\b\r943/943 [==============================] - 4s 4ms/step - loss: 0.3411 - accuracy: 0.8346 - val_loss: 0.3435 - val_accuracy: 0.8347\n",
            "Epoch 20/100\n",
            "943/943 [==============================] - 2s 3ms/step - loss: 0.3427 - accuracy: 0.8331 - val_loss: 0.3441 - val_accuracy: 0.8319\n",
            "Epoch 21/100\n",
            "943/943 [==============================] - 2s 3ms/step - loss: 0.3433 - accuracy: 0.8336 - val_loss: 0.3447 - val_accuracy: 0.8357\n",
            "Epoch 22/100\n",
            "943/943 [==============================] - 2s 3ms/step - loss: 0.3468 - accuracy: 0.8323 - val_loss: 0.3512 - val_accuracy: 0.8322\n",
            "Epoch 23/100\n",
            "943/943 [==============================] - 3s 4ms/step - loss: 0.3435 - accuracy: 0.8340 - val_loss: 0.3460 - val_accuracy: 0.8342\n",
            "Epoch 24/100\n",
            "943/943 [==============================] - 2s 2ms/step - loss: 0.3436 - accuracy: 0.8333 - val_loss: 0.3607 - val_accuracy: 0.8242\n",
            "Epoch 25/100\n",
            "943/943 [==============================] - 2s 2ms/step - loss: 0.3446 - accuracy: 0.8319 - val_loss: 0.3443 - val_accuracy: 0.8162\n",
            "Epoch 26/100\n",
            "943/943 [==============================] - 2s 2ms/step - loss: 0.3425 - accuracy: 0.8345 - val_loss: 0.3511 - val_accuracy: 0.8288\n",
            "Epoch 27/100\n",
            "943/943 [==============================] - 2s 2ms/step - loss: 0.3512 - accuracy: 0.8279 - val_loss: 0.3593 - val_accuracy: 0.8236\n",
            "Epoch 28/100\n",
            "943/943 [==============================] - 3s 4ms/step - loss: 0.3425 - accuracy: 0.8339 - val_loss: 0.3554 - val_accuracy: 0.8174\n",
            "Epoch 29/100\n",
            "927/943 [============================>.] - ETA: 0s - loss: 0.3424 - accuracy: 0.8323"
          ]
        },
        {
          "output_type": "stream",
          "name": "stderr",
          "text": [
            "WARNING:absl:Found untraced functions such as _update_step_xla while saving (showing 1 of 1). These functions will not be directly callable after loading.\n"
          ]
        },
        {
          "output_type": "stream",
          "name": "stdout",
          "text": [
            "\b\b\b\b\b\b\b\b\b\b\b\b\b\b\b\b\b\b\b\b\b\b\b\b\b\b\b\b\b\b\b\b\b\b\b\b\b\b\b\b\b\b\b\b\b\b\b\b\b\b\b\b\b\b\b\b\b\b\b\b\b\b\b\b\b\b\b\b\b\b\b\b\b\b\b\b\b\b\b\b\b\b\b\b\r943/943 [==============================] - 3s 3ms/step - loss: 0.3419 - accuracy: 0.8326 - val_loss: 0.3426 - val_accuracy: 0.8355\n",
            "Epoch 30/100\n",
            "943/943 [==============================] - 2s 3ms/step - loss: 0.3408 - accuracy: 0.8334 - val_loss: 0.3618 - val_accuracy: 0.8163\n",
            "Epoch 31/100\n",
            "943/943 [==============================] - 2s 3ms/step - loss: 0.3445 - accuracy: 0.8298 - val_loss: 0.3560 - val_accuracy: 0.8250\n",
            "Epoch 32/100\n",
            "943/943 [==============================] - 3s 3ms/step - loss: 0.3402 - accuracy: 0.8358 - val_loss: 0.3522 - val_accuracy: 0.8321\n",
            "Epoch 33/100\n",
            "943/943 [==============================] - 3s 3ms/step - loss: 0.3397 - accuracy: 0.8349 - val_loss: 0.3492 - val_accuracy: 0.8255\n",
            "Epoch 34/100\n",
            "943/943 [==============================] - 2s 3ms/step - loss: 0.3420 - accuracy: 0.8340 - val_loss: 0.3495 - val_accuracy: 0.8309\n",
            "Epoch 35/100\n",
            "943/943 [==============================] - 2s 3ms/step - loss: 0.3403 - accuracy: 0.8345 - val_loss: 0.3463 - val_accuracy: 0.8335\n",
            "Epoch 36/100\n",
            "943/943 [==============================] - 2s 2ms/step - loss: 0.3410 - accuracy: 0.8352 - val_loss: 0.3546 - val_accuracy: 0.8277\n",
            "Epoch 37/100\n",
            "943/943 [==============================] - 3s 3ms/step - loss: 0.3426 - accuracy: 0.8350 - val_loss: 0.3506 - val_accuracy: 0.8324\n",
            "Epoch 38/100\n",
            "943/943 [==============================] - 3s 3ms/step - loss: 0.3419 - accuracy: 0.8300 - val_loss: 0.3427 - val_accuracy: 0.8336\n",
            "Epoch 39/100\n",
            "943/943 [==============================] - 2s 2ms/step - loss: 0.3413 - accuracy: 0.8340 - val_loss: 0.3491 - val_accuracy: 0.8295\n",
            "Epoch 40/100\n",
            "933/943 [============================>.] - ETA: 0s - loss: 0.3417 - accuracy: 0.8343"
          ]
        },
        {
          "output_type": "stream",
          "name": "stderr",
          "text": [
            "WARNING:absl:Found untraced functions such as _update_step_xla while saving (showing 1 of 1). These functions will not be directly callable after loading.\n"
          ]
        },
        {
          "output_type": "stream",
          "name": "stdout",
          "text": [
            "\b\b\b\b\b\b\b\b\b\b\b\b\b\b\b\b\b\b\b\b\b\b\b\b\b\b\b\b\b\b\b\b\b\b\b\b\b\b\b\b\b\b\b\b\b\b\b\b\b\b\b\b\b\b\b\b\b\b\b\b\b\b\b\b\b\b\b\b\b\b\b\b\b\b\b\b\b\b\b\b\b\b\b\b\r943/943 [==============================] - 3s 3ms/step - loss: 0.3415 - accuracy: 0.8345 - val_loss: 0.3423 - val_accuracy: 0.8361\n",
            "Epoch 41/100\n",
            "943/943 [==============================] - 2s 2ms/step - loss: 0.3435 - accuracy: 0.8287 - val_loss: 0.3521 - val_accuracy: 0.8309\n",
            "Epoch 42/100\n",
            "932/943 [============================>.] - ETA: 0s - loss: 0.3392 - accuracy: 0.8347"
          ]
        },
        {
          "output_type": "stream",
          "name": "stderr",
          "text": [
            "WARNING:absl:Found untraced functions such as _update_step_xla while saving (showing 1 of 1). These functions will not be directly callable after loading.\n"
          ]
        },
        {
          "output_type": "stream",
          "name": "stdout",
          "text": [
            "\b\b\b\b\b\b\b\b\b\b\b\b\b\b\b\b\b\b\b\b\b\b\b\b\b\b\b\b\b\b\b\b\b\b\b\b\b\b\b\b\b\b\b\b\b\b\b\b\b\b\b\b\b\b\b\b\b\b\b\b\b\b\b\b\b\b\b\b\b\b\b\b\b\b\b\b\b\b\b\b\b\b\b\b\r943/943 [==============================] - 5s 5ms/step - loss: 0.3395 - accuracy: 0.8345 - val_loss: 0.3414 - val_accuracy: 0.8329\n",
            "Epoch 43/100\n",
            "943/943 [==============================] - 2s 2ms/step - loss: 0.3410 - accuracy: 0.8341 - val_loss: 0.3432 - val_accuracy: 0.8339\n",
            "Epoch 44/100\n",
            "943/943 [==============================] - 2s 3ms/step - loss: 0.3418 - accuracy: 0.8302 - val_loss: 0.3426 - val_accuracy: 0.8357\n",
            "Epoch 45/100\n",
            "943/943 [==============================] - 2s 3ms/step - loss: 0.3388 - accuracy: 0.8355 - val_loss: 0.3484 - val_accuracy: 0.8325\n",
            "Epoch 46/100\n",
            "943/943 [==============================] - 3s 4ms/step - loss: 0.3383 - accuracy: 0.8372 - val_loss: 0.3554 - val_accuracy: 0.8331\n",
            "Epoch 47/100\n",
            "943/943 [==============================] - 2s 2ms/step - loss: 0.3392 - accuracy: 0.8335 - val_loss: 0.3542 - val_accuracy: 0.8272\n",
            "Epoch 48/100\n",
            "943/943 [==============================] - 2s 2ms/step - loss: 0.3361 - accuracy: 0.8377 - val_loss: 0.3426 - val_accuracy: 0.8344\n",
            "Epoch 49/100\n",
            "943/943 [==============================] - 2s 3ms/step - loss: 0.3377 - accuracy: 0.8363 - val_loss: 0.3448 - val_accuracy: 0.8293\n",
            "Epoch 50/100\n",
            "943/943 [==============================] - 2s 3ms/step - loss: 0.3401 - accuracy: 0.8345 - val_loss: 0.3502 - val_accuracy: 0.8325\n",
            "Epoch 51/100\n",
            "943/943 [==============================] - 4s 4ms/step - loss: 0.3379 - accuracy: 0.8354 - val_loss: 0.3441 - val_accuracy: 0.8341\n",
            "Epoch 52/100\n",
            "943/943 [==============================] - 2s 2ms/step - loss: 0.3371 - accuracy: 0.8385 - val_loss: 0.3447 - val_accuracy: 0.8363\n",
            "Epoch 53/100\n",
            "943/943 [==============================] - 2s 3ms/step - loss: 0.3382 - accuracy: 0.8376 - val_loss: 0.3469 - val_accuracy: 0.8329\n",
            "Epoch 54/100\n",
            "943/943 [==============================] - 2s 3ms/step - loss: 0.3388 - accuracy: 0.8319 - val_loss: 0.3582 - val_accuracy: 0.8157\n",
            "Epoch 55/100\n",
            "943/943 [==============================] - 2s 3ms/step - loss: 0.3364 - accuracy: 0.8342 - val_loss: 0.3499 - val_accuracy: 0.8313\n",
            "Epoch 56/100\n",
            "943/943 [==============================] - 4s 4ms/step - loss: 0.3390 - accuracy: 0.8371 - val_loss: 0.3458 - val_accuracy: 0.8325\n",
            "Epoch 57/100\n",
            "943/943 [==============================] - 2s 3ms/step - loss: 0.3374 - accuracy: 0.8372 - val_loss: 0.3430 - val_accuracy: 0.8353\n",
            "Epoch 58/100\n",
            "943/943 [==============================] - 2s 3ms/step - loss: 0.3372 - accuracy: 0.8370 - val_loss: 0.3545 - val_accuracy: 0.8173\n",
            "Epoch 59/100\n",
            "943/943 [==============================] - 2s 3ms/step - loss: 0.3398 - accuracy: 0.8322 - val_loss: 0.3465 - val_accuracy: 0.8305\n",
            "Epoch 60/100\n",
            "943/943 [==============================] - 3s 3ms/step - loss: 0.3385 - accuracy: 0.8324 - val_loss: 0.3444 - val_accuracy: 0.8301\n",
            "Epoch 61/100\n",
            "943/943 [==============================] - 3s 3ms/step - loss: 0.3358 - accuracy: 0.8387 - val_loss: 0.3423 - val_accuracy: 0.8343\n",
            "Epoch 62/100\n",
            "943/943 [==============================] - 2s 3ms/step - loss: 0.3365 - accuracy: 0.8353 - val_loss: 0.3484 - val_accuracy: 0.8349\n",
            "Epoch 63/100\n",
            "943/943 [==============================] - 2s 2ms/step - loss: 0.3363 - accuracy: 0.8361 - val_loss: 0.3563 - val_accuracy: 0.8258\n",
            "Epoch 64/100\n",
            "943/943 [==============================] - 2s 3ms/step - loss: 0.3346 - accuracy: 0.8374 - val_loss: 0.3446 - val_accuracy: 0.8352\n",
            "Epoch 65/100\n",
            "943/943 [==============================] - 3s 3ms/step - loss: 0.3381 - accuracy: 0.8314 - val_loss: 0.3494 - val_accuracy: 0.8228\n",
            "Epoch 66/100\n",
            "943/943 [==============================] - 3s 3ms/step - loss: 0.3390 - accuracy: 0.8291 - val_loss: 0.3507 - val_accuracy: 0.8183\n",
            "Epoch 67/100\n",
            "922/943 [============================>.] - ETA: 0s - loss: 0.3365 - accuracy: 0.8344"
          ]
        },
        {
          "output_type": "stream",
          "name": "stderr",
          "text": [
            "WARNING:absl:Found untraced functions such as _update_step_xla while saving (showing 1 of 1). These functions will not be directly callable after loading.\n"
          ]
        },
        {
          "output_type": "stream",
          "name": "stdout",
          "text": [
            "\b\b\b\b\b\b\b\b\b\b\b\b\b\b\b\b\b\b\b\b\b\b\b\b\b\b\b\b\b\b\b\b\b\b\b\b\b\b\b\b\b\b\b\b\b\b\b\b\b\b\b\b\b\b\b\b\b\b\b\b\b\b\b\b\b\b\b\b\b\b\b\b\b\b\b\b\b\b\b\b\b\b\b\b\r943/943 [==============================] - 3s 3ms/step - loss: 0.3373 - accuracy: 0.8338 - val_loss: 0.3406 - val_accuracy: 0.8341\n",
            "Epoch 68/100\n",
            "943/943 [==============================] - 2s 2ms/step - loss: 0.3332 - accuracy: 0.8381 - val_loss: 0.3451 - val_accuracy: 0.8368\n",
            "Epoch 69/100\n",
            "943/943 [==============================] - 2s 3ms/step - loss: 0.3327 - accuracy: 0.8389 - val_loss: 0.3465 - val_accuracy: 0.8355\n",
            "Epoch 70/100\n",
            "943/943 [==============================] - 4s 4ms/step - loss: 0.3335 - accuracy: 0.8352 - val_loss: 0.3477 - val_accuracy: 0.8278\n",
            "Epoch 71/100\n",
            "943/943 [==============================] - 2s 3ms/step - loss: 0.3344 - accuracy: 0.8386 - val_loss: 0.3429 - val_accuracy: 0.8349\n",
            "Epoch 72/100\n",
            "943/943 [==============================] - 2s 3ms/step - loss: 0.3344 - accuracy: 0.8386 - val_loss: 0.3447 - val_accuracy: 0.8343\n",
            "Epoch 73/100\n",
            "943/943 [==============================] - 3s 3ms/step - loss: 0.3333 - accuracy: 0.8410 - val_loss: 0.3464 - val_accuracy: 0.8315\n",
            "Epoch 74/100\n",
            "943/943 [==============================] - 3s 3ms/step - loss: 0.3326 - accuracy: 0.8412 - val_loss: 0.3438 - val_accuracy: 0.8342\n",
            "Epoch 75/100\n",
            "943/943 [==============================] - 3s 3ms/step - loss: 0.3345 - accuracy: 0.8380 - val_loss: 0.3464 - val_accuracy: 0.8341\n",
            "Epoch 76/100\n",
            "943/943 [==============================] - 2s 3ms/step - loss: 0.3325 - accuracy: 0.8389 - val_loss: 0.3454 - val_accuracy: 0.8331\n",
            "Epoch 77/100\n",
            "943/943 [==============================] - 2s 2ms/step - loss: 0.3342 - accuracy: 0.8361 - val_loss: 0.3454 - val_accuracy: 0.8352\n",
            "Epoch 78/100\n",
            "943/943 [==============================] - 2s 3ms/step - loss: 0.3357 - accuracy: 0.8332 - val_loss: 0.3569 - val_accuracy: 0.8151\n",
            "Epoch 79/100\n",
            "943/943 [==============================] - 3s 4ms/step - loss: 0.3363 - accuracy: 0.8300 - val_loss: 0.3448 - val_accuracy: 0.8341\n",
            "Epoch 80/100\n",
            "943/943 [==============================] - 2s 3ms/step - loss: 0.3307 - accuracy: 0.8381 - val_loss: 0.3606 - val_accuracy: 0.8270\n",
            "Epoch 81/100\n",
            "943/943 [==============================] - 2s 3ms/step - loss: 0.3357 - accuracy: 0.8354 - val_loss: 0.3520 - val_accuracy: 0.8313\n",
            "Epoch 82/100\n",
            "943/943 [==============================] - 2s 3ms/step - loss: 0.3371 - accuracy: 0.8330 - val_loss: 0.3476 - val_accuracy: 0.8315\n",
            "Epoch 83/100\n",
            "943/943 [==============================] - 2s 3ms/step - loss: 0.3341 - accuracy: 0.8371 - val_loss: 0.3432 - val_accuracy: 0.8346\n",
            "Epoch 84/100\n",
            "943/943 [==============================] - 4s 4ms/step - loss: 0.3313 - accuracy: 0.8388 - val_loss: 0.3472 - val_accuracy: 0.8276\n",
            "Epoch 85/100\n",
            "943/943 [==============================] - 2s 3ms/step - loss: 0.3314 - accuracy: 0.8394 - val_loss: 0.3523 - val_accuracy: 0.8286\n",
            "Epoch 86/100\n",
            "943/943 [==============================] - 2s 2ms/step - loss: 0.3337 - accuracy: 0.8355 - val_loss: 0.3452 - val_accuracy: 0.8345\n",
            "Epoch 87/100\n",
            "943/943 [==============================] - 2s 2ms/step - loss: 0.3310 - accuracy: 0.8389 - val_loss: 0.3553 - val_accuracy: 0.8260\n",
            "Epoch 88/100\n",
            "943/943 [==============================] - 2s 3ms/step - loss: 0.3362 - accuracy: 0.8319 - val_loss: 0.3433 - val_accuracy: 0.8359\n",
            "Epoch 89/100\n",
            "943/943 [==============================] - 4s 4ms/step - loss: 0.3310 - accuracy: 0.8395 - val_loss: 0.3525 - val_accuracy: 0.8323\n",
            "Epoch 90/100\n",
            "943/943 [==============================] - 2s 2ms/step - loss: 0.3342 - accuracy: 0.8364 - val_loss: 0.3474 - val_accuracy: 0.8349\n",
            "Epoch 91/100\n",
            "943/943 [==============================] - 2s 2ms/step - loss: 0.3312 - accuracy: 0.8382 - val_loss: 0.3508 - val_accuracy: 0.8310\n",
            "Epoch 92/100\n",
            "943/943 [==============================] - 2s 2ms/step - loss: 0.3356 - accuracy: 0.8338 - val_loss: 0.3562 - val_accuracy: 0.8188\n",
            "Epoch 93/100\n",
            "943/943 [==============================] - 3s 3ms/step - loss: 0.3326 - accuracy: 0.8376 - val_loss: 0.3566 - val_accuracy: 0.8254\n",
            "Epoch 94/100\n",
            "943/943 [==============================] - 3s 3ms/step - loss: 0.3320 - accuracy: 0.8393 - val_loss: 0.3533 - val_accuracy: 0.8301\n",
            "Epoch 95/100\n",
            "943/943 [==============================] - 2s 3ms/step - loss: 0.3333 - accuracy: 0.8384 - val_loss: 0.3509 - val_accuracy: 0.8333\n",
            "Epoch 96/100\n",
            "943/943 [==============================] - 2s 3ms/step - loss: 0.3326 - accuracy: 0.8370 - val_loss: 0.3514 - val_accuracy: 0.8192\n",
            "Epoch 97/100\n",
            "943/943 [==============================] - 2s 3ms/step - loss: 0.3314 - accuracy: 0.8378 - val_loss: 0.3522 - val_accuracy: 0.8337\n",
            "Epoch 98/100\n",
            "943/943 [==============================] - 3s 4ms/step - loss: 0.3303 - accuracy: 0.8373 - val_loss: 0.3737 - val_accuracy: 0.8052\n",
            "Epoch 99/100\n",
            "943/943 [==============================] - 3s 3ms/step - loss: 0.3309 - accuracy: 0.8351 - val_loss: 0.3480 - val_accuracy: 0.8311\n",
            "Epoch 100/100\n",
            "943/943 [==============================] - 2s 3ms/step - loss: 0.3320 - accuracy: 0.8395 - val_loss: 0.3460 - val_accuracy: 0.8328\n"
          ]
        }
      ],
      "source": [
        "save_best_model = ModelCheckpoint(\"wagi_best.h5py\",save_best_only=True)\n",
        "history = model.fit(X_train, y_train, validation_data= (X_test, y_test), batch_size=32,epochs=100, callbacks=[save_best_model])"
      ]
    },
    {
      "cell_type": "code",
      "execution_count": 10,
      "metadata": {
        "id": "pe0EYQdsxHyJ",
        "outputId": "2cfe03dc-c627-48a5-833d-89e2c9e5505b",
        "colab": {
          "base_uri": "https://localhost:8080/",
          "height": 451
        }
      },
      "outputs": [
        {
          "output_type": "display_data",
          "data": {
            "text/plain": [
              "<Figure size 800x500 with 1 Axes>"
            ],
            "image/png": "[encoded data removed]"
          },
          "metadata": {}
        }
      ],
      "source": [
        "import pandas as pd\n",
        "\n",
        "pd.DataFrame(history.history).plot(figsize=(8, 5))\n",
        "plt.grid(True)\n",
        "plt.gca().set_ylim(0, 1)\n",
        "plt.show()"
      ]
    },
    {
      "cell_type": "code",
      "execution_count": 11,
      "metadata": {
        "id": "BFuTiOWTxHyK",
        "outputId": "03a0749d-0a14-4c5e-ef08-b46bbe8719c6",
        "colab": {
          "base_uri": "https://localhost:8080/"
        }
      },
      "outputs": [
        {
          "output_type": "stream",
          "name": "stdout",
          "text": [
            "471/471 [==============================] - 1s 1ms/step - loss: 0.3460 - accuracy: 0.8328\n"
          ]
        },
        {
          "output_type": "execute_result",
          "data": {
            "text/plain": [
              "[0.34601372480392456, 0.8328021168708801]"
            ]
          },
          "metadata": {},
          "execution_count": 11
        }
      ],
      "source": [
        "model.evaluate(X_test,y_test)"
      ]
    },
    {
      "cell_type": "code",
      "execution_count": 12,
      "metadata": {
        "id": "ZwJklv8yxHyK",
        "outputId": "0062b7e2-fd2b-4e80-d28d-c490e342aea2",
        "colab": {
          "base_uri": "https://localhost:8080/",
          "height": 182
        }
      },
      "outputs": [
        {
          "output_type": "error",
          "ename": "AttributeError",
          "evalue": "ignored",
          "traceback": [
            "\u001b[0;31m---------------------------------------------------------------------------\u001b[0m",
            "\u001b[0;31mAttributeError\u001b[0m                            Traceback (most recent call last)",
            "\u001b[0;32m<ipython-input-12-c1621406bc63>\u001b[0m in \u001b[0;36m<cell line: 2>\u001b[0;34m()\u001b[0m\n\u001b[1;32m      1\u001b[0m \u001b[0;32mfrom\u001b[0m \u001b[0msklearn\u001b[0m \u001b[0;32mimport\u001b[0m  \u001b[0mmetrics\u001b[0m\u001b[0;34m\u001b[0m\u001b[0;34m\u001b[0m\u001b[0m\n\u001b[0;32m----> 2\u001b[0;31m \u001b[0mmetrics\u001b[0m\u001b[0;34m.\u001b[0m\u001b[0maccuracy_score\u001b[0m\u001b[0;34m(\u001b[0m\u001b[0my_true\u001b[0m\u001b[0;34m=\u001b[0m \u001b[0my_test\u001b[0m\u001b[0;34m,\u001b[0m \u001b[0my_pred\u001b[0m\u001b[0;34m=\u001b[0m \u001b[0mmodel\u001b[0m\u001b[0;34m.\u001b[0m\u001b[0mpredict_classes\u001b[0m\u001b[0;34m(\u001b[0m\u001b[0mX_test\u001b[0m\u001b[0;34m)\u001b[0m \u001b[0;34m)\u001b[0m\u001b[0;34m\u001b[0m\u001b[0;34m\u001b[0m\u001b[0m\n\u001b[0m",
            "\u001b[0;31mAttributeError\u001b[0m: 'Sequential' object has no attribute 'predict_classes'"
          ]
        }
      ],
      "source": [
        "from sklearn import  metrics\n",
        "metrics.accuracy_score(y_true= y_test, y_pred= model.predict_classes(X_test) )"
      ]
    },
    {
      "cell_type": "markdown",
      "metadata": {
        "id": "WVmiQGUWxHyK"
      },
      "source": [
        "# Zad\n",
        "\n",
        "Wczytaj nauczony model"
      ]
    },
    {
      "cell_type": "code",
      "execution_count": 13,
      "metadata": {
        "id": "Ba31dNy5xHyK",
        "outputId": "652cf704-6292-49ea-9359-e55fe0294b76",
        "colab": {
          "base_uri": "https://localhost:8080/"
        }
      },
      "outputs": [
        {
          "output_type": "stream",
          "name": "stdout",
          "text": [
            "471/471 [==============================] - 1s 1ms/step - loss: 0.3406 - accuracy: 0.8341\n"
          ]
        },
        {
          "output_type": "execute_result",
          "data": {
            "text/plain": [
              "[0.3405696153640747, 0.8340637683868408]"
            ]
          },
          "metadata": {},
          "execution_count": 13
        }
      ],
      "source": [
        "model.load_weights(\"wagi_best.h5py\")\n",
        "model.evaluate(X_test,y_test)"
      ]
    },
    {
      "cell_type": "markdown",
      "metadata": {
        "id": "ztIBGQmzxHyL"
      },
      "source": [
        "# Zad\n",
        "\n",
        "* Naucz dowolny model na zbiorze MNIST.\n",
        "* Zapisz optymalne parametry uczenia do pliku\n",
        "* Wczytaj dane z pliku"
      ]
    },
    {
      "cell_type": "code",
      "execution_count": 14,
      "metadata": {
        "id": "Uf2BhZCAxHyL",
        "outputId": "e323174c-d7f3-42b0-a467-a05032025ea9",
        "colab": {
          "base_uri": "https://localhost:8080/"
        }
      },
      "outputs": [
        {
          "output_type": "stream",
          "name": "stdout",
          "text": [
            "Downloading data from https://storage.googleapis.com/tensorflow/tf-keras-datasets/mnist.npz\n",
            "11490434/11490434 [==============================] - 0s 0us/step\n"
          ]
        }
      ],
      "source": [
        "(X_train_full, y_train_full), (X_test, y_test) = keras.datasets.mnist.load_data()"
      ]
    },
    {
      "cell_type": "code",
      "source": [
        "X_valid, X_train = X_train_full[:5000] / 255., X_train_full[5000:] / 255.\n",
        "y_valid, y_train = y_train_full[:5000], y_train_full[5000:]\n",
        "X_test = X_test / 255."
      ],
      "metadata": {
        "id": "bW3x6_vZzHf5"
      },
      "execution_count": 15,
      "outputs": []
    },
    {
      "cell_type": "code",
      "source": [
        "from keras.utils import np_utils\n",
        "# one hot encode outputs\n",
        "y_train = np_utils.to_categorical(y_train)\n",
        "y_test = np_utils.to_categorical(y_test)\n",
        "\n",
        "y_valid = np_utils.to_categorical(y_valid)\n",
        "\n",
        "print(y_train)"
      ],
      "metadata": {
        "id": "5_mQzPgDzJrA",
        "outputId": "2b9ed8ad-3a04-43e4-a1aa-2f4a62c8494e",
        "colab": {
          "base_uri": "https://localhost:8080/"
        }
      },
      "execution_count": 16,
      "outputs": [
        {
          "output_type": "stream",
          "name": "stdout",
          "text": [
            "[[0. 0. 0. ... 1. 0. 0.]\n",
            " [0. 0. 0. ... 0. 0. 0.]\n",
            " [0. 0. 0. ... 0. 0. 0.]\n",
            " ...\n",
            " [0. 0. 0. ... 0. 0. 0.]\n",
            " [0. 0. 0. ... 0. 0. 0.]\n",
            " [0. 0. 0. ... 0. 1. 0.]]\n"
          ]
        }
      ]
    },
    {
      "cell_type": "code",
      "source": [
        "keras.backend.clear_session()\n",
        "np.random.seed(42)\n",
        "tf.random.set_seed(42)\n",
        "\n",
        "model = keras.models.Sequential([\n",
        "    keras.layers.Flatten(input_shape=[28, 28]),\n",
        "    keras.layers.Dense(300, activation=\"relu\"),\n",
        "    keras.layers.Dense(100, activation=\"relu\"),\n",
        "    keras.layers.Dense(10, activation=\"softmax\")\n",
        "])\n",
        "\n",
        "model.summary()\n",
        "\n",
        "save_best_model = ModelCheckpoint(\"wagi_best2.h5py\",save_best_only=True)\n",
        "model.compile(loss=\"categorical_crossentropy\",\n",
        "              optimizer=\"sgd\",\n",
        "              metrics=[\"accuracy\"])\n",
        "save_best_model = ModelCheckpoint(\"wagi_best2.h5py\",save_best_only=True)\n",
        "history = model.fit(X_train, y_train, epochs=30, validation_data=(X_valid, y_valid), callbacks=[save_best_model])"
      ],
      "metadata": {
        "id": "0oKNx-BSzLmn",
        "outputId": "2738533a-e1b8-452c-c8a6-1747c60841b5",
        "colab": {
          "base_uri": "https://localhost:8080/"
        }
      },
      "execution_count": 17,
      "outputs": [
        {
          "output_type": "stream",
          "name": "stdout",
          "text": [
            "Model: \"sequential\"\n",
            "_________________________________________________________________\n",
            " Layer (type)                Output Shape              Param #   \n",
            "=================================================================\n",
            " flatten (Flatten)           (None, 784)               0         \n",
            "                                                                 \n",
            " dense (Dense)               (None, 300)               235500    \n",
            "                                                                 \n",
            " dense_1 (Dense)             (None, 100)               30100     \n",
            "                                                                 \n",
            " dense_2 (Dense)             (None, 10)                1010      \n",
            "                                                                 \n",
            "=================================================================\n",
            "Total params: 266,610\n",
            "Trainable params: 266,610\n",
            "Non-trainable params: 0\n",
            "_________________________________________________________________\n",
            "Epoch 1/30\n",
            "1719/1719 [==============================] - ETA: 0s - loss: 0.6102 - accuracy: 0.8425"
          ]
        },
        {
          "output_type": "stream",
          "name": "stderr",
          "text": [
            "WARNING:absl:Found untraced functions such as _update_step_xla while saving (showing 1 of 1). These functions will not be directly callable after loading.\n"
          ]
        },
        {
          "output_type": "stream",
          "name": "stdout",
          "text": [
            "\b\b\b\b\b\b\b\b\b\b\b\b\b\b\b\b\b\b\b\b\b\b\b\b\b\b\b\b\b\b\b\b\b\b\b\b\b\b\b\b\b\b\b\b\b\b\b\b\b\b\b\b\b\b\b\b\b\b\b\b\b\b\b\b\b\b\b\b\b\b\b\b\b\b\b\b\b\b\b\b\b\b\b\b\b\b\r1719/1719 [==============================] - 19s 9ms/step - loss: 0.6102 - accuracy: 0.8425 - val_loss: 0.3075 - val_accuracy: 0.9174\n",
            "Epoch 2/30\n",
            "1714/1719 [============================>.] - ETA: 0s - loss: 0.2877 - accuracy: 0.9184"
          ]
        },
        {
          "output_type": "stream",
          "name": "stderr",
          "text": [
            "WARNING:absl:Found untraced functions such as _update_step_xla while saving (showing 1 of 1). These functions will not be directly callable after loading.\n"
          ]
        },
        {
          "output_type": "stream",
          "name": "stdout",
          "text": [
            "\b\b\b\b\b\b\b\b\b\b\b\b\b\b\b\b\b\b\b\b\b\b\b\b\b\b\b\b\b\b\b\b\b\b\b\b\b\b\b\b\b\b\b\b\b\b\b\b\b\b\b\b\b\b\b\b\b\b\b\b\b\b\b\b\b\b\b\b\b\b\b\b\b\b\b\b\b\b\b\b\b\b\b\b\b\b\r1719/1719 [==============================] - 7s 4ms/step - loss: 0.2877 - accuracy: 0.9184 - val_loss: 0.2399 - val_accuracy: 0.9350\n",
            "Epoch 3/30\n",
            "1712/1719 [============================>.] - ETA: 0s - loss: 0.2343 - accuracy: 0.9329"
          ]
        },
        {
          "output_type": "stream",
          "name": "stderr",
          "text": [
            "WARNING:absl:Found untraced functions such as _update_step_xla while saving (showing 1 of 1). These functions will not be directly callable after loading.\n"
          ]
        },
        {
          "output_type": "stream",
          "name": "stdout",
          "text": [
            "\b\b\b\b\b\b\b\b\b\b\b\b\b\b\b\b\b\b\b\b\b\b\b\b\b\b\b\b\b\b\b\b\b\b\b\b\b\b\b\b\b\b\b\b\b\b\b\b\b\b\b\b\b\b\b\b\b\b\b\b\b\b\b\b\b\b\b\b\b\b\b\b\b\b\b\b\b\b\b\b\b\b\b\b\b\b\r1719/1719 [==============================] - 8s 5ms/step - loss: 0.2341 - accuracy: 0.9329 - val_loss: 0.1984 - val_accuracy: 0.9446\n",
            "Epoch 4/30\n",
            "1709/1719 [============================>.] - ETA: 0s - loss: 0.1990 - accuracy: 0.9433"
          ]
        },
        {
          "output_type": "stream",
          "name": "stderr",
          "text": [
            "WARNING:absl:Found untraced functions such as _update_step_xla while saving (showing 1 of 1). These functions will not be directly callable after loading.\n"
          ]
        },
        {
          "output_type": "stream",
          "name": "stdout",
          "text": [
            "\b\b\b\b\b\b\b\b\b\b\b\b\b\b\b\b\b\b\b\b\b\b\b\b\b\b\b\b\b\b\b\b\b\b\b\b\b\b\b\b\b\b\b\b\b\b\b\b\b\b\b\b\b\b\b\b\b\b\b\b\b\b\b\b\b\b\b\b\b\b\b\b\b\b\b\b\b\b\b\b\b\b\b\b\b\b\r1719/1719 [==============================] - 7s 4ms/step - loss: 0.1990 - accuracy: 0.9434 - val_loss: 0.1757 - val_accuracy: 0.9528\n",
            "Epoch 5/30\n",
            "1707/1719 [============================>.] - ETA: 0s - loss: 0.1737 - accuracy: 0.9507"
          ]
        },
        {
          "output_type": "stream",
          "name": "stderr",
          "text": [
            "WARNING:absl:Found untraced functions such as _update_step_xla while saving (showing 1 of 1). These functions will not be directly callable after loading.\n"
          ]
        },
        {
          "output_type": "stream",
          "name": "stdout",
          "text": [
            "\b\b\b\b\b\b\b\b\b\b\b\b\b\b\b\b\b\b\b\b\b\b\b\b\b\b\b\b\b\b\b\b\b\b\b\b\b\b\b\b\b\b\b\b\b\b\b\b\b\b\b\b\b\b\b\b\b\b\b\b\b\b\b\b\b\b\b\b\b\b\b\b\b\b\b\b\b\b\b\b\b\b\b\b\b\b\r1719/1719 [==============================] - 7s 4ms/step - loss: 0.1737 - accuracy: 0.9507 - val_loss: 0.1565 - val_accuracy: 0.9576\n",
            "Epoch 6/30\n",
            "1716/1719 [============================>.] - ETA: 0s - loss: 0.1542 - accuracy: 0.9561"
          ]
        },
        {
          "output_type": "stream",
          "name": "stderr",
          "text": [
            "WARNING:absl:Found untraced functions such as _update_step_xla while saving (showing 1 of 1). These functions will not be directly callable after loading.\n"
          ]
        },
        {
          "output_type": "stream",
          "name": "stdout",
          "text": [
            "\b\b\b\b\b\b\b\b\b\b\b\b\b\b\b\b\b\b\b\b\b\b\b\b\b\b\b\b\b\b\b\b\b\b\b\b\b\b\b\b\b\b\b\b\b\b\b\b\b\b\b\b\b\b\b\b\b\b\b\b\b\b\b\b\b\b\b\b\b\b\b\b\b\b\b\b\b\b\b\b\b\b\b\b\b\b\r1719/1719 [==============================] - 8s 5ms/step - loss: 0.1541 - accuracy: 0.9561 - val_loss: 0.1432 - val_accuracy: 0.9618\n",
            "Epoch 7/30\n",
            "1706/1719 [============================>.] - ETA: 0s - loss: 0.1384 - accuracy: 0.9609"
          ]
        },
        {
          "output_type": "stream",
          "name": "stderr",
          "text": [
            "WARNING:absl:Found untraced functions such as _update_step_xla while saving (showing 1 of 1). These functions will not be directly callable after loading.\n"
          ]
        },
        {
          "output_type": "stream",
          "name": "stdout",
          "text": [
            "\b\b\b\b\b\b\b\b\b\b\b\b\b\b\b\b\b\b\b\b\b\b\b\b\b\b\b\b\b\b\b\b\b\b\b\b\b\b\b\b\b\b\b\b\b\b\b\b\b\b\b\b\b\b\b\b\b\b\b\b\b\b\b\b\b\b\b\b\b\b\b\b\b\b\b\b\b\b\b\b\b\b\b\b\b\b\r1719/1719 [==============================] - 7s 4ms/step - loss: 0.1383 - accuracy: 0.9609 - val_loss: 0.1322 - val_accuracy: 0.9648\n",
            "Epoch 8/30\n",
            "1706/1719 [============================>.] - ETA: 0s - loss: 0.1253 - accuracy: 0.9647"
          ]
        },
        {
          "output_type": "stream",
          "name": "stderr",
          "text": [
            "WARNING:absl:Found untraced functions such as _update_step_xla while saving (showing 1 of 1). These functions will not be directly callable after loading.\n"
          ]
        },
        {
          "output_type": "stream",
          "name": "stdout",
          "text": [
            "\b\b\b\b\b\b\b\b\b\b\b\b\b\b\b\b\b\b\b\b\b\b\b\b\b\b\b\b\b\b\b\b\b\b\b\b\b\b\b\b\b\b\b\b\b\b\b\b\b\b\b\b\b\b\b\b\b\b\b\b\b\b\b\b\b\b\b\b\b\b\b\b\b\b\b\b\b\b\b\b\b\b\b\b\b\b\r1719/1719 [==============================] - 8s 5ms/step - loss: 0.1253 - accuracy: 0.9646 - val_loss: 0.1265 - val_accuracy: 0.9672\n",
            "Epoch 9/30\n",
            "1707/1719 [============================>.] - ETA: 0s - loss: 0.1144 - accuracy: 0.9680"
          ]
        },
        {
          "output_type": "stream",
          "name": "stderr",
          "text": [
            "WARNING:absl:Found untraced functions such as _update_step_xla while saving (showing 1 of 1). These functions will not be directly callable after loading.\n"
          ]
        },
        {
          "output_type": "stream",
          "name": "stdout",
          "text": [
            "\b\b\b\b\b\b\b\b\b\b\b\b\b\b\b\b\b\b\b\b\b\b\b\b\b\b\b\b\b\b\b\b\b\b\b\b\b\b\b\b\b\b\b\b\b\b\b\b\b\b\b\b\b\b\b\b\b\b\b\b\b\b\b\b\b\b\b\b\b\b\b\b\b\b\b\b\b\b\b\b\b\b\b\b\b\b\r1719/1719 [==============================] - 7s 4ms/step - loss: 0.1144 - accuracy: 0.9681 - val_loss: 0.1161 - val_accuracy: 0.9686\n",
            "Epoch 10/30\n",
            "1713/1719 [============================>.] - ETA: 0s - loss: 0.1051 - accuracy: 0.9708"
          ]
        },
        {
          "output_type": "stream",
          "name": "stderr",
          "text": [
            "WARNING:absl:Found untraced functions such as _update_step_xla while saving (showing 1 of 1). These functions will not be directly callable after loading.\n"
          ]
        },
        {
          "output_type": "stream",
          "name": "stdout",
          "text": [
            "\b\b\b\b\b\b\b\b\b\b\b\b\b\b\b\b\b\b\b\b\b\b\b\b\b\b\b\b\b\b\b\b\b\b\b\b\b\b\b\b\b\b\b\b\b\b\b\b\b\b\b\b\b\b\b\b\b\b\b\b\b\b\b\b\b\b\b\b\b\b\b\b\b\b\b\b\b\b\b\b\b\b\b\b\b\b\r1719/1719 [==============================] - 8s 5ms/step - loss: 0.1050 - accuracy: 0.9708 - val_loss: 0.1072 - val_accuracy: 0.9702\n",
            "Epoch 11/30\n",
            "1718/1719 [============================>.] - ETA: 0s - loss: 0.0964 - accuracy: 0.9732"
          ]
        },
        {
          "output_type": "stream",
          "name": "stderr",
          "text": [
            "WARNING:absl:Found untraced functions such as _update_step_xla while saving (showing 1 of 1). These functions will not be directly callable after loading.\n"
          ]
        },
        {
          "output_type": "stream",
          "name": "stdout",
          "text": [
            "\b\b\b\b\b\b\b\b\b\b\b\b\b\b\b\b\b\b\b\b\b\b\b\b\b\b\b\b\b\b\b\b\b\b\b\b\b\b\b\b\b\b\b\b\b\b\b\b\b\b\b\b\b\b\b\b\b\b\b\b\b\b\b\b\b\b\b\b\b\b\b\b\b\b\b\b\b\b\b\b\b\b\b\b\b\b\r1719/1719 [==============================] - 7s 4ms/step - loss: 0.0964 - accuracy: 0.9732 - val_loss: 0.1044 - val_accuracy: 0.9726\n",
            "Epoch 12/30\n",
            "1714/1719 [============================>.] - ETA: 0s - loss: 0.0887 - accuracy: 0.9757"
          ]
        },
        {
          "output_type": "stream",
          "name": "stderr",
          "text": [
            "WARNING:absl:Found untraced functions such as _update_step_xla while saving (showing 1 of 1). These functions will not be directly callable after loading.\n"
          ]
        },
        {
          "output_type": "stream",
          "name": "stdout",
          "text": [
            "\b\b\b\b\b\b\b\b\b\b\b\b\b\b\b\b\b\b\b\b\b\b\b\b\b\b\b\b\b\b\b\b\b\b\b\b\b\b\b\b\b\b\b\b\b\b\b\b\b\b\b\b\b\b\b\b\b\b\b\b\b\b\b\b\b\b\b\b\b\b\b\b\b\b\b\b\b\b\b\b\b\b\b\b\b\b\r1719/1719 [==============================] - 8s 4ms/step - loss: 0.0891 - accuracy: 0.9756 - val_loss: 0.1004 - val_accuracy: 0.9714\n",
            "Epoch 13/30\n",
            "1719/1719 [==============================] - ETA: 0s - loss: 0.0826 - accuracy: 0.9770"
          ]
        },
        {
          "output_type": "stream",
          "name": "stderr",
          "text": [
            "WARNING:absl:Found untraced functions such as _update_step_xla while saving (showing 1 of 1). These functions will not be directly callable after loading.\n"
          ]
        },
        {
          "output_type": "stream",
          "name": "stdout",
          "text": [
            "\b\b\b\b\b\b\b\b\b\b\b\b\b\b\b\b\b\b\b\b\b\b\b\b\b\b\b\b\b\b\b\b\b\b\b\b\b\b\b\b\b\b\b\b\b\b\b\b\b\b\b\b\b\b\b\b\b\b\b\b\b\b\b\b\b\b\b\b\b\b\b\b\b\b\b\b\b\b\b\b\b\b\b\b\b\b\r1719/1719 [==============================] - 8s 4ms/step - loss: 0.0826 - accuracy: 0.9770 - val_loss: 0.0941 - val_accuracy: 0.9750\n",
            "Epoch 14/30\n",
            "1712/1719 [============================>.] - ETA: 0s - loss: 0.0763 - accuracy: 0.9796"
          ]
        },
        {
          "output_type": "stream",
          "name": "stderr",
          "text": [
            "WARNING:absl:Found untraced functions such as _update_step_xla while saving (showing 1 of 1). These functions will not be directly callable after loading.\n"
          ]
        },
        {
          "output_type": "stream",
          "name": "stdout",
          "text": [
            "\b\b\b\b\b\b\b\b\b\b\b\b\b\b\b\b\b\b\b\b\b\b\b\b\b\b\b\b\b\b\b\b\b\b\b\b\b\b\b\b\b\b\b\b\b\b\b\b\b\b\b\b\b\b\b\b\b\b\b\b\b\b\b\b\b\b\b\b\b\b\b\b\b\b\b\b\b\b\b\b\b\b\b\b\b\b\r1719/1719 [==============================] - 7s 4ms/step - loss: 0.0763 - accuracy: 0.9795 - val_loss: 0.0932 - val_accuracy: 0.9740\n",
            "Epoch 15/30\n",
            "1716/1719 [============================>.] - ETA: 0s - loss: 0.0711 - accuracy: 0.9806"
          ]
        },
        {
          "output_type": "stream",
          "name": "stderr",
          "text": [
            "WARNING:absl:Found untraced functions such as _update_step_xla while saving (showing 1 of 1). These functions will not be directly callable after loading.\n"
          ]
        },
        {
          "output_type": "stream",
          "name": "stdout",
          "text": [
            "\b\b\b\b\b\b\b\b\b\b\b\b\b\b\b\b\b\b\b\b\b\b\b\b\b\b\b\b\b\b\b\b\b\b\b\b\b\b\b\b\b\b\b\b\b\b\b\b\b\b\b\b\b\b\b\b\b\b\b\b\b\b\b\b\b\b\b\b\b\b\b\b\b\b\b\b\b\b\b\b\b\b\b\b\b\b\r1719/1719 [==============================] - 14s 8ms/step - loss: 0.0711 - accuracy: 0.9806 - val_loss: 0.0889 - val_accuracy: 0.9752\n",
            "Epoch 16/30\n",
            "1711/1719 [============================>.] - ETA: 0s - loss: 0.0665 - accuracy: 0.9815"
          ]
        },
        {
          "output_type": "stream",
          "name": "stderr",
          "text": [
            "WARNING:absl:Found untraced functions such as _update_step_xla while saving (showing 1 of 1). These functions will not be directly callable after loading.\n"
          ]
        },
        {
          "output_type": "stream",
          "name": "stdout",
          "text": [
            "\b\b\b\b\b\b\b\b\b\b\b\b\b\b\b\b\b\b\b\b\b\b\b\b\b\b\b\b\b\b\b\b\b\b\b\b\b\b\b\b\b\b\b\b\b\b\b\b\b\b\b\b\b\b\b\b\b\b\b\b\b\b\b\b\b\b\b\b\b\b\b\b\b\b\b\b\b\b\b\b\b\b\b\b\b\b\r1719/1719 [==============================] - 8s 5ms/step - loss: 0.0664 - accuracy: 0.9816 - val_loss: 0.0860 - val_accuracy: 0.9760\n",
            "Epoch 17/30\n",
            "1704/1719 [============================>.] - ETA: 0s - loss: 0.0621 - accuracy: 0.9833"
          ]
        },
        {
          "output_type": "stream",
          "name": "stderr",
          "text": [
            "WARNING:absl:Found untraced functions such as _update_step_xla while saving (showing 1 of 1). These functions will not be directly callable after loading.\n"
          ]
        },
        {
          "output_type": "stream",
          "name": "stdout",
          "text": [
            "\b\b\b\b\b\b\b\b\b\b\b\b\b\b\b\b\b\b\b\b\b\b\b\b\b\b\b\b\b\b\b\b\b\b\b\b\b\b\b\b\b\b\b\b\b\b\b\b\b\b\b\b\b\b\b\b\b\b\b\b\b\b\b\b\b\b\b\b\b\b\b\b\b\b\b\b\b\b\b\b\b\b\b\b\b\b\r1719/1719 [==============================] - 7s 4ms/step - loss: 0.0620 - accuracy: 0.9833 - val_loss: 0.0857 - val_accuracy: 0.9754\n",
            "Epoch 18/30\n",
            "1714/1719 [============================>.] - ETA: 0s - loss: 0.0579 - accuracy: 0.9847"
          ]
        },
        {
          "output_type": "stream",
          "name": "stderr",
          "text": [
            "WARNING:absl:Found untraced functions such as _update_step_xla while saving (showing 1 of 1). These functions will not be directly callable after loading.\n"
          ]
        },
        {
          "output_type": "stream",
          "name": "stdout",
          "text": [
            "\b\b\b\b\b\b\b\b\b\b\b\b\b\b\b\b\b\b\b\b\b\b\b\b\b\b\b\b\b\b\b\b\b\b\b\b\b\b\b\b\b\b\b\b\b\b\b\b\b\b\b\b\b\b\b\b\b\b\b\b\b\b\b\b\b\b\b\b\b\b\b\b\b\b\b\b\b\b\b\b\b\b\b\b\b\b\r1719/1719 [==============================] - 10s 6ms/step - loss: 0.0578 - accuracy: 0.9847 - val_loss: 0.0830 - val_accuracy: 0.9762\n",
            "Epoch 19/30\n",
            "1714/1719 [============================>.] - ETA: 0s - loss: 0.0541 - accuracy: 0.9861"
          ]
        },
        {
          "output_type": "stream",
          "name": "stderr",
          "text": [
            "WARNING:absl:Found untraced functions such as _update_step_xla while saving (showing 1 of 1). These functions will not be directly callable after loading.\n"
          ]
        },
        {
          "output_type": "stream",
          "name": "stdout",
          "text": [
            "\b\b\b\b\b\b\b\b\b\b\b\b\b\b\b\b\b\b\b\b\b\b\b\b\b\b\b\b\b\b\b\b\b\b\b\b\b\b\b\b\b\b\b\b\b\b\b\b\b\b\b\b\b\b\b\b\b\b\b\b\b\b\b\b\b\b\b\b\b\b\b\b\b\b\b\b\b\b\b\b\b\b\b\b\b\b\r1719/1719 [==============================] - 8s 5ms/step - loss: 0.0541 - accuracy: 0.9861 - val_loss: 0.0816 - val_accuracy: 0.9772\n",
            "Epoch 20/30\n",
            "1707/1719 [============================>.] - ETA: 0s - loss: 0.0508 - accuracy: 0.9870"
          ]
        },
        {
          "output_type": "stream",
          "name": "stderr",
          "text": [
            "WARNING:absl:Found untraced functions such as _update_step_xla while saving (showing 1 of 1). These functions will not be directly callable after loading.\n"
          ]
        },
        {
          "output_type": "stream",
          "name": "stdout",
          "text": [
            "\b\b\b\b\b\b\b\b\b\b\b\b\b\b\b\b\b\b\b\b\b\b\b\b\b\b\b\b\b\b\b\b\b\b\b\b\b\b\b\b\b\b\b\b\b\b\b\b\b\b\b\b\b\b\b\b\b\b\b\b\b\b\b\b\b\b\b\b\b\b\b\b\b\b\b\b\b\b\b\b\b\b\b\b\b\b\r1719/1719 [==============================] - 7s 4ms/step - loss: 0.0507 - accuracy: 0.9870 - val_loss: 0.0809 - val_accuracy: 0.9764\n",
            "Epoch 21/30\n",
            "1708/1719 [============================>.] - ETA: 0s - loss: 0.0477 - accuracy: 0.9876"
          ]
        },
        {
          "output_type": "stream",
          "name": "stderr",
          "text": [
            "WARNING:absl:Found untraced functions such as _update_step_xla while saving (showing 1 of 1). These functions will not be directly callable after loading.\n"
          ]
        },
        {
          "output_type": "stream",
          "name": "stdout",
          "text": [
            "\b\b\b\b\b\b\b\b\b\b\b\b\b\b\b\b\b\b\b\b\b\b\b\b\b\b\b\b\b\b\b\b\b\b\b\b\b\b\b\b\b\b\b\b\b\b\b\b\b\b\b\b\b\b\b\b\b\b\b\b\b\b\b\b\b\b\b\b\b\b\b\b\b\b\b\b\b\b\b\b\b\b\b\b\b\b\r1719/1719 [==============================] - 8s 5ms/step - loss: 0.0477 - accuracy: 0.9876 - val_loss: 0.0764 - val_accuracy: 0.9790\n",
            "Epoch 22/30\n",
            "1719/1719 [==============================] - 6s 3ms/step - loss: 0.0449 - accuracy: 0.9886 - val_loss: 0.0777 - val_accuracy: 0.9778\n",
            "Epoch 23/30\n",
            "1719/1719 [==============================] - 7s 4ms/step - loss: 0.0422 - accuracy: 0.9896 - val_loss: 0.0772 - val_accuracy: 0.9772\n",
            "Epoch 24/30\n",
            "1719/1719 [==============================] - 6s 3ms/step - loss: 0.0394 - accuracy: 0.9904 - val_loss: 0.0766 - val_accuracy: 0.9766\n",
            "Epoch 25/30\n",
            "1717/1719 [============================>.] - ETA: 0s - loss: 0.0374 - accuracy: 0.9904"
          ]
        },
        {
          "output_type": "stream",
          "name": "stderr",
          "text": [
            "WARNING:absl:Found untraced functions such as _update_step_xla while saving (showing 1 of 1). These functions will not be directly callable after loading.\n"
          ]
        },
        {
          "output_type": "stream",
          "name": "stdout",
          "text": [
            "\b\b\b\b\b\b\b\b\b\b\b\b\b\b\b\b\b\b\b\b\b\b\b\b\b\b\b\b\b\b\b\b\b\b\b\b\b\b\b\b\b\b\b\b\b\b\b\b\b\b\b\b\b\b\b\b\b\b\b\b\b\b\b\b\b\b\b\b\b\b\b\b\b\b\b\b\b\b\b\b\b\b\b\b\b\b\r1719/1719 [==============================] - 8s 5ms/step - loss: 0.0374 - accuracy: 0.9904 - val_loss: 0.0743 - val_accuracy: 0.9776\n",
            "Epoch 26/30\n",
            "1714/1719 [============================>.] - ETA: 0s - loss: 0.0352 - accuracy: 0.9915"
          ]
        },
        {
          "output_type": "stream",
          "name": "stderr",
          "text": [
            "WARNING:absl:Found untraced functions such as _update_step_xla while saving (showing 1 of 1). These functions will not be directly callable after loading.\n"
          ]
        },
        {
          "output_type": "stream",
          "name": "stdout",
          "text": [
            "\b\b\b\b\b\b\b\b\b\b\b\b\b\b\b\b\b\b\b\b\b\b\b\b\b\b\b\b\b\b\b\b\b\b\b\b\b\b\b\b\b\b\b\b\b\b\b\b\b\b\b\b\b\b\b\b\b\b\b\b\b\b\b\b\b\b\b\b\b\b\b\b\b\b\b\b\b\b\b\b\b\b\b\b\b\b\r1719/1719 [==============================] - 8s 5ms/step - loss: 0.0352 - accuracy: 0.9915 - val_loss: 0.0713 - val_accuracy: 0.9798\n",
            "Epoch 27/30\n",
            "1719/1719 [==============================] - 6s 4ms/step - loss: 0.0333 - accuracy: 0.9918 - val_loss: 0.0719 - val_accuracy: 0.9798\n",
            "Epoch 28/30\n",
            "1719/1719 [==============================] - 7s 4ms/step - loss: 0.0313 - accuracy: 0.9929 - val_loss: 0.0740 - val_accuracy: 0.9798\n",
            "Epoch 29/30\n",
            "1719/1719 [==============================] - 7s 4ms/step - loss: 0.0293 - accuracy: 0.9933 - val_loss: 0.0720 - val_accuracy: 0.9786\n",
            "Epoch 30/30\n",
            "1719/1719 [==============================] - 8s 4ms/step - loss: 0.0277 - accuracy: 0.9938 - val_loss: 0.0724 - val_accuracy: 0.9798\n"
          ]
        }
      ]
    },
    {
      "cell_type": "code",
      "source": [
        "model.load_weights(\"wagi_best2.h5py\")\n",
        "model.evaluate(X_test,y_test)"
      ],
      "metadata": {
        "id": "Ta3aWM0Azp3a",
        "outputId": "276d5699-6e2c-41ac-c0ce-4d1f17c8039a",
        "colab": {
          "base_uri": "https://localhost:8080/"
        }
      },
      "execution_count": 18,
      "outputs": [
        {
          "output_type": "stream",
          "name": "stdout",
          "text": [
            "313/313 [==============================] - 1s 2ms/step - loss: 0.0716 - accuracy: 0.9781\n"
          ]
        },
        {
          "output_type": "execute_result",
          "data": {
            "text/plain": [
              "[0.071595199406147, 0.9781000018119812]"
            ]
          },
          "metadata": {},
          "execution_count": 18
        }
      ]
    }
  ],
  "metadata": {
    "kernelspec": {
      "display_name": "Python 3",
      "language": "python",
      "name": "python3"
    },
    "language_info": {
      "codemirror_mode": {
        "name": "ipython",
        "version": 3
      },
      "file_extension": ".py",
      "mimetype": "text/x-python",
      "name": "python",
      "nbconvert_exporter": "python",
      "pygments_lexer": "ipython3",
      "version": "3.7.3"
    },
    "colab": {
      "provenance": [],
      "include_colab_link": true
    }
  },
  "nbformat": 4,
  "nbformat_minor": 0
}