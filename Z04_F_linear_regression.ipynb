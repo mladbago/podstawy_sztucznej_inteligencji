{
  "cells": [
    {
      "cell_type": "markdown",
      "metadata": {
        "id": "view-in-github",
        "colab_type": "text"
      },
      "source": [
        "<a href=\"https://colab.research.google.com/github/mladbago/podstawy_sztucznej_inteligencji/blob/main/Z04_F_linear_regression.ipynb\" target=\"_parent\"><img src=\"https://colab.research.google.com/assets/colab-badge.svg\" alt=\"Open In Colab\"/></a>"
      ]
    },
    {
      "cell_type": "markdown",
      "metadata": {
        "id": "8d9BKdxx9d_J"
      },
      "source": [
        "# Regresja liniowa\n",
        "\n",
        "Naszym Celem jest empityczne sprawdzenie twierdzenia:\n",
        "\n",
        "Niech $A \\in \\mathbb{R}^{N\\times K}$ będzie macierzą która przekształca $\\mathbb{R}^{K}$ w $\\mathbb{R}^N$, i niech $y \\in \\mathbb{R}^{K}$.\n",
        "\n",
        "Wtedy punkt $x_0 \\in \\mathbb{R}^K$ spełnia\n",
        "\n",
        "$$\n",
        "x_0 = \\mathrm{argmin} \\{ x \\in \\mathbb{R}^K   \\colon \\| Ax - y \\|^2 \\}\n",
        "$$\n",
        "\n",
        "wtedy i tylko wtedy gdy\n",
        "\n",
        "$$\n",
        "A^TA x_0 = A^Ty.\n",
        "$$\n"
      ]
    },
    {
      "cell_type": "code",
      "execution_count": 29,
      "metadata": {
        "collapsed": true,
        "id": "CkqIIU8i9d_L"
      },
      "outputs": [],
      "source": [
        "import numpy as np\n",
        "import scipy.stats as st\n",
        "import sklearn.linear_model as lm\n",
        "import matplotlib.pyplot as plt"
      ]
    },
    {
      "cell_type": "markdown",
      "metadata": {
        "id": "p-k1Ooiv9d_N"
      },
      "source": [
        "Proszę wykres funkcji w kształcie \n",
        "\n",
        "$\n",
        "f(x)=x^2\n",
        "$ \n",
        "\n",
        "na odcinku $[0,3]$ i go narysować.\n",
        "\n",
        "Będzie to model, który będziemy chcieli znaleźć."
      ]
    },
    {
      "cell_type": "code",
      "execution_count": 30,
      "metadata": {
        "id": "iZ25Hx3B9d_N",
        "outputId": "2d2c7338-7208-4f3f-a667-f96573d7c4e1",
        "colab": {
          "base_uri": "https://localhost:8080/",
          "height": 378
        }
      },
      "outputs": [
        {
          "output_type": "display_data",
          "data": {
            "text/plain": [
              "<Figure size 432x432 with 1 Axes>"
            ],
            "image/png": "[encoded data removed]"
          },
          "metadata": {
            "needs_background": "light"
          }
        }
      ],
      "source": [
        "f = lambda x: (x**2)\n",
        "x_tr = np.linspace(0., 3, 200)\n",
        "y_tr = f(x_tr)\n",
        "plt.figure(figsize=(6,6));\n",
        "axes = plt.gca()\n",
        "axes.set_xlim([0,3])\n",
        "axes.set_ylim([0,8])\n",
        "plt.plot(x_tr[:200], y_tr[:200], '--k');\n",
        "plt.show()"
      ]
    },
    {
      "cell_type": "markdown",
      "metadata": {
        "id": "ocgYyf0E9d_P"
      },
      "source": [
        "Proszę wylosować kilka punktów z otoczenia funkcji $f(x)=x^2$.\n",
        "\n",
        "Na ich podstawie będziemy wykonywać naszej presykcji."
      ]
    },
    {
      "cell_type": "code",
      "execution_count": 31,
      "metadata": {
        "id": "iiP3qdpr9d_P",
        "outputId": "c7974f35-62a6-4c30-9cc3-5d9870538a0e",
        "colab": {
          "base_uri": "https://localhost:8080/",
          "height": 378
        }
      },
      "outputs": [
        {
          "output_type": "display_data",
          "data": {
            "text/plain": [
              "<Figure size 432x432 with 1 Axes>"
            ],
            "image/png": "[encoded data removed]"
          },
          "metadata": {
            "needs_background": "light"
          }
        }
      ],
      "source": [
        "x = np.array([.2, .5, .8, .9, 1.3, 1.7, 2.1, 2.7])\n",
        "y = f(x) + np.random.randn(len(x))\n",
        "plt.figure(figsize=(6,6));\n",
        "axes = plt.gca()\n",
        "axes.set_xlim([0,3])\n",
        "axes.set_ylim([0,8])\n",
        "plt.plot(x_tr, y_tr, '--k');\n",
        "plt.plot(x, y, 'ok', ms=10);\n",
        "plt.show()"
      ]
    },
    {
      "cell_type": "markdown",
      "metadata": {
        "id": "yia97bch9d_P"
      },
      "source": [
        "Nauczmy prosty model regresji liniowej\n",
        "\n",
        "$$\n",
        "y=a\\cdot x + b\n",
        "$$\n",
        "\n",
        "na naszych danych.\n",
        "\n",
        "Oraz narysujmy prostą regresji."
      ]
    },
    {
      "cell_type": "code",
      "execution_count": 32,
      "metadata": {
        "id": "ns9-iujm9d_P",
        "outputId": "ffe012c7-5277-461c-e34e-2e2d7daa43d2",
        "colab": {
          "base_uri": "https://localhost:8080/"
        }
      },
      "outputs": [
        {
          "output_type": "stream",
          "name": "stdout",
          "text": [
            "[2.37103416]\n",
            "-0.6528662858856484\n"
          ]
        }
      ],
      "source": [
        "# We create the model.\n",
        "lr = lm.LinearRegression()\n",
        "# We train the model on our training dataset.\n",
        "lr.fit(x[:, np.newaxis], y);\n",
        "print(lr.coef_)\n",
        "print(lr.intercept_)"
      ]
    },
    {
      "cell_type": "markdown",
      "metadata": {
        "id": "VMaB3aaS9d_Q"
      },
      "source": [
        "Definiujemy naszą funkcję regresji"
      ]
    },
    {
      "cell_type": "code",
      "execution_count": 33,
      "metadata": {
        "collapsed": true,
        "id": "F-SMDyZR9d_Q"
      },
      "outputs": [],
      "source": [
        "f_lr = lambda x: lr.coef_ * x +lr.intercept_"
      ]
    },
    {
      "cell_type": "code",
      "execution_count": 34,
      "metadata": {
        "id": "sI-qMtWi9d_Q",
        "outputId": "b5f62332-5957-4112-dd98-595cb6cb2480",
        "colab": {
          "base_uri": "https://localhost:8080/",
          "height": 378
        }
      },
      "outputs": [
        {
          "output_type": "display_data",
          "data": {
            "text/plain": [
              "<Figure size 432x432 with 1 Axes>"
            ],
            "image/png": "[encoded data removed]"
          },
          "metadata": {
            "needs_background": "light"
          }
        }
      ],
      "source": [
        "x_f_lr = np.linspace(0., 3, 200)\n",
        "y_f_lr = f_lr(x_tr)\n",
        "plt.figure(figsize=(6,6));\n",
        "axes = plt.gca()\n",
        "axes.set_xlim([0,3])\n",
        "axes.set_ylim([0,8])\n",
        "plt.plot(x_tr, y_tr, '--k');\n",
        "plt.plot(x_f_lr, y_f_lr, 'g');\n",
        "plt.plot(x, y, 'ok', ms=10);\n",
        "plt.show()"
      ]
    },
    {
      "cell_type": "markdown",
      "metadata": {
        "id": "eUq1GSOn9d_R"
      },
      "source": [
        "Teraz możemy wykonać predykcję dla punktu \n",
        "$$\n",
        "x_0 = 1.5\n",
        "$$"
      ]
    },
    {
      "cell_type": "code",
      "execution_count": 35,
      "metadata": {
        "collapsed": true,
        "id": "DPvUzCVI9d_R"
      },
      "outputs": [],
      "source": [
        "point = np.array([1.5])\n",
        "y_point = lr.predict(point[:, np.newaxis])"
      ]
    },
    {
      "cell_type": "code",
      "execution_count": 36,
      "metadata": {
        "id": "vcMawpM99d_S",
        "outputId": "f983815c-a967-4adb-c953-4ff9e55c64e7",
        "colab": {
          "base_uri": "https://localhost:8080/",
          "height": 378
        }
      },
      "outputs": [
        {
          "output_type": "display_data",
          "data": {
            "text/plain": [
              "<Figure size 432x432 with 1 Axes>"
            ],
            "image/png": "[encoded data removed]"
          },
          "metadata": {
            "needs_background": "light"
          }
        }
      ],
      "source": [
        "plt.figure(figsize=(6,6));\n",
        "axes = plt.gca()\n",
        "axes.set_xlim([0,3])\n",
        "axes.set_ylim([0,8])\n",
        "plt.plot(x_tr, y_tr, '--k');\n",
        "plt.plot(x_f_lr, y_f_lr, 'g');\n",
        "plt.plot(x, y, 'ok', ms=10);\n",
        "plt.plot(point, y_point, 'or', ms=10);\n",
        "plt.show()"
      ]
    },
    {
      "cell_type": "markdown",
      "metadata": {
        "id": "kBU7ie4s9d_S"
      },
      "source": [
        "Możemy wypisać miarę dopasowania $R^2$. Narazie nie wnikamy w to co ona oznacza."
      ]
    },
    {
      "cell_type": "code",
      "execution_count": 37,
      "metadata": {
        "id": "KpZhw6z09d_T",
        "outputId": "3d53dd26-b0e6-4a3f-a7a3-2095343003d5",
        "colab": {
          "base_uri": "https://localhost:8080/"
        }
      },
      "outputs": [
        {
          "output_type": "stream",
          "name": "stdout",
          "text": [
            "0.747609982023827\n",
            "0.6624041625381494\n"
          ]
        }
      ],
      "source": [
        "from sklearn.metrics import r2_score\n",
        "print(lr.score(x[:, np.newaxis], y))\n",
        "print(r2_score(lr.predict(x[:, np.newaxis]), y))"
      ]
    },
    {
      "cell_type": "markdown",
      "metadata": {
        "id": "4a6WH6nc9d_T"
      },
      "source": [
        "# Zadanie 1\n",
        "Stwórz macierz postaci:\n",
        "$$\n",
        "A=\\begin{bmatrix}\n",
        "x_1 & 1\\\\\n",
        "\\ddots & \\ddots\\\\\n",
        "x_n & 1\\\\\n",
        "\\end{bmatrix}\n",
        "$$\n",
        "\n",
        "i rozwiąż równanie\n",
        "\n",
        "$$\n",
        "A^TA x = A^Ty.\n",
        "$$\n",
        "\n",
        "gdzie (x,y) to nasz zbiór treningowy. \n",
        "\n",
        "Użyj funkcji <tt>linalg.solve</tt>."
      ]
    },
    {
      "cell_type": "code",
      "execution_count": 47,
      "metadata": {
        "id": "dzz6Fex59d_T",
        "outputId": "3555d64d-d897-499c-b6ad-1a212a80014f",
        "colab": {
          "base_uri": "https://localhost:8080/"
        }
      },
      "outputs": [
        {
          "output_type": "stream",
          "name": "stdout",
          "text": [
            "[[0.2 1. ]\n",
            " [0.5 1. ]\n",
            " [0.8 1. ]\n",
            " [0.9 1. ]\n",
            " [1.3 1. ]\n",
            " [1.7 1. ]\n",
            " [2.1 1. ]\n",
            " [2.7 1. ]]\n",
            "[ 0.15162914  3.34800845  0.18181623  0.13458711  0.13566777  0.03019598\n",
            " -0.1624105  -0.64013649]\n",
            "[-0.08160267 -1.60662944 -0.07007116 -0.04567436  0.00570033  0.15097991\n",
            "  0.31526743  0.76655   ]\n"
          ]
        }
      ],
      "source": [
        "deg=1\n",
        "xx=np.vander(x, deg + 1)\n",
        "print(xx)\n",
        "params = np.linalg.solve( np.dot(np.transpose(xx),xx),np.transpose(xx)*y)\n",
        "\n",
        "b, a = params \n",
        "\n",
        "print(a)\n",
        "print(b)"
      ]
    },
    {
      "cell_type": "code",
      "execution_count": null,
      "metadata": {
        "collapsed": true,
        "id": "Js08mjEV9d_U"
      },
      "outputs": [],
      "source": []
    },
    {
      "cell_type": "markdown",
      "metadata": {
        "id": "JJXkZLsF9d_U"
      },
      "source": [
        "# Zadanie 2\n",
        "Zapoznaj się z funkcją <tt>optimize.fmin_cg</tt>\n",
        "https://docs.scipy.org/doc/scipy-0.19.0/reference/generated/scipy.optimize.fmin_cg.html\n",
        "i znajdż minum funkcji\n",
        "\n",
        "$$\n",
        "f(x,y) = (x+1)^2+y^2\n",
        "$$"
      ]
    },
    {
      "cell_type": "code",
      "execution_count": 39,
      "metadata": {
        "collapsed": true,
        "id": "xm7aVFw89d_U",
        "outputId": "dcd79b9a-c7cb-49ff-e7a3-9f1d512310f7",
        "colab": {
          "base_uri": "https://localhost:8080/"
        }
      },
      "outputs": [
        {
          "output_type": "stream",
          "name": "stdout",
          "text": [
            "Optimization terminated successfully.\n",
            "         Current function value: 0.000000\n",
            "         Iterations: 1\n",
            "         Function evaluations: 9\n",
            "         Gradient evaluations: 3\n"
          ]
        },
        {
          "output_type": "execute_result",
          "data": {
            "text/plain": [
              "array([-1.00000001e+00, -7.45058060e-09])"
            ]
          },
          "metadata": {},
          "execution_count": 39
        }
      ],
      "source": [
        "from scipy import optimize\n",
        "f = lambda x,y: (x+1)**2+y**2\n",
        "def fun (a):\n",
        "    x, y = a\n",
        "    return f(x,y)\n",
        "    \n",
        "optimize.fmin_cg(fun,np.array((0, 0)) )"
      ]
    },
    {
      "cell_type": "markdown",
      "metadata": {
        "id": "Ug232FNB9d_U"
      },
      "source": [
        "# Zadanie 3\n",
        "Zdafiniuj funkcję opisującą błąd kwadratowy:\n",
        "\n",
        "$$\n",
        "\\mathrm{compute\\_error}(a,b;(x,y)) =  \\sum_{i=1}^{n} ( y_i - (ax_i+b) )^2.\n",
        "$$"
      ]
    },
    {
      "cell_type": "code",
      "execution_count": 40,
      "metadata": {
        "collapsed": true,
        "id": "GjDSxRRr9d_U"
      },
      "outputs": [],
      "source": [
        "def compute_error(arguments):\n",
        "    a,b = arguments\n",
        "    return np.sum((y-(a*x+b))**2)"
      ]
    },
    {
      "cell_type": "markdown",
      "metadata": {
        "id": "e7RK7k3q9d_U"
      },
      "source": [
        "# Zadanie 4\n",
        "Zminimalizuj funkcją $\\mathrm{compute\\_error}$ po parametrach $a,b$ (numerycznie).\n",
        "\n",
        "Czy wyniki są podobne do wyników z poprzednich zadań?"
      ]
    },
    {
      "cell_type": "code",
      "execution_count": 41,
      "metadata": {
        "collapsed": true,
        "id": "GIrIVOmb9d_V",
        "outputId": "760da60f-a57f-4f12-e4aa-0bd96a3b05c6",
        "colab": {
          "base_uri": "https://localhost:8080/"
        }
      },
      "outputs": [
        {
          "output_type": "stream",
          "name": "stdout",
          "text": [
            "Optimization terminated successfully.\n",
            "         Current function value: 9.517955\n",
            "         Iterations: 3\n",
            "         Function evaluations: 18\n",
            "         Gradient evaluations: 6\n"
          ]
        },
        {
          "output_type": "execute_result",
          "data": {
            "text/plain": [
              "array([ 2.37103417, -0.65286628])"
            ]
          },
          "metadata": {},
          "execution_count": 41
        }
      ],
      "source": [
        "optimize.fmin_cg(compute_error,np.array((0, 0)) )"
      ]
    },
    {
      "cell_type": "markdown",
      "metadata": {
        "id": "WGIxqD-99d_V"
      },
      "source": [
        "# Zadanie 5\n",
        "Zdafiniuj funkcję opisującą błąd kwadratowy:\n",
        "\n",
        "$$\n",
        "\\mathrm{compute\\_error\\_1}(a,b;(x,y)) =  \\sum_{i=1}^{n} |y_i - (ax_i+b)|.\n",
        "$$"
      ]
    },
    {
      "cell_type": "code",
      "execution_count": 42,
      "metadata": {
        "collapsed": true,
        "id": "S4Oj9JBW9d_V"
      },
      "outputs": [],
      "source": [
        "def compute_error_1(arguments):\n",
        "    a,b = arguments\n",
        "    return np.sum(np.abs(y-(a*x+b)))"
      ]
    },
    {
      "cell_type": "markdown",
      "metadata": {
        "id": "0F66zAkY9d_V"
      },
      "source": [
        "# Zadanie 6\n",
        "Zminimalizuj funkcją $\\mathrm{compute\\_error\\_1}$ po parametrach $a,b$ (numerycznie).\n",
        "\n",
        "Czy wyniki są podobne do wyników z poprzednich zadań?"
      ]
    },
    {
      "cell_type": "code",
      "execution_count": 43,
      "metadata": {
        "collapsed": true,
        "id": "CiZ1I5_L9d_V",
        "outputId": "004c7408-4633-4f8a-9e2d-6f398a4f0587",
        "colab": {
          "base_uri": "https://localhost:8080/"
        }
      },
      "outputs": [
        {
          "output_type": "stream",
          "name": "stdout",
          "text": [
            "Warning: Desired error not necessarily achieved due to precision loss.\n",
            "         Current function value: 6.571884\n",
            "         Iterations: 4\n",
            "         Function evaluations: 70\n",
            "         Gradient evaluations: 23\n"
          ]
        },
        {
          "output_type": "execute_result",
          "data": {
            "text/plain": [
              "array([ 2.12970738, -0.06615148])"
            ]
          },
          "metadata": {},
          "execution_count": 43
        }
      ],
      "source": [
        "optimize.fmin_cg(compute_error_1,np.array((0, 0)) )"
      ]
    },
    {
      "cell_type": "markdown",
      "metadata": {
        "collapsed": true,
        "id": "L7taAF_89d_V"
      },
      "source": [
        "# Zadanie 7\n",
        "Wykonaj dwie powyższe regresję na danych z wartością odstającą.\n"
      ]
    },
    {
      "cell_type": "code",
      "execution_count": 48,
      "metadata": {
        "id": "VXjvD0k79d_W",
        "outputId": "65289b85-5689-400c-9c14-1aa111978931",
        "colab": {
          "base_uri": "https://localhost:8080/",
          "height": 378
        }
      },
      "outputs": [
        {
          "output_type": "display_data",
          "data": {
            "text/plain": [
              "<Figure size 432x432 with 1 Axes>"
            ],
            "image/png": "[encoded data removed]"
          },
          "metadata": {
            "needs_background": "light"
          }
        }
      ],
      "source": [
        "f = lambda x: (x)\n",
        "x_tr = np.linspace(0., 3, 200)\n",
        "y_tr = f(x_tr)\n",
        "x = np.array([.2, .5, .8, .9, 1.3, 1.7, 2.1, 2.7])\n",
        "y = f(x) + np.random.randn(len(x))/5\n",
        "y[1]=y[1]+10\n",
        "plt.figure(figsize=(6,6));\n",
        "axes = plt.gca()\n",
        "axes.set_xlim([0,3])\n",
        "axes.set_ylim([0,12])\n",
        "plt.plot(x_tr, y_tr, '--k');\n",
        "plt.plot(x, y, 'ok', ms=10);\n",
        "plt.show()"
      ]
    },
    {
      "cell_type": "code",
      "execution_count": 49,
      "metadata": {
        "collapsed": true,
        "id": "NWXEB8Ru9d_W"
      },
      "outputs": [],
      "source": [
        "points = np.column_stack((x,y))"
      ]
    },
    {
      "cell_type": "code",
      "execution_count": 50,
      "metadata": {
        "collapsed": true,
        "id": "k2monU0l9d_W",
        "outputId": "4440cb8f-c048-4a83-f189-f4b9578988b9",
        "colab": {
          "base_uri": "https://localhost:8080/",
          "height": 413
        }
      },
      "outputs": [
        {
          "output_type": "stream",
          "name": "stdout",
          "text": [
            "[-0.59119479]\n",
            "3.2165558665246277\n"
          ]
        },
        {
          "output_type": "display_data",
          "data": {
            "text/plain": [
              "<Figure size 432x432 with 1 Axes>"
            ],
            "image/png": "[encoded data removed]"
          },
          "metadata": {
            "needs_background": "light"
          }
        }
      ],
      "source": [
        "# We create the model.\n",
        "lr = lm.LinearRegression()\n",
        "# We train the model on our training dataset.\n",
        "lr.fit(x[:, np.newaxis], y);\n",
        "print(lr.coef_)\n",
        "print(lr.intercept_)\n",
        "f_lr = lambda x: lr.coef_ * x +lr.intercept_\n",
        "x_f_lr = np.linspace(0., 3, 200)\n",
        "y_f_lr = f_lr(x_tr)\n",
        "plt.figure(figsize=(6,6));\n",
        "axes = plt.gca()\n",
        "axes.set_xlim([0,3])\n",
        "axes.set_ylim([0,8])\n",
        "plt.plot(x_tr, y_tr, '--k');\n",
        "plt.plot(x_f_lr, y_f_lr, 'g');\n",
        "plt.plot(x, y, 'ok', ms=10);\n",
        "plt.show()"
      ]
    }
  ],
  "metadata": {
    "kernelspec": {
      "display_name": "Python 3",
      "language": "python",
      "name": "python3"
    },
    "language_info": {
      "codemirror_mode": {
        "name": "ipython",
        "version": 3
      },
      "file_extension": ".py",
      "mimetype": "text/x-python",
      "name": "python",
      "nbconvert_exporter": "python",
      "pygments_lexer": "ipython3",
      "version": "3.8.5"
    },
    "colab": {
      "provenance": [],
      "include_colab_link": true
    }
  },
  "nbformat": 4,
  "nbformat_minor": 0
}