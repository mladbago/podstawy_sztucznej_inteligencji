{
  "cells": [
    {
      "cell_type": "code",
      "execution_count": 1,
      "metadata": {
        "id": "TdXILajrrp8b",
        "outputId": "d0e27fd5-0544-413c-de8a-1d5e74cc2b01",
        "colab": {
          "base_uri": "https://localhost:8080/"
        }
      },
      "outputs": [
        {
          "output_type": "stream",
          "name": "stdout",
          "text": [
            "2.12.0\n",
            "2.12.0\n"
          ]
        }
      ],
      "source": [
        "import tensorflow as tf\n",
        "import tensorflow.keras as keras\n",
        "print(tf.__version__)\n",
        "\n",
        "print(keras.__version__)\n",
        "\n",
        "from numpy.random import seed\n",
        "seed(123)"
      ]
    },
    {
      "cell_type": "code",
      "execution_count": 2,
      "metadata": {
        "id": "u0kRgJ6xrp8g"
      },
      "outputs": [],
      "source": [
        "import numpy as np\n",
        "import pandas as pd\n",
        "import matplotlib.pyplot as plt\n",
        "import os"
      ]
    },
    {
      "cell_type": "code",
      "execution_count": 3,
      "metadata": {
        "id": "5j-mycjkrp8g"
      },
      "outputs": [],
      "source": [
        "from tensorflow.keras.datasets import mnist"
      ]
    },
    {
      "cell_type": "code",
      "execution_count": 4,
      "metadata": {
        "id": "cDLDKymorp8h"
      },
      "outputs": [],
      "source": [
        "from keras.datasets import mnist"
      ]
    },
    {
      "cell_type": "markdown",
      "metadata": {
        "id": "nQugM6jnrp8h"
      },
      "source": [
        "# Zad\n",
        "Pibierz zbiór danych"
      ]
    },
    {
      "cell_type": "code",
      "execution_count": 5,
      "metadata": {
        "id": "_2kpwVrMrp8j",
        "outputId": "a49e4f26-f526-4fcc-ae2f-0abcb38fcc6c",
        "colab": {
          "base_uri": "https://localhost:8080/"
        }
      },
      "outputs": [
        {
          "output_type": "stream",
          "name": "stdout",
          "text": [
            "Downloading data from https://storage.googleapis.com/tensorflow/tf-keras-datasets/mnist.npz\n",
            "11490434/11490434 [==============================] - 0s 0us/step\n",
            "(60000, 28, 28, 1)\n",
            "(10000, 28, 28, 1)\n",
            "(array([0, 1, 2, 3, 4, 5, 6, 7, 8, 9], dtype=uint8), array([5923, 6742, 5958, 6131, 5842, 5421, 5918, 6265, 5851, 5949]))\n",
            "(28, 28, 1)\n"
          ]
        }
      ],
      "source": [
        "from keras.datasets import mnist\n",
        "from keras.utils import np_utils\n",
        "# from scipy.misc import toimage\n",
        "\n",
        "import numpy as np\n",
        "\n",
        "# load data\n",
        "(X_train, y_train), (X_test, y_test) = mnist.load_data()\n",
        "\n",
        "\n",
        "# X_train = X_train.reshape(X_train.shape[0], 1, 28, 28)\n",
        "# X_test = X_test.reshape(X_test.shape[0], 1, 28, 28)\n",
        "X_train = X_train.reshape(X_train.shape[0], 28, 28, 1)\n",
        "X_test = X_test.reshape(X_test.shape[0], 28, 28, 1)\n",
        "\n",
        "print(X_train.shape)\n",
        "print(X_test.shape)\n",
        "print(np.unique(y_train,return_counts=True))\n",
        "print(X_train[0].shape)\n",
        "\n",
        "nb_classes = len(np.unique(y_train))\n",
        "n_samples = X_train.shape[0]"
      ]
    },
    {
      "cell_type": "code",
      "execution_count": 6,
      "metadata": {
        "id": "en2L5QBMrp8j",
        "outputId": "a73b2da6-0b74-45ff-c540-2515f454cc8b",
        "colab": {
          "base_uri": "https://localhost:8080/",
          "height": 595
        }
      },
      "outputs": [
        {
          "output_type": "display_data",
          "data": {
            "text/plain": [
              "<Figure size 1500x800 with 10 Axes>"
            ],
            "image/png": "[encoded data removed]"
          },
          "metadata": {}
        }
      ],
      "source": [
        "fig, axes = plt.subplots(2, 5, figsize=(15, 8), subplot_kw={'xticks': (), 'yticks': ()})\n",
        "for target, image, ax in zip(y_train, X_train, axes.ravel()):\n",
        "    ax.imshow(image.reshape(28, 28), cmap=plt.cm.gist_gray)\n",
        "    ax.set_title(target)\n",
        "plt.show()"
      ]
    },
    {
      "cell_type": "code",
      "execution_count": 7,
      "metadata": {
        "id": "H85dOsTTrp8k",
        "outputId": "c1431508-c5e9-4a23-e526-9eb20dc0d8f6",
        "colab": {
          "base_uri": "https://localhost:8080/"
        }
      },
      "outputs": [
        {
          "output_type": "execute_result",
          "data": {
            "text/plain": [
              "255"
            ]
          },
          "metadata": {},
          "execution_count": 7
        }
      ],
      "source": [
        "np.max(X_train[0])"
      ]
    },
    {
      "cell_type": "markdown",
      "metadata": {
        "id": "hQJDQ6Yfrp8k"
      },
      "source": [
        "### Normalize"
      ]
    },
    {
      "cell_type": "code",
      "execution_count": 8,
      "metadata": {
        "id": "h3t-GLb7rp8l",
        "outputId": "ca7edbd4-3959-415b-f04c-d906cfda46d9",
        "colab": {
          "base_uri": "https://localhost:8080/"
        }
      },
      "outputs": [
        {
          "output_type": "execute_result",
          "data": {
            "text/plain": [
              "(28, 28, 1)"
            ]
          },
          "metadata": {},
          "execution_count": 8
        }
      ],
      "source": [
        "# normalize inputs from 0-255 to 0.0-1.0\n",
        "\n",
        "X_train = X_train/255\n",
        "X_test = X_test/255\n",
        "\n",
        "# one hot encode outputs\n",
        "y_train = np_utils.to_categorical(y_train)\n",
        "y_test = np_utils.to_categorical(y_test)\n",
        "\n",
        "num_classes = y_test.shape[1]\n",
        "\n",
        "X_train[0].shape"
      ]
    },
    {
      "cell_type": "code",
      "execution_count": 9,
      "metadata": {
        "id": "4Ulw317Zrp8l",
        "outputId": "9480985a-947a-4dd7-b12c-70b625e3138e",
        "colab": {
          "base_uri": "https://localhost:8080/"
        }
      },
      "outputs": [
        {
          "output_type": "execute_result",
          "data": {
            "text/plain": [
              "1.0"
            ]
          },
          "metadata": {},
          "execution_count": 9
        }
      ],
      "source": [
        "np.max(X_train[0])"
      ]
    },
    {
      "cell_type": "markdown",
      "metadata": {
        "id": "W127mGQ2rp8l"
      },
      "source": [
        "# Zad\n",
        "Przekopiuj architekturę:\n",
        "\n",
        "https://github.com/kj7kunal/MNIST-Keras/blob/master/src/train_CNN_keras.py"
      ]
    },
    {
      "cell_type": "code",
      "execution_count": 10,
      "metadata": {
        "id": "SdcvXVdJrp8m"
      },
      "outputs": [],
      "source": [
        "from keras.models import Sequential\n",
        "from keras.layers import Dense\n",
        "from keras.callbacks import LearningRateScheduler\n",
        "from keras.callbacks import ModelCheckpoint\n",
        "from keras.callbacks import EarlyStopping\n",
        "from keras.layers import Dropout\n",
        "from keras.layers import BatchNormalization\n",
        "from keras.layers import Activation\n",
        "from keras.layers import Flatten\n",
        "from keras.layers.convolutional import Conv2D, MaxPooling2D, AveragePooling2D\n",
        "from keras.callbacks import History"
      ]
    },
    {
      "cell_type": "code",
      "execution_count": 14,
      "metadata": {
        "id": "U-lAANBfrp8m",
        "outputId": "2ce0cae5-ac3f-4b3c-afa6-3296c48012f0",
        "colab": {
          "base_uri": "https://localhost:8080/",
          "height": 235
        }
      },
      "outputs": [
        {
          "output_type": "error",
          "ename": "NameError",
          "evalue": "ignored",
          "traceback": [
            "\u001b[0;31m---------------------------------------------------------------------------\u001b[0m",
            "\u001b[0;31mNameError\u001b[0m                                 Traceback (most recent call last)",
            "\u001b[0;32m<ipython-input-14-4129969dc6b7>\u001b[0m in \u001b[0;36m<cell line: 48>\u001b[0;34m()\u001b[0m\n\u001b[1;32m     46\u001b[0m \u001b[0;34m\u001b[0m\u001b[0m\n\u001b[1;32m     47\u001b[0m \u001b[0;34m\u001b[0m\u001b[0m\n\u001b[0;32m---> 48\u001b[0;31m \u001b[0mmodelMNIST\u001b[0m \u001b[0;34m=\u001b[0m \u001b[0mMNIST_Model\u001b[0m\u001b[0;34m(\u001b[0m\u001b[0mshapeX\u001b[0m\u001b[0;34m,\u001b[0m\u001b[0mn_classes\u001b[0m\u001b[0;34m)\u001b[0m\u001b[0;34m\u001b[0m\u001b[0;34m\u001b[0m\u001b[0m\n\u001b[0m\u001b[1;32m     49\u001b[0m \u001b[0;34m\u001b[0m\u001b[0m\n\u001b[1;32m     50\u001b[0m \u001b[0mmodelMNIST\u001b[0m\u001b[0;34m.\u001b[0m\u001b[0mcompile\u001b[0m\u001b[0;34m(\u001b[0m\u001b[0moptimizer\u001b[0m \u001b[0;34m=\u001b[0m \u001b[0;34m'adam'\u001b[0m\u001b[0;34m,\u001b[0m \u001b[0mloss\u001b[0m \u001b[0;34m=\u001b[0m \u001b[0;34m'categorical_crossentropy'\u001b[0m\u001b[0;34m,\u001b[0m \u001b[0mmetrics\u001b[0m\u001b[0;34m=\u001b[0m\u001b[0;34m[\u001b[0m\u001b[0;34m'accuracy'\u001b[0m\u001b[0;34m]\u001b[0m\u001b[0;34m)\u001b[0m\u001b[0;34m\u001b[0m\u001b[0;34m\u001b[0m\u001b[0m\n",
            "\u001b[0;31mNameError\u001b[0m: name 'shapeX' is not defined"
          ]
        }
      ],
      "source": [
        "#!/usr/bin/env python\n",
        "\n",
        "import numpy as np\n",
        "from matplotlib import pyplot as plt\n",
        "\n",
        "from keras import backend as K\n",
        "# from keras.models import Sequential\n",
        "from keras.layers import Input, Dense, Dropout, Activation, ZeroPadding2D\n",
        "from keras.layers import Flatten, Conv2D, MaxPooling2D, BatchNormalization\n",
        "from keras.models import Model, load_model, model_from_json, model_from_yaml\n",
        "from keras.utils import to_categorical\n",
        "\n",
        "batch_sz = 128\n",
        "n_classes = 10\n",
        "n_epoch = 12\n",
        "classes = np.asarray([0,1,2,3,4,5,6,7,8,9],dtype = np.float32)\n",
        "\n",
        "train_data_orig = np.loadtxt(\"../dataset/imtrain.csv\",delimiter=\",\",dtype=\"uint8\")\n",
        "test_data_orig = np.loadtxt(\"../dataset/imtest.csv\",delimiter=\",\",dtype=\"uint8\")\n",
        "\n",
        "y_train = train_data_orig[:,0]\n",
        "Y_train = to_categorical(y_train,10)\n",
        "X_train = train_data_orig[:,1:]/255.\n",
        "\n",
        "y_test = test_data_orig[:,0]\n",
        "Y_test = to_categorical(y_test,10)\n",
        "X_test = test_data_orig[:,1:]/255.\n",
        "\n",
        "# print Y_test.shape, X_test.shape, X_test[0]\n",
        "# print Y_train.shape, X_train.shape\n",
        "\n",
        "X_train = X_train.reshape(X_train.shape[0],28,28,1)\n",
        "X_test = X_test.reshape(X_test.shape[0],28,28,1)\n",
        "\n",
        "# print Y_test.shape, X_test.shape, X_test[0]\n",
        "# print Y_train.shape, X_train.shape\n",
        "\n",
        "shapeX = (28,28,1)\n",
        "\n",
        "def MNIST_Model(input_shape = (28,28,1),classes = 10):\n",
        "\tX_input = Input(input_shape)\n",
        "\n",
        "\t# zero padding probably not required since the main digit is in the centre only\n",
        "\t# X = zeroPadding2D((1,1))(X_input)\n",
        "\n",
        "\tX = Conv2D(32,(3,3),strides = (1,1), name = 'conv0')(X_input)\n",
        "\tX = BatchNormalization(axis=3,name='bn0')(X)\n",
        "\tX = Activation('relu')(X)\n",
        "\tX = Conv2D(32,(3,3),strides = (1,1), name = 'conv1')(X)\n",
        "\tX = BatchNormalization(axis=3,name='bn1')(X)\n",
        "\tX = Activation('relu')(X)\n",
        "\tX = MaxPooling2D((2,2),strides = (2,2),name = 'MP1')(X)\n",
        "\n",
        "\tX = Conv2D(64,(3,3),strides = (1,1), name = 'conv2')(X)\n",
        "\tX = BatchNormalization(axis=3,name='bn2')(X)\n",
        "\tX = Activation('relu')(X)\n",
        "\tX = Conv2D(64,(3,3),strides = (1,1), name = 'conv3')(X)\n",
        "\tX = BatchNormalization(axis=3,name='bn3')(X)\n",
        "\tX = Activation('relu')(X)\n",
        "\tX = MaxPooling2D((2,2),strides = (2,2),name = 'MP2')(X)\n",
        "\n",
        "\tX = Dropout(0.2)(X)\n",
        "\tX = Flatten()(X)\n",
        "\tX = Dense(256,activation = 'relu',name= 'fc1')(X)\n",
        "\tX = Dropout(0.4)(X)\n",
        "\tX = Dense(n_classes,activation = 'softmax',name = 'fco')(X)\n",
        "\n",
        "\tmodel = Model(inputs = X_input,outputs = X, name = 'MNIST_Model')\n",
        "\treturn model\n",
        "\n",
        "\n",
        "modelMNIST = MNIST_Model(shapeX,n_classes)\n",
        "print modelMNIST.summary()\n",
        "\n",
        "modelMNIST.compile(optimizer = 'adam', loss = 'categorical_crossentropy', metrics=['accuracy'])\n",
        "\n",
        "modelMNIST.fit(X_train, Y_train, epochs = n_epoch, batch_size = batch_sz)\n",
        "\n",
        "pred = modelMNIST.evaluate(X_test,Y_test)\n",
        "print (\"Loss = \" + str(pred[0]))\n",
        "print (\"Test Accuracy = \" + str(pred[1]))\n",
        "\n",
        "# model_yaml = modelMNIST.to_yaml()\n",
        "# with open(\"../saved_models/MNIST_keras_CNN.yaml\",\"w\") as yf:\n",
        "# \tyf.write(model_yaml)\n",
        "# modelMNIST.save_weights(\"../saved_models/MNIST_keras_w_CNN.h5\")\n",
        "# yf.close()\n",
        "# print(\"Saved to disk.\")\n",
        "\n",
        "# yf = open(\"../saved_models/MNIST_keras_CNN.yaml\",\"r\")\n",
        "# loaded_model = yf.read()\n",
        "# yf.close()\n",
        "# MNIST_loaded_model = model_from_yaml(loaded_model)\n",
        "# MNIST_loaded_model.load_weights(\"../saved_models/MNIST_keras_w_CNN.h5\")\n",
        "# print(\"Loaded model..\")\n",
        "\n",
        "modelMNIST.save(\"../saved_models/MNIST_keras_CNN.h5\")\n",
        "\n",
        "# del modelMNIST\n",
        "# MNIST_loaded_model = load_model(\"../saved_models/MNIST_keras_CNN.h5\")\n",
        "\n",
        "# # MNIST_loaded_model.compile(optimizer = 'adam', loss = 'categorical_crossentropy', metrics=['accuracy'])\n",
        "# pred = MNIST_loaded_model.evaluate(X_test,Y_test)\n",
        "# print (\"Loss = \" + str(pred[0]))\n",
        "# print (\"Test Accuracy = \" + str(pred[1]))\n"
      ]
    },
    {
      "cell_type": "code",
      "execution_count": null,
      "metadata": {
        "id": "4ihoe6cOrp8m"
      },
      "outputs": [],
      "source": [
        "plt.plot(history_1.history['accuracy'], label = \"tarina Adam\")\n",
        "plt.plot(history_1.history['val_accuracy'], label = \"test Adam\")\n",
        "\n",
        "\n",
        "plt.legend()\n",
        "plt.show()"
      ]
    },
    {
      "cell_type": "code",
      "execution_count": null,
      "metadata": {
        "id": "alwvdMLtrp8m"
      },
      "outputs": [],
      "source": []
    }
  ],
  "metadata": {
    "kernelspec": {
      "display_name": "Python 3",
      "language": "python",
      "name": "python3"
    },
    "language_info": {
      "codemirror_mode": {
        "name": "ipython",
        "version": 3
      },
      "file_extension": ".py",
      "mimetype": "text/x-python",
      "name": "python",
      "nbconvert_exporter": "python",
      "pygments_lexer": "ipython3",
      "version": "3.8.5"
    },
    "colab": {
      "provenance": []
    }
  },
  "nbformat": 4,
  "nbformat_minor": 0
}