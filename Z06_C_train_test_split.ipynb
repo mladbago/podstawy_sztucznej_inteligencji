{
  "cells": [
    {
      "cell_type": "markdown",
      "metadata": {
        "id": "view-in-github",
        "colab_type": "text"
      },
      "source": [
        "<a href=\"https://colab.research.google.com/github/mladbago/podstawy_sztucznej_inteligencji/blob/main/Z06_C_train_test_split.ipynb\" target=\"_parent\"><img src=\"https://colab.research.google.com/assets/colab-badge.svg\" alt=\"Open In Colab\"/></a>"
      ]
    },
    {
      "cell_type": "markdown",
      "metadata": {
        "id": "NoeIIBvl6lcA"
      },
      "source": [
        "# Train test split\n"
      ]
    },
    {
      "cell_type": "code",
      "execution_count": 1,
      "metadata": {
        "collapsed": true,
        "id": "i2ZRz8gM6lcC"
      },
      "outputs": [],
      "source": [
        "import numpy as np\n",
        "import pandas as pd\n",
        "import scipy.stats as stats\n",
        "import sklearn.linear_model as lm\n",
        "from sklearn import datasets, linear_model\n",
        "import matplotlib.pyplot as plt\n",
        "\n",
        "from sklearn.preprocessing import PolynomialFeatures\n",
        "from sklearn.pipeline import make_pipeline\n",
        "\n",
        "from sklearn import  metrics"
      ]
    },
    {
      "cell_type": "markdown",
      "metadata": {
        "id": "z6UTnauE6lcD"
      },
      "source": [
        "Rozważmy następujący zbiór punktów:"
      ]
    },
    {
      "cell_type": "code",
      "execution_count": 2,
      "metadata": {
        "id": "jauYdQVs6lcE",
        "outputId": "745cafeb-d477-4c87-a589-fc89a4bbefd6",
        "colab": {
          "base_uri": "https://localhost:8080/",
          "height": 430
        }
      },
      "outputs": [
        {
          "output_type": "display_data",
          "data": {
            "text/plain": [
              "<Figure size 640x480 with 1 Axes>"
            ],
            "image/png": "[encoded data removed]"
          },
          "metadata": {}
        }
      ],
      "source": [
        "x = stats.uniform(0,3).rvs(100)\n",
        "f = lambda x: ((x*2-1)*(x**2-2)*(x-2)+3)\n",
        "y = f(x) + stats.norm(0,0.3).rvs(len(x))\n",
        "plt.plot(x, y, 'ok', ms=10);\n",
        "plt.show()"
      ]
    },
    {
      "cell_type": "markdown",
      "metadata": {
        "id": "dn9RE5e26lcF"
      },
      "source": [
        "# Przykład\n",
        "Podziel zbiór danych na część testową i treningową. \n",
        "Naucz model na części treningowej i ocen wyniki na części testowej."
      ]
    },
    {
      "cell_type": "code",
      "execution_count": 3,
      "metadata": {
        "id": "OSBDDmwY6lcF",
        "outputId": "d2047bdb-7d5a-4052-eacf-546208927be0",
        "colab": {
          "base_uri": "https://localhost:8080/"
        }
      },
      "outputs": [
        {
          "output_type": "stream",
          "name": "stdout",
          "text": [
            "(60,) (60,)\n",
            "(40,) (40,)\n"
          ]
        }
      ],
      "source": [
        "from sklearn.model_selection import train_test_split\n",
        "X_train, X_test, y_train, y_test = train_test_split(x, y, test_size=0.4, random_state=0)\n",
        "\n",
        "print(X_train.shape, y_train.shape)\n",
        "print(X_test.shape, y_test.shape)"
      ]
    },
    {
      "cell_type": "code",
      "execution_count": 4,
      "metadata": {
        "collapsed": true,
        "id": "xFjxLUjq6lcF"
      },
      "outputs": [],
      "source": [
        "X_train=np.vstack(X_train)\n",
        "X_test=np.vstack(X_test)"
      ]
    },
    {
      "cell_type": "code",
      "execution_count": 5,
      "metadata": {
        "id": "Vovqg5OR6lcG",
        "outputId": "88a0e8c5-ceb4-4606-d2a4-57ae32df0994",
        "colab": {
          "base_uri": "https://localhost:8080/"
        }
      },
      "outputs": [
        {
          "output_type": "execute_result",
          "data": {
            "text/plain": [
              "array([ 1.19164559,  4.85243372,  1.00310425,  8.49262673,  0.47231348,\n",
              "        1.36073507,  0.3885992 ,  5.60356669,  1.00396946,  1.46679499,\n",
              "        5.12658435, 21.70561886, 18.06745967,  0.68280112, 14.69839097,\n",
              "        3.89008128, 10.6230777 ,  6.99706775,  2.90428519,  1.48210785,\n",
              "       22.47943115,  9.05370668, 10.76483151,  0.32887133,  3.12200408,\n",
              "        2.11133815,  0.59731493,  1.86608421,  5.98485058,  4.9132247 ,\n",
              "       15.31230031,  1.99499407,  1.34846479,  1.48374248,  4.69444548,\n",
              "       13.88681108,  1.50865861,  0.46025496,  0.56386946,  1.0536378 ])"
            ]
          },
          "metadata": {},
          "execution_count": 5
        }
      ],
      "source": [
        "model2 = make_pipeline(PolynomialFeatures(2), linear_model.LinearRegression())\n",
        "model2.fit(X_train, y_train)\n",
        "model2.predict(X_test)"
      ]
    },
    {
      "cell_type": "code",
      "execution_count": 6,
      "metadata": {
        "id": "IbU1SgfT6lcG",
        "outputId": "9902e99f-d0a1-417a-8ef3-0d84a1beb709",
        "colab": {
          "base_uri": "https://localhost:8080/"
        }
      },
      "outputs": [
        {
          "output_type": "stream",
          "name": "stdout",
          "text": [
            "Explained variance score: 0.7072260419187477\n",
            "Explained variance score: 0.7072260419187477\n",
            "Median absolute error: 2.8112346664650367\n",
            "Mean squared error: 11.144532231868162\n",
            "Mean absolute errors: 2.9904093518874637\n"
          ]
        }
      ],
      "source": [
        "print(\"Explained variance score: {}\".format( metrics.explained_variance_score(y_test, model2.predict(X_test)) ))\n",
        "print(\"Explained variance score: {}\".format( metrics.explained_variance_score(y_test, model2.predict(X_test)) ))\n",
        "print(\"Median absolute error: {}\".format( metrics.median_absolute_error(y_test, model2.predict(X_test)) ))\n",
        "print(\"Mean squared error: {}\".format( metrics.mean_squared_error(y_test, model2.predict(X_test)) ))\n",
        "print(\"Mean absolute errors: {}\".format(metrics.mean_absolute_error(y_test, model2.predict(X_test)) ))"
      ]
    },
    {
      "cell_type": "markdown",
      "metadata": {
        "id": "nuVA-y3x6lcG"
      },
      "source": [
        "# Zadanie\n",
        "Wylicz powyższe miary na zbiorze testowym dla wszystkich modeli nauczonych na trainie:\n",
        "\n",
        "- regrsji linowej\n",
        "- regrsji wielomianowej stopnia 2\n",
        "- regrsji wielomianowej stopnia 3\n",
        "- regrsji wielomianowej stopnia 4\n",
        "- regrsji wielomianowej stopnia 5\n",
        "- regrsji wielomianowej stopnia 25"
      ]
    },
    {
      "cell_type": "code",
      "execution_count": 7,
      "metadata": {
        "collapsed": true,
        "id": "H7p3JrTz6lcH",
        "outputId": "3c9a9426-e03d-48c6-a6d7-0aad373e2698",
        "colab": {
          "base_uri": "https://localhost:8080/"
        }
      },
      "outputs": [
        {
          "output_type": "stream",
          "name": "stdout",
          "text": [
            "LINEAR: \n",
            "Explained variance score: 0.44775101169450626\n",
            "Explained variance score: 0.44775101169450626\n",
            "Median absolute error: 2.9877959156701985\n",
            "Mean squared error: 21.001954869264694\n",
            "Mean absolute errors: 3.7315151871472283\n",
            "SECOND DEGREE\n",
            "Explained variance score: 0.7072260419187477\n",
            "Explained variance score: 0.7072260419187477\n",
            "Median absolute error: 2.8112346664650367\n",
            "Mean squared error: 11.144532231868162\n",
            "Mean absolute errors: 2.9904093518874637\n",
            "THIRD DEGREE\n",
            "Explained variance score: 0.9854524546827209\n",
            "Explained variance score: 0.9854524546827209\n",
            "Median absolute error: 0.6845878077703085\n",
            "Mean squared error: 0.575691900021084\n",
            "Mean absolute errors: 0.6670784910067997\n",
            "FOURTH DEGREE\n",
            "Explained variance score: 0.9974562370029896\n",
            "Explained variance score: 0.9974562370029896\n",
            "Median absolute error: 0.23052213643162478\n",
            "Mean squared error: 0.10184627315647263\n",
            "Mean absolute errors: 0.26162794232670294\n",
            "FIFTH DEGREE\n",
            "Explained variance score: 0.9974285632383316\n",
            "Explained variance score: 0.9974285632383316\n",
            "Median absolute error: 0.25094272749089375\n",
            "Mean squared error: 0.10293003427917155\n",
            "Mean absolute errors: 0.2647992570930603\n",
            "TWENTY FIFTH DEGREE\n",
            "Explained variance score: 0.9953075597440811\n",
            "Explained variance score: 0.9953075597440811\n",
            "Median absolute error: 0.27431999368939564\n",
            "Mean squared error: 0.17869565781702348\n",
            "Mean absolute errors: 0.3245337343777425\n"
          ]
        }
      ],
      "source": [
        "model0 = make_pipeline( linear_model.LinearRegression())\n",
        "model0.fit(X_train, y_train)\n",
        "model0.predict(X_test)\n",
        "print(\"LINEAR: \")\n",
        "print(\"Explained variance score: {}\".format( metrics.explained_variance_score(y_test, model0.predict(X_test)) ))\n",
        "print(\"Explained variance score: {}\".format( metrics.explained_variance_score(y_test, model0.predict(X_test)) ))\n",
        "print(\"Median absolute error: {}\".format( metrics.median_absolute_error(y_test, model0.predict(X_test)) ))\n",
        "print(\"Mean squared error: {}\".format( metrics.mean_squared_error(y_test, model0.predict(X_test)) ))\n",
        "print(\"Mean absolute errors: {}\".format(metrics.mean_absolute_error(y_test, model0.predict(X_test)) ))\n",
        "\n",
        "model2= make_pipeline(PolynomialFeatures(2), linear_model.LinearRegression())\n",
        "model2.fit(X_train, y_train)\n",
        "model2.predict(X_test)\n",
        "print(\"SECOND DEGREE\")\n",
        "print(\"Explained variance score: {}\".format( metrics.explained_variance_score(y_test, model2.predict(X_test)) ))\n",
        "print(\"Explained variance score: {}\".format( metrics.explained_variance_score(y_test, model2.predict(X_test)) ))\n",
        "print(\"Median absolute error: {}\".format( metrics.median_absolute_error(y_test, model2.predict(X_test)) ))\n",
        "print(\"Mean squared error: {}\".format( metrics.mean_squared_error(y_test, model2.predict(X_test)) ))\n",
        "print(\"Mean absolute errors: {}\".format(metrics.mean_absolute_error(y_test, model2.predict(X_test)) ))\n",
        "\n",
        "model3= make_pipeline(PolynomialFeatures(3), linear_model.LinearRegression())\n",
        "model3.fit(X_train, y_train)\n",
        "model3.predict(X_test)\n",
        "print(\"THIRD DEGREE\")\n",
        "print(\"Explained variance score: {}\".format( metrics.explained_variance_score(y_test, model3.predict(X_test)) ))\n",
        "print(\"Explained variance score: {}\".format( metrics.explained_variance_score(y_test, model3.predict(X_test)) ))\n",
        "print(\"Median absolute error: {}\".format( metrics.median_absolute_error(y_test, model3.predict(X_test)) ))\n",
        "print(\"Mean squared error: {}\".format( metrics.mean_squared_error(y_test, model3.predict(X_test)) ))\n",
        "print(\"Mean absolute errors: {}\".format(metrics.mean_absolute_error(y_test, model3.predict(X_test)) ))\n",
        "\n",
        "model4= make_pipeline(PolynomialFeatures(4), linear_model.LinearRegression())\n",
        "model4.fit(X_train, y_train)\n",
        "model4.predict(X_test)\n",
        "print(\"FOURTH DEGREE\")\n",
        "print(\"Explained variance score: {}\".format( metrics.explained_variance_score(y_test, model4.predict(X_test)) ))\n",
        "print(\"Explained variance score: {}\".format( metrics.explained_variance_score(y_test, model4.predict(X_test)) ))\n",
        "print(\"Median absolute error: {}\".format( metrics.median_absolute_error(y_test, model4.predict(X_test)) ))\n",
        "print(\"Mean squared error: {}\".format( metrics.mean_squared_error(y_test, model4.predict(X_test)) ))\n",
        "print(\"Mean absolute errors: {}\".format(metrics.mean_absolute_error(y_test, model4.predict(X_test)) ))\n",
        "\n",
        "\n",
        "model5= make_pipeline(PolynomialFeatures(5), linear_model.LinearRegression())\n",
        "model5.fit(X_train, y_train)\n",
        "model5.predict(X_test)\n",
        "print(\"FIFTH DEGREE\")\n",
        "print(\"Explained variance score: {}\".format( metrics.explained_variance_score(y_test, model5.predict(X_test)) ))\n",
        "print(\"Explained variance score: {}\".format( metrics.explained_variance_score(y_test, model5.predict(X_test)) ))\n",
        "print(\"Median absolute error: {}\".format( metrics.median_absolute_error(y_test, model5.predict(X_test)) ))\n",
        "print(\"Mean squared error: {}\".format( metrics.mean_squared_error(y_test, model5.predict(X_test)) ))\n",
        "print(\"Mean absolute errors: {}\".format(metrics.mean_absolute_error(y_test, model5.predict(X_test)) ))\n",
        "\n",
        "model25= make_pipeline(PolynomialFeatures(25), linear_model.LinearRegression())\n",
        "model25.fit(X_train, y_train)\n",
        "model25.predict(X_test)\n",
        "print(\"TWENTY FIFTH DEGREE\")\n",
        "print(\"Explained variance score: {}\".format( metrics.explained_variance_score(y_test, model25.predict(X_test)) ))\n",
        "print(\"Explained variance score: {}\".format( metrics.explained_variance_score(y_test, model25.predict(X_test)) ))\n",
        "print(\"Median absolute error: {}\".format( metrics.median_absolute_error(y_test, model25.predict(X_test)) ))\n",
        "print(\"Mean squared error: {}\".format( metrics.mean_squared_error(y_test, model25.predict(X_test)) ))\n",
        "print(\"Mean absolute errors: {}\".format(metrics.mean_absolute_error(y_test, model25.predict(X_test)) ))"
      ]
    }
  ],
  "metadata": {
    "kernelspec": {
      "display_name": "Python 3",
      "language": "python",
      "name": "python3"
    },
    "language_info": {
      "codemirror_mode": {
        "name": "ipython",
        "version": 3
      },
      "file_extension": ".py",
      "mimetype": "text/x-python",
      "name": "python",
      "nbconvert_exporter": "python",
      "pygments_lexer": "ipython3",
      "version": "3.8.5"
    },
    "colab": {
      "provenance": [],
      "include_colab_link": true
    }
  },
  "nbformat": 4,
  "nbformat_minor": 0
}