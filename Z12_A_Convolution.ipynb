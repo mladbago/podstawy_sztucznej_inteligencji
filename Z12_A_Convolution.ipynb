{
  "cells": [
    {
      "cell_type": "markdown",
      "metadata": {
        "id": "MYHzO6qJldZc"
      },
      "source": [
        "# Konwolucyjne sieci neuronowe\n",
        "\n",
        "## Convolution neural networks, CNN\n",
        "\n",
        "# Filtry jako ekstraktory informacji\n",
        "\n",
        "<img src=\"https://github.com/mladbago/podstawy_sztucznej_inteligencji/blob/main/Grafika/Filter.png?raw=1\" width=\"550\">\n",
        "\n",
        "<img src=\"https://github.com/mladbago/podstawy_sztucznej_inteligencji/blob/main/Grafika/OriginalAndFilter.png?raw=1\" width=\"550\">\n",
        "\n",
        "<img src=\"https://github.com/mladbago/podstawy_sztucznej_inteligencji/blob/main/Grafika/FirstPixelMulitiplication.png?raw=1\" width=\"550\">\n",
        "\n",
        "<img src=\"https://github.com/mladbago/podstawy_sztucznej_inteligencji/blob/main/Grafika/SecondMultiplication.png?raw=1\" width=\"550\">\n",
        "\n",
        "Źródło: https://adeshpande3.github.io/adeshpande3.github.io/A-Beginner's-Guide-To-Understanding-Convolutional-Neural-Networks/"
      ]
    },
    {
      "cell_type": "markdown",
      "metadata": {
        "id": "JzS59fMUldZf"
      },
      "source": [
        "### Filtrowanie - konwolucja (splot):\n",
        "\n",
        "<img src=\"https://github.com/mladbago/podstawy_sztucznej_inteligencji/blob/main/Grafika/matrixConvolution.jpg?raw=1\" width=\"450\">\n",
        "\n",
        "Źródło: https://i.stack.imgur.com/SKgim.jpga"
      ]
    },
    {
      "cell_type": "markdown",
      "metadata": {
        "id": "RtN-PVVlldZf"
      },
      "source": [
        "### Warstwa konwolucyjna\n",
        "\n",
        "Warstawa konwolucyjna analizuje obraz \"kawałek po kawałku\" i zwraca informację o poszczególnych obszarach przy użyciu filtrów.\n",
        "\n",
        "Warstwa konwolucyjna składa się z K filtrów i zwraca K \"tablic\" powstałych przez przetworzenie wejścia kolejnymi filtrami.\n",
        "\n",
        "Operacja splotu (konwolucja):\n",
        "\n",
        "<img src=\"https://github.com/mladbago/podstawy_sztucznej_inteligencji/blob/main/Grafika/Convolution_schematic.gif?raw=1\" width=\"450\">\n",
        "\n",
        "Źródło: http://deeplearning.stanford.edu/wiki/images/6/6c/Convolution_schematic.gif"
      ]
    },
    {
      "cell_type": "markdown",
      "metadata": {
        "id": "H_Zs7vvVldZg"
      },
      "source": [
        "### W przypadku macierzy trójwymiarowych, filtrowanie (2D) wygląda tak:\n",
        "\n",
        "<img src=\"https://i.stack.imgur.com/FjvuN.gif\" width=\"550\">"
      ]
    },
    {
      "cell_type": "markdown",
      "metadata": {
        "id": "PsOW_hQildZg"
      },
      "source": [
        "### Sieć konwolucyjna uczy się ekstrachować istotne \"informacje\" - parametrami sieci są wagi w filtrach.\n",
        "\n",
        "Czyli sieć sama uczy się tego, co jest istotne w danych dla naszego celu.\n",
        "\n",
        "W sieciach konwolucyjnych na wyjście splotu nakłada się funkcję aktywacji. Z reguły jest to ReLU:\n",
        "\n",
        "<img src=\"https://github.com/mladbago/podstawy_sztucznej_inteligencji/blob/main/Grafika/relu.png?raw=1\" width=\"350\">\n",
        "\n",
        "Źródło: https://ml4a.github.io/images/figures/relu.png\n",
        "\n",
        "Takie przekształcenie można interpretować w następujący sposób: jeżeli w danym obszarze jest coś co dany filtr \"rozpoznaje\" (wartość splotu większa od 0), to zwracamy po prostu wynik splotu. Natomiast jeśli dane nie pasują do danego filtra (wartość ujemna), to niezaleznie od tego co w tych danych jest, zwracamy 0, które mówi, że nie ma tego czego szukamy.\n",
        "\n",
        "## Pooling (subsampling)\n",
        "\n",
        "Pooling to agregacja informacji - zamiast przechowywać całą tablicę, którą zwrócił filtr, wyciągamy sobie po jednej \"informacji\" z podobszarów. W ten sposób otrzymujemy tablicę o zredukowanym wymiarze.\n",
        "\n",
        "MaxPooling:\n",
        "\n",
        "<img src=\"https://github.com/mladbago/podstawy_sztucznej_inteligencji/blob/main/Grafika/MaxPool.png?raw=1\" width=\"550\">\n",
        "\n",
        "Źródło: https://adeshpande3.github.io/assets/MaxPool.png\n",
        "\n",
        "Jaką informację wyekstrahuje \"max pooling\"?\n",
        "\n",
        "A jaką \"average pooling\"?\n",
        "\n",
        "W praktyce z reguły po każdej warstwie konwolucyjnej daje się max pooling."
      ]
    },
    {
      "cell_type": "markdown",
      "metadata": {
        "id": "nyd8bpOqldZh"
      },
      "source": [
        "### Wielowarstwowa sieć konwolucyjna\n",
        "\n",
        "Wielowarstwowe sieci konwolucyjne wykorzystują wielokrotne składanie operacji filtrowania i uczą się wykrywać bardzo złożone zależności.\n",
        "\n",
        "Wówczas każda kolejna warstwa w jakiś sposób agreguje informacje z poprzedniej warstwy do ogólniejszego poziomu. Przykladowa interpretacja w kontekście klasyfikacji czy na danym zdjęciu jest człowiek:\n",
        "- pierwsza warstwa: rozpoznawianie kształtów/konturów\n",
        "- druga warstwa: detekcja części ciała\n",
        "- trzecia: detekcja człowiek\n",
        "\n",
        "\n",
        "<img src=\"https://github.com/mladbago/podstawy_sztucznej_inteligencji/blob/main/Grafika/LeNet.png?raw=1\" width=\"700\">\n",
        "Źródło: https://adeshpande3.github.io/assets/LeNet.png\"\n",
        "\n",
        "### Wyjście sieci\n",
        "\n",
        "Ostatnia warsta konwolucyjna (lub pooling) jest rozwijana do wektora. Ten wektor jest przepuszczany przez warstwy dense, które prowadzą do predykcji. Oczywiście można dokonywać predykcji bezpośrednio z rozwiniętego wektora."
      ]
    },
    {
      "cell_type": "markdown",
      "metadata": {
        "id": "aJ2hi3q-ldZi"
      },
      "source": [
        "### Uwaga. Filtr dla obrazka 2D jest tablicą 2D. Natomiast kolejne warstwy są 3D - dochodzi wymiar liczby filtrów. Dlatego dalsze filtry są kostami 3D, które mają głębokość równą liczbie filtrów w poprzedniej warstwie.\n",
        "\n",
        "<img src=\"https://github.com/mladbago/podstawy_sztucznej_inteligencji/blob/main/Grafika/conv3D.jpg?raw=1\" width=\"700\">\n",
        "\n",
        "Źródło: https://www.mathworks.com/content/mathworks/www/en/discovery/convolutional-neural-network/_jcr_content/mainParsys/image_copy.img.jpg/1497876372993.jpg\n",
        "\n",
        "Naturalnie, jeżeli na wejściu mamy obiekt więcej niż dwu-wymiarowy to już pierwsza warstwa używa filtrów, które są kostkami."
      ]
    },
    {
      "cell_type": "markdown",
      "metadata": {
        "id": "OnopnYfOldZj"
      },
      "source": [
        "## Strides - wielkość kroku przesunięcia\n",
        "\n",
        "Określa dokładność z jaką chcemy skanować dane.\n",
        "\n",
        "Strides = (1,1)\n",
        "\n",
        "<img src=\"https://github.com/mladbago/podstawy_sztucznej_inteligencji/blob/main/Grafika/Stride1.png?raw=1\" width=\"600\">\n",
        "\n",
        "Strides = (2,2)\n",
        "\n",
        "<img src=\"https://github.com/mladbago/podstawy_sztucznej_inteligencji/blob/main/Grafika/Stride2.png?raw=1\" width=\"600\">\n",
        "\n",
        "Źródło: https://adeshpande3.github.io/adeshpande3.github.io/A-Beginner's-Guide-To-Understanding-Convolutional-Neural-Networks-Part-2/\n"
      ]
    },
    {
      "cell_type": "markdown",
      "metadata": {
        "id": "nCWeCTcWldZj"
      },
      "source": [
        "# Zad\n",
        "\n",
        "Pobierzmy zbiór danych\n",
        "\n",
        "http://scikit-learn.org/0.15/auto_examples/applications/face_recognition.html"
      ]
    },
    {
      "cell_type": "code",
      "execution_count": 1,
      "metadata": {
        "id": "UzhGePGqldZk",
        "outputId": "f2ca7bb5-872e-47f1-9791-ce89426fd334",
        "colab": {
          "base_uri": "https://localhost:8080/"
        }
      },
      "outputs": [
        {
          "output_type": "stream",
          "name": "stdout",
          "text": [
            "2.12.0\n",
            "2.12.0\n"
          ]
        }
      ],
      "source": [
        "import tensorflow as tf\n",
        "from tensorflow import keras\n",
        "print(tf.__version__)\n",
        "\n",
        "print(keras.__version__)\n",
        "\n",
        "from numpy.random import seed\n",
        "seed(123)\n"
      ]
    },
    {
      "cell_type": "code",
      "execution_count": 2,
      "metadata": {
        "id": "piOrC88FldZm"
      },
      "outputs": [],
      "source": [
        "import numpy as np\n",
        "import pandas as pd\n",
        "import os\n",
        "from keras.utils import np_utils\n",
        "from sklearn.datasets import fetch_lfw_people\n",
        "\n",
        "lfw_people = fetch_lfw_people(min_faces_per_person=70, resize=0.4)\n",
        "n_samples, h, w = lfw_people.images.shape\n",
        "X = lfw_people.data\n",
        "n_features = X.shape[1]\n",
        "\n",
        "y = lfw_people.target\n",
        "target_names = lfw_people.target_names"
      ]
    },
    {
      "cell_type": "code",
      "execution_count": 3,
      "metadata": {
        "id": "CRADpHFKldZn",
        "outputId": "ec1700ce-e73d-4c43-d3b2-3534d44e4552",
        "colab": {
          "base_uri": "https://localhost:8080/"
        }
      },
      "outputs": [
        {
          "output_type": "execute_result",
          "data": {
            "text/plain": [
              "array([0.99607843, 0.9973857 , 0.9908497 , ..., 0.37908497, 0.38823533,\n",
              "       0.38169935], dtype=float32)"
            ]
          },
          "metadata": {},
          "execution_count": 3
        }
      ],
      "source": [
        "X[0] # wektor - pozniej zamienimy na macierz, bo to jest obraz"
      ]
    },
    {
      "cell_type": "code",
      "execution_count": 4,
      "metadata": {
        "id": "j5D0PaDtldZn",
        "outputId": "15ec54d8-fe71-458b-9a91-fe13d23b206d",
        "colab": {
          "base_uri": "https://localhost:8080/"
        }
      },
      "outputs": [
        {
          "output_type": "execute_result",
          "data": {
            "text/plain": [
              "(1288, 1850)"
            ]
          },
          "metadata": {},
          "execution_count": 4
        }
      ],
      "source": [
        "X.shape"
      ]
    },
    {
      "cell_type": "code",
      "execution_count": 5,
      "metadata": {
        "id": "IXVHLJeSldZn",
        "outputId": "0ef61311-a6c7-41f6-d87b-fcb06ab6f9e7",
        "colab": {
          "base_uri": "https://localhost:8080/"
        }
      },
      "outputs": [
        {
          "output_type": "execute_result",
          "data": {
            "text/plain": [
              "(array([0, 1, 2, 3, 4, 5, 6]), array([ 77, 236, 121, 530, 109,  71, 144]))"
            ]
          },
          "metadata": {},
          "execution_count": 5
        }
      ],
      "source": [
        "np.unique(y,return_counts=True)"
      ]
    },
    {
      "cell_type": "code",
      "execution_count": 6,
      "metadata": {
        "id": "R6VaLnAUldZo",
        "outputId": "55940c38-2a22-4ac3-d2a5-c55e707e78a5",
        "colab": {
          "base_uri": "https://localhost:8080/"
        }
      },
      "outputs": [
        {
          "output_type": "execute_result",
          "data": {
            "text/plain": [
              "array(['Ariel Sharon', 'Colin Powell', 'Donald Rumsfeld', 'George W Bush',\n",
              "       'Gerhard Schroeder', 'Hugo Chavez', 'Tony Blair'], dtype='<U17')"
            ]
          },
          "metadata": {},
          "execution_count": 6
        }
      ],
      "source": [
        "target_names"
      ]
    },
    {
      "cell_type": "code",
      "execution_count": 7,
      "metadata": {
        "id": "gIVFLkdFldZo",
        "outputId": "1f472f4d-f84a-4943-e9c3-cb0bb11e6b53",
        "colab": {
          "base_uri": "https://localhost:8080/"
        }
      },
      "outputs": [
        {
          "output_type": "execute_result",
          "data": {
            "text/plain": [
              "array([[0., 0., 0., 0., 0., 1., 0.],\n",
              "       [0., 0., 0., 0., 0., 0., 1.],\n",
              "       [0., 0., 0., 1., 0., 0., 0.],\n",
              "       [0., 1., 0., 0., 0., 0., 0.],\n",
              "       [1., 0., 0., 0., 0., 0., 0.]], dtype=float32)"
            ]
          },
          "metadata": {},
          "execution_count": 7
        }
      ],
      "source": [
        "# przygotowanie y\n",
        "y = np_utils.to_categorical(y)\n",
        "y[:5]"
      ]
    },
    {
      "cell_type": "code",
      "execution_count": 8,
      "metadata": {
        "id": "rvbnV3i_ldZo",
        "outputId": "688adb53-3f6f-411b-b2f0-f713f1b18197",
        "colab": {
          "base_uri": "https://localhost:8080/"
        }
      },
      "outputs": [
        {
          "output_type": "execute_result",
          "data": {
            "text/plain": [
              "7"
            ]
          },
          "metadata": {},
          "execution_count": 8
        }
      ],
      "source": [
        "n_classes = y.shape[1]\n",
        "n_classes"
      ]
    },
    {
      "cell_type": "code",
      "execution_count": 9,
      "metadata": {
        "id": "lLpmTWmuldZp",
        "outputId": "5a459e5d-3b8c-474a-9bcd-431ad95d4581",
        "colab": {
          "base_uri": "https://localhost:8080/"
        }
      },
      "outputs": [
        {
          "output_type": "stream",
          "name": "stdout",
          "text": [
            "(772, 50, 37, 1)\n"
          ]
        }
      ],
      "source": [
        "from sklearn.model_selection import train_test_split\n",
        "\n",
        "X_train, X_test, y_train, y_test = train_test_split(X, y, test_size=0.4)\n",
        "\n",
        "X_train = np.array([x.reshape((h, w, 1)) for x in X_train])\n",
        "X_test = np.array([x.reshape((h, w, 1)) for x in X_test])\n",
        "print(X_train.shape)"
      ]
    },
    {
      "cell_type": "markdown",
      "metadata": {
        "id": "DyzpVJ56ldZp"
      },
      "source": [
        "### skalowanie X"
      ]
    },
    {
      "cell_type": "code",
      "execution_count": 10,
      "metadata": {
        "id": "PjnfsgoAldZp"
      },
      "outputs": [],
      "source": [
        "# skalowanie X\n",
        "\n",
        "X_train = X_train/255\n",
        "X_test = X_test/255"
      ]
    },
    {
      "cell_type": "code",
      "execution_count": 11,
      "metadata": {
        "id": "nqUEutuAldZp",
        "outputId": "a7775e6c-0700-4ec2-8024-1a3fe5f2c4b5",
        "colab": {
          "base_uri": "https://localhost:8080/",
          "height": 684
        }
      },
      "outputs": [
        {
          "output_type": "display_data",
          "data": {
            "text/plain": [
              "<Figure size 720x720 with 12 Axes>"
            ],
            "image/png": "[encoded data removed]"
          },
          "metadata": {}
        }
      ],
      "source": [
        "import matplotlib.pyplot as plt\n",
        "\n",
        "images = X_train[:12]\n",
        "n_col = 4\n",
        "n_row = 3\n",
        "plt.figure(figsize=(1.8 * n_col, 2.4 * n_row))\n",
        "plt.subplots_adjust(bottom=0, left=.01, right=.99, top=.90, hspace=.35)\n",
        "for i in range(n_row * n_col):\n",
        "    plt.subplot(n_row, n_col, i + 1)\n",
        "    plt.imshow(images[i][:,:,0], cmap=plt.cm.gray)\n",
        "    plt.xticks(())\n",
        "    plt.yticks(())\n",
        "\n",
        "plt.show()"
      ]
    },
    {
      "cell_type": "code",
      "execution_count": 12,
      "metadata": {
        "id": "Sx-Vfcf0ldZq",
        "outputId": "eed56839-06d4-4f96-ae23-55d38b0b0247",
        "colab": {
          "base_uri": "https://localhost:8080/"
        }
      },
      "outputs": [
        {
          "output_type": "stream",
          "name": "stdout",
          "text": [
            "(772, 50, 37, 1)\n",
            "(772, 7)\n",
            "(516, 50, 37, 1)\n"
          ]
        }
      ],
      "source": [
        "print(X_train.shape)\n",
        "print(y_train.shape)\n",
        "print(X_test.shape)"
      ]
    },
    {
      "cell_type": "markdown",
      "metadata": {
        "id": "ooI3rYR8ldZq"
      },
      "source": [
        "# Zad. (Punkt odniesienia)\n",
        "\n",
        "Sprawdź klasyfikację przy użyciu perceptrona - sieć 0-warstwowa (lub 1-warstwową licząc wyjście jako warstwę). Pamiętaj, że, aby uruchomić warstwę dense na danych, które nie są wektorem trzeba je \"rozwinąć\" przy uzyciu \"warstwy\" (operacji) Flatten."
      ]
    },
    {
      "cell_type": "code",
      "execution_count": 19,
      "metadata": {
        "id": "1ncOj1x5ldZq",
        "outputId": "5310c2d3-fc0b-4f65-9a3f-a881bedcb927",
        "colab": {
          "base_uri": "https://localhost:8080/"
        }
      },
      "outputs": [
        {
          "output_type": "stream",
          "name": "stdout",
          "text": [
            "Model: \"sequential_4\"\n",
            "_________________________________________________________________\n",
            " Layer (type)                Output Shape              Param #   \n",
            "=================================================================\n",
            " flatten_6 (Flatten)         (None, 1850)              0         \n",
            "                                                                 \n",
            " dense_4 (Dense)             (None, 7)                 12957     \n",
            "                                                                 \n",
            "=================================================================\n",
            "Total params: 12,957\n",
            "Trainable params: 12,957\n",
            "Non-trainable params: 0\n",
            "_________________________________________________________________\n",
            "Epoch 1/100\n",
            "19/19 [==============================] - 1s 13ms/step - loss: 1.9223 - categorical_accuracy: 0.3454 - val_loss: 1.9065 - val_categorical_accuracy: 0.3782\n",
            "Epoch 2/100\n",
            "19/19 [==============================] - 0s 3ms/step - loss: 1.8779 - categorical_accuracy: 0.4231 - val_loss: 1.8740 - val_categorical_accuracy: 0.3782\n",
            "Epoch 3/100\n",
            "19/19 [==============================] - 0s 3ms/step - loss: 1.8390 - categorical_accuracy: 0.4231 - val_loss: 1.8465 - val_categorical_accuracy: 0.3782\n",
            "Epoch 4/100\n",
            "19/19 [==============================] - 0s 3ms/step - loss: 1.8058 - categorical_accuracy: 0.4231 - val_loss: 1.8234 - val_categorical_accuracy: 0.3782\n",
            "Epoch 5/100\n",
            "19/19 [==============================] - 0s 3ms/step - loss: 1.7764 - categorical_accuracy: 0.4231 - val_loss: 1.8032 - val_categorical_accuracy: 0.3782\n",
            "Epoch 6/100\n",
            "19/19 [==============================] - 0s 3ms/step - loss: 1.7530 - categorical_accuracy: 0.4231 - val_loss: 1.7881 - val_categorical_accuracy: 0.3782\n",
            "Epoch 7/100\n",
            "19/19 [==============================] - 0s 4ms/step - loss: 1.7338 - categorical_accuracy: 0.4231 - val_loss: 1.7764 - val_categorical_accuracy: 0.3782\n",
            "Epoch 8/100\n",
            "19/19 [==============================] - 0s 3ms/step - loss: 1.7163 - categorical_accuracy: 0.4231 - val_loss: 1.7659 - val_categorical_accuracy: 0.3782\n",
            "Epoch 9/100\n",
            "19/19 [==============================] - 0s 4ms/step - loss: 1.7023 - categorical_accuracy: 0.4231 - val_loss: 1.7589 - val_categorical_accuracy: 0.3782\n",
            "Epoch 10/100\n",
            "19/19 [==============================] - 0s 3ms/step - loss: 1.6924 - categorical_accuracy: 0.4231 - val_loss: 1.7542 - val_categorical_accuracy: 0.3782\n",
            "Epoch 11/100\n",
            "19/19 [==============================] - 0s 3ms/step - loss: 1.6842 - categorical_accuracy: 0.4231 - val_loss: 1.7484 - val_categorical_accuracy: 0.3782\n",
            "Epoch 12/100\n",
            "19/19 [==============================] - 0s 3ms/step - loss: 1.6777 - categorical_accuracy: 0.4231 - val_loss: 1.7447 - val_categorical_accuracy: 0.3782\n",
            "Epoch 13/100\n",
            "19/19 [==============================] - 0s 3ms/step - loss: 1.6713 - categorical_accuracy: 0.4231 - val_loss: 1.7417 - val_categorical_accuracy: 0.3782\n",
            "Epoch 14/100\n",
            "19/19 [==============================] - 0s 3ms/step - loss: 1.6664 - categorical_accuracy: 0.4231 - val_loss: 1.7410 - val_categorical_accuracy: 0.3782\n",
            "Epoch 15/100\n",
            "19/19 [==============================] - 0s 3ms/step - loss: 1.6627 - categorical_accuracy: 0.4231 - val_loss: 1.7415 - val_categorical_accuracy: 0.3782\n",
            "Epoch 16/100\n",
            "19/19 [==============================] - 0s 4ms/step - loss: 1.6602 - categorical_accuracy: 0.4231 - val_loss: 1.7413 - val_categorical_accuracy: 0.3782\n",
            "Epoch 17/100\n",
            "19/19 [==============================] - 0s 3ms/step - loss: 1.6581 - categorical_accuracy: 0.4231 - val_loss: 1.7413 - val_categorical_accuracy: 0.3782\n",
            "Epoch 18/100\n",
            "19/19 [==============================] - 0s 3ms/step - loss: 1.6566 - categorical_accuracy: 0.4231 - val_loss: 1.7422 - val_categorical_accuracy: 0.3782\n",
            "Epoch 19/100\n",
            "19/19 [==============================] - 0s 3ms/step - loss: 1.6551 - categorical_accuracy: 0.4231 - val_loss: 1.7411 - val_categorical_accuracy: 0.3782\n",
            "Epoch 20/100\n",
            "19/19 [==============================] - 0s 3ms/step - loss: 1.6544 - categorical_accuracy: 0.4231 - val_loss: 1.7415 - val_categorical_accuracy: 0.3782\n",
            "Epoch 21/100\n",
            "19/19 [==============================] - 0s 3ms/step - loss: 1.6530 - categorical_accuracy: 0.4231 - val_loss: 1.7403 - val_categorical_accuracy: 0.3782\n",
            "Epoch 22/100\n",
            "19/19 [==============================] - 0s 3ms/step - loss: 1.6523 - categorical_accuracy: 0.4231 - val_loss: 1.7397 - val_categorical_accuracy: 0.3782\n",
            "Epoch 23/100\n",
            "19/19 [==============================] - 0s 3ms/step - loss: 1.6518 - categorical_accuracy: 0.4231 - val_loss: 1.7406 - val_categorical_accuracy: 0.3782\n",
            "Epoch 24/100\n",
            "19/19 [==============================] - 0s 4ms/step - loss: 1.6508 - categorical_accuracy: 0.4231 - val_loss: 1.7406 - val_categorical_accuracy: 0.3782\n",
            "Epoch 25/100\n",
            "19/19 [==============================] - 0s 3ms/step - loss: 1.6503 - categorical_accuracy: 0.4231 - val_loss: 1.7408 - val_categorical_accuracy: 0.3782\n",
            "Epoch 26/100\n",
            "19/19 [==============================] - 0s 3ms/step - loss: 1.6500 - categorical_accuracy: 0.4231 - val_loss: 1.7401 - val_categorical_accuracy: 0.3782\n",
            "Epoch 27/100\n",
            "19/19 [==============================] - 0s 3ms/step - loss: 1.6490 - categorical_accuracy: 0.4231 - val_loss: 1.7395 - val_categorical_accuracy: 0.3782\n",
            "Epoch 28/100\n",
            "19/19 [==============================] - 0s 3ms/step - loss: 1.6487 - categorical_accuracy: 0.4231 - val_loss: 1.7395 - val_categorical_accuracy: 0.3782\n",
            "Epoch 29/100\n",
            "19/19 [==============================] - 0s 3ms/step - loss: 1.6485 - categorical_accuracy: 0.4231 - val_loss: 1.7401 - val_categorical_accuracy: 0.3782\n",
            "Epoch 30/100\n",
            "19/19 [==============================] - 0s 3ms/step - loss: 1.6483 - categorical_accuracy: 0.4231 - val_loss: 1.7393 - val_categorical_accuracy: 0.3782\n",
            "Epoch 31/100\n",
            "19/19 [==============================] - 0s 3ms/step - loss: 1.6478 - categorical_accuracy: 0.4231 - val_loss: 1.7391 - val_categorical_accuracy: 0.3782\n",
            "Epoch 32/100\n",
            "19/19 [==============================] - 0s 3ms/step - loss: 1.6469 - categorical_accuracy: 0.4231 - val_loss: 1.7395 - val_categorical_accuracy: 0.3782\n",
            "Epoch 33/100\n",
            "19/19 [==============================] - 0s 3ms/step - loss: 1.6466 - categorical_accuracy: 0.4231 - val_loss: 1.7396 - val_categorical_accuracy: 0.3782\n",
            "Epoch 34/100\n",
            "19/19 [==============================] - 0s 3ms/step - loss: 1.6461 - categorical_accuracy: 0.4231 - val_loss: 1.7402 - val_categorical_accuracy: 0.3782\n",
            "Epoch 35/100\n",
            "19/19 [==============================] - 0s 3ms/step - loss: 1.6453 - categorical_accuracy: 0.4231 - val_loss: 1.7376 - val_categorical_accuracy: 0.3782\n",
            "Epoch 36/100\n",
            "19/19 [==============================] - 0s 3ms/step - loss: 1.6451 - categorical_accuracy: 0.4231 - val_loss: 1.7377 - val_categorical_accuracy: 0.3782\n",
            "Epoch 37/100\n",
            "19/19 [==============================] - 0s 3ms/step - loss: 1.6447 - categorical_accuracy: 0.4231 - val_loss: 1.7369 - val_categorical_accuracy: 0.3782\n",
            "Epoch 38/100\n",
            "19/19 [==============================] - 0s 3ms/step - loss: 1.6442 - categorical_accuracy: 0.4231 - val_loss: 1.7353 - val_categorical_accuracy: 0.3782\n",
            "Epoch 39/100\n",
            "19/19 [==============================] - 0s 3ms/step - loss: 1.6439 - categorical_accuracy: 0.4231 - val_loss: 1.7344 - val_categorical_accuracy: 0.3782\n",
            "Epoch 40/100\n",
            "19/19 [==============================] - 0s 4ms/step - loss: 1.6437 - categorical_accuracy: 0.4231 - val_loss: 1.7351 - val_categorical_accuracy: 0.3782\n",
            "Epoch 41/100\n",
            "19/19 [==============================] - 0s 3ms/step - loss: 1.6430 - categorical_accuracy: 0.4231 - val_loss: 1.7360 - val_categorical_accuracy: 0.3782\n",
            "Epoch 42/100\n",
            "19/19 [==============================] - 0s 3ms/step - loss: 1.6426 - categorical_accuracy: 0.4231 - val_loss: 1.7363 - val_categorical_accuracy: 0.3782\n",
            "Epoch 43/100\n",
            "19/19 [==============================] - 0s 4ms/step - loss: 1.6424 - categorical_accuracy: 0.4231 - val_loss: 1.7367 - val_categorical_accuracy: 0.3782\n",
            "Epoch 44/100\n",
            "19/19 [==============================] - 0s 3ms/step - loss: 1.6418 - categorical_accuracy: 0.4231 - val_loss: 1.7371 - val_categorical_accuracy: 0.3782\n",
            "Epoch 45/100\n",
            "19/19 [==============================] - 0s 3ms/step - loss: 1.6414 - categorical_accuracy: 0.4231 - val_loss: 1.7382 - val_categorical_accuracy: 0.3782\n",
            "Epoch 46/100\n",
            "19/19 [==============================] - 0s 3ms/step - loss: 1.6412 - categorical_accuracy: 0.4231 - val_loss: 1.7377 - val_categorical_accuracy: 0.3782\n",
            "Epoch 47/100\n",
            "19/19 [==============================] - 0s 3ms/step - loss: 1.6410 - categorical_accuracy: 0.4231 - val_loss: 1.7359 - val_categorical_accuracy: 0.3782\n",
            "Epoch 48/100\n",
            "19/19 [==============================] - 0s 3ms/step - loss: 1.6406 - categorical_accuracy: 0.4231 - val_loss: 1.7350 - val_categorical_accuracy: 0.3782\n",
            "Epoch 49/100\n",
            "19/19 [==============================] - 0s 3ms/step - loss: 1.6401 - categorical_accuracy: 0.4231 - val_loss: 1.7354 - val_categorical_accuracy: 0.3782\n",
            "Epoch 50/100\n",
            "19/19 [==============================] - 0s 3ms/step - loss: 1.6400 - categorical_accuracy: 0.4231 - val_loss: 1.7359 - val_categorical_accuracy: 0.3782\n",
            "Epoch 51/100\n",
            "19/19 [==============================] - 0s 3ms/step - loss: 1.6393 - categorical_accuracy: 0.4231 - val_loss: 1.7345 - val_categorical_accuracy: 0.3782\n",
            "Epoch 52/100\n",
            "19/19 [==============================] - 0s 3ms/step - loss: 1.6390 - categorical_accuracy: 0.4231 - val_loss: 1.7318 - val_categorical_accuracy: 0.3782\n",
            "Epoch 53/100\n",
            "19/19 [==============================] - 0s 3ms/step - loss: 1.6387 - categorical_accuracy: 0.4231 - val_loss: 1.7318 - val_categorical_accuracy: 0.3782\n",
            "Epoch 54/100\n",
            "19/19 [==============================] - 0s 3ms/step - loss: 1.6381 - categorical_accuracy: 0.4231 - val_loss: 1.7318 - val_categorical_accuracy: 0.3782\n",
            "Epoch 55/100\n",
            "19/19 [==============================] - 0s 3ms/step - loss: 1.6379 - categorical_accuracy: 0.4231 - val_loss: 1.7312 - val_categorical_accuracy: 0.3782\n",
            "Epoch 56/100\n",
            "19/19 [==============================] - 0s 3ms/step - loss: 1.6374 - categorical_accuracy: 0.4231 - val_loss: 1.7305 - val_categorical_accuracy: 0.3782\n",
            "Epoch 57/100\n",
            "19/19 [==============================] - 0s 3ms/step - loss: 1.6373 - categorical_accuracy: 0.4231 - val_loss: 1.7311 - val_categorical_accuracy: 0.3782\n",
            "Epoch 58/100\n",
            "19/19 [==============================] - 0s 3ms/step - loss: 1.6365 - categorical_accuracy: 0.4231 - val_loss: 1.7313 - val_categorical_accuracy: 0.3782\n",
            "Epoch 59/100\n",
            "19/19 [==============================] - 0s 3ms/step - loss: 1.6361 - categorical_accuracy: 0.4231 - val_loss: 1.7322 - val_categorical_accuracy: 0.3782\n",
            "Epoch 60/100\n",
            "19/19 [==============================] - 0s 3ms/step - loss: 1.6358 - categorical_accuracy: 0.4231 - val_loss: 1.7331 - val_categorical_accuracy: 0.3782\n",
            "Epoch 61/100\n",
            "19/19 [==============================] - 0s 3ms/step - loss: 1.6355 - categorical_accuracy: 0.4231 - val_loss: 1.7316 - val_categorical_accuracy: 0.3782\n",
            "Epoch 62/100\n",
            "19/19 [==============================] - 0s 3ms/step - loss: 1.6350 - categorical_accuracy: 0.4231 - val_loss: 1.7310 - val_categorical_accuracy: 0.3782\n",
            "Epoch 63/100\n",
            "19/19 [==============================] - 0s 3ms/step - loss: 1.6346 - categorical_accuracy: 0.4231 - val_loss: 1.7293 - val_categorical_accuracy: 0.3782\n",
            "Epoch 64/100\n",
            "19/19 [==============================] - 0s 3ms/step - loss: 1.6340 - categorical_accuracy: 0.4231 - val_loss: 1.7294 - val_categorical_accuracy: 0.3782\n",
            "Epoch 65/100\n",
            "19/19 [==============================] - 0s 3ms/step - loss: 1.6339 - categorical_accuracy: 0.4231 - val_loss: 1.7301 - val_categorical_accuracy: 0.3782\n",
            "Epoch 66/100\n",
            "19/19 [==============================] - 0s 3ms/step - loss: 1.6333 - categorical_accuracy: 0.4231 - val_loss: 1.7281 - val_categorical_accuracy: 0.3782\n",
            "Epoch 67/100\n",
            "19/19 [==============================] - 0s 4ms/step - loss: 1.6328 - categorical_accuracy: 0.4231 - val_loss: 1.7285 - val_categorical_accuracy: 0.3782\n",
            "Epoch 68/100\n",
            "19/19 [==============================] - 0s 3ms/step - loss: 1.6324 - categorical_accuracy: 0.4231 - val_loss: 1.7292 - val_categorical_accuracy: 0.3782\n",
            "Epoch 69/100\n",
            "19/19 [==============================] - 0s 3ms/step - loss: 1.6319 - categorical_accuracy: 0.4231 - val_loss: 1.7303 - val_categorical_accuracy: 0.3782\n",
            "Epoch 70/100\n",
            "19/19 [==============================] - 0s 3ms/step - loss: 1.6316 - categorical_accuracy: 0.4231 - val_loss: 1.7303 - val_categorical_accuracy: 0.3782\n",
            "Epoch 71/100\n",
            "19/19 [==============================] - 0s 3ms/step - loss: 1.6316 - categorical_accuracy: 0.4231 - val_loss: 1.7322 - val_categorical_accuracy: 0.3782\n",
            "Epoch 72/100\n",
            "19/19 [==============================] - 0s 3ms/step - loss: 1.6312 - categorical_accuracy: 0.4231 - val_loss: 1.7317 - val_categorical_accuracy: 0.3782\n",
            "Epoch 73/100\n",
            "19/19 [==============================] - 0s 3ms/step - loss: 1.6305 - categorical_accuracy: 0.4231 - val_loss: 1.7318 - val_categorical_accuracy: 0.3782\n",
            "Epoch 74/100\n",
            "19/19 [==============================] - 0s 3ms/step - loss: 1.6301 - categorical_accuracy: 0.4231 - val_loss: 1.7288 - val_categorical_accuracy: 0.3782\n",
            "Epoch 75/100\n",
            "19/19 [==============================] - 0s 3ms/step - loss: 1.6297 - categorical_accuracy: 0.4231 - val_loss: 1.7290 - val_categorical_accuracy: 0.3782\n",
            "Epoch 76/100\n",
            "19/19 [==============================] - 0s 4ms/step - loss: 1.6294 - categorical_accuracy: 0.4231 - val_loss: 1.7286 - val_categorical_accuracy: 0.3782\n",
            "Epoch 77/100\n",
            "19/19 [==============================] - 0s 3ms/step - loss: 1.6288 - categorical_accuracy: 0.4231 - val_loss: 1.7289 - val_categorical_accuracy: 0.3782\n",
            "Epoch 78/100\n",
            "19/19 [==============================] - 0s 3ms/step - loss: 1.6284 - categorical_accuracy: 0.4231 - val_loss: 1.7292 - val_categorical_accuracy: 0.3782\n",
            "Epoch 79/100\n",
            "19/19 [==============================] - 0s 4ms/step - loss: 1.6279 - categorical_accuracy: 0.4231 - val_loss: 1.7284 - val_categorical_accuracy: 0.3782\n",
            "Epoch 80/100\n",
            "19/19 [==============================] - 0s 3ms/step - loss: 1.6275 - categorical_accuracy: 0.4231 - val_loss: 1.7273 - val_categorical_accuracy: 0.3782\n",
            "Epoch 81/100\n",
            "19/19 [==============================] - 0s 3ms/step - loss: 1.6271 - categorical_accuracy: 0.4231 - val_loss: 1.7257 - val_categorical_accuracy: 0.3782\n",
            "Epoch 82/100\n",
            "19/19 [==============================] - 0s 3ms/step - loss: 1.6267 - categorical_accuracy: 0.4231 - val_loss: 1.7231 - val_categorical_accuracy: 0.3782\n",
            "Epoch 83/100\n",
            "19/19 [==============================] - 0s 3ms/step - loss: 1.6264 - categorical_accuracy: 0.4231 - val_loss: 1.7224 - val_categorical_accuracy: 0.3782\n",
            "Epoch 84/100\n",
            "19/19 [==============================] - 0s 3ms/step - loss: 1.6260 - categorical_accuracy: 0.4231 - val_loss: 1.7226 - val_categorical_accuracy: 0.3782\n",
            "Epoch 85/100\n",
            "19/19 [==============================] - 0s 3ms/step - loss: 1.6255 - categorical_accuracy: 0.4231 - val_loss: 1.7218 - val_categorical_accuracy: 0.3782\n",
            "Epoch 86/100\n",
            "19/19 [==============================] - 0s 3ms/step - loss: 1.6251 - categorical_accuracy: 0.4231 - val_loss: 1.7210 - val_categorical_accuracy: 0.3782\n",
            "Epoch 87/100\n",
            "19/19 [==============================] - 0s 3ms/step - loss: 1.6249 - categorical_accuracy: 0.4231 - val_loss: 1.7201 - val_categorical_accuracy: 0.3782\n",
            "Epoch 88/100\n",
            "19/19 [==============================] - 0s 3ms/step - loss: 1.6245 - categorical_accuracy: 0.4231 - val_loss: 1.7204 - val_categorical_accuracy: 0.3782\n",
            "Epoch 89/100\n",
            "19/19 [==============================] - 0s 3ms/step - loss: 1.6241 - categorical_accuracy: 0.4231 - val_loss: 1.7218 - val_categorical_accuracy: 0.3782\n",
            "Epoch 90/100\n",
            "19/19 [==============================] - 0s 3ms/step - loss: 1.6235 - categorical_accuracy: 0.4231 - val_loss: 1.7215 - val_categorical_accuracy: 0.3782\n",
            "Epoch 91/100\n",
            "19/19 [==============================] - 0s 3ms/step - loss: 1.6234 - categorical_accuracy: 0.4231 - val_loss: 1.7214 - val_categorical_accuracy: 0.3782\n",
            "Epoch 92/100\n",
            "19/19 [==============================] - 0s 3ms/step - loss: 1.6230 - categorical_accuracy: 0.4231 - val_loss: 1.7220 - val_categorical_accuracy: 0.3782\n",
            "Epoch 93/100\n",
            "19/19 [==============================] - 0s 3ms/step - loss: 1.6224 - categorical_accuracy: 0.4231 - val_loss: 1.7217 - val_categorical_accuracy: 0.3782\n",
            "Epoch 94/100\n",
            "19/19 [==============================] - 0s 3ms/step - loss: 1.6220 - categorical_accuracy: 0.4231 - val_loss: 1.7220 - val_categorical_accuracy: 0.3782\n",
            "Epoch 95/100\n",
            "19/19 [==============================] - 0s 3ms/step - loss: 1.6216 - categorical_accuracy: 0.4231 - val_loss: 1.7220 - val_categorical_accuracy: 0.3782\n",
            "Epoch 96/100\n",
            "19/19 [==============================] - 0s 3ms/step - loss: 1.6211 - categorical_accuracy: 0.4231 - val_loss: 1.7229 - val_categorical_accuracy: 0.3782\n",
            "Epoch 97/100\n",
            "19/19 [==============================] - 0s 4ms/step - loss: 1.6210 - categorical_accuracy: 0.4231 - val_loss: 1.7241 - val_categorical_accuracy: 0.3782\n",
            "Epoch 98/100\n",
            "19/19 [==============================] - 0s 3ms/step - loss: 1.6204 - categorical_accuracy: 0.4231 - val_loss: 1.7235 - val_categorical_accuracy: 0.3782\n",
            "Epoch 99/100\n",
            "19/19 [==============================] - 0s 4ms/step - loss: 1.6197 - categorical_accuracy: 0.4231 - val_loss: 1.7240 - val_categorical_accuracy: 0.3782\n",
            "Epoch 100/100\n",
            "19/19 [==============================] - 0s 3ms/step - loss: 1.6200 - categorical_accuracy: 0.4231 - val_loss: 1.7209 - val_categorical_accuracy: 0.3782\n"
          ]
        },
        {
          "output_type": "execute_result",
          "data": {
            "text/plain": [
              "<keras.callbacks.History at 0x7f73a21cdfc0>"
            ]
          },
          "metadata": {},
          "execution_count": 19
        }
      ],
      "source": [
        "from keras.models import Sequential\n",
        "from keras.layers import Dense\n",
        "from keras.callbacks import LearningRateScheduler\n",
        "from keras.callbacks import ModelCheckpoint\n",
        "from keras.callbacks import EarlyStopping\n",
        "from keras.layers import Dropout\n",
        "from keras.layers import BatchNormalization\n",
        "from keras.layers import Activation\n",
        "from keras.layers import Flatten\n",
        "from keras.callbacks import History\n",
        "\n",
        "history_dense_1 = History()\n",
        "model = Sequential()\n",
        "model.add(Flatten(input_shape=X_train.shape[1:]))\n",
        "model.add(Dense(n_classes,activation=\"softmax\"))\n",
        "model.summary()\n",
        "\n",
        "early_stopping = EarlyStopping(patience=20,monitor=\"val_loss\")\n",
        "model.compile(loss=\"categorical_crossentropy\",optimizer=\"adam\",metrics=[\"categorical_accuracy\"])\n",
        "model.fit(X_train, y_train, validation_split=0.25,epochs=100,callbacks=[early_stopping, history_dense_1])"
      ]
    },
    {
      "cell_type": "code",
      "execution_count": 20,
      "metadata": {
        "id": "VU8QahIsldZr",
        "outputId": "3245cbc8-0619-48bf-f730-10d6aba6066c",
        "colab": {
          "base_uri": "https://localhost:8080/"
        }
      },
      "outputs": [
        {
          "output_type": "stream",
          "name": "stdout",
          "text": [
            "17/17 [==============================] - 0s 1ms/step - loss: 1.6546 - categorical_accuracy: 0.4109\n"
          ]
        },
        {
          "output_type": "execute_result",
          "data": {
            "text/plain": [
              "[1.6546145677566528, 0.41085270047187805]"
            ]
          },
          "metadata": {},
          "execution_count": 20
        }
      ],
      "source": [
        "model.evaluate(X_test,y_test)"
      ]
    },
    {
      "cell_type": "code",
      "execution_count": 21,
      "metadata": {
        "id": "pTR2hzrjldZr",
        "outputId": "3292d87a-87e6-4123-c2a5-1e234d4eab1f",
        "colab": {
          "base_uri": "https://localhost:8080/",
          "height": 430
        }
      },
      "outputs": [
        {
          "output_type": "display_data",
          "data": {
            "text/plain": [
              "<Figure size 640x480 with 1 Axes>"
            ],
            "image/png": "[encoded data removed]"
          },
          "metadata": {}
        }
      ],
      "source": [
        "plt.plot(history_dense_1.history['categorical_accuracy'], label = \"tarina Adam\")\n",
        "plt.plot(history_dense_1.history['val_categorical_accuracy'], label = \"test Adam\")\n",
        "\n",
        "\n",
        "plt.legend()\n",
        "plt.show()"
      ]
    },
    {
      "cell_type": "markdown",
      "metadata": {
        "id": "4zPYBDF_ldZr"
      },
      "source": [
        "# Zad\n",
        "\n",
        "Sprawdź czy dwie warstwy poprawią wynik?"
      ]
    },
    {
      "cell_type": "code",
      "execution_count": 22,
      "metadata": {
        "id": "F8PHCuMmldZs",
        "outputId": "19648053-b534-4638-d14c-a5d3597bce70",
        "colab": {
          "base_uri": "https://localhost:8080/"
        }
      },
      "outputs": [
        {
          "output_type": "stream",
          "name": "stdout",
          "text": [
            "Model: \"sequential_5\"\n",
            "_________________________________________________________________\n",
            " Layer (type)                Output Shape              Param #   \n",
            "=================================================================\n",
            " flatten_7 (Flatten)         (None, 1850)              0         \n",
            "                                                                 \n",
            " flatten_8 (Flatten)         (None, 1850)              0         \n",
            "                                                                 \n",
            " flatten_9 (Flatten)         (None, 1850)              0         \n",
            "                                                                 \n",
            " dense_5 (Dense)             (None, 7)                 12957     \n",
            "                                                                 \n",
            "=================================================================\n",
            "Total params: 12,957\n",
            "Trainable params: 12,957\n",
            "Non-trainable params: 0\n",
            "_________________________________________________________________\n",
            "Epoch 1/100\n",
            "19/19 [==============================] - 1s 13ms/step - loss: 1.9253 - categorical_accuracy: 0.3696 - val_loss: 1.9086 - val_categorical_accuracy: 0.3782\n",
            "Epoch 2/100\n",
            "19/19 [==============================] - 0s 3ms/step - loss: 1.8782 - categorical_accuracy: 0.4231 - val_loss: 1.8754 - val_categorical_accuracy: 0.3782\n",
            "Epoch 3/100\n",
            "19/19 [==============================] - 0s 4ms/step - loss: 1.8396 - categorical_accuracy: 0.4231 - val_loss: 1.8461 - val_categorical_accuracy: 0.3782\n",
            "Epoch 4/100\n",
            "19/19 [==============================] - 0s 4ms/step - loss: 1.8059 - categorical_accuracy: 0.4231 - val_loss: 1.8240 - val_categorical_accuracy: 0.3782\n",
            "Epoch 5/100\n",
            "19/19 [==============================] - 0s 3ms/step - loss: 1.7775 - categorical_accuracy: 0.4231 - val_loss: 1.8043 - val_categorical_accuracy: 0.3782\n",
            "Epoch 6/100\n",
            "19/19 [==============================] - 0s 3ms/step - loss: 1.7542 - categorical_accuracy: 0.4231 - val_loss: 1.7904 - val_categorical_accuracy: 0.3782\n",
            "Epoch 7/100\n",
            "19/19 [==============================] - 0s 3ms/step - loss: 1.7347 - categorical_accuracy: 0.4231 - val_loss: 1.7783 - val_categorical_accuracy: 0.3782\n",
            "Epoch 8/100\n",
            "19/19 [==============================] - 0s 3ms/step - loss: 1.7183 - categorical_accuracy: 0.4231 - val_loss: 1.7681 - val_categorical_accuracy: 0.3782\n",
            "Epoch 9/100\n",
            "19/19 [==============================] - 0s 3ms/step - loss: 1.7044 - categorical_accuracy: 0.4231 - val_loss: 1.7613 - val_categorical_accuracy: 0.3782\n",
            "Epoch 10/100\n",
            "19/19 [==============================] - 0s 3ms/step - loss: 1.6922 - categorical_accuracy: 0.4231 - val_loss: 1.7556 - val_categorical_accuracy: 0.3782\n",
            "Epoch 11/100\n",
            "19/19 [==============================] - 0s 3ms/step - loss: 1.6835 - categorical_accuracy: 0.4231 - val_loss: 1.7517 - val_categorical_accuracy: 0.3782\n",
            "Epoch 12/100\n",
            "19/19 [==============================] - 0s 4ms/step - loss: 1.6772 - categorical_accuracy: 0.4231 - val_loss: 1.7497 - val_categorical_accuracy: 0.3782\n",
            "Epoch 13/100\n",
            "19/19 [==============================] - 0s 3ms/step - loss: 1.6722 - categorical_accuracy: 0.4231 - val_loss: 1.7467 - val_categorical_accuracy: 0.3782\n",
            "Epoch 14/100\n",
            "19/19 [==============================] - 0s 4ms/step - loss: 1.6676 - categorical_accuracy: 0.4231 - val_loss: 1.7451 - val_categorical_accuracy: 0.3782\n",
            "Epoch 15/100\n",
            "19/19 [==============================] - 0s 3ms/step - loss: 1.6631 - categorical_accuracy: 0.4231 - val_loss: 1.7430 - val_categorical_accuracy: 0.3782\n",
            "Epoch 16/100\n",
            "19/19 [==============================] - 0s 3ms/step - loss: 1.6605 - categorical_accuracy: 0.4231 - val_loss: 1.7410 - val_categorical_accuracy: 0.3782\n",
            "Epoch 17/100\n",
            "19/19 [==============================] - 0s 3ms/step - loss: 1.6581 - categorical_accuracy: 0.4231 - val_loss: 1.7417 - val_categorical_accuracy: 0.3782\n",
            "Epoch 18/100\n",
            "19/19 [==============================] - 0s 3ms/step - loss: 1.6561 - categorical_accuracy: 0.4231 - val_loss: 1.7416 - val_categorical_accuracy: 0.3782\n",
            "Epoch 19/100\n",
            "19/19 [==============================] - 0s 3ms/step - loss: 1.6547 - categorical_accuracy: 0.4231 - val_loss: 1.7405 - val_categorical_accuracy: 0.3782\n",
            "Epoch 20/100\n",
            "19/19 [==============================] - 0s 3ms/step - loss: 1.6533 - categorical_accuracy: 0.4231 - val_loss: 1.7398 - val_categorical_accuracy: 0.3782\n",
            "Epoch 21/100\n",
            "19/19 [==============================] - 0s 4ms/step - loss: 1.6528 - categorical_accuracy: 0.4231 - val_loss: 1.7412 - val_categorical_accuracy: 0.3782\n",
            "Epoch 22/100\n",
            "19/19 [==============================] - 0s 3ms/step - loss: 1.6515 - categorical_accuracy: 0.4231 - val_loss: 1.7400 - val_categorical_accuracy: 0.3782\n",
            "Epoch 23/100\n",
            "19/19 [==============================] - 0s 3ms/step - loss: 1.6511 - categorical_accuracy: 0.4231 - val_loss: 1.7413 - val_categorical_accuracy: 0.3782\n",
            "Epoch 24/100\n",
            "19/19 [==============================] - 0s 3ms/step - loss: 1.6505 - categorical_accuracy: 0.4231 - val_loss: 1.7414 - val_categorical_accuracy: 0.3782\n",
            "Epoch 25/100\n",
            "19/19 [==============================] - 0s 4ms/step - loss: 1.6498 - categorical_accuracy: 0.4231 - val_loss: 1.7421 - val_categorical_accuracy: 0.3782\n",
            "Epoch 26/100\n",
            "19/19 [==============================] - 0s 3ms/step - loss: 1.6492 - categorical_accuracy: 0.4231 - val_loss: 1.7416 - val_categorical_accuracy: 0.3782\n",
            "Epoch 27/100\n",
            "19/19 [==============================] - 0s 3ms/step - loss: 1.6489 - categorical_accuracy: 0.4231 - val_loss: 1.7417 - val_categorical_accuracy: 0.3782\n",
            "Epoch 28/100\n",
            "19/19 [==============================] - 0s 4ms/step - loss: 1.6481 - categorical_accuracy: 0.4231 - val_loss: 1.7384 - val_categorical_accuracy: 0.3782\n",
            "Epoch 29/100\n",
            "19/19 [==============================] - 0s 3ms/step - loss: 1.6477 - categorical_accuracy: 0.4231 - val_loss: 1.7391 - val_categorical_accuracy: 0.3782\n",
            "Epoch 30/100\n",
            "19/19 [==============================] - 0s 4ms/step - loss: 1.6474 - categorical_accuracy: 0.4231 - val_loss: 1.7395 - val_categorical_accuracy: 0.3782\n",
            "Epoch 31/100\n",
            "19/19 [==============================] - 0s 3ms/step - loss: 1.6470 - categorical_accuracy: 0.4231 - val_loss: 1.7400 - val_categorical_accuracy: 0.3782\n",
            "Epoch 32/100\n",
            "19/19 [==============================] - 0s 3ms/step - loss: 1.6465 - categorical_accuracy: 0.4231 - val_loss: 1.7384 - val_categorical_accuracy: 0.3782\n",
            "Epoch 33/100\n",
            "19/19 [==============================] - 0s 3ms/step - loss: 1.6460 - categorical_accuracy: 0.4231 - val_loss: 1.7357 - val_categorical_accuracy: 0.3782\n",
            "Epoch 34/100\n",
            "19/19 [==============================] - 0s 4ms/step - loss: 1.6460 - categorical_accuracy: 0.4231 - val_loss: 1.7348 - val_categorical_accuracy: 0.3782\n",
            "Epoch 35/100\n",
            "19/19 [==============================] - 0s 3ms/step - loss: 1.6458 - categorical_accuracy: 0.4231 - val_loss: 1.7350 - val_categorical_accuracy: 0.3782\n",
            "Epoch 36/100\n",
            "19/19 [==============================] - 0s 3ms/step - loss: 1.6453 - categorical_accuracy: 0.4231 - val_loss: 1.7360 - val_categorical_accuracy: 0.3782\n",
            "Epoch 37/100\n",
            "19/19 [==============================] - 0s 3ms/step - loss: 1.6448 - categorical_accuracy: 0.4231 - val_loss: 1.7369 - val_categorical_accuracy: 0.3782\n",
            "Epoch 38/100\n",
            "19/19 [==============================] - 0s 3ms/step - loss: 1.6444 - categorical_accuracy: 0.4231 - val_loss: 1.7372 - val_categorical_accuracy: 0.3782\n",
            "Epoch 39/100\n",
            "19/19 [==============================] - 0s 3ms/step - loss: 1.6438 - categorical_accuracy: 0.4231 - val_loss: 1.7365 - val_categorical_accuracy: 0.3782\n",
            "Epoch 40/100\n",
            "19/19 [==============================] - 0s 3ms/step - loss: 1.6435 - categorical_accuracy: 0.4231 - val_loss: 1.7357 - val_categorical_accuracy: 0.3782\n",
            "Epoch 41/100\n",
            "19/19 [==============================] - 0s 3ms/step - loss: 1.6431 - categorical_accuracy: 0.4231 - val_loss: 1.7339 - val_categorical_accuracy: 0.3782\n",
            "Epoch 42/100\n",
            "19/19 [==============================] - 0s 3ms/step - loss: 1.6426 - categorical_accuracy: 0.4231 - val_loss: 1.7338 - val_categorical_accuracy: 0.3782\n",
            "Epoch 43/100\n",
            "19/19 [==============================] - 0s 4ms/step - loss: 1.6423 - categorical_accuracy: 0.4231 - val_loss: 1.7348 - val_categorical_accuracy: 0.3782\n",
            "Epoch 44/100\n",
            "19/19 [==============================] - 0s 2ms/step - loss: 1.6416 - categorical_accuracy: 0.4231 - val_loss: 1.7352 - val_categorical_accuracy: 0.3782\n",
            "Epoch 45/100\n",
            "19/19 [==============================] - 0s 3ms/step - loss: 1.6417 - categorical_accuracy: 0.4231 - val_loss: 1.7344 - val_categorical_accuracy: 0.3782\n",
            "Epoch 46/100\n",
            "19/19 [==============================] - 0s 3ms/step - loss: 1.6410 - categorical_accuracy: 0.4231 - val_loss: 1.7332 - val_categorical_accuracy: 0.3782\n",
            "Epoch 47/100\n",
            "19/19 [==============================] - 0s 4ms/step - loss: 1.6409 - categorical_accuracy: 0.4231 - val_loss: 1.7332 - val_categorical_accuracy: 0.3782\n",
            "Epoch 48/100\n",
            "19/19 [==============================] - 0s 3ms/step - loss: 1.6405 - categorical_accuracy: 0.4231 - val_loss: 1.7333 - val_categorical_accuracy: 0.3782\n",
            "Epoch 49/100\n",
            "19/19 [==============================] - 0s 3ms/step - loss: 1.6401 - categorical_accuracy: 0.4231 - val_loss: 1.7341 - val_categorical_accuracy: 0.3782\n",
            "Epoch 50/100\n",
            "19/19 [==============================] - 0s 3ms/step - loss: 1.6395 - categorical_accuracy: 0.4231 - val_loss: 1.7344 - val_categorical_accuracy: 0.3782\n",
            "Epoch 51/100\n",
            "19/19 [==============================] - 0s 3ms/step - loss: 1.6391 - categorical_accuracy: 0.4231 - val_loss: 1.7332 - val_categorical_accuracy: 0.3782\n",
            "Epoch 52/100\n",
            "19/19 [==============================] - 0s 3ms/step - loss: 1.6389 - categorical_accuracy: 0.4231 - val_loss: 1.7336 - val_categorical_accuracy: 0.3782\n",
            "Epoch 53/100\n",
            "19/19 [==============================] - 0s 3ms/step - loss: 1.6383 - categorical_accuracy: 0.4231 - val_loss: 1.7329 - val_categorical_accuracy: 0.3782\n",
            "Epoch 54/100\n",
            "19/19 [==============================] - 0s 2ms/step - loss: 1.6379 - categorical_accuracy: 0.4231 - val_loss: 1.7324 - val_categorical_accuracy: 0.3782\n",
            "Epoch 55/100\n",
            "19/19 [==============================] - 0s 3ms/step - loss: 1.6373 - categorical_accuracy: 0.4231 - val_loss: 1.7317 - val_categorical_accuracy: 0.3782\n",
            "Epoch 56/100\n",
            "19/19 [==============================] - 0s 3ms/step - loss: 1.6372 - categorical_accuracy: 0.4231 - val_loss: 1.7324 - val_categorical_accuracy: 0.3782\n",
            "Epoch 57/100\n",
            "19/19 [==============================] - 0s 3ms/step - loss: 1.6368 - categorical_accuracy: 0.4231 - val_loss: 1.7338 - val_categorical_accuracy: 0.3782\n",
            "Epoch 58/100\n",
            "19/19 [==============================] - 0s 3ms/step - loss: 1.6365 - categorical_accuracy: 0.4231 - val_loss: 1.7343 - val_categorical_accuracy: 0.3782\n",
            "Epoch 59/100\n",
            "19/19 [==============================] - 0s 3ms/step - loss: 1.6362 - categorical_accuracy: 0.4231 - val_loss: 1.7342 - val_categorical_accuracy: 0.3782\n",
            "Epoch 60/100\n",
            "19/19 [==============================] - 0s 3ms/step - loss: 1.6361 - categorical_accuracy: 0.4231 - val_loss: 1.7354 - val_categorical_accuracy: 0.3782\n",
            "Epoch 61/100\n",
            "19/19 [==============================] - 0s 3ms/step - loss: 1.6354 - categorical_accuracy: 0.4231 - val_loss: 1.7343 - val_categorical_accuracy: 0.3782\n",
            "Epoch 62/100\n",
            "19/19 [==============================] - 0s 3ms/step - loss: 1.6348 - categorical_accuracy: 0.4231 - val_loss: 1.7323 - val_categorical_accuracy: 0.3782\n",
            "Epoch 63/100\n",
            "19/19 [==============================] - 0s 3ms/step - loss: 1.6345 - categorical_accuracy: 0.4231 - val_loss: 1.7308 - val_categorical_accuracy: 0.3782\n",
            "Epoch 64/100\n",
            "19/19 [==============================] - 0s 3ms/step - loss: 1.6341 - categorical_accuracy: 0.4231 - val_loss: 1.7315 - val_categorical_accuracy: 0.3782\n",
            "Epoch 65/100\n",
            "19/19 [==============================] - 0s 3ms/step - loss: 1.6335 - categorical_accuracy: 0.4231 - val_loss: 1.7303 - val_categorical_accuracy: 0.3782\n",
            "Epoch 66/100\n",
            "19/19 [==============================] - 0s 3ms/step - loss: 1.6331 - categorical_accuracy: 0.4231 - val_loss: 1.7305 - val_categorical_accuracy: 0.3782\n",
            "Epoch 67/100\n",
            "19/19 [==============================] - 0s 3ms/step - loss: 1.6326 - categorical_accuracy: 0.4231 - val_loss: 1.7307 - val_categorical_accuracy: 0.3782\n",
            "Epoch 68/100\n",
            "19/19 [==============================] - 0s 3ms/step - loss: 1.6324 - categorical_accuracy: 0.4231 - val_loss: 1.7313 - val_categorical_accuracy: 0.3782\n",
            "Epoch 69/100\n",
            "19/19 [==============================] - 0s 4ms/step - loss: 1.6319 - categorical_accuracy: 0.4231 - val_loss: 1.7319 - val_categorical_accuracy: 0.3782\n",
            "Epoch 70/100\n",
            "19/19 [==============================] - 0s 3ms/step - loss: 1.6321 - categorical_accuracy: 0.4231 - val_loss: 1.7317 - val_categorical_accuracy: 0.3782\n",
            "Epoch 71/100\n",
            "19/19 [==============================] - 0s 4ms/step - loss: 1.6312 - categorical_accuracy: 0.4231 - val_loss: 1.7317 - val_categorical_accuracy: 0.3782\n",
            "Epoch 72/100\n",
            "19/19 [==============================] - 0s 4ms/step - loss: 1.6315 - categorical_accuracy: 0.4231 - val_loss: 1.7321 - val_categorical_accuracy: 0.3782\n",
            "Epoch 73/100\n",
            "19/19 [==============================] - 0s 3ms/step - loss: 1.6305 - categorical_accuracy: 0.4231 - val_loss: 1.7298 - val_categorical_accuracy: 0.3782\n",
            "Epoch 74/100\n",
            "19/19 [==============================] - 0s 3ms/step - loss: 1.6300 - categorical_accuracy: 0.4231 - val_loss: 1.7283 - val_categorical_accuracy: 0.3782\n",
            "Epoch 75/100\n",
            "19/19 [==============================] - 0s 3ms/step - loss: 1.6295 - categorical_accuracy: 0.4231 - val_loss: 1.7284 - val_categorical_accuracy: 0.3782\n",
            "Epoch 76/100\n",
            "19/19 [==============================] - 0s 3ms/step - loss: 1.6292 - categorical_accuracy: 0.4231 - val_loss: 1.7287 - val_categorical_accuracy: 0.3782\n",
            "Epoch 77/100\n",
            "19/19 [==============================] - 0s 3ms/step - loss: 1.6289 - categorical_accuracy: 0.4231 - val_loss: 1.7276 - val_categorical_accuracy: 0.3782\n",
            "Epoch 78/100\n",
            "19/19 [==============================] - 0s 3ms/step - loss: 1.6284 - categorical_accuracy: 0.4231 - val_loss: 1.7275 - val_categorical_accuracy: 0.3782\n",
            "Epoch 79/100\n",
            "19/19 [==============================] - 0s 3ms/step - loss: 1.6280 - categorical_accuracy: 0.4231 - val_loss: 1.7273 - val_categorical_accuracy: 0.3782\n",
            "Epoch 80/100\n",
            "19/19 [==============================] - 0s 3ms/step - loss: 1.6278 - categorical_accuracy: 0.4231 - val_loss: 1.7260 - val_categorical_accuracy: 0.3782\n",
            "Epoch 81/100\n",
            "19/19 [==============================] - 0s 3ms/step - loss: 1.6272 - categorical_accuracy: 0.4231 - val_loss: 1.7259 - val_categorical_accuracy: 0.3782\n",
            "Epoch 82/100\n",
            "19/19 [==============================] - 0s 3ms/step - loss: 1.6269 - categorical_accuracy: 0.4231 - val_loss: 1.7259 - val_categorical_accuracy: 0.3782\n",
            "Epoch 83/100\n",
            "19/19 [==============================] - 0s 3ms/step - loss: 1.6264 - categorical_accuracy: 0.4231 - val_loss: 1.7233 - val_categorical_accuracy: 0.3782\n",
            "Epoch 84/100\n",
            "19/19 [==============================] - 0s 3ms/step - loss: 1.6259 - categorical_accuracy: 0.4231 - val_loss: 1.7236 - val_categorical_accuracy: 0.3782\n",
            "Epoch 85/100\n",
            "19/19 [==============================] - 0s 4ms/step - loss: 1.6255 - categorical_accuracy: 0.4231 - val_loss: 1.7246 - val_categorical_accuracy: 0.3782\n",
            "Epoch 86/100\n",
            "19/19 [==============================] - 0s 3ms/step - loss: 1.6252 - categorical_accuracy: 0.4231 - val_loss: 1.7253 - val_categorical_accuracy: 0.3782\n",
            "Epoch 87/100\n",
            "19/19 [==============================] - 0s 3ms/step - loss: 1.6251 - categorical_accuracy: 0.4231 - val_loss: 1.7233 - val_categorical_accuracy: 0.3782\n",
            "Epoch 88/100\n",
            "19/19 [==============================] - 0s 3ms/step - loss: 1.6244 - categorical_accuracy: 0.4231 - val_loss: 1.7241 - val_categorical_accuracy: 0.3782\n",
            "Epoch 89/100\n",
            "19/19 [==============================] - 0s 3ms/step - loss: 1.6239 - categorical_accuracy: 0.4231 - val_loss: 1.7228 - val_categorical_accuracy: 0.3782\n",
            "Epoch 90/100\n",
            "19/19 [==============================] - 0s 4ms/step - loss: 1.6237 - categorical_accuracy: 0.4231 - val_loss: 1.7234 - val_categorical_accuracy: 0.3782\n",
            "Epoch 91/100\n",
            "19/19 [==============================] - 0s 4ms/step - loss: 1.6233 - categorical_accuracy: 0.4231 - val_loss: 1.7222 - val_categorical_accuracy: 0.3782\n",
            "Epoch 92/100\n",
            "19/19 [==============================] - 0s 3ms/step - loss: 1.6228 - categorical_accuracy: 0.4231 - val_loss: 1.7225 - val_categorical_accuracy: 0.3782\n",
            "Epoch 93/100\n",
            "19/19 [==============================] - 0s 4ms/step - loss: 1.6225 - categorical_accuracy: 0.4231 - val_loss: 1.7198 - val_categorical_accuracy: 0.3782\n",
            "Epoch 94/100\n",
            "19/19 [==============================] - 0s 3ms/step - loss: 1.6220 - categorical_accuracy: 0.4231 - val_loss: 1.7203 - val_categorical_accuracy: 0.3782\n",
            "Epoch 95/100\n",
            "19/19 [==============================] - 0s 3ms/step - loss: 1.6219 - categorical_accuracy: 0.4231 - val_loss: 1.7210 - val_categorical_accuracy: 0.3782\n",
            "Epoch 96/100\n",
            "19/19 [==============================] - 0s 3ms/step - loss: 1.6213 - categorical_accuracy: 0.4231 - val_loss: 1.7186 - val_categorical_accuracy: 0.3782\n",
            "Epoch 97/100\n",
            "19/19 [==============================] - 0s 3ms/step - loss: 1.6210 - categorical_accuracy: 0.4231 - val_loss: 1.7173 - val_categorical_accuracy: 0.3782\n",
            "Epoch 98/100\n",
            "19/19 [==============================] - 0s 3ms/step - loss: 1.6206 - categorical_accuracy: 0.4231 - val_loss: 1.7168 - val_categorical_accuracy: 0.3782\n",
            "Epoch 99/100\n",
            "19/19 [==============================] - 0s 3ms/step - loss: 1.6203 - categorical_accuracy: 0.4231 - val_loss: 1.7169 - val_categorical_accuracy: 0.3782\n",
            "Epoch 100/100\n",
            "19/19 [==============================] - 0s 3ms/step - loss: 1.6196 - categorical_accuracy: 0.4231 - val_loss: 1.7165 - val_categorical_accuracy: 0.3782\n"
          ]
        },
        {
          "output_type": "execute_result",
          "data": {
            "text/plain": [
              "<keras.callbacks.History at 0x7f73a1d878b0>"
            ]
          },
          "metadata": {},
          "execution_count": 22
        }
      ],
      "source": [
        "history_dense_2 = History()\n",
        "model1 = Sequential()\n",
        "model1.add(Flatten(input_shape=X_train.shape[1:]))\n",
        "model1.add(Flatten(input_shape=X_train.shape[1:]))\n",
        "model1.add(Flatten(input_shape=X_train.shape[1:]))\n",
        "model1.add(Dense(n_classes,activation=\"softmax\"))\n",
        "model1.summary()\n",
        "\n",
        "early_stopping = EarlyStopping(patience=20,monitor=\"val_loss\")\n",
        "model1.compile(loss=\"categorical_crossentropy\",optimizer=\"adam\",metrics=[\"categorical_accuracy\"])\n",
        "model1.fit(X_train, y_train, validation_split=0.25,epochs=100,callbacks=[early_stopping, history_dense_2])"
      ]
    },
    {
      "cell_type": "code",
      "execution_count": 24,
      "metadata": {
        "id": "tLQLoFkpldZs",
        "outputId": "7cc49789-406e-4d6b-ea23-0b0c328fc696",
        "colab": {
          "base_uri": "https://localhost:8080/"
        }
      },
      "outputs": [
        {
          "output_type": "stream",
          "name": "stdout",
          "text": [
            "17/17 [==============================] - 0s 2ms/step - loss: 1.6539 - categorical_accuracy: 0.4109\n"
          ]
        },
        {
          "output_type": "execute_result",
          "data": {
            "text/plain": [
              "[1.6538547277450562, 0.41085270047187805]"
            ]
          },
          "metadata": {},
          "execution_count": 24
        }
      ],
      "source": [
        "model1.evaluate(X_test,y_test)"
      ]
    },
    {
      "cell_type": "markdown",
      "metadata": {
        "id": "ebRLNukyldZs"
      },
      "source": [
        "# Sieci konwolucyjne\n",
        "\n",
        "# Zad\n",
        "Zbuduj sieć konwolucyjną z jedną warstwą\n",
        "* Conv2D"
      ]
    },
    {
      "cell_type": "code",
      "execution_count": 25,
      "metadata": {
        "id": "11QqzVbyldZs"
      },
      "outputs": [],
      "source": [
        "from keras.layers.convolutional import Conv2D, MaxPooling2D, AveragePooling2D"
      ]
    },
    {
      "cell_type": "code",
      "execution_count": 26,
      "metadata": {
        "id": "vuOnBQIPldZs",
        "outputId": "cce878a3-bd9b-447e-d97e-f2afb42615f6",
        "colab": {
          "base_uri": "https://localhost:8080/"
        }
      },
      "outputs": [
        {
          "output_type": "stream",
          "name": "stdout",
          "text": [
            "Model: \"sequential_6\"\n",
            "_________________________________________________________________\n",
            " Layer (type)                Output Shape              Param #   \n",
            "=================================================================\n",
            " conv2d (Conv2D)             (None, 48, 35, 16)        160       \n",
            "                                                                 \n",
            " flatten_10 (Flatten)        (None, 26880)             0         \n",
            "                                                                 \n",
            " dense_6 (Dense)             (None, 7)                 188167    \n",
            "                                                                 \n",
            "=================================================================\n",
            "Total params: 188,327\n",
            "Trainable params: 188,327\n",
            "Non-trainable params: 0\n",
            "_________________________________________________________________\n",
            "Epoch 1/100\n",
            "19/19 [==============================] - 1s 22ms/step - loss: 1.7585 - categorical_accuracy: 0.3990 - val_loss: 1.7618 - val_categorical_accuracy: 0.3782\n",
            "Epoch 2/100\n",
            "19/19 [==============================] - 0s 15ms/step - loss: 1.6754 - categorical_accuracy: 0.4231 - val_loss: 1.7900 - val_categorical_accuracy: 0.3782\n",
            "Epoch 3/100\n",
            "19/19 [==============================] - 0s 14ms/step - loss: 1.6720 - categorical_accuracy: 0.4231 - val_loss: 1.7450 - val_categorical_accuracy: 0.3782\n",
            "Epoch 4/100\n",
            "19/19 [==============================] - 0s 14ms/step - loss: 1.6689 - categorical_accuracy: 0.4231 - val_loss: 1.7608 - val_categorical_accuracy: 0.3782\n",
            "Epoch 5/100\n",
            "19/19 [==============================] - 0s 14ms/step - loss: 1.6679 - categorical_accuracy: 0.4231 - val_loss: 1.7346 - val_categorical_accuracy: 0.3782\n",
            "Epoch 6/100\n",
            "19/19 [==============================] - 0s 14ms/step - loss: 1.6655 - categorical_accuracy: 0.4231 - val_loss: 1.7421 - val_categorical_accuracy: 0.3782\n",
            "Epoch 7/100\n",
            "19/19 [==============================] - 0s 14ms/step - loss: 1.6647 - categorical_accuracy: 0.4231 - val_loss: 1.7593 - val_categorical_accuracy: 0.3782\n",
            "Epoch 8/100\n",
            "19/19 [==============================] - 0s 17ms/step - loss: 1.6648 - categorical_accuracy: 0.4231 - val_loss: 1.7591 - val_categorical_accuracy: 0.3782\n",
            "Epoch 9/100\n",
            "19/19 [==============================] - 0s 13ms/step - loss: 1.6906 - categorical_accuracy: 0.4231 - val_loss: 1.7361 - val_categorical_accuracy: 0.3782\n",
            "Epoch 10/100\n",
            "19/19 [==============================] - 0s 14ms/step - loss: 1.6597 - categorical_accuracy: 0.4231 - val_loss: 1.7446 - val_categorical_accuracy: 0.3782\n",
            "Epoch 11/100\n",
            "19/19 [==============================] - 0s 14ms/step - loss: 1.6621 - categorical_accuracy: 0.4231 - val_loss: 1.7464 - val_categorical_accuracy: 0.3782\n",
            "Epoch 12/100\n",
            "19/19 [==============================] - 0s 15ms/step - loss: 1.6651 - categorical_accuracy: 0.4231 - val_loss: 1.7228 - val_categorical_accuracy: 0.3782\n",
            "Epoch 13/100\n",
            "19/19 [==============================] - 0s 15ms/step - loss: 1.6687 - categorical_accuracy: 0.4231 - val_loss: 1.8268 - val_categorical_accuracy: 0.3782\n",
            "Epoch 14/100\n",
            "19/19 [==============================] - 0s 14ms/step - loss: 1.6777 - categorical_accuracy: 0.4231 - val_loss: 1.8237 - val_categorical_accuracy: 0.3782\n",
            "Epoch 15/100\n",
            "19/19 [==============================] - 0s 14ms/step - loss: 1.6882 - categorical_accuracy: 0.4231 - val_loss: 1.7665 - val_categorical_accuracy: 0.3782\n",
            "Epoch 16/100\n",
            "19/19 [==============================] - 0s 15ms/step - loss: 1.6611 - categorical_accuracy: 0.4231 - val_loss: 1.7346 - val_categorical_accuracy: 0.3782\n",
            "Epoch 17/100\n",
            "19/19 [==============================] - 0s 14ms/step - loss: 1.6540 - categorical_accuracy: 0.4231 - val_loss: 1.7547 - val_categorical_accuracy: 0.3782\n",
            "Epoch 18/100\n",
            "19/19 [==============================] - 0s 13ms/step - loss: 1.6553 - categorical_accuracy: 0.4231 - val_loss: 1.7880 - val_categorical_accuracy: 0.3782\n",
            "Epoch 19/100\n",
            "19/19 [==============================] - 0s 14ms/step - loss: 1.6548 - categorical_accuracy: 0.4231 - val_loss: 1.7324 - val_categorical_accuracy: 0.3782\n",
            "Epoch 20/100\n",
            "19/19 [==============================] - 0s 14ms/step - loss: 1.6531 - categorical_accuracy: 0.4231 - val_loss: 1.7135 - val_categorical_accuracy: 0.3782\n",
            "Epoch 21/100\n",
            "19/19 [==============================] - 0s 14ms/step - loss: 1.6335 - categorical_accuracy: 0.4231 - val_loss: 1.7162 - val_categorical_accuracy: 0.3782\n",
            "Epoch 22/100\n",
            "19/19 [==============================] - 0s 14ms/step - loss: 1.6502 - categorical_accuracy: 0.4231 - val_loss: 1.7407 - val_categorical_accuracy: 0.3782\n",
            "Epoch 23/100\n",
            "19/19 [==============================] - 0s 14ms/step - loss: 1.6256 - categorical_accuracy: 0.4231 - val_loss: 1.7099 - val_categorical_accuracy: 0.3782\n",
            "Epoch 24/100\n",
            "19/19 [==============================] - 0s 13ms/step - loss: 1.6139 - categorical_accuracy: 0.4231 - val_loss: 1.6962 - val_categorical_accuracy: 0.3782\n",
            "Epoch 25/100\n",
            "19/19 [==============================] - 0s 14ms/step - loss: 1.6053 - categorical_accuracy: 0.4231 - val_loss: 1.7082 - val_categorical_accuracy: 0.3782\n",
            "Epoch 26/100\n",
            "19/19 [==============================] - 0s 14ms/step - loss: 1.5969 - categorical_accuracy: 0.4231 - val_loss: 1.7027 - val_categorical_accuracy: 0.3834\n",
            "Epoch 27/100\n",
            "19/19 [==============================] - 0s 15ms/step - loss: 1.5980 - categorical_accuracy: 0.4560 - val_loss: 1.6707 - val_categorical_accuracy: 0.3782\n",
            "Epoch 28/100\n",
            "19/19 [==============================] - 0s 17ms/step - loss: 1.5856 - categorical_accuracy: 0.4266 - val_loss: 1.6674 - val_categorical_accuracy: 0.3990\n",
            "Epoch 29/100\n",
            "19/19 [==============================] - 0s 23ms/step - loss: 1.5641 - categorical_accuracy: 0.4404 - val_loss: 1.6547 - val_categorical_accuracy: 0.3782\n",
            "Epoch 30/100\n",
            "19/19 [==============================] - 0s 23ms/step - loss: 1.5402 - categorical_accuracy: 0.4387 - val_loss: 1.6486 - val_categorical_accuracy: 0.4041\n",
            "Epoch 31/100\n",
            "19/19 [==============================] - 0s 24ms/step - loss: 1.5386 - categorical_accuracy: 0.4508 - val_loss: 1.6160 - val_categorical_accuracy: 0.3990\n",
            "Epoch 32/100\n",
            "19/19 [==============================] - 0s 23ms/step - loss: 1.5062 - categorical_accuracy: 0.4491 - val_loss: 1.6067 - val_categorical_accuracy: 0.4041\n",
            "Epoch 33/100\n",
            "19/19 [==============================] - 0s 15ms/step - loss: 1.4827 - categorical_accuracy: 0.4611 - val_loss: 1.6772 - val_categorical_accuracy: 0.3886\n",
            "Epoch 34/100\n",
            "19/19 [==============================] - 0s 15ms/step - loss: 1.4946 - categorical_accuracy: 0.4767 - val_loss: 1.5631 - val_categorical_accuracy: 0.4249\n",
            "Epoch 35/100\n",
            "19/19 [==============================] - 0s 16ms/step - loss: 1.4719 - categorical_accuracy: 0.4732 - val_loss: 1.5594 - val_categorical_accuracy: 0.3990\n",
            "Epoch 36/100\n",
            "19/19 [==============================] - 0s 14ms/step - loss: 1.4513 - categorical_accuracy: 0.4698 - val_loss: 1.5596 - val_categorical_accuracy: 0.4197\n",
            "Epoch 37/100\n",
            "19/19 [==============================] - 0s 14ms/step - loss: 1.4221 - categorical_accuracy: 0.4870 - val_loss: 1.5347 - val_categorical_accuracy: 0.4197\n",
            "Epoch 38/100\n",
            "19/19 [==============================] - 0s 13ms/step - loss: 1.3983 - categorical_accuracy: 0.4836 - val_loss: 1.5022 - val_categorical_accuracy: 0.4301\n",
            "Epoch 39/100\n",
            "19/19 [==============================] - 0s 15ms/step - loss: 1.3700 - categorical_accuracy: 0.5009 - val_loss: 1.5195 - val_categorical_accuracy: 0.4249\n",
            "Epoch 40/100\n",
            "19/19 [==============================] - 0s 16ms/step - loss: 1.3519 - categorical_accuracy: 0.5078 - val_loss: 1.5467 - val_categorical_accuracy: 0.4249\n",
            "Epoch 41/100\n",
            "19/19 [==============================] - 1s 28ms/step - loss: 1.3342 - categorical_accuracy: 0.5250 - val_loss: 1.4729 - val_categorical_accuracy: 0.4456\n",
            "Epoch 42/100\n",
            "19/19 [==============================] - 0s 14ms/step - loss: 1.2984 - categorical_accuracy: 0.5285 - val_loss: 1.4533 - val_categorical_accuracy: 0.4352\n",
            "Epoch 43/100\n",
            "19/19 [==============================] - 0s 26ms/step - loss: 1.2964 - categorical_accuracy: 0.5250 - val_loss: 1.4376 - val_categorical_accuracy: 0.4508\n",
            "Epoch 44/100\n",
            "19/19 [==============================] - 0s 16ms/step - loss: 1.2744 - categorical_accuracy: 0.5389 - val_loss: 1.4493 - val_categorical_accuracy: 0.4560\n",
            "Epoch 45/100\n",
            "19/19 [==============================] - 0s 15ms/step - loss: 1.2515 - categorical_accuracy: 0.5406 - val_loss: 1.4309 - val_categorical_accuracy: 0.4715\n",
            "Epoch 46/100\n",
            "19/19 [==============================] - 0s 14ms/step - loss: 1.2265 - categorical_accuracy: 0.5337 - val_loss: 1.3599 - val_categorical_accuracy: 0.4974\n",
            "Epoch 47/100\n",
            "19/19 [==============================] - 0s 14ms/step - loss: 1.2115 - categorical_accuracy: 0.5579 - val_loss: 1.3637 - val_categorical_accuracy: 0.4508\n",
            "Epoch 48/100\n",
            "19/19 [==============================] - 0s 14ms/step - loss: 1.1802 - categorical_accuracy: 0.5769 - val_loss: 1.3266 - val_categorical_accuracy: 0.5078\n",
            "Epoch 49/100\n",
            "19/19 [==============================] - 0s 14ms/step - loss: 1.1570 - categorical_accuracy: 0.5630 - val_loss: 1.3055 - val_categorical_accuracy: 0.5026\n",
            "Epoch 50/100\n",
            "19/19 [==============================] - 0s 16ms/step - loss: 1.1342 - categorical_accuracy: 0.5924 - val_loss: 1.3020 - val_categorical_accuracy: 0.4974\n",
            "Epoch 51/100\n",
            "19/19 [==============================] - 0s 13ms/step - loss: 1.1230 - categorical_accuracy: 0.6045 - val_loss: 1.3130 - val_categorical_accuracy: 0.4974\n",
            "Epoch 52/100\n",
            "19/19 [==============================] - 0s 14ms/step - loss: 1.1181 - categorical_accuracy: 0.5855 - val_loss: 1.3263 - val_categorical_accuracy: 0.4922\n",
            "Epoch 53/100\n",
            "19/19 [==============================] - 0s 14ms/step - loss: 1.0824 - categorical_accuracy: 0.6010 - val_loss: 1.2327 - val_categorical_accuracy: 0.5181\n",
            "Epoch 54/100\n",
            "19/19 [==============================] - 0s 15ms/step - loss: 1.0817 - categorical_accuracy: 0.6200 - val_loss: 1.2724 - val_categorical_accuracy: 0.5078\n",
            "Epoch 55/100\n",
            "19/19 [==============================] - 0s 15ms/step - loss: 1.0409 - categorical_accuracy: 0.6356 - val_loss: 1.2135 - val_categorical_accuracy: 0.5233\n",
            "Epoch 56/100\n",
            "19/19 [==============================] - 0s 15ms/step - loss: 1.0299 - categorical_accuracy: 0.6425 - val_loss: 1.2014 - val_categorical_accuracy: 0.5285\n",
            "Epoch 57/100\n",
            "19/19 [==============================] - 0s 16ms/step - loss: 1.0031 - categorical_accuracy: 0.6459 - val_loss: 1.1737 - val_categorical_accuracy: 0.5389\n",
            "Epoch 58/100\n",
            "19/19 [==============================] - 0s 14ms/step - loss: 0.9867 - categorical_accuracy: 0.6459 - val_loss: 1.1601 - val_categorical_accuracy: 0.5596\n",
            "Epoch 59/100\n",
            "19/19 [==============================] - 0s 16ms/step - loss: 0.9738 - categorical_accuracy: 0.6649 - val_loss: 1.1572 - val_categorical_accuracy: 0.5389\n",
            "Epoch 60/100\n",
            "19/19 [==============================] - 0s 16ms/step - loss: 0.9509 - categorical_accuracy: 0.6753 - val_loss: 1.1480 - val_categorical_accuracy: 0.5492\n",
            "Epoch 61/100\n",
            "19/19 [==============================] - 0s 15ms/step - loss: 0.9313 - categorical_accuracy: 0.6943 - val_loss: 1.1309 - val_categorical_accuracy: 0.5492\n",
            "Epoch 62/100\n",
            "19/19 [==============================] - 0s 14ms/step - loss: 0.9234 - categorical_accuracy: 0.7012 - val_loss: 1.1391 - val_categorical_accuracy: 0.5389\n",
            "Epoch 63/100\n",
            "19/19 [==============================] - 0s 15ms/step - loss: 0.9041 - categorical_accuracy: 0.6718 - val_loss: 1.1007 - val_categorical_accuracy: 0.5907\n",
            "Epoch 64/100\n",
            "19/19 [==============================] - 0s 14ms/step - loss: 0.8864 - categorical_accuracy: 0.7047 - val_loss: 1.0797 - val_categorical_accuracy: 0.5699\n",
            "Epoch 65/100\n",
            "19/19 [==============================] - 0s 16ms/step - loss: 0.8790 - categorical_accuracy: 0.6943 - val_loss: 1.0960 - val_categorical_accuracy: 0.5855\n",
            "Epoch 66/100\n",
            "19/19 [==============================] - 0s 22ms/step - loss: 0.8559 - categorical_accuracy: 0.7358 - val_loss: 1.0845 - val_categorical_accuracy: 0.5803\n",
            "Epoch 67/100\n",
            "19/19 [==============================] - 0s 24ms/step - loss: 0.8456 - categorical_accuracy: 0.7133 - val_loss: 1.0909 - val_categorical_accuracy: 0.5907\n",
            "Epoch 68/100\n",
            "19/19 [==============================] - 0s 24ms/step - loss: 0.8427 - categorical_accuracy: 0.7219 - val_loss: 1.0509 - val_categorical_accuracy: 0.6062\n",
            "Epoch 69/100\n",
            "19/19 [==============================] - 0s 25ms/step - loss: 0.8117 - categorical_accuracy: 0.7358 - val_loss: 1.0244 - val_categorical_accuracy: 0.6321\n",
            "Epoch 70/100\n",
            "19/19 [==============================] - 0s 20ms/step - loss: 0.8048 - categorical_accuracy: 0.7306 - val_loss: 1.0208 - val_categorical_accuracy: 0.6218\n",
            "Epoch 71/100\n",
            "19/19 [==============================] - 0s 15ms/step - loss: 0.7846 - categorical_accuracy: 0.7427 - val_loss: 1.0394 - val_categorical_accuracy: 0.6114\n",
            "Epoch 72/100\n",
            "19/19 [==============================] - 0s 14ms/step - loss: 0.7695 - categorical_accuracy: 0.7409 - val_loss: 0.9911 - val_categorical_accuracy: 0.6580\n",
            "Epoch 73/100\n",
            "19/19 [==============================] - 0s 14ms/step - loss: 0.7691 - categorical_accuracy: 0.7720 - val_loss: 0.9871 - val_categorical_accuracy: 0.6528\n",
            "Epoch 74/100\n",
            "19/19 [==============================] - 0s 15ms/step - loss: 0.7516 - categorical_accuracy: 0.7340 - val_loss: 0.9688 - val_categorical_accuracy: 0.6477\n",
            "Epoch 75/100\n",
            "19/19 [==============================] - 0s 14ms/step - loss: 0.7419 - categorical_accuracy: 0.7927 - val_loss: 0.9706 - val_categorical_accuracy: 0.6477\n",
            "Epoch 76/100\n",
            "19/19 [==============================] - 0s 14ms/step - loss: 0.7239 - categorical_accuracy: 0.7789 - val_loss: 0.9643 - val_categorical_accuracy: 0.6477\n",
            "Epoch 77/100\n",
            "19/19 [==============================] - 0s 14ms/step - loss: 0.7083 - categorical_accuracy: 0.7789 - val_loss: 0.9647 - val_categorical_accuracy: 0.6528\n",
            "Epoch 78/100\n",
            "19/19 [==============================] - 0s 15ms/step - loss: 0.7013 - categorical_accuracy: 0.7755 - val_loss: 0.9617 - val_categorical_accuracy: 0.6580\n",
            "Epoch 79/100\n",
            "19/19 [==============================] - 0s 14ms/step - loss: 0.6957 - categorical_accuracy: 0.7807 - val_loss: 0.9208 - val_categorical_accuracy: 0.6684\n",
            "Epoch 80/100\n",
            "19/19 [==============================] - 0s 16ms/step - loss: 0.6749 - categorical_accuracy: 0.7927 - val_loss: 0.8993 - val_categorical_accuracy: 0.6684\n",
            "Epoch 81/100\n",
            "19/19 [==============================] - 0s 17ms/step - loss: 0.7095 - categorical_accuracy: 0.7651 - val_loss: 0.9620 - val_categorical_accuracy: 0.6528\n",
            "Epoch 82/100\n",
            "19/19 [==============================] - 0s 15ms/step - loss: 0.6695 - categorical_accuracy: 0.7962 - val_loss: 0.8805 - val_categorical_accuracy: 0.7150\n",
            "Epoch 83/100\n",
            "19/19 [==============================] - 0s 14ms/step - loss: 0.6494 - categorical_accuracy: 0.8100 - val_loss: 0.8897 - val_categorical_accuracy: 0.6943\n",
            "Epoch 84/100\n",
            "19/19 [==============================] - 0s 14ms/step - loss: 0.6346 - categorical_accuracy: 0.8031 - val_loss: 0.8807 - val_categorical_accuracy: 0.7098\n",
            "Epoch 85/100\n",
            "19/19 [==============================] - 0s 16ms/step - loss: 0.6272 - categorical_accuracy: 0.8066 - val_loss: 0.8846 - val_categorical_accuracy: 0.6891\n",
            "Epoch 86/100\n",
            "19/19 [==============================] - 0s 15ms/step - loss: 0.6173 - categorical_accuracy: 0.8117 - val_loss: 0.8674 - val_categorical_accuracy: 0.7047\n",
            "Epoch 87/100\n",
            "19/19 [==============================] - 0s 15ms/step - loss: 0.6054 - categorical_accuracy: 0.8238 - val_loss: 0.8631 - val_categorical_accuracy: 0.7202\n",
            "Epoch 88/100\n",
            "19/19 [==============================] - 0s 16ms/step - loss: 0.6003 - categorical_accuracy: 0.8290 - val_loss: 0.8469 - val_categorical_accuracy: 0.7409\n",
            "Epoch 89/100\n",
            "19/19 [==============================] - 0s 15ms/step - loss: 0.5848 - categorical_accuracy: 0.8273 - val_loss: 0.8650 - val_categorical_accuracy: 0.6943\n",
            "Epoch 90/100\n",
            "19/19 [==============================] - 0s 14ms/step - loss: 0.5812 - categorical_accuracy: 0.8221 - val_loss: 0.8400 - val_categorical_accuracy: 0.7202\n",
            "Epoch 91/100\n",
            "19/19 [==============================] - 0s 14ms/step - loss: 0.5726 - categorical_accuracy: 0.8290 - val_loss: 0.8254 - val_categorical_accuracy: 0.7617\n",
            "Epoch 92/100\n",
            "19/19 [==============================] - 0s 19ms/step - loss: 0.5666 - categorical_accuracy: 0.8290 - val_loss: 0.8367 - val_categorical_accuracy: 0.7150\n",
            "Epoch 93/100\n",
            "19/19 [==============================] - 1s 28ms/step - loss: 0.5547 - categorical_accuracy: 0.8307 - val_loss: 0.8274 - val_categorical_accuracy: 0.7150\n",
            "Epoch 94/100\n",
            "19/19 [==============================] - 0s 14ms/step - loss: 0.5474 - categorical_accuracy: 0.8377 - val_loss: 0.7996 - val_categorical_accuracy: 0.7617\n",
            "Epoch 95/100\n",
            "19/19 [==============================] - 1s 34ms/step - loss: 0.5388 - categorical_accuracy: 0.8515 - val_loss: 0.8090 - val_categorical_accuracy: 0.7513\n",
            "Epoch 96/100\n",
            "19/19 [==============================] - 0s 13ms/step - loss: 0.5305 - categorical_accuracy: 0.8446 - val_loss: 0.8114 - val_categorical_accuracy: 0.7720\n",
            "Epoch 97/100\n",
            "19/19 [==============================] - 0s 19ms/step - loss: 0.5221 - categorical_accuracy: 0.8549 - val_loss: 0.8152 - val_categorical_accuracy: 0.7461\n",
            "Epoch 98/100\n",
            "19/19 [==============================] - 1s 27ms/step - loss: 0.5232 - categorical_accuracy: 0.8428 - val_loss: 0.7968 - val_categorical_accuracy: 0.7565\n",
            "Epoch 99/100\n",
            "19/19 [==============================] - 0s 14ms/step - loss: 0.5099 - categorical_accuracy: 0.8584 - val_loss: 0.8281 - val_categorical_accuracy: 0.7254\n",
            "Epoch 100/100\n",
            "19/19 [==============================] - 0s 14ms/step - loss: 0.5070 - categorical_accuracy: 0.8601 - val_loss: 0.7953 - val_categorical_accuracy: 0.7668\n",
            "17/17 [==============================] - 0s 5ms/step - loss: 0.6910 - categorical_accuracy: 0.7752\n"
          ]
        },
        {
          "output_type": "execute_result",
          "data": {
            "text/plain": [
              "[0.69095778465271, 0.7751938104629517]"
            ]
          },
          "metadata": {},
          "execution_count": 26
        }
      ],
      "source": [
        "history_conv_1 = History()\n",
        "model = Sequential()\n",
        "model.add(Conv2D(16,(3,3),input_shape=X_train.shape[1:]))\n",
        "model.add(Flatten())\n",
        "model.add(Dense(n_classes,activation=\"softmax\"))\n",
        "model.summary()\n",
        "\n",
        "early_stopping = EarlyStopping(patience=30,monitor=\"val_loss\")\n",
        "model.compile(loss=\"categorical_crossentropy\",optimizer=\"adam\",metrics=[\"categorical_accuracy\"])\n",
        "model.fit(X_train, y_train, validation_split=0.25,epochs=100,callbacks=[early_stopping, history_conv_1])\n",
        "model.evaluate(X_test,y_test)"
      ]
    },
    {
      "cell_type": "code",
      "execution_count": 27,
      "metadata": {
        "id": "aCr3x1AaldZs",
        "outputId": "a06b71eb-d5d2-4f19-fbdb-2da2864b5c18",
        "colab": {
          "base_uri": "https://localhost:8080/",
          "height": 430
        }
      },
      "outputs": [
        {
          "output_type": "display_data",
          "data": {
            "text/plain": [
              "<Figure size 640x480 with 1 Axes>"
            ],
            "image/png": "[encoded data removed]"
          },
          "metadata": {}
        }
      ],
      "source": [
        "plt.plot(history_dense_1.history['categorical_accuracy'], label = \"tarina dense Layer=1\")\n",
        "plt.plot(history_dense_1.history['val_categorical_accuracy'], label = \"test dense Layer=1\")\n",
        "\n",
        "# plt.plot(history_dense_2.history['categorical_accuracy'], label = \"tarina dense Layer=2\")\n",
        "# plt.plot(history_dense_2.history['val_categorical_accuracy'], label = \"test dense Layer=2\")\n",
        "\n",
        "plt.plot(history_conv_1.history['categorical_accuracy'], label = \"tarina Conv Layer=1\")\n",
        "plt.plot(history_conv_1.history['val_categorical_accuracy'], label = \"test Conv Layer=1\")\n",
        "\n",
        "plt.legend()\n",
        "plt.show()"
      ]
    },
    {
      "cell_type": "markdown",
      "metadata": {
        "id": "fg9KzaQYldZt"
      },
      "source": [
        "# Zad\n",
        "Zbuduj sieć konwolucyjną z jedną warstwą\n",
        "* Conv2D\n",
        "* MaxPooling2D"
      ]
    },
    {
      "cell_type": "code",
      "execution_count": 28,
      "metadata": {
        "id": "a-B2z2PaldZt",
        "outputId": "59ec1548-83de-44e6-b5b8-15996ee0f843",
        "colab": {
          "base_uri": "https://localhost:8080/"
        }
      },
      "outputs": [
        {
          "output_type": "stream",
          "name": "stdout",
          "text": [
            "Model: \"sequential_7\"\n",
            "_________________________________________________________________\n",
            " Layer (type)                Output Shape              Param #   \n",
            "=================================================================\n",
            " conv2d_1 (Conv2D)           (None, 48, 35, 16)        160       \n",
            "                                                                 \n",
            " max_pooling2d (MaxPooling2D  (None, 24, 17, 16)       0         \n",
            " )                                                               \n",
            "                                                                 \n",
            " flatten_11 (Flatten)        (None, 6528)              0         \n",
            "                                                                 \n",
            " dense_7 (Dense)             (None, 7)                 45703     \n",
            "                                                                 \n",
            "=================================================================\n",
            "Total params: 45,863\n",
            "Trainable params: 45,863\n",
            "Non-trainable params: 0\n",
            "_________________________________________________________________\n",
            "Epoch 1/100\n",
            "19/19 [==============================] - 1s 46ms/step - loss: 1.8039 - categorical_accuracy: 0.3972 - val_loss: 1.7909 - val_categorical_accuracy: 0.3782\n",
            "Epoch 2/100\n",
            "19/19 [==============================] - 1s 34ms/step - loss: 1.6647 - categorical_accuracy: 0.4231 - val_loss: 1.7481 - val_categorical_accuracy: 0.3782\n",
            "Epoch 3/100\n",
            "19/19 [==============================] - 0s 23ms/step - loss: 1.6620 - categorical_accuracy: 0.4231 - val_loss: 1.7491 - val_categorical_accuracy: 0.3782\n",
            "Epoch 4/100\n",
            "19/19 [==============================] - 0s 16ms/step - loss: 1.6683 - categorical_accuracy: 0.4231 - val_loss: 1.7446 - val_categorical_accuracy: 0.3782\n",
            "Epoch 5/100\n",
            "19/19 [==============================] - 0s 16ms/step - loss: 1.6696 - categorical_accuracy: 0.4231 - val_loss: 1.7670 - val_categorical_accuracy: 0.3782\n",
            "Epoch 6/100\n",
            "19/19 [==============================] - 0s 16ms/step - loss: 1.6671 - categorical_accuracy: 0.4231 - val_loss: 1.7343 - val_categorical_accuracy: 0.3782\n",
            "Epoch 7/100\n",
            "19/19 [==============================] - 0s 16ms/step - loss: 1.6596 - categorical_accuracy: 0.4231 - val_loss: 1.7841 - val_categorical_accuracy: 0.3782\n",
            "Epoch 8/100\n",
            "19/19 [==============================] - 0s 26ms/step - loss: 1.6760 - categorical_accuracy: 0.4231 - val_loss: 1.7414 - val_categorical_accuracy: 0.3782\n",
            "Epoch 9/100\n",
            "19/19 [==============================] - 1s 30ms/step - loss: 1.6627 - categorical_accuracy: 0.4231 - val_loss: 1.7645 - val_categorical_accuracy: 0.3782\n",
            "Epoch 10/100\n",
            "19/19 [==============================] - 1s 31ms/step - loss: 1.6675 - categorical_accuracy: 0.4231 - val_loss: 1.7582 - val_categorical_accuracy: 0.3782\n",
            "Epoch 11/100\n",
            "19/19 [==============================] - 1s 68ms/step - loss: 1.6678 - categorical_accuracy: 0.4231 - val_loss: 1.7410 - val_categorical_accuracy: 0.3782\n",
            "Epoch 12/100\n",
            "19/19 [==============================] - 1s 28ms/step - loss: 1.6598 - categorical_accuracy: 0.4231 - val_loss: 1.7474 - val_categorical_accuracy: 0.3782\n",
            "Epoch 13/100\n",
            "19/19 [==============================] - 0s 18ms/step - loss: 1.6646 - categorical_accuracy: 0.4231 - val_loss: 1.7402 - val_categorical_accuracy: 0.3782\n",
            "Epoch 14/100\n",
            "19/19 [==============================] - 0s 17ms/step - loss: 1.6618 - categorical_accuracy: 0.4231 - val_loss: 1.7507 - val_categorical_accuracy: 0.3782\n",
            "Epoch 15/100\n",
            "19/19 [==============================] - 0s 17ms/step - loss: 1.6649 - categorical_accuracy: 0.4231 - val_loss: 1.7660 - val_categorical_accuracy: 0.3782\n",
            "Epoch 16/100\n",
            "19/19 [==============================] - 0s 18ms/step - loss: 1.6601 - categorical_accuracy: 0.4231 - val_loss: 1.7437 - val_categorical_accuracy: 0.3782\n",
            "Epoch 17/100\n",
            "19/19 [==============================] - 0s 16ms/step - loss: 1.6611 - categorical_accuracy: 0.4231 - val_loss: 1.7447 - val_categorical_accuracy: 0.3782\n",
            "Epoch 18/100\n",
            "19/19 [==============================] - 0s 16ms/step - loss: 1.6609 - categorical_accuracy: 0.4231 - val_loss: 1.7552 - val_categorical_accuracy: 0.3782\n",
            "Epoch 19/100\n",
            "19/19 [==============================] - 0s 16ms/step - loss: 1.6718 - categorical_accuracy: 0.4231 - val_loss: 1.7463 - val_categorical_accuracy: 0.3782\n",
            "Epoch 20/100\n",
            "19/19 [==============================] - 0s 17ms/step - loss: 1.6688 - categorical_accuracy: 0.4231 - val_loss: 1.7810 - val_categorical_accuracy: 0.3782\n",
            "Epoch 21/100\n",
            "19/19 [==============================] - 0s 16ms/step - loss: 1.6885 - categorical_accuracy: 0.4231 - val_loss: 1.7455 - val_categorical_accuracy: 0.3782\n",
            "Epoch 22/100\n",
            "19/19 [==============================] - 0s 16ms/step - loss: 1.6774 - categorical_accuracy: 0.4231 - val_loss: 1.7422 - val_categorical_accuracy: 0.3782\n",
            "Epoch 23/100\n",
            "19/19 [==============================] - 0s 16ms/step - loss: 1.6588 - categorical_accuracy: 0.4231 - val_loss: 1.7448 - val_categorical_accuracy: 0.3782\n",
            "Epoch 24/100\n",
            "19/19 [==============================] - 0s 17ms/step - loss: 1.6612 - categorical_accuracy: 0.4231 - val_loss: 1.7542 - val_categorical_accuracy: 0.3782\n",
            "Epoch 25/100\n",
            "19/19 [==============================] - 0s 17ms/step - loss: 1.6590 - categorical_accuracy: 0.4231 - val_loss: 1.7445 - val_categorical_accuracy: 0.3782\n",
            "Epoch 26/100\n",
            "19/19 [==============================] - 0s 16ms/step - loss: 1.6610 - categorical_accuracy: 0.4231 - val_loss: 1.7591 - val_categorical_accuracy: 0.3782\n",
            "Epoch 27/100\n",
            "19/19 [==============================] - 0s 17ms/step - loss: 1.6518 - categorical_accuracy: 0.4231 - val_loss: 1.7354 - val_categorical_accuracy: 0.3782\n",
            "Epoch 28/100\n",
            "19/19 [==============================] - 0s 18ms/step - loss: 1.6622 - categorical_accuracy: 0.4231 - val_loss: 1.7397 - val_categorical_accuracy: 0.3782\n",
            "Epoch 29/100\n",
            "19/19 [==============================] - 0s 16ms/step - loss: 1.6599 - categorical_accuracy: 0.4231 - val_loss: 1.7698 - val_categorical_accuracy: 0.3782\n",
            "Epoch 30/100\n",
            "19/19 [==============================] - 0s 15ms/step - loss: 1.6593 - categorical_accuracy: 0.4231 - val_loss: 1.7374 - val_categorical_accuracy: 0.3782\n",
            "Epoch 31/100\n",
            "19/19 [==============================] - 0s 16ms/step - loss: 1.6503 - categorical_accuracy: 0.4231 - val_loss: 1.7299 - val_categorical_accuracy: 0.3782\n",
            "Epoch 32/100\n",
            "19/19 [==============================] - 0s 16ms/step - loss: 1.6483 - categorical_accuracy: 0.4231 - val_loss: 1.7338 - val_categorical_accuracy: 0.3782\n",
            "Epoch 33/100\n",
            "19/19 [==============================] - 0s 16ms/step - loss: 1.6479 - categorical_accuracy: 0.4231 - val_loss: 1.7401 - val_categorical_accuracy: 0.3782\n",
            "Epoch 34/100\n",
            "19/19 [==============================] - 0s 16ms/step - loss: 1.6457 - categorical_accuracy: 0.4231 - val_loss: 1.7282 - val_categorical_accuracy: 0.3782\n",
            "Epoch 35/100\n",
            "19/19 [==============================] - 0s 17ms/step - loss: 1.6466 - categorical_accuracy: 0.4231 - val_loss: 1.7450 - val_categorical_accuracy: 0.3782\n",
            "Epoch 36/100\n",
            "19/19 [==============================] - 0s 16ms/step - loss: 1.6356 - categorical_accuracy: 0.4231 - val_loss: 1.7256 - val_categorical_accuracy: 0.3782\n",
            "Epoch 37/100\n",
            "19/19 [==============================] - 0s 16ms/step - loss: 1.6432 - categorical_accuracy: 0.4231 - val_loss: 1.7429 - val_categorical_accuracy: 0.3782\n",
            "Epoch 38/100\n",
            "19/19 [==============================] - 0s 17ms/step - loss: 1.6343 - categorical_accuracy: 0.4231 - val_loss: 1.7351 - val_categorical_accuracy: 0.3782\n",
            "Epoch 39/100\n",
            "19/19 [==============================] - 0s 16ms/step - loss: 1.6270 - categorical_accuracy: 0.4231 - val_loss: 1.7147 - val_categorical_accuracy: 0.3782\n",
            "Epoch 40/100\n",
            "19/19 [==============================] - 0s 16ms/step - loss: 1.6248 - categorical_accuracy: 0.4231 - val_loss: 1.7138 - val_categorical_accuracy: 0.3782\n",
            "Epoch 41/100\n",
            "19/19 [==============================] - 0s 16ms/step - loss: 1.6264 - categorical_accuracy: 0.4231 - val_loss: 1.7156 - val_categorical_accuracy: 0.3782\n",
            "Epoch 42/100\n",
            "19/19 [==============================] - 0s 18ms/step - loss: 1.6178 - categorical_accuracy: 0.4231 - val_loss: 1.7216 - val_categorical_accuracy: 0.3782\n",
            "Epoch 43/100\n",
            "19/19 [==============================] - 0s 16ms/step - loss: 1.6103 - categorical_accuracy: 0.4231 - val_loss: 1.7166 - val_categorical_accuracy: 0.3782\n",
            "Epoch 44/100\n",
            "19/19 [==============================] - 0s 22ms/step - loss: 1.6061 - categorical_accuracy: 0.4231 - val_loss: 1.7195 - val_categorical_accuracy: 0.3782\n",
            "Epoch 45/100\n",
            "19/19 [==============================] - 1s 27ms/step - loss: 1.6003 - categorical_accuracy: 0.4231 - val_loss: 1.6878 - val_categorical_accuracy: 0.3782\n",
            "Epoch 46/100\n",
            "19/19 [==============================] - 1s 27ms/step - loss: 1.5930 - categorical_accuracy: 0.4231 - val_loss: 1.7002 - val_categorical_accuracy: 0.3782\n",
            "Epoch 47/100\n",
            "19/19 [==============================] - 1s 27ms/step - loss: 1.5886 - categorical_accuracy: 0.4231 - val_loss: 1.6875 - val_categorical_accuracy: 0.3782\n",
            "Epoch 48/100\n",
            "19/19 [==============================] - 0s 20ms/step - loss: 1.5878 - categorical_accuracy: 0.4249 - val_loss: 1.6965 - val_categorical_accuracy: 0.3834\n",
            "Epoch 49/100\n",
            "19/19 [==============================] - 0s 16ms/step - loss: 1.5802 - categorical_accuracy: 0.4266 - val_loss: 1.6817 - val_categorical_accuracy: 0.3782\n",
            "Epoch 50/100\n",
            "19/19 [==============================] - 0s 16ms/step - loss: 1.5742 - categorical_accuracy: 0.4231 - val_loss: 1.6762 - val_categorical_accuracy: 0.3782\n",
            "Epoch 51/100\n",
            "19/19 [==============================] - 0s 16ms/step - loss: 1.5625 - categorical_accuracy: 0.4231 - val_loss: 1.6540 - val_categorical_accuracy: 0.3782\n",
            "Epoch 52/100\n",
            "19/19 [==============================] - 0s 18ms/step - loss: 1.5544 - categorical_accuracy: 0.4249 - val_loss: 1.6744 - val_categorical_accuracy: 0.3834\n",
            "Epoch 53/100\n",
            "19/19 [==============================] - 0s 16ms/step - loss: 1.5506 - categorical_accuracy: 0.4370 - val_loss: 1.6461 - val_categorical_accuracy: 0.3886\n",
            "Epoch 54/100\n",
            "19/19 [==============================] - 0s 16ms/step - loss: 1.5430 - categorical_accuracy: 0.4301 - val_loss: 1.6541 - val_categorical_accuracy: 0.4041\n",
            "Epoch 55/100\n",
            "19/19 [==============================] - 0s 17ms/step - loss: 1.5447 - categorical_accuracy: 0.4542 - val_loss: 1.6516 - val_categorical_accuracy: 0.3782\n",
            "Epoch 56/100\n",
            "19/19 [==============================] - 0s 16ms/step - loss: 1.5323 - categorical_accuracy: 0.4335 - val_loss: 1.6327 - val_categorical_accuracy: 0.4041\n",
            "Epoch 57/100\n",
            "19/19 [==============================] - 0s 17ms/step - loss: 1.5189 - categorical_accuracy: 0.4629 - val_loss: 1.6457 - val_categorical_accuracy: 0.3886\n",
            "Epoch 58/100\n",
            "19/19 [==============================] - 0s 16ms/step - loss: 1.5132 - categorical_accuracy: 0.4439 - val_loss: 1.6203 - val_categorical_accuracy: 0.4041\n",
            "Epoch 59/100\n",
            "19/19 [==============================] - 0s 18ms/step - loss: 1.5037 - categorical_accuracy: 0.4611 - val_loss: 1.6336 - val_categorical_accuracy: 0.3938\n",
            "Epoch 60/100\n",
            "19/19 [==============================] - 0s 15ms/step - loss: 1.5009 - categorical_accuracy: 0.4611 - val_loss: 1.6373 - val_categorical_accuracy: 0.4145\n",
            "Epoch 61/100\n",
            "19/19 [==============================] - 0s 16ms/step - loss: 1.4915 - categorical_accuracy: 0.4577 - val_loss: 1.5987 - val_categorical_accuracy: 0.3938\n",
            "Epoch 62/100\n",
            "19/19 [==============================] - 0s 16ms/step - loss: 1.4815 - categorical_accuracy: 0.4611 - val_loss: 1.6000 - val_categorical_accuracy: 0.3938\n",
            "Epoch 63/100\n",
            "19/19 [==============================] - 0s 16ms/step - loss: 1.4795 - categorical_accuracy: 0.4698 - val_loss: 1.5906 - val_categorical_accuracy: 0.4041\n",
            "Epoch 64/100\n",
            "19/19 [==============================] - 0s 16ms/step - loss: 1.4767 - categorical_accuracy: 0.4732 - val_loss: 1.5838 - val_categorical_accuracy: 0.3990\n",
            "Epoch 65/100\n",
            "19/19 [==============================] - 0s 18ms/step - loss: 1.4519 - categorical_accuracy: 0.4715 - val_loss: 1.5823 - val_categorical_accuracy: 0.4041\n",
            "Epoch 66/100\n",
            "19/19 [==============================] - 0s 15ms/step - loss: 1.4537 - categorical_accuracy: 0.4698 - val_loss: 1.5642 - val_categorical_accuracy: 0.4145\n",
            "Epoch 67/100\n",
            "19/19 [==============================] - 0s 17ms/step - loss: 1.4452 - categorical_accuracy: 0.4870 - val_loss: 1.5819 - val_categorical_accuracy: 0.4041\n",
            "Epoch 68/100\n",
            "19/19 [==============================] - 0s 17ms/step - loss: 1.4412 - categorical_accuracy: 0.4594 - val_loss: 1.5520 - val_categorical_accuracy: 0.4249\n",
            "Epoch 69/100\n",
            "19/19 [==============================] - 0s 17ms/step - loss: 1.4269 - categorical_accuracy: 0.4853 - val_loss: 1.5464 - val_categorical_accuracy: 0.4249\n",
            "Epoch 70/100\n",
            "19/19 [==============================] - 0s 15ms/step - loss: 1.4137 - categorical_accuracy: 0.4991 - val_loss: 1.5444 - val_categorical_accuracy: 0.4197\n",
            "Epoch 71/100\n",
            "19/19 [==============================] - 0s 17ms/step - loss: 1.4056 - categorical_accuracy: 0.5060 - val_loss: 1.5667 - val_categorical_accuracy: 0.4249\n",
            "Epoch 72/100\n",
            "19/19 [==============================] - 0s 15ms/step - loss: 1.3973 - categorical_accuracy: 0.4940 - val_loss: 1.5480 - val_categorical_accuracy: 0.4301\n",
            "Epoch 73/100\n",
            "19/19 [==============================] - 0s 16ms/step - loss: 1.3917 - categorical_accuracy: 0.5095 - val_loss: 1.5661 - val_categorical_accuracy: 0.4352\n",
            "Epoch 74/100\n",
            "19/19 [==============================] - 0s 16ms/step - loss: 1.4156 - categorical_accuracy: 0.4853 - val_loss: 1.5491 - val_categorical_accuracy: 0.4301\n",
            "Epoch 75/100\n",
            "19/19 [==============================] - 0s 16ms/step - loss: 1.3907 - categorical_accuracy: 0.4870 - val_loss: 1.5200 - val_categorical_accuracy: 0.4404\n",
            "Epoch 76/100\n",
            "19/19 [==============================] - 0s 15ms/step - loss: 1.3701 - categorical_accuracy: 0.4940 - val_loss: 1.5086 - val_categorical_accuracy: 0.4301\n",
            "Epoch 77/100\n",
            "19/19 [==============================] - 0s 15ms/step - loss: 1.3601 - categorical_accuracy: 0.5060 - val_loss: 1.4768 - val_categorical_accuracy: 0.4301\n",
            "Epoch 78/100\n",
            "19/19 [==============================] - 0s 16ms/step - loss: 1.3532 - categorical_accuracy: 0.5164 - val_loss: 1.5173 - val_categorical_accuracy: 0.4249\n",
            "Epoch 79/100\n",
            "19/19 [==============================] - 0s 16ms/step - loss: 1.3425 - categorical_accuracy: 0.5043 - val_loss: 1.4736 - val_categorical_accuracy: 0.4352\n",
            "Epoch 80/100\n",
            "19/19 [==============================] - 0s 20ms/step - loss: 1.3300 - categorical_accuracy: 0.5285 - val_loss: 1.4910 - val_categorical_accuracy: 0.4508\n",
            "Epoch 81/100\n",
            "19/19 [==============================] - 1s 27ms/step - loss: 1.3238 - categorical_accuracy: 0.5130 - val_loss: 1.4779 - val_categorical_accuracy: 0.4352\n",
            "Epoch 82/100\n",
            "19/19 [==============================] - 0s 26ms/step - loss: 1.3118 - categorical_accuracy: 0.5268 - val_loss: 1.4841 - val_categorical_accuracy: 0.4456\n",
            "Epoch 83/100\n",
            "19/19 [==============================] - 0s 26ms/step - loss: 1.3057 - categorical_accuracy: 0.5164 - val_loss: 1.4518 - val_categorical_accuracy: 0.4560\n",
            "Epoch 84/100\n",
            "19/19 [==============================] - 0s 22ms/step - loss: 1.2921 - categorical_accuracy: 0.5147 - val_loss: 1.4377 - val_categorical_accuracy: 0.4508\n",
            "Epoch 85/100\n",
            "19/19 [==============================] - 0s 16ms/step - loss: 1.2911 - categorical_accuracy: 0.5199 - val_loss: 1.4336 - val_categorical_accuracy: 0.4508\n",
            "Epoch 86/100\n",
            "19/19 [==============================] - 0s 16ms/step - loss: 1.2746 - categorical_accuracy: 0.5216 - val_loss: 1.4180 - val_categorical_accuracy: 0.4508\n",
            "Epoch 87/100\n",
            "19/19 [==============================] - 0s 15ms/step - loss: 1.2658 - categorical_accuracy: 0.5302 - val_loss: 1.4443 - val_categorical_accuracy: 0.4560\n",
            "Epoch 88/100\n",
            "19/19 [==============================] - 0s 15ms/step - loss: 1.2550 - categorical_accuracy: 0.5337 - val_loss: 1.4197 - val_categorical_accuracy: 0.4508\n",
            "Epoch 89/100\n",
            "19/19 [==============================] - 0s 18ms/step - loss: 1.2469 - categorical_accuracy: 0.5458 - val_loss: 1.4315 - val_categorical_accuracy: 0.4611\n",
            "Epoch 90/100\n",
            "19/19 [==============================] - 0s 16ms/step - loss: 1.2350 - categorical_accuracy: 0.5337 - val_loss: 1.4011 - val_categorical_accuracy: 0.4663\n",
            "Epoch 91/100\n",
            "19/19 [==============================] - 0s 16ms/step - loss: 1.2265 - categorical_accuracy: 0.5458 - val_loss: 1.3895 - val_categorical_accuracy: 0.4715\n",
            "Epoch 92/100\n",
            "19/19 [==============================] - 0s 17ms/step - loss: 1.2153 - categorical_accuracy: 0.5423 - val_loss: 1.3915 - val_categorical_accuracy: 0.4715\n",
            "Epoch 93/100\n",
            "19/19 [==============================] - 0s 17ms/step - loss: 1.2082 - categorical_accuracy: 0.5440 - val_loss: 1.3618 - val_categorical_accuracy: 0.4715\n",
            "Epoch 94/100\n",
            "19/19 [==============================] - 0s 16ms/step - loss: 1.2017 - categorical_accuracy: 0.5544 - val_loss: 1.3930 - val_categorical_accuracy: 0.4767\n",
            "Epoch 95/100\n",
            "19/19 [==============================] - 0s 17ms/step - loss: 1.1903 - categorical_accuracy: 0.5682 - val_loss: 1.3740 - val_categorical_accuracy: 0.4870\n",
            "Epoch 96/100\n",
            "19/19 [==============================] - 0s 16ms/step - loss: 1.1779 - categorical_accuracy: 0.5596 - val_loss: 1.3540 - val_categorical_accuracy: 0.4870\n",
            "Epoch 97/100\n",
            "19/19 [==============================] - 0s 16ms/step - loss: 1.1674 - categorical_accuracy: 0.5648 - val_loss: 1.3607 - val_categorical_accuracy: 0.4819\n",
            "Epoch 98/100\n",
            "19/19 [==============================] - 0s 16ms/step - loss: 1.1615 - categorical_accuracy: 0.5786 - val_loss: 1.3343 - val_categorical_accuracy: 0.4819\n",
            "Epoch 99/100\n",
            "19/19 [==============================] - 0s 18ms/step - loss: 1.1489 - categorical_accuracy: 0.5734 - val_loss: 1.3288 - val_categorical_accuracy: 0.4870\n",
            "Epoch 100/100\n",
            "19/19 [==============================] - 0s 16ms/step - loss: 1.1429 - categorical_accuracy: 0.5734 - val_loss: 1.3143 - val_categorical_accuracy: 0.4922\n",
            "17/17 [==============================] - 0s 9ms/step - loss: 1.2235 - categorical_accuracy: 0.5543\n"
          ]
        },
        {
          "output_type": "execute_result",
          "data": {
            "text/plain": [
              "[1.223451018333435, 0.5542635917663574]"
            ]
          },
          "metadata": {},
          "execution_count": 28
        }
      ],
      "source": [
        "history_conv_max_1 = History()\n",
        "model = Sequential()\n",
        "model.add(Conv2D(16,(3,3),input_shape=X_train.shape[1:]))\n",
        "model.add(MaxPooling2D((2,2)))\n",
        "model.add(Flatten())\n",
        "model.add(Dense(n_classes,activation=\"softmax\"))\n",
        "model.summary()\n",
        "\n",
        "early_stopping = EarlyStopping(patience=30,monitor=\"val_loss\")\n",
        "model.compile(loss=\"categorical_crossentropy\",optimizer=\"adam\",metrics=[\"categorical_accuracy\"])\n",
        "model.fit(X_train, y_train, validation_split=0.25,epochs=100,callbacks=[early_stopping, history_conv_max_1])\n",
        "model.evaluate(X_test,y_test)"
      ]
    },
    {
      "cell_type": "code",
      "execution_count": 29,
      "metadata": {
        "id": "i138yWV2ldZt",
        "outputId": "7acb07b6-6fce-4209-f95a-437d8e086ea2",
        "colab": {
          "base_uri": "https://localhost:8080/",
          "height": 430
        }
      },
      "outputs": [
        {
          "output_type": "display_data",
          "data": {
            "text/plain": [
              "<Figure size 640x480 with 1 Axes>"
            ],
            "image/png": "[encoded data removed]"
          },
          "metadata": {}
        }
      ],
      "source": [
        "plt.plot(history_dense_1.history['categorical_accuracy'], label = \"tarina dense Layer=1\")\n",
        "plt.plot(history_dense_1.history['val_categorical_accuracy'], label = \"test dense Layer=1\")\n",
        "\n",
        "# plt.plot(history_dense_2.history['categorical_accuracy'], label = \"tarina dense Layer=2\")\n",
        "# plt.plot(history_dense_2.history['val_categorical_accuracy'], label = \"test dense Layer=2\")\n",
        "\n",
        "plt.plot(history_conv_1.history['categorical_accuracy'], label = \"tarina Conv Layer=1\")\n",
        "plt.plot(history_conv_1.history['val_categorical_accuracy'], label = \"test Conv Layer=1\")\n",
        "\n",
        "plt.plot(history_conv_max_1.history['categorical_accuracy'], label = \"tarina Conv Max Layer=1\")\n",
        "plt.plot(history_conv_max_1.history['val_categorical_accuracy'], label = \"test Conv Max Layer=1\")\n",
        "\n",
        "plt.legend()\n",
        "plt.show()"
      ]
    },
    {
      "cell_type": "markdown",
      "metadata": {
        "id": "9LJ2GtwPldZt"
      },
      "source": [
        "# Zad\n",
        "Zbuduj sieć konwolucyjną z jedną warstwą\n",
        "* Conv2D (,padding=\"same\")\n",
        "* MaxPooling2D"
      ]
    },
    {
      "cell_type": "code",
      "execution_count": 30,
      "metadata": {
        "id": "0K_rf_pXldZt",
        "outputId": "64ee6ece-54b5-4e69-dd46-96fc097c7534",
        "colab": {
          "base_uri": "https://localhost:8080/"
        }
      },
      "outputs": [
        {
          "output_type": "stream",
          "name": "stdout",
          "text": [
            "Model: \"sequential_8\"\n",
            "_________________________________________________________________\n",
            " Layer (type)                Output Shape              Param #   \n",
            "=================================================================\n",
            " conv2d_2 (Conv2D)           (None, 50, 37, 16)        160       \n",
            "                                                                 \n",
            " max_pooling2d_1 (MaxPooling  (None, 25, 18, 16)       0         \n",
            " 2D)                                                             \n",
            "                                                                 \n",
            " flatten_12 (Flatten)        (None, 7200)              0         \n",
            "                                                                 \n",
            " dense_8 (Dense)             (None, 7)                 50407     \n",
            "                                                                 \n",
            "=================================================================\n",
            "Total params: 50,567\n",
            "Trainable params: 50,567\n",
            "Non-trainable params: 0\n",
            "_________________________________________________________________\n",
            "Epoch 1/100\n",
            "19/19 [==============================] - 1s 24ms/step - loss: 1.7853 - categorical_accuracy: 0.4145 - val_loss: 1.8217 - val_categorical_accuracy: 0.3782\n",
            "Epoch 2/100\n",
            "19/19 [==============================] - 0s 18ms/step - loss: 1.6793 - categorical_accuracy: 0.4231 - val_loss: 1.7515 - val_categorical_accuracy: 0.3782\n",
            "Epoch 3/100\n",
            "19/19 [==============================] - 0s 19ms/step - loss: 1.6676 - categorical_accuracy: 0.4231 - val_loss: 1.7536 - val_categorical_accuracy: 0.3782\n",
            "Epoch 4/100\n",
            "19/19 [==============================] - 0s 18ms/step - loss: 1.6602 - categorical_accuracy: 0.4231 - val_loss: 1.7433 - val_categorical_accuracy: 0.3782\n",
            "Epoch 5/100\n",
            "19/19 [==============================] - 0s 18ms/step - loss: 1.6605 - categorical_accuracy: 0.4231 - val_loss: 1.7433 - val_categorical_accuracy: 0.3782\n",
            "Epoch 6/100\n",
            "19/19 [==============================] - 0s 18ms/step - loss: 1.6599 - categorical_accuracy: 0.4231 - val_loss: 1.7656 - val_categorical_accuracy: 0.3782\n",
            "Epoch 7/100\n",
            "19/19 [==============================] - 0s 18ms/step - loss: 1.6639 - categorical_accuracy: 0.4231 - val_loss: 1.7446 - val_categorical_accuracy: 0.3782\n",
            "Epoch 8/100\n",
            "19/19 [==============================] - 0s 20ms/step - loss: 1.6621 - categorical_accuracy: 0.4231 - val_loss: 1.7603 - val_categorical_accuracy: 0.3782\n",
            "Epoch 9/100\n",
            "19/19 [==============================] - 0s 18ms/step - loss: 1.6693 - categorical_accuracy: 0.4231 - val_loss: 1.7388 - val_categorical_accuracy: 0.3782\n",
            "Epoch 10/100\n",
            "19/19 [==============================] - 0s 19ms/step - loss: 1.6684 - categorical_accuracy: 0.4231 - val_loss: 1.7706 - val_categorical_accuracy: 0.3782\n",
            "Epoch 11/100\n",
            "19/19 [==============================] - 0s 19ms/step - loss: 1.6728 - categorical_accuracy: 0.4231 - val_loss: 1.7523 - val_categorical_accuracy: 0.3782\n",
            "Epoch 12/100\n",
            "19/19 [==============================] - 0s 19ms/step - loss: 1.6651 - categorical_accuracy: 0.4231 - val_loss: 1.7685 - val_categorical_accuracy: 0.3782\n",
            "Epoch 13/100\n",
            "19/19 [==============================] - 0s 18ms/step - loss: 1.6645 - categorical_accuracy: 0.4231 - val_loss: 1.7471 - val_categorical_accuracy: 0.3782\n",
            "Epoch 14/100\n",
            "19/19 [==============================] - 0s 19ms/step - loss: 1.6637 - categorical_accuracy: 0.4231 - val_loss: 1.7485 - val_categorical_accuracy: 0.3782\n",
            "Epoch 15/100\n",
            "19/19 [==============================] - 0s 18ms/step - loss: 1.6742 - categorical_accuracy: 0.4231 - val_loss: 1.7407 - val_categorical_accuracy: 0.3782\n",
            "Epoch 16/100\n",
            "19/19 [==============================] - 0s 18ms/step - loss: 1.6618 - categorical_accuracy: 0.4231 - val_loss: 1.7524 - val_categorical_accuracy: 0.3782\n",
            "Epoch 17/100\n",
            "19/19 [==============================] - 0s 18ms/step - loss: 1.6604 - categorical_accuracy: 0.4231 - val_loss: 1.7455 - val_categorical_accuracy: 0.3782\n",
            "Epoch 18/100\n",
            "19/19 [==============================] - 0s 18ms/step - loss: 1.6773 - categorical_accuracy: 0.4231 - val_loss: 1.7469 - val_categorical_accuracy: 0.3782\n",
            "Epoch 19/100\n",
            "19/19 [==============================] - 0s 18ms/step - loss: 1.6639 - categorical_accuracy: 0.4231 - val_loss: 1.7595 - val_categorical_accuracy: 0.3782\n",
            "Epoch 20/100\n",
            "19/19 [==============================] - 1s 30ms/step - loss: 1.6626 - categorical_accuracy: 0.4231 - val_loss: 1.7471 - val_categorical_accuracy: 0.3782\n",
            "Epoch 21/100\n",
            "19/19 [==============================] - 1s 30ms/step - loss: 1.6594 - categorical_accuracy: 0.4231 - val_loss: 1.7870 - val_categorical_accuracy: 0.3782\n",
            "Epoch 22/100\n",
            "19/19 [==============================] - 1s 37ms/step - loss: 1.6697 - categorical_accuracy: 0.4231 - val_loss: 1.7439 - val_categorical_accuracy: 0.3782\n",
            "Epoch 23/100\n",
            "19/19 [==============================] - 0s 20ms/step - loss: 1.6644 - categorical_accuracy: 0.4231 - val_loss: 1.7468 - val_categorical_accuracy: 0.3782\n",
            "Epoch 24/100\n",
            "19/19 [==============================] - 0s 18ms/step - loss: 1.6631 - categorical_accuracy: 0.4231 - val_loss: 1.7656 - val_categorical_accuracy: 0.3782\n",
            "Epoch 25/100\n",
            "19/19 [==============================] - 0s 19ms/step - loss: 1.6602 - categorical_accuracy: 0.4231 - val_loss: 1.7341 - val_categorical_accuracy: 0.3782\n",
            "Epoch 26/100\n",
            "19/19 [==============================] - 0s 18ms/step - loss: 1.6579 - categorical_accuracy: 0.4231 - val_loss: 1.7423 - val_categorical_accuracy: 0.3782\n",
            "Epoch 27/100\n",
            "19/19 [==============================] - 0s 18ms/step - loss: 1.6561 - categorical_accuracy: 0.4231 - val_loss: 1.7455 - val_categorical_accuracy: 0.3782\n",
            "Epoch 28/100\n",
            "19/19 [==============================] - 0s 18ms/step - loss: 1.6594 - categorical_accuracy: 0.4231 - val_loss: 1.7615 - val_categorical_accuracy: 0.3782\n",
            "Epoch 29/100\n",
            "19/19 [==============================] - 0s 18ms/step - loss: 1.6561 - categorical_accuracy: 0.4231 - val_loss: 1.7382 - val_categorical_accuracy: 0.3782\n",
            "Epoch 30/100\n",
            "19/19 [==============================] - 0s 18ms/step - loss: 1.6557 - categorical_accuracy: 0.4231 - val_loss: 1.7522 - val_categorical_accuracy: 0.3782\n",
            "Epoch 31/100\n",
            "19/19 [==============================] - 0s 17ms/step - loss: 1.6533 - categorical_accuracy: 0.4231 - val_loss: 1.7395 - val_categorical_accuracy: 0.3782\n",
            "Epoch 32/100\n",
            "19/19 [==============================] - 0s 20ms/step - loss: 1.6561 - categorical_accuracy: 0.4231 - val_loss: 1.7435 - val_categorical_accuracy: 0.3782\n",
            "Epoch 33/100\n",
            "19/19 [==============================] - 0s 17ms/step - loss: 1.6569 - categorical_accuracy: 0.4231 - val_loss: 1.7545 - val_categorical_accuracy: 0.3782\n",
            "Epoch 34/100\n",
            "19/19 [==============================] - 0s 18ms/step - loss: 1.6602 - categorical_accuracy: 0.4231 - val_loss: 1.7288 - val_categorical_accuracy: 0.3782\n",
            "Epoch 35/100\n",
            "19/19 [==============================] - 0s 18ms/step - loss: 1.6574 - categorical_accuracy: 0.4231 - val_loss: 1.7448 - val_categorical_accuracy: 0.3782\n",
            "Epoch 36/100\n",
            "19/19 [==============================] - 0s 17ms/step - loss: 1.6505 - categorical_accuracy: 0.4231 - val_loss: 1.7327 - val_categorical_accuracy: 0.3782\n",
            "Epoch 37/100\n",
            "19/19 [==============================] - 0s 17ms/step - loss: 1.6430 - categorical_accuracy: 0.4231 - val_loss: 1.7557 - val_categorical_accuracy: 0.3782\n",
            "Epoch 38/100\n",
            "19/19 [==============================] - 0s 17ms/step - loss: 1.6511 - categorical_accuracy: 0.4231 - val_loss: 1.7305 - val_categorical_accuracy: 0.3782\n",
            "Epoch 39/100\n",
            "19/19 [==============================] - 0s 18ms/step - loss: 1.6451 - categorical_accuracy: 0.4231 - val_loss: 1.7310 - val_categorical_accuracy: 0.3782\n",
            "Epoch 40/100\n",
            "19/19 [==============================] - 0s 17ms/step - loss: 1.6429 - categorical_accuracy: 0.4231 - val_loss: 1.7215 - val_categorical_accuracy: 0.3782\n",
            "Epoch 41/100\n",
            "19/19 [==============================] - 0s 18ms/step - loss: 1.6363 - categorical_accuracy: 0.4231 - val_loss: 1.7430 - val_categorical_accuracy: 0.3782\n",
            "Epoch 42/100\n",
            "19/19 [==============================] - 0s 19ms/step - loss: 1.6344 - categorical_accuracy: 0.4231 - val_loss: 1.7446 - val_categorical_accuracy: 0.3782\n",
            "Epoch 43/100\n",
            "19/19 [==============================] - 0s 19ms/step - loss: 1.6264 - categorical_accuracy: 0.4231 - val_loss: 1.7266 - val_categorical_accuracy: 0.3782\n",
            "Epoch 44/100\n",
            "19/19 [==============================] - 0s 19ms/step - loss: 1.6265 - categorical_accuracy: 0.4231 - val_loss: 1.7350 - val_categorical_accuracy: 0.3782\n",
            "Epoch 45/100\n",
            "19/19 [==============================] - 0s 18ms/step - loss: 1.6243 - categorical_accuracy: 0.4231 - val_loss: 1.6929 - val_categorical_accuracy: 0.3782\n",
            "Epoch 46/100\n",
            "19/19 [==============================] - 0s 17ms/step - loss: 1.6190 - categorical_accuracy: 0.4231 - val_loss: 1.7229 - val_categorical_accuracy: 0.3782\n",
            "Epoch 47/100\n",
            "19/19 [==============================] - 0s 18ms/step - loss: 1.6039 - categorical_accuracy: 0.4231 - val_loss: 1.6978 - val_categorical_accuracy: 0.3782\n",
            "Epoch 48/100\n",
            "19/19 [==============================] - 0s 17ms/step - loss: 1.6035 - categorical_accuracy: 0.4231 - val_loss: 1.7105 - val_categorical_accuracy: 0.3782\n",
            "Epoch 49/100\n",
            "19/19 [==============================] - 0s 18ms/step - loss: 1.5926 - categorical_accuracy: 0.4231 - val_loss: 1.6862 - val_categorical_accuracy: 0.3782\n",
            "Epoch 50/100\n",
            "19/19 [==============================] - 0s 18ms/step - loss: 1.5817 - categorical_accuracy: 0.4231 - val_loss: 1.6984 - val_categorical_accuracy: 0.3938\n",
            "Epoch 51/100\n",
            "19/19 [==============================] - 0s 17ms/step - loss: 1.5830 - categorical_accuracy: 0.4318 - val_loss: 1.6759 - val_categorical_accuracy: 0.3782\n",
            "Epoch 52/100\n",
            "19/19 [==============================] - 0s 26ms/step - loss: 1.5684 - categorical_accuracy: 0.4370 - val_loss: 1.6737 - val_categorical_accuracy: 0.3886\n",
            "Epoch 53/100\n",
            "19/19 [==============================] - 1s 35ms/step - loss: 1.5576 - categorical_accuracy: 0.4439 - val_loss: 1.6810 - val_categorical_accuracy: 0.3886\n",
            "Epoch 54/100\n",
            "19/19 [==============================] - 1s 31ms/step - loss: 1.5521 - categorical_accuracy: 0.4387 - val_loss: 1.6451 - val_categorical_accuracy: 0.3834\n",
            "Epoch 55/100\n",
            "19/19 [==============================] - 0s 24ms/step - loss: 1.5403 - categorical_accuracy: 0.4577 - val_loss: 1.6662 - val_categorical_accuracy: 0.3886\n",
            "Epoch 56/100\n",
            "19/19 [==============================] - 0s 18ms/step - loss: 1.5392 - categorical_accuracy: 0.4404 - val_loss: 1.6218 - val_categorical_accuracy: 0.3938\n",
            "Epoch 57/100\n",
            "19/19 [==============================] - 0s 17ms/step - loss: 1.5174 - categorical_accuracy: 0.4542 - val_loss: 1.6448 - val_categorical_accuracy: 0.3990\n",
            "Epoch 58/100\n",
            "19/19 [==============================] - 0s 17ms/step - loss: 1.5068 - categorical_accuracy: 0.4525 - val_loss: 1.6160 - val_categorical_accuracy: 0.3938\n",
            "Epoch 59/100\n",
            "19/19 [==============================] - 0s 18ms/step - loss: 1.4921 - categorical_accuracy: 0.4698 - val_loss: 1.6060 - val_categorical_accuracy: 0.4041\n",
            "Epoch 60/100\n",
            "19/19 [==============================] - 0s 18ms/step - loss: 1.4869 - categorical_accuracy: 0.4611 - val_loss: 1.5896 - val_categorical_accuracy: 0.4041\n",
            "Epoch 61/100\n",
            "19/19 [==============================] - 0s 18ms/step - loss: 1.4808 - categorical_accuracy: 0.4870 - val_loss: 1.5923 - val_categorical_accuracy: 0.4041\n",
            "Epoch 62/100\n",
            "19/19 [==============================] - 0s 18ms/step - loss: 1.4549 - categorical_accuracy: 0.4680 - val_loss: 1.5717 - val_categorical_accuracy: 0.4145\n",
            "Epoch 63/100\n",
            "19/19 [==============================] - 0s 17ms/step - loss: 1.4532 - categorical_accuracy: 0.4836 - val_loss: 1.5889 - val_categorical_accuracy: 0.4041\n",
            "Epoch 64/100\n",
            "19/19 [==============================] - 0s 18ms/step - loss: 1.4475 - categorical_accuracy: 0.4646 - val_loss: 1.5553 - val_categorical_accuracy: 0.4301\n",
            "Epoch 65/100\n",
            "19/19 [==============================] - 0s 19ms/step - loss: 1.4240 - categorical_accuracy: 0.4905 - val_loss: 1.5736 - val_categorical_accuracy: 0.4197\n",
            "Epoch 66/100\n",
            "19/19 [==============================] - 0s 19ms/step - loss: 1.4115 - categorical_accuracy: 0.4940 - val_loss: 1.5402 - val_categorical_accuracy: 0.4197\n",
            "Epoch 67/100\n",
            "19/19 [==============================] - 0s 17ms/step - loss: 1.4036 - categorical_accuracy: 0.4801 - val_loss: 1.5148 - val_categorical_accuracy: 0.4249\n",
            "Epoch 68/100\n",
            "19/19 [==============================] - 0s 19ms/step - loss: 1.3988 - categorical_accuracy: 0.5181 - val_loss: 1.5770 - val_categorical_accuracy: 0.4249\n",
            "Epoch 69/100\n",
            "19/19 [==============================] - 0s 19ms/step - loss: 1.3885 - categorical_accuracy: 0.4940 - val_loss: 1.5002 - val_categorical_accuracy: 0.4301\n",
            "Epoch 70/100\n",
            "19/19 [==============================] - 0s 17ms/step - loss: 1.3687 - categorical_accuracy: 0.5147 - val_loss: 1.5225 - val_categorical_accuracy: 0.4301\n",
            "Epoch 71/100\n",
            "19/19 [==============================] - 0s 18ms/step - loss: 1.3533 - categorical_accuracy: 0.5026 - val_loss: 1.4835 - val_categorical_accuracy: 0.4456\n",
            "Epoch 72/100\n",
            "19/19 [==============================] - 0s 17ms/step - loss: 1.3416 - categorical_accuracy: 0.5078 - val_loss: 1.4666 - val_categorical_accuracy: 0.4352\n",
            "Epoch 73/100\n",
            "19/19 [==============================] - 0s 17ms/step - loss: 1.3339 - categorical_accuracy: 0.5164 - val_loss: 1.4801 - val_categorical_accuracy: 0.4352\n",
            "Epoch 74/100\n",
            "19/19 [==============================] - 0s 17ms/step - loss: 1.3341 - categorical_accuracy: 0.5026 - val_loss: 1.4823 - val_categorical_accuracy: 0.4508\n",
            "Epoch 75/100\n",
            "19/19 [==============================] - 0s 17ms/step - loss: 1.3279 - categorical_accuracy: 0.5389 - val_loss: 1.5157 - val_categorical_accuracy: 0.4404\n",
            "Epoch 76/100\n",
            "19/19 [==============================] - 0s 17ms/step - loss: 1.3263 - categorical_accuracy: 0.5164 - val_loss: 1.4635 - val_categorical_accuracy: 0.4456\n",
            "Epoch 77/100\n",
            "19/19 [==============================] - 0s 19ms/step - loss: 1.2898 - categorical_accuracy: 0.5216 - val_loss: 1.4326 - val_categorical_accuracy: 0.4508\n",
            "Epoch 78/100\n",
            "19/19 [==============================] - 0s 17ms/step - loss: 1.2821 - categorical_accuracy: 0.5302 - val_loss: 1.4240 - val_categorical_accuracy: 0.4508\n",
            "Epoch 79/100\n",
            "19/19 [==============================] - 0s 17ms/step - loss: 1.2697 - categorical_accuracy: 0.5216 - val_loss: 1.4097 - val_categorical_accuracy: 0.4508\n",
            "Epoch 80/100\n",
            "19/19 [==============================] - 0s 18ms/step - loss: 1.2582 - categorical_accuracy: 0.5285 - val_loss: 1.4323 - val_categorical_accuracy: 0.4611\n",
            "Epoch 81/100\n",
            "19/19 [==============================] - 0s 17ms/step - loss: 1.2445 - categorical_accuracy: 0.5579 - val_loss: 1.4006 - val_categorical_accuracy: 0.4663\n",
            "Epoch 82/100\n",
            "19/19 [==============================] - 0s 18ms/step - loss: 1.2304 - categorical_accuracy: 0.5354 - val_loss: 1.3976 - val_categorical_accuracy: 0.4560\n",
            "Epoch 83/100\n",
            "19/19 [==============================] - 0s 19ms/step - loss: 1.2260 - categorical_accuracy: 0.5337 - val_loss: 1.3852 - val_categorical_accuracy: 0.4508\n",
            "Epoch 84/100\n",
            "19/19 [==============================] - 0s 25ms/step - loss: 1.2109 - categorical_accuracy: 0.5337 - val_loss: 1.3665 - val_categorical_accuracy: 0.4611\n",
            "Epoch 85/100\n",
            "19/19 [==============================] - 1s 33ms/step - loss: 1.2135 - categorical_accuracy: 0.5492 - val_loss: 1.4039 - val_categorical_accuracy: 0.4715\n",
            "Epoch 86/100\n",
            "19/19 [==============================] - 1s 35ms/step - loss: 1.2001 - categorical_accuracy: 0.5648 - val_loss: 1.4000 - val_categorical_accuracy: 0.4767\n",
            "Epoch 87/100\n",
            "19/19 [==============================] - 1s 26ms/step - loss: 1.1950 - categorical_accuracy: 0.5492 - val_loss: 1.3627 - val_categorical_accuracy: 0.4767\n",
            "Epoch 88/100\n",
            "19/19 [==============================] - 0s 18ms/step - loss: 1.1765 - categorical_accuracy: 0.5613 - val_loss: 1.3234 - val_categorical_accuracy: 0.4974\n",
            "Epoch 89/100\n",
            "19/19 [==============================] - 0s 19ms/step - loss: 1.1641 - categorical_accuracy: 0.5717 - val_loss: 1.3488 - val_categorical_accuracy: 0.4767\n",
            "Epoch 90/100\n",
            "19/19 [==============================] - 0s 18ms/step - loss: 1.1541 - categorical_accuracy: 0.5682 - val_loss: 1.3162 - val_categorical_accuracy: 0.4974\n",
            "Epoch 91/100\n",
            "19/19 [==============================] - 1s 29ms/step - loss: 1.1403 - categorical_accuracy: 0.5699 - val_loss: 1.3069 - val_categorical_accuracy: 0.4819\n",
            "Epoch 92/100\n",
            "19/19 [==============================] - 1s 43ms/step - loss: 1.1296 - categorical_accuracy: 0.5717 - val_loss: 1.3051 - val_categorical_accuracy: 0.4922\n",
            "Epoch 93/100\n",
            "19/19 [==============================] - 1s 43ms/step - loss: 1.1293 - categorical_accuracy: 0.6200 - val_loss: 1.3054 - val_categorical_accuracy: 0.4922\n",
            "Epoch 94/100\n",
            "19/19 [==============================] - 1s 32ms/step - loss: 1.1109 - categorical_accuracy: 0.5838 - val_loss: 1.2745 - val_categorical_accuracy: 0.4974\n",
            "Epoch 95/100\n",
            "19/19 [==============================] - 0s 18ms/step - loss: 1.0977 - categorical_accuracy: 0.6079 - val_loss: 1.2755 - val_categorical_accuracy: 0.4974\n",
            "Epoch 96/100\n",
            "19/19 [==============================] - 0s 18ms/step - loss: 1.0898 - categorical_accuracy: 0.5889 - val_loss: 1.2885 - val_categorical_accuracy: 0.4922\n",
            "Epoch 97/100\n",
            "19/19 [==============================] - 0s 18ms/step - loss: 1.0820 - categorical_accuracy: 0.6062 - val_loss: 1.2688 - val_categorical_accuracy: 0.4974\n",
            "Epoch 98/100\n",
            "19/19 [==============================] - 0s 18ms/step - loss: 1.0712 - categorical_accuracy: 0.6010 - val_loss: 1.2528 - val_categorical_accuracy: 0.5130\n",
            "Epoch 99/100\n",
            "19/19 [==============================] - 0s 17ms/step - loss: 1.0625 - categorical_accuracy: 0.6183 - val_loss: 1.2405 - val_categorical_accuracy: 0.5233\n",
            "Epoch 100/100\n",
            "19/19 [==============================] - 0s 17ms/step - loss: 1.0487 - categorical_accuracy: 0.6269 - val_loss: 1.2416 - val_categorical_accuracy: 0.5285\n",
            "17/17 [==============================] - 0s 7ms/step - loss: 1.1472 - categorical_accuracy: 0.5833\n"
          ]
        },
        {
          "output_type": "execute_result",
          "data": {
            "text/plain": [
              "[1.1471959352493286, 0.5833333134651184]"
            ]
          },
          "metadata": {},
          "execution_count": 30
        }
      ],
      "source": [
        "history_conv_max_1 = History()\n",
        "model = Sequential()\n",
        "model.add(Conv2D(16,(3,3),input_shape=X_train.shape[1:], padding = \"same\"))\n",
        "model.add(MaxPooling2D((2,2)))\n",
        "model.add(Flatten())\n",
        "model.add(Dense(n_classes,activation=\"softmax\"))\n",
        "model.summary()\n",
        "\n",
        "early_stopping = EarlyStopping(patience=30,monitor=\"val_loss\")\n",
        "model.compile(loss=\"categorical_crossentropy\",optimizer=\"adam\",metrics=[\"categorical_accuracy\"])\n",
        "model.fit(X_train, y_train, validation_split=0.25,epochs=100,callbacks=[early_stopping, history_conv_max_1])\n",
        "model.evaluate(X_test,y_test)"
      ]
    },
    {
      "cell_type": "code",
      "execution_count": 31,
      "metadata": {
        "id": "JYBrm77MldZu",
        "outputId": "350b1238-e84a-4a36-890e-675464116f38",
        "colab": {
          "base_uri": "https://localhost:8080/",
          "height": 430
        }
      },
      "outputs": [
        {
          "output_type": "display_data",
          "data": {
            "text/plain": [
              "<Figure size 640x480 with 1 Axes>"
            ],
            "image/png": "[encoded data removed]"
          },
          "metadata": {}
        }
      ],
      "source": [
        "plt.plot(history_dense_1.history['categorical_accuracy'], label = \"tarina dense Layer=1\")\n",
        "plt.plot(history_dense_1.history['val_categorical_accuracy'], label = \"test dense Layer=1\")\n",
        "\n",
        "# plt.plot(history_dense_2.history['categorical_accuracy'], label = \"tarina dense Layer=2\")\n",
        "# plt.plot(history_dense_2.history['val_categorical_accuracy'], label = \"test dense Layer=2\")\n",
        "\n",
        "plt.plot(history_conv_1.history['categorical_accuracy'], label = \"tarina Conv Layer=1\")\n",
        "plt.plot(history_conv_1.history['val_categorical_accuracy'], label = \"test Conv Layer=1\")\n",
        "\n",
        "plt.plot(history_conv_max_1.history['categorical_accuracy'], label = \"tarina Conv Max Layer=1\")\n",
        "plt.plot(history_conv_max_1.history['val_categorical_accuracy'], label = \"test Conv Max Layer=1\")\n",
        "\n",
        "plt.legend()\n",
        "plt.show()"
      ]
    },
    {
      "cell_type": "markdown",
      "metadata": {
        "id": "M54xh7maldZ4"
      },
      "source": [
        "# Zad\n",
        "Zbuduj sieć konwolucyjną z jedną warstwą\n",
        "* Conv2D (,padding=\"same\")\n",
        "* MaxPooling2D\n",
        "* Conv2D (,padding=\"same\")\n",
        "* MaxPooling2D"
      ]
    },
    {
      "cell_type": "code",
      "execution_count": 32,
      "metadata": {
        "id": "ZJZYimSMldZ4",
        "outputId": "e7063367-c232-4fe6-bc67-2702060d9b74",
        "colab": {
          "base_uri": "https://localhost:8080/"
        }
      },
      "outputs": [
        {
          "output_type": "stream",
          "name": "stdout",
          "text": [
            "Model: \"sequential_9\"\n",
            "_________________________________________________________________\n",
            " Layer (type)                Output Shape              Param #   \n",
            "=================================================================\n",
            " conv2d_3 (Conv2D)           (None, 50, 37, 32)        320       \n",
            "                                                                 \n",
            " max_pooling2d_2 (MaxPooling  (None, 25, 18, 32)       0         \n",
            " 2D)                                                             \n",
            "                                                                 \n",
            " conv2d_4 (Conv2D)           (None, 25, 18, 16)        2064      \n",
            "                                                                 \n",
            " max_pooling2d_3 (MaxPooling  (None, 12, 9, 16)        0         \n",
            " 2D)                                                             \n",
            "                                                                 \n",
            " flatten_13 (Flatten)        (None, 1728)              0         \n",
            "                                                                 \n",
            " dense_9 (Dense)             (None, 7)                 12103     \n",
            "                                                                 \n",
            "=================================================================\n",
            "Total params: 14,487\n",
            "Trainable params: 14,487\n",
            "Non-trainable params: 0\n",
            "_________________________________________________________________\n",
            "Epoch 1/100\n",
            "19/19 [==============================] - 1s 41ms/step - loss: 1.8222 - categorical_accuracy: 0.4093 - val_loss: 1.7719 - val_categorical_accuracy: 0.3782\n",
            "Epoch 2/100\n",
            "19/19 [==============================] - 1s 30ms/step - loss: 1.6635 - categorical_accuracy: 0.4231 - val_loss: 1.7283 - val_categorical_accuracy: 0.3782\n",
            "Epoch 3/100\n",
            "19/19 [==============================] - 1s 31ms/step - loss: 1.6710 - categorical_accuracy: 0.4231 - val_loss: 1.7779 - val_categorical_accuracy: 0.3782\n",
            "Epoch 4/100\n",
            "19/19 [==============================] - 1s 32ms/step - loss: 1.6618 - categorical_accuracy: 0.4231 - val_loss: 1.7551 - val_categorical_accuracy: 0.3782\n",
            "Epoch 5/100\n",
            "19/19 [==============================] - 1s 31ms/step - loss: 1.6617 - categorical_accuracy: 0.4231 - val_loss: 1.7743 - val_categorical_accuracy: 0.3782\n",
            "Epoch 6/100\n",
            "19/19 [==============================] - 1s 52ms/step - loss: 1.6655 - categorical_accuracy: 0.4231 - val_loss: 1.7538 - val_categorical_accuracy: 0.3782\n",
            "Epoch 7/100\n",
            "19/19 [==============================] - 1s 52ms/step - loss: 1.6677 - categorical_accuracy: 0.4231 - val_loss: 1.7885 - val_categorical_accuracy: 0.3782\n",
            "Epoch 8/100\n",
            "19/19 [==============================] - 1s 31ms/step - loss: 1.6773 - categorical_accuracy: 0.4231 - val_loss: 1.7483 - val_categorical_accuracy: 0.3782\n",
            "Epoch 9/100\n",
            "19/19 [==============================] - 1s 31ms/step - loss: 1.6675 - categorical_accuracy: 0.4231 - val_loss: 1.7473 - val_categorical_accuracy: 0.3782\n",
            "Epoch 10/100\n",
            "19/19 [==============================] - 1s 30ms/step - loss: 1.6573 - categorical_accuracy: 0.4231 - val_loss: 1.7551 - val_categorical_accuracy: 0.3782\n",
            "Epoch 11/100\n",
            "19/19 [==============================] - 1s 30ms/step - loss: 1.6659 - categorical_accuracy: 0.4231 - val_loss: 1.7527 - val_categorical_accuracy: 0.3782\n",
            "Epoch 12/100\n",
            "19/19 [==============================] - 1s 31ms/step - loss: 1.6615 - categorical_accuracy: 0.4231 - val_loss: 1.7592 - val_categorical_accuracy: 0.3782\n",
            "Epoch 13/100\n",
            "19/19 [==============================] - 1s 31ms/step - loss: 1.6661 - categorical_accuracy: 0.4231 - val_loss: 1.7441 - val_categorical_accuracy: 0.3782\n",
            "Epoch 14/100\n",
            "19/19 [==============================] - 1s 47ms/step - loss: 1.6673 - categorical_accuracy: 0.4231 - val_loss: 1.7561 - val_categorical_accuracy: 0.3782\n",
            "Epoch 15/100\n",
            "19/19 [==============================] - 1s 56ms/step - loss: 1.6647 - categorical_accuracy: 0.4231 - val_loss: 1.7557 - val_categorical_accuracy: 0.3782\n",
            "Epoch 16/100\n",
            "19/19 [==============================] - 1s 36ms/step - loss: 1.6627 - categorical_accuracy: 0.4231 - val_loss: 1.7465 - val_categorical_accuracy: 0.3782\n",
            "Epoch 17/100\n",
            "19/19 [==============================] - 1s 31ms/step - loss: 1.6640 - categorical_accuracy: 0.4231 - val_loss: 1.7342 - val_categorical_accuracy: 0.3782\n",
            "Epoch 18/100\n",
            "19/19 [==============================] - 1s 31ms/step - loss: 1.6637 - categorical_accuracy: 0.4231 - val_loss: 1.7478 - val_categorical_accuracy: 0.3782\n",
            "Epoch 19/100\n",
            "19/19 [==============================] - 1s 31ms/step - loss: 1.6595 - categorical_accuracy: 0.4231 - val_loss: 1.7464 - val_categorical_accuracy: 0.3782\n",
            "Epoch 20/100\n",
            "19/19 [==============================] - 1s 31ms/step - loss: 1.6628 - categorical_accuracy: 0.4231 - val_loss: 1.7496 - val_categorical_accuracy: 0.3782\n",
            "Epoch 21/100\n",
            "19/19 [==============================] - 1s 31ms/step - loss: 1.6668 - categorical_accuracy: 0.4231 - val_loss: 1.7414 - val_categorical_accuracy: 0.3782\n",
            "Epoch 22/100\n",
            "19/19 [==============================] - 1s 31ms/step - loss: 1.6597 - categorical_accuracy: 0.4231 - val_loss: 1.7595 - val_categorical_accuracy: 0.3782\n",
            "Epoch 23/100\n",
            "19/19 [==============================] - 1s 42ms/step - loss: 1.6632 - categorical_accuracy: 0.4231 - val_loss: 1.7532 - val_categorical_accuracy: 0.3782\n",
            "Epoch 24/100\n",
            "19/19 [==============================] - 1s 56ms/step - loss: 1.6610 - categorical_accuracy: 0.4231 - val_loss: 1.7367 - val_categorical_accuracy: 0.3782\n",
            "Epoch 25/100\n",
            "19/19 [==============================] - 1s 41ms/step - loss: 1.6607 - categorical_accuracy: 0.4231 - val_loss: 1.7490 - val_categorical_accuracy: 0.3782\n",
            "Epoch 26/100\n",
            "19/19 [==============================] - 1s 30ms/step - loss: 1.6639 - categorical_accuracy: 0.4231 - val_loss: 1.7458 - val_categorical_accuracy: 0.3782\n",
            "Epoch 27/100\n",
            "19/19 [==============================] - 1s 30ms/step - loss: 1.6645 - categorical_accuracy: 0.4231 - val_loss: 1.7445 - val_categorical_accuracy: 0.3782\n",
            "Epoch 28/100\n",
            "19/19 [==============================] - 1s 30ms/step - loss: 1.6701 - categorical_accuracy: 0.4231 - val_loss: 1.7528 - val_categorical_accuracy: 0.3782\n",
            "Epoch 29/100\n",
            "19/19 [==============================] - 1s 31ms/step - loss: 1.6644 - categorical_accuracy: 0.4231 - val_loss: 1.7383 - val_categorical_accuracy: 0.3782\n",
            "Epoch 30/100\n",
            "19/19 [==============================] - 1s 30ms/step - loss: 1.6614 - categorical_accuracy: 0.4231 - val_loss: 1.7485 - val_categorical_accuracy: 0.3782\n",
            "Epoch 31/100\n",
            "19/19 [==============================] - 1s 30ms/step - loss: 1.6650 - categorical_accuracy: 0.4231 - val_loss: 1.7560 - val_categorical_accuracy: 0.3782\n",
            "Epoch 32/100\n",
            "19/19 [==============================] - 1s 31ms/step - loss: 1.6608 - categorical_accuracy: 0.4231 - val_loss: 1.7536 - val_categorical_accuracy: 0.3782\n",
            "17/17 [==============================] - 0s 9ms/step - loss: 1.6921 - categorical_accuracy: 0.4109\n"
          ]
        },
        {
          "output_type": "execute_result",
          "data": {
            "text/plain": [
              "[1.6920667886734009, 0.41085270047187805]"
            ]
          },
          "metadata": {},
          "execution_count": 32
        }
      ],
      "source": [
        "history_conv_max_2 = History()\n",
        "model = Sequential()\n",
        "model.add(Conv2D(32,(3,3),input_shape=X_train.shape[1:],padding=\"same\"))\n",
        "model.add(MaxPooling2D((2,2)))\n",
        "\n",
        "model.add(Conv2D(16,(2,2),padding=\"same\"))\n",
        "model.add(MaxPooling2D((2,2)))\n",
        "\n",
        "model.add(Flatten())\n",
        "model.add(Dense(n_classes,activation=\"softmax\"))\n",
        "model.summary()\n",
        "\n",
        "early_stopping = EarlyStopping(patience=30,monitor=\"val_loss\")\n",
        "model.compile(loss=\"categorical_crossentropy\",optimizer=\"adam\",metrics=[\"categorical_accuracy\"])\n",
        "model.fit(X_train, y_train, validation_split=0.25,epochs=100,callbacks=[early_stopping, history_conv_max_2])\n",
        "model.evaluate(X_test,y_test)"
      ]
    },
    {
      "cell_type": "code",
      "execution_count": 33,
      "metadata": {
        "id": "OoejVmpJldZ4",
        "outputId": "fef4e478-2daf-40b6-c45f-5dd36951a5e8",
        "colab": {
          "base_uri": "https://localhost:8080/",
          "height": 430
        }
      },
      "outputs": [
        {
          "output_type": "display_data",
          "data": {
            "text/plain": [
              "<Figure size 640x480 with 1 Axes>"
            ],
            "image/png": "[encoded data removed]"
          },
          "metadata": {}
        }
      ],
      "source": [
        "# plt.plot(history_dense_1.history['categorical_accuracy'], label = \"tarina dense Layer=1\")\n",
        "# plt.plot(history_dense_1.history['val_categorical_accuracy'], label = \"test dense Layer=1\")\n",
        "\n",
        "plt.plot(history_dense_2.history['categorical_accuracy'], label = \"tarina dense Layer=2\")\n",
        "plt.plot(history_dense_2.history['val_categorical_accuracy'], label = \"test dense Layer=2\")\n",
        "\n",
        "# plt.plot(history_conv_max_1.history['categorical_accuracy'], label = \"tarina Conv Layer=1\")\n",
        "# plt.plot(history_conv_max_1.history['val_categorical_accuracy'], label = \"test Conv Layer=1\")\n",
        "\n",
        "plt.plot(history_conv_max_2.history['categorical_accuracy'], label = \"tarina Conv Layer=2\")\n",
        "plt.plot(history_conv_max_2.history['val_categorical_accuracy'], label = \"test Conv Layer=2\")\n",
        "\n",
        "plt.legend()\n",
        "plt.show()"
      ]
    },
    {
      "cell_type": "markdown",
      "metadata": {
        "id": "uSJJEBZ0ldZ4"
      },
      "source": [
        "# Zad.\n",
        "\n",
        "Dodaj:\n",
        "\n",
        "* BatchNormalization\n",
        "* Dropout\n",
        "\n",
        "```python\n",
        "model.add(layers.Conv2D(64, (3, 3), ...))\n",
        "model.add(layers.BatchNormalization())\n",
        "model.add(layers.Activation(\"relu\"))\n",
        "model.add(MaxPooling2D((2,2)))\n",
        "model.add(Dropout(0.2))\n",
        "```\n",
        "\n",
        "* Dropout can be used after convolutional layers (e.g. Conv2D) and after pooling layers (e.g. MaxPooling2D).\n",
        "* Often, dropout is only used after the pooling layers, but this is just a rough heuristic."
      ]
    },
    {
      "cell_type": "code",
      "execution_count": 38,
      "metadata": {
        "id": "GGjQ7CAKldZ5",
        "outputId": "91854561-abaf-4016-aa93-01d2d10c8f98",
        "colab": {
          "base_uri": "https://localhost:8080/"
        }
      },
      "outputs": [
        {
          "output_type": "stream",
          "name": "stdout",
          "text": [
            "Model: \"sequential_14\"\n",
            "_________________________________________________________________\n",
            " Layer (type)                Output Shape              Param #   \n",
            "=================================================================\n",
            " conv2d_14 (Conv2D)          (None, 50, 37, 64)        640       \n",
            "                                                                 \n",
            " batch_normalization (BatchN  (None, 50, 37, 64)       256       \n",
            " ormalization)                                                   \n",
            "                                                                 \n",
            " activation (Activation)     (None, 50, 37, 64)        0         \n",
            "                                                                 \n",
            " max_pooling2d_12 (MaxPoolin  (None, 25, 18, 64)       0         \n",
            " g2D)                                                            \n",
            "                                                                 \n",
            " dropout (Dropout)           (None, 25, 18, 64)        0         \n",
            "                                                                 \n",
            " max_pooling2d_13 (MaxPoolin  (None, 12, 9, 64)        0         \n",
            " g2D)                                                            \n",
            "                                                                 \n",
            " conv2d_15 (Conv2D)          (None, 12, 9, 16)         4112      \n",
            "                                                                 \n",
            " max_pooling2d_14 (MaxPoolin  (None, 6, 4, 16)         0         \n",
            " g2D)                                                            \n",
            "                                                                 \n",
            " flatten_18 (Flatten)        (None, 384)               0         \n",
            "                                                                 \n",
            " dense_14 (Dense)            (None, 7)                 2695      \n",
            "                                                                 \n",
            "=================================================================\n",
            "Total params: 7,703\n",
            "Trainable params: 7,575\n",
            "Non-trainable params: 128\n",
            "_________________________________________________________________\n",
            "Epoch 1/100\n",
            "19/19 [==============================] - 2s 87ms/step - loss: 1.8426 - categorical_accuracy: 0.4111 - val_loss: 1.7663 - val_categorical_accuracy: 0.3782\n",
            "Epoch 2/100\n",
            "19/19 [==============================] - 1s 79ms/step - loss: 1.6616 - categorical_accuracy: 0.4231 - val_loss: 1.7568 - val_categorical_accuracy: 0.3782\n",
            "Epoch 3/100\n",
            "19/19 [==============================] - 1s 76ms/step - loss: 1.6596 - categorical_accuracy: 0.4231 - val_loss: 1.7541 - val_categorical_accuracy: 0.3782\n",
            "Epoch 4/100\n",
            "19/19 [==============================] - 1s 77ms/step - loss: 1.6434 - categorical_accuracy: 0.4231 - val_loss: 1.7518 - val_categorical_accuracy: 0.3782\n",
            "Epoch 5/100\n",
            "19/19 [==============================] - 1s 75ms/step - loss: 1.6353 - categorical_accuracy: 0.4231 - val_loss: 1.7440 - val_categorical_accuracy: 0.3782\n",
            "Epoch 6/100\n",
            "19/19 [==============================] - 1s 75ms/step - loss: 1.6096 - categorical_accuracy: 0.4231 - val_loss: 1.7360 - val_categorical_accuracy: 0.3782\n",
            "Epoch 7/100\n",
            "19/19 [==============================] - 2s 118ms/step - loss: 1.5877 - categorical_accuracy: 0.4283 - val_loss: 1.7290 - val_categorical_accuracy: 0.3782\n",
            "Epoch 8/100\n",
            "19/19 [==============================] - 1s 78ms/step - loss: 1.5689 - categorical_accuracy: 0.4352 - val_loss: 1.7401 - val_categorical_accuracy: 0.3782\n",
            "Epoch 9/100\n",
            "19/19 [==============================] - 1s 75ms/step - loss: 1.5217 - categorical_accuracy: 0.4508 - val_loss: 1.7338 - val_categorical_accuracy: 0.3782\n",
            "Epoch 10/100\n",
            "19/19 [==============================] - 1s 76ms/step - loss: 1.4900 - categorical_accuracy: 0.4629 - val_loss: 1.7325 - val_categorical_accuracy: 0.3782\n",
            "Epoch 11/100\n",
            "19/19 [==============================] - 1s 75ms/step - loss: 1.4336 - categorical_accuracy: 0.4801 - val_loss: 1.7311 - val_categorical_accuracy: 0.3782\n",
            "Epoch 12/100\n",
            "19/19 [==============================] - 1s 79ms/step - loss: 1.3791 - categorical_accuracy: 0.5112 - val_loss: 1.7193 - val_categorical_accuracy: 0.3782\n",
            "Epoch 13/100\n",
            "19/19 [==============================] - 1s 75ms/step - loss: 1.3163 - categorical_accuracy: 0.5164 - val_loss: 1.7158 - val_categorical_accuracy: 0.3782\n",
            "Epoch 14/100\n",
            "19/19 [==============================] - 2s 112ms/step - loss: 1.2576 - categorical_accuracy: 0.5371 - val_loss: 1.7025 - val_categorical_accuracy: 0.3782\n",
            "Epoch 15/100\n",
            "19/19 [==============================] - 2s 128ms/step - loss: 1.2097 - categorical_accuracy: 0.5509 - val_loss: 1.6902 - val_categorical_accuracy: 0.3782\n",
            "Epoch 16/100\n",
            "19/19 [==============================] - 1s 75ms/step - loss: 1.1505 - categorical_accuracy: 0.5682 - val_loss: 1.6838 - val_categorical_accuracy: 0.3834\n",
            "Epoch 17/100\n",
            "19/19 [==============================] - 1s 72ms/step - loss: 1.1092 - categorical_accuracy: 0.5907 - val_loss: 1.6518 - val_categorical_accuracy: 0.3782\n",
            "Epoch 18/100\n",
            "19/19 [==============================] - 1s 75ms/step - loss: 1.0616 - categorical_accuracy: 0.6200 - val_loss: 1.6242 - val_categorical_accuracy: 0.4041\n",
            "Epoch 19/100\n",
            "19/19 [==============================] - 1s 76ms/step - loss: 1.0224 - categorical_accuracy: 0.6218 - val_loss: 1.6150 - val_categorical_accuracy: 0.4560\n",
            "Epoch 20/100\n",
            "19/19 [==============================] - 1s 72ms/step - loss: 0.9903 - categorical_accuracy: 0.6390 - val_loss: 1.5889 - val_categorical_accuracy: 0.4870\n",
            "Epoch 21/100\n",
            "19/19 [==============================] - 1s 76ms/step - loss: 0.9563 - categorical_accuracy: 0.6477 - val_loss: 1.5621 - val_categorical_accuracy: 0.5130\n",
            "Epoch 22/100\n",
            "19/19 [==============================] - 2s 94ms/step - loss: 0.8961 - categorical_accuracy: 0.6684 - val_loss: 1.5332 - val_categorical_accuracy: 0.5233\n",
            "Epoch 23/100\n",
            "19/19 [==============================] - 2s 99ms/step - loss: 0.8731 - categorical_accuracy: 0.6805 - val_loss: 1.4985 - val_categorical_accuracy: 0.5130\n",
            "Epoch 24/100\n",
            "19/19 [==============================] - 1s 79ms/step - loss: 0.8348 - categorical_accuracy: 0.7081 - val_loss: 1.4577 - val_categorical_accuracy: 0.5233\n",
            "Epoch 25/100\n",
            "19/19 [==============================] - 1s 77ms/step - loss: 0.8119 - categorical_accuracy: 0.6978 - val_loss: 1.4162 - val_categorical_accuracy: 0.5699\n",
            "Epoch 26/100\n",
            "19/19 [==============================] - 1s 72ms/step - loss: 0.7816 - categorical_accuracy: 0.7219 - val_loss: 1.3817 - val_categorical_accuracy: 0.5699\n",
            "Epoch 27/100\n",
            "19/19 [==============================] - 1s 79ms/step - loss: 0.7391 - categorical_accuracy: 0.7547 - val_loss: 1.3291 - val_categorical_accuracy: 0.5699\n",
            "Epoch 28/100\n",
            "19/19 [==============================] - 1s 73ms/step - loss: 0.7300 - categorical_accuracy: 0.7392 - val_loss: 1.3004 - val_categorical_accuracy: 0.5907\n",
            "Epoch 29/100\n",
            "19/19 [==============================] - 1s 71ms/step - loss: 0.6986 - categorical_accuracy: 0.7703 - val_loss: 1.2763 - val_categorical_accuracy: 0.6114\n",
            "Epoch 30/100\n",
            "19/19 [==============================] - 2s 93ms/step - loss: 0.6677 - categorical_accuracy: 0.7737 - val_loss: 1.2720 - val_categorical_accuracy: 0.5803\n",
            "Epoch 31/100\n",
            "19/19 [==============================] - 2s 96ms/step - loss: 0.6646 - categorical_accuracy: 0.7789 - val_loss: 1.2134 - val_categorical_accuracy: 0.5751\n",
            "Epoch 32/100\n",
            "19/19 [==============================] - 1s 77ms/step - loss: 0.6116 - categorical_accuracy: 0.8048 - val_loss: 1.1981 - val_categorical_accuracy: 0.5699\n",
            "Epoch 33/100\n",
            "19/19 [==============================] - 1s 74ms/step - loss: 0.5932 - categorical_accuracy: 0.8031 - val_loss: 1.1878 - val_categorical_accuracy: 0.5855\n",
            "Epoch 34/100\n",
            "19/19 [==============================] - 1s 71ms/step - loss: 0.5801 - categorical_accuracy: 0.8048 - val_loss: 1.1860 - val_categorical_accuracy: 0.5907\n",
            "Epoch 35/100\n",
            "19/19 [==============================] - 1s 74ms/step - loss: 0.5616 - categorical_accuracy: 0.8221 - val_loss: 1.1113 - val_categorical_accuracy: 0.6062\n",
            "Epoch 36/100\n",
            "19/19 [==============================] - 1s 77ms/step - loss: 0.5268 - categorical_accuracy: 0.8221 - val_loss: 1.0233 - val_categorical_accuracy: 0.6580\n",
            "Epoch 37/100\n",
            "19/19 [==============================] - 1s 71ms/step - loss: 0.5302 - categorical_accuracy: 0.8394 - val_loss: 1.0762 - val_categorical_accuracy: 0.5959\n",
            "Epoch 38/100\n",
            "19/19 [==============================] - 2s 99ms/step - loss: 0.5220 - categorical_accuracy: 0.8359 - val_loss: 1.0173 - val_categorical_accuracy: 0.6425\n",
            "Epoch 39/100\n",
            "19/19 [==============================] - 2s 93ms/step - loss: 0.4867 - categorical_accuracy: 0.8515 - val_loss: 0.9440 - val_categorical_accuracy: 0.6580\n",
            "Epoch 40/100\n",
            "19/19 [==============================] - 1s 75ms/step - loss: 0.4765 - categorical_accuracy: 0.8532 - val_loss: 1.0029 - val_categorical_accuracy: 0.6528\n",
            "Epoch 41/100\n",
            "19/19 [==============================] - 1s 71ms/step - loss: 0.4795 - categorical_accuracy: 0.8566 - val_loss: 1.0709 - val_categorical_accuracy: 0.6269\n",
            "Epoch 42/100\n",
            "19/19 [==============================] - 1s 73ms/step - loss: 0.4609 - categorical_accuracy: 0.8618 - val_loss: 0.9111 - val_categorical_accuracy: 0.6788\n",
            "Epoch 43/100\n",
            "19/19 [==============================] - 1s 72ms/step - loss: 0.4292 - categorical_accuracy: 0.8739 - val_loss: 0.9621 - val_categorical_accuracy: 0.6528\n",
            "Epoch 44/100\n",
            "19/19 [==============================] - 1s 77ms/step - loss: 0.4267 - categorical_accuracy: 0.8601 - val_loss: 0.9467 - val_categorical_accuracy: 0.6580\n",
            "Epoch 45/100\n",
            "19/19 [==============================] - 1s 74ms/step - loss: 0.4324 - categorical_accuracy: 0.8636 - val_loss: 0.8485 - val_categorical_accuracy: 0.7202\n",
            "Epoch 46/100\n",
            "19/19 [==============================] - 2s 109ms/step - loss: 0.3983 - categorical_accuracy: 0.8808 - val_loss: 0.8901 - val_categorical_accuracy: 0.7150\n",
            "Epoch 47/100\n",
            "19/19 [==============================] - 2s 117ms/step - loss: 0.4074 - categorical_accuracy: 0.8705 - val_loss: 0.8481 - val_categorical_accuracy: 0.7202\n",
            "Epoch 48/100\n",
            "19/19 [==============================] - 1s 70ms/step - loss: 0.3670 - categorical_accuracy: 0.8860 - val_loss: 0.8700 - val_categorical_accuracy: 0.7047\n",
            "Epoch 49/100\n",
            "19/19 [==============================] - 1s 72ms/step - loss: 0.3713 - categorical_accuracy: 0.8912 - val_loss: 0.8751 - val_categorical_accuracy: 0.7098\n",
            "Epoch 50/100\n",
            "19/19 [==============================] - 1s 69ms/step - loss: 0.3574 - categorical_accuracy: 0.8912 - val_loss: 0.8460 - val_categorical_accuracy: 0.7150\n",
            "Epoch 51/100\n",
            "19/19 [==============================] - 1s 74ms/step - loss: 0.3441 - categorical_accuracy: 0.9033 - val_loss: 0.8574 - val_categorical_accuracy: 0.7047\n",
            "Epoch 52/100\n",
            "19/19 [==============================] - 1s 74ms/step - loss: 0.3142 - categorical_accuracy: 0.9171 - val_loss: 0.8272 - val_categorical_accuracy: 0.7150\n",
            "Epoch 53/100\n",
            "19/19 [==============================] - 1s 74ms/step - loss: 0.3034 - categorical_accuracy: 0.9154 - val_loss: 0.9522 - val_categorical_accuracy: 0.6788\n",
            "Epoch 54/100\n",
            "19/19 [==============================] - 2s 124ms/step - loss: 0.3018 - categorical_accuracy: 0.9085 - val_loss: 0.8740 - val_categorical_accuracy: 0.6839\n",
            "Epoch 55/100\n",
            "19/19 [==============================] - 1s 77ms/step - loss: 0.3095 - categorical_accuracy: 0.9085 - val_loss: 0.8012 - val_categorical_accuracy: 0.7306\n",
            "Epoch 56/100\n",
            "19/19 [==============================] - 1s 79ms/step - loss: 0.2989 - categorical_accuracy: 0.9102 - val_loss: 0.8017 - val_categorical_accuracy: 0.7617\n",
            "Epoch 57/100\n",
            "19/19 [==============================] - 1s 76ms/step - loss: 0.2822 - categorical_accuracy: 0.9136 - val_loss: 0.8719 - val_categorical_accuracy: 0.7098\n",
            "Epoch 58/100\n",
            "19/19 [==============================] - 1s 75ms/step - loss: 0.2672 - categorical_accuracy: 0.9257 - val_loss: 0.8398 - val_categorical_accuracy: 0.7513\n",
            "Epoch 59/100\n",
            "19/19 [==============================] - 1s 73ms/step - loss: 0.2701 - categorical_accuracy: 0.9326 - val_loss: 0.8415 - val_categorical_accuracy: 0.7202\n",
            "Epoch 60/100\n",
            "19/19 [==============================] - 1s 73ms/step - loss: 0.2499 - categorical_accuracy: 0.9378 - val_loss: 0.8177 - val_categorical_accuracy: 0.7461\n",
            "Epoch 61/100\n",
            "19/19 [==============================] - 2s 86ms/step - loss: 0.2543 - categorical_accuracy: 0.9223 - val_loss: 0.7893 - val_categorical_accuracy: 0.7409\n",
            "Epoch 62/100\n",
            "19/19 [==============================] - 2s 107ms/step - loss: 0.2306 - categorical_accuracy: 0.9413 - val_loss: 0.8740 - val_categorical_accuracy: 0.7150\n",
            "Epoch 63/100\n",
            "19/19 [==============================] - 2s 89ms/step - loss: 0.2459 - categorical_accuracy: 0.9361 - val_loss: 0.8217 - val_categorical_accuracy: 0.7461\n",
            "Epoch 64/100\n",
            "19/19 [==============================] - 2s 85ms/step - loss: 0.2394 - categorical_accuracy: 0.9292 - val_loss: 0.7923 - val_categorical_accuracy: 0.7565\n",
            "Epoch 65/100\n",
            "19/19 [==============================] - 1s 73ms/step - loss: 0.2212 - categorical_accuracy: 0.9413 - val_loss: 0.8294 - val_categorical_accuracy: 0.7668\n",
            "Epoch 66/100\n",
            "19/19 [==============================] - 1s 70ms/step - loss: 0.2033 - categorical_accuracy: 0.9499 - val_loss: 0.8185 - val_categorical_accuracy: 0.7306\n",
            "Epoch 67/100\n",
            "19/19 [==============================] - 1s 74ms/step - loss: 0.2074 - categorical_accuracy: 0.9430 - val_loss: 0.8455 - val_categorical_accuracy: 0.7409\n",
            "Epoch 68/100\n",
            "19/19 [==============================] - 1s 76ms/step - loss: 0.2388 - categorical_accuracy: 0.9292 - val_loss: 0.8340 - val_categorical_accuracy: 0.7150\n",
            "Epoch 69/100\n",
            "19/19 [==============================] - 3s 157ms/step - loss: 0.2355 - categorical_accuracy: 0.9240 - val_loss: 0.8231 - val_categorical_accuracy: 0.7565\n",
            "Epoch 70/100\n",
            "19/19 [==============================] - 1s 72ms/step - loss: 0.1857 - categorical_accuracy: 0.9396 - val_loss: 0.7935 - val_categorical_accuracy: 0.7565\n",
            "Epoch 71/100\n",
            "19/19 [==============================] - 1s 77ms/step - loss: 0.1772 - categorical_accuracy: 0.9447 - val_loss: 0.8041 - val_categorical_accuracy: 0.7617\n",
            "Epoch 72/100\n",
            "19/19 [==============================] - 1s 73ms/step - loss: 0.1682 - categorical_accuracy: 0.9568 - val_loss: 0.8301 - val_categorical_accuracy: 0.7461\n",
            "Epoch 73/100\n",
            "19/19 [==============================] - 1s 78ms/step - loss: 0.1724 - categorical_accuracy: 0.9516 - val_loss: 0.8503 - val_categorical_accuracy: 0.7409\n",
            "Epoch 74/100\n",
            "19/19 [==============================] - 1s 76ms/step - loss: 0.1532 - categorical_accuracy: 0.9534 - val_loss: 0.8183 - val_categorical_accuracy: 0.7409\n",
            "Epoch 75/100\n",
            "19/19 [==============================] - 1s 78ms/step - loss: 0.1622 - categorical_accuracy: 0.9568 - val_loss: 0.8798 - val_categorical_accuracy: 0.7254\n",
            "Epoch 76/100\n",
            "19/19 [==============================] - 2s 95ms/step - loss: 0.2219 - categorical_accuracy: 0.9275 - val_loss: 0.8842 - val_categorical_accuracy: 0.7150\n",
            "Epoch 77/100\n",
            "19/19 [==============================] - 2s 100ms/step - loss: 0.2093 - categorical_accuracy: 0.9309 - val_loss: 0.8264 - val_categorical_accuracy: 0.7254\n",
            "Epoch 78/100\n",
            "19/19 [==============================] - 1s 77ms/step - loss: 0.2591 - categorical_accuracy: 0.9257 - val_loss: 0.7844 - val_categorical_accuracy: 0.7617\n",
            "Epoch 79/100\n",
            "19/19 [==============================] - 1s 78ms/step - loss: 0.1960 - categorical_accuracy: 0.9378 - val_loss: 0.8282 - val_categorical_accuracy: 0.7513\n",
            "Epoch 80/100\n",
            "19/19 [==============================] - 1s 79ms/step - loss: 0.1632 - categorical_accuracy: 0.9534 - val_loss: 0.8283 - val_categorical_accuracy: 0.7668\n",
            "Epoch 81/100\n",
            "19/19 [==============================] - 1s 78ms/step - loss: 0.1259 - categorical_accuracy: 0.9758 - val_loss: 0.7560 - val_categorical_accuracy: 0.7668\n",
            "Epoch 82/100\n",
            "19/19 [==============================] - 1s 75ms/step - loss: 0.1277 - categorical_accuracy: 0.9741 - val_loss: 0.7907 - val_categorical_accuracy: 0.7668\n",
            "Epoch 83/100\n",
            "19/19 [==============================] - 1s 79ms/step - loss: 0.1246 - categorical_accuracy: 0.9724 - val_loss: 0.7758 - val_categorical_accuracy: 0.7824\n",
            "Epoch 84/100\n",
            "19/19 [==============================] - 2s 112ms/step - loss: 0.1153 - categorical_accuracy: 0.9741 - val_loss: 0.8107 - val_categorical_accuracy: 0.7720\n",
            "Epoch 85/100\n",
            "19/19 [==============================] - 2s 84ms/step - loss: 0.1341 - categorical_accuracy: 0.9637 - val_loss: 0.8104 - val_categorical_accuracy: 0.7668\n",
            "Epoch 86/100\n",
            "19/19 [==============================] - 1s 75ms/step - loss: 0.1552 - categorical_accuracy: 0.9499 - val_loss: 0.9094 - val_categorical_accuracy: 0.7461\n",
            "Epoch 87/100\n",
            "19/19 [==============================] - 2s 83ms/step - loss: 0.1187 - categorical_accuracy: 0.9637 - val_loss: 0.7825 - val_categorical_accuracy: 0.7720\n",
            "Epoch 88/100\n",
            "19/19 [==============================] - 2s 79ms/step - loss: 0.1001 - categorical_accuracy: 0.9741 - val_loss: 0.8136 - val_categorical_accuracy: 0.7668\n",
            "Epoch 89/100\n",
            "19/19 [==============================] - 1s 77ms/step - loss: 0.0981 - categorical_accuracy: 0.9793 - val_loss: 0.7906 - val_categorical_accuracy: 0.7824\n",
            "Epoch 90/100\n",
            "19/19 [==============================] - 1s 79ms/step - loss: 0.0941 - categorical_accuracy: 0.9793 - val_loss: 0.8470 - val_categorical_accuracy: 0.7668\n",
            "Epoch 91/100\n",
            "19/19 [==============================] - 2s 83ms/step - loss: 0.1342 - categorical_accuracy: 0.9603 - val_loss: 0.8422 - val_categorical_accuracy: 0.7617\n",
            "Epoch 92/100\n",
            "19/19 [==============================] - 2s 109ms/step - loss: 0.1783 - categorical_accuracy: 0.9447 - val_loss: 0.8269 - val_categorical_accuracy: 0.7772\n",
            "Epoch 93/100\n",
            "19/19 [==============================] - 1s 76ms/step - loss: 0.1001 - categorical_accuracy: 0.9724 - val_loss: 0.9004 - val_categorical_accuracy: 0.7461\n",
            "Epoch 94/100\n",
            "19/19 [==============================] - 1s 78ms/step - loss: 0.0860 - categorical_accuracy: 0.9879 - val_loss: 0.9245 - val_categorical_accuracy: 0.7617\n",
            "Epoch 95/100\n",
            "19/19 [==============================] - 2s 81ms/step - loss: 0.0827 - categorical_accuracy: 0.9775 - val_loss: 0.8560 - val_categorical_accuracy: 0.7565\n",
            "Epoch 96/100\n",
            "19/19 [==============================] - 2s 80ms/step - loss: 0.0742 - categorical_accuracy: 0.9845 - val_loss: 0.8833 - val_categorical_accuracy: 0.7617\n",
            "Epoch 97/100\n",
            "19/19 [==============================] - 1s 76ms/step - loss: 0.0874 - categorical_accuracy: 0.9793 - val_loss: 0.8866 - val_categorical_accuracy: 0.7720\n",
            "Epoch 98/100\n",
            "19/19 [==============================] - 2s 81ms/step - loss: 0.0723 - categorical_accuracy: 0.9896 - val_loss: 0.8675 - val_categorical_accuracy: 0.7772\n",
            "Epoch 99/100\n",
            "19/19 [==============================] - 2s 106ms/step - loss: 0.0665 - categorical_accuracy: 0.9931 - val_loss: 0.8443 - val_categorical_accuracy: 0.7876\n",
            "Epoch 100/100\n",
            "19/19 [==============================] - 2s 87ms/step - loss: 0.0690 - categorical_accuracy: 0.9862 - val_loss: 0.8517 - val_categorical_accuracy: 0.7772\n",
            "17/17 [==============================] - 0s 15ms/step - loss: 0.6859 - categorical_accuracy: 0.8178\n"
          ]
        },
        {
          "output_type": "execute_result",
          "data": {
            "text/plain": [
              "[0.6859373450279236, 0.817829430103302]"
            ]
          },
          "metadata": {},
          "execution_count": 38
        }
      ],
      "source": [
        "history_conv_max_2 = History()\n",
        "model = Sequential()\n",
        "model.add(Conv2D(64,(3,3),input_shape=X_train.shape[1:],padding=\"same\"))\n",
        "\n",
        "model.add(BatchNormalization())\n",
        "model.add(Activation(\"relu\"))\n",
        "model.add(MaxPooling2D((2,2)))\n",
        "model.add(Dropout(0.2))\n",
        "\n",
        "model.add(MaxPooling2D((2,2)))\n",
        "\n",
        "model.add(Conv2D(16,(2,2),padding=\"same\"))\n",
        "model.add(MaxPooling2D((2,2)))\n",
        "\n",
        "model.add(Flatten())\n",
        "model.add(Dense(n_classes,activation=\"softmax\"))\n",
        "\n",
        "model.summary()\n",
        "\n",
        "early_stopping = EarlyStopping(patience=30,monitor=\"val_loss\")\n",
        "model.compile(loss=\"categorical_crossentropy\",optimizer=\"adam\",metrics=[\"categorical_accuracy\"])\n",
        "model.fit(X_train, y_train, validation_split=0.25,epochs=100,callbacks=[early_stopping, history_conv_max_2])\n",
        "model.evaluate(X_test,y_test)"
      ]
    },
    {
      "cell_type": "code",
      "execution_count": 41,
      "metadata": {
        "id": "EBimWwN7ldZ5",
        "outputId": "b17ae2cd-e651-4378-abfb-4b433a9a0b03",
        "colab": {
          "base_uri": "https://localhost:8080/"
        }
      },
      "outputs": [
        {
          "output_type": "stream",
          "name": "stdout",
          "text": [
            "17/17 [==============================] - 0s 25ms/step - loss: 0.6859 - categorical_accuracy: 0.8178\n"
          ]
        },
        {
          "output_type": "execute_result",
          "data": {
            "text/plain": [
              "[0.6859373450279236, 0.817829430103302]"
            ]
          },
          "metadata": {},
          "execution_count": 41
        }
      ],
      "source": [
        "model.evaluate(X_test,y_test)"
      ]
    },
    {
      "cell_type": "code",
      "execution_count": null,
      "metadata": {
        "id": "UhmTAAsxldZ5"
      },
      "outputs": [],
      "source": []
    }
  ],
  "metadata": {
    "kernelspec": {
      "display_name": "Python 3",
      "language": "python",
      "name": "python3"
    },
    "language_info": {
      "codemirror_mode": {
        "name": "ipython",
        "version": 3
      },
      "file_extension": ".py",
      "mimetype": "text/x-python",
      "name": "python",
      "nbconvert_exporter": "python",
      "pygments_lexer": "ipython3",
      "version": "3.7.3"
    },
    "colab": {
      "provenance": []
    }
  },
  "nbformat": 4,
  "nbformat_minor": 0
}