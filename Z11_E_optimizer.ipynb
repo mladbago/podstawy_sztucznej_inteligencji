{
  "cells": [
    {
      "cell_type": "markdown",
      "metadata": {
        "id": "view-in-github",
        "colab_type": "text"
      },
      "source": [
        "<a href=\"https://colab.research.google.com/github/mladbago/podstawy_sztucznej_inteligencji/blob/main/Z11_E_optimizer.ipynb\" target=\"_parent\"><img src=\"https://colab.research.google.com/assets/colab-badge.svg\" alt=\"Open In Colab\"/></a>"
      ]
    },
    {
      "cell_type": "code",
      "execution_count": 1,
      "metadata": {
        "id": "tQGPIFkTQYFf",
        "outputId": "688b05d1-c628-4ea4-81bb-76b76d9abfb2",
        "colab": {
          "base_uri": "https://localhost:8080/"
        }
      },
      "outputs": [
        {
          "output_type": "stream",
          "name": "stdout",
          "text": [
            "2.12.0\n",
            "2.12.0\n"
          ]
        }
      ],
      "source": [
        "import numpy as np\n",
        "import tensorflow as tf\n",
        "import tensorflow as tf\n",
        "from tensorflow import keras\n",
        "print(tf.__version__)\n",
        "\n",
        "print(keras.__version__)\n",
        "from numpy.random import seed\n",
        "seed(123)"
      ]
    },
    {
      "cell_type": "markdown",
      "metadata": {
        "id": "iXIAekSUQYFk"
      },
      "source": [
        "# Zad\n",
        "Porównaj wyniki działań różnych optymalizacji\n",
        "* \n",
        "```python\n",
        "sgd = keras.optimizers.SGD(lr=0.01, decay=1e-6, momentum=0.9, nesterov=False)\n",
        "```\n",
        "* \n",
        "```python\n",
        "sgd = keras.optimizers.SGD(lr=0.01, decay=1e-6, momentum=0.9, nesterov=True)\n",
        "```\n",
        "* \n",
        "```python\n",
        "RMSprop = keras.optimizers.RMSprop(learning_rate=0.001, rho=0.9)\n",
        "```\n",
        "* \n",
        "```python\n",
        "Adagrad = keras.optimizers.Adagrad(learning_rate=0.01)\n",
        "```\n",
        "* \n",
        "```python\n",
        "Adadelta = keras.optimizers.Adadelta(learning_rate=1.0, rho=0.95)\n",
        "```\n",
        "* \n",
        "```python\n",
        "Adam = keras.optimizers.Adam(learning_rate=0.001, beta_1=0.9, beta_2=0.999, amsgrad=False)\n",
        "```\n",
        "* \n",
        "```python\n",
        "Adam = keras.optimizers.Adam(learning_rate=0.0001, beta_1=0.9, beta_2=0.999, amsgrad=False)\n",
        "```\n",
        "\n",
        "https://keras.io/optimizers/"
      ]
    },
    {
      "cell_type": "code",
      "execution_count": 2,
      "metadata": {
        "id": "PHYCd3ETQYFn",
        "outputId": "4971365f-83e9-4031-ab61-a75bd6b05b7d",
        "colab": {
          "base_uri": "https://localhost:8080/",
          "height": 409
        }
      },
      "outputs": [
        {
          "output_type": "stream",
          "name": "stderr",
          "text": [
            "<ipython-input-2-d866d9954fc4>:6: ParserWarning: Falling back to the 'python' engine because the 'c' engine does not support regex separators (separators > 1 char and different from '\\s+' are interpreted as regex); you can avoid this warning by specifying engine='python'.\n",
            "  train_set = pd.read_csv('https://raw.githubusercontent.com/mladbago/podstawy_sztucznej_inteligencji/main/Dane/adult/adult.data', sep=\", \",header = None)\n",
            "<ipython-input-2-d866d9954fc4>:7: ParserWarning: Falling back to the 'python' engine because the 'c' engine does not support regex separators (separators > 1 char and different from '\\s+' are interpreted as regex); you can avoid this warning by specifying engine='python'.\n",
            "  test_set = pd.read_csv('https://raw.githubusercontent.com/mladbago/podstawy_sztucznej_inteligencji/main/Dane/adult/adult.test', sep=\", \",skiprows = 1, header = None) # Make sure to skip a row for the test set\n"
          ]
        },
        {
          "output_type": "execute_result",
          "data": {
            "text/plain": [
              "   age         workclass  fnlwgt  education  education_num  \\\n",
              "0   39         State-gov   77516  Bachelors             13   \n",
              "1   50  Self-emp-not-inc   83311  Bachelors             13   \n",
              "2   38           Private  215646    HS-grad              9   \n",
              "3   53           Private  234721       11th              7   \n",
              "4   28           Private  338409  Bachelors             13   \n",
              "\n",
              "       marital_status         occupation   relationship   race     sex  \\\n",
              "0       Never-married       Adm-clerical  Not-in-family  White    Male   \n",
              "1  Married-civ-spouse    Exec-managerial        Husband  White    Male   \n",
              "2            Divorced  Handlers-cleaners  Not-in-family  White    Male   \n",
              "3  Married-civ-spouse  Handlers-cleaners        Husband  Black    Male   \n",
              "4  Married-civ-spouse     Prof-specialty           Wife  Black  Female   \n",
              "\n",
              "   capital_gain  capital_loss  hours_per_week native_country wage_class  \n",
              "0          2174             0              40  United-States      <=50K  \n",
              "1             0             0              13  United-States      <=50K  \n",
              "2             0             0              40  United-States      <=50K  \n",
              "3             0             0              40  United-States      <=50K  \n",
              "4             0             0              40           Cuba      <=50K  "
            ],
            "text/html": [
              "\n",
              "  <div id=\"df-9db6db2a-2879-402a-9b07-cf99b407f1da\">\n",
              "    <div class=\"colab-df-container\">\n",
              "      <div>\n",
              "<style scoped>\n",
              "    .dataframe tbody tr th:only-of-type {\n",
              "        vertical-align: middle;\n",
              "    }\n",
              "\n",
              "    .dataframe tbody tr th {\n",
              "        vertical-align: top;\n",
              "    }\n",
              "\n",
              "    .dataframe thead th {\n",
              "        text-align: right;\n",
              "    }\n",
              "</style>\n",
              "<table border=\"1\" class=\"dataframe\">\n",
              "  <thead>\n",
              "    <tr style=\"text-align: right;\">\n",
              "      <th></th>\n",
              "      <th>age</th>\n",
              "      <th>workclass</th>\n",
              "      <th>fnlwgt</th>\n",
              "      <th>education</th>\n",
              "      <th>education_num</th>\n",
              "      <th>marital_status</th>\n",
              "      <th>occupation</th>\n",
              "      <th>relationship</th>\n",
              "      <th>race</th>\n",
              "      <th>sex</th>\n",
              "      <th>capital_gain</th>\n",
              "      <th>capital_loss</th>\n",
              "      <th>hours_per_week</th>\n",
              "      <th>native_country</th>\n",
              "      <th>wage_class</th>\n",
              "    </tr>\n",
              "  </thead>\n",
              "  <tbody>\n",
              "    <tr>\n",
              "      <th>0</th>\n",
              "      <td>39</td>\n",
              "      <td>State-gov</td>\n",
              "      <td>77516</td>\n",
              "      <td>Bachelors</td>\n",
              "      <td>13</td>\n",
              "      <td>Never-married</td>\n",
              "      <td>Adm-clerical</td>\n",
              "      <td>Not-in-family</td>\n",
              "      <td>White</td>\n",
              "      <td>Male</td>\n",
              "      <td>2174</td>\n",
              "      <td>0</td>\n",
              "      <td>40</td>\n",
              "      <td>United-States</td>\n",
              "      <td>&lt;=50K</td>\n",
              "    </tr>\n",
              "    <tr>\n",
              "      <th>1</th>\n",
              "      <td>50</td>\n",
              "      <td>Self-emp-not-inc</td>\n",
              "      <td>83311</td>\n",
              "      <td>Bachelors</td>\n",
              "      <td>13</td>\n",
              "      <td>Married-civ-spouse</td>\n",
              "      <td>Exec-managerial</td>\n",
              "      <td>Husband</td>\n",
              "      <td>White</td>\n",
              "      <td>Male</td>\n",
              "      <td>0</td>\n",
              "      <td>0</td>\n",
              "      <td>13</td>\n",
              "      <td>United-States</td>\n",
              "      <td>&lt;=50K</td>\n",
              "    </tr>\n",
              "    <tr>\n",
              "      <th>2</th>\n",
              "      <td>38</td>\n",
              "      <td>Private</td>\n",
              "      <td>215646</td>\n",
              "      <td>HS-grad</td>\n",
              "      <td>9</td>\n",
              "      <td>Divorced</td>\n",
              "      <td>Handlers-cleaners</td>\n",
              "      <td>Not-in-family</td>\n",
              "      <td>White</td>\n",
              "      <td>Male</td>\n",
              "      <td>0</td>\n",
              "      <td>0</td>\n",
              "      <td>40</td>\n",
              "      <td>United-States</td>\n",
              "      <td>&lt;=50K</td>\n",
              "    </tr>\n",
              "    <tr>\n",
              "      <th>3</th>\n",
              "      <td>53</td>\n",
              "      <td>Private</td>\n",
              "      <td>234721</td>\n",
              "      <td>11th</td>\n",
              "      <td>7</td>\n",
              "      <td>Married-civ-spouse</td>\n",
              "      <td>Handlers-cleaners</td>\n",
              "      <td>Husband</td>\n",
              "      <td>Black</td>\n",
              "      <td>Male</td>\n",
              "      <td>0</td>\n",
              "      <td>0</td>\n",
              "      <td>40</td>\n",
              "      <td>United-States</td>\n",
              "      <td>&lt;=50K</td>\n",
              "    </tr>\n",
              "    <tr>\n",
              "      <th>4</th>\n",
              "      <td>28</td>\n",
              "      <td>Private</td>\n",
              "      <td>338409</td>\n",
              "      <td>Bachelors</td>\n",
              "      <td>13</td>\n",
              "      <td>Married-civ-spouse</td>\n",
              "      <td>Prof-specialty</td>\n",
              "      <td>Wife</td>\n",
              "      <td>Black</td>\n",
              "      <td>Female</td>\n",
              "      <td>0</td>\n",
              "      <td>0</td>\n",
              "      <td>40</td>\n",
              "      <td>Cuba</td>\n",
              "      <td>&lt;=50K</td>\n",
              "    </tr>\n",
              "  </tbody>\n",
              "</table>\n",
              "</div>\n",
              "      <button class=\"colab-df-convert\" onclick=\"convertToInteractive('df-9db6db2a-2879-402a-9b07-cf99b407f1da')\"\n",
              "              title=\"Convert this dataframe to an interactive table.\"\n",
              "              style=\"display:none;\">\n",
              "        \n",
              "  <svg xmlns=\"http://www.w3.org/2000/svg\" height=\"24px\"viewBox=\"0 0 24 24\"\n",
              "       width=\"24px\">\n",
              "    <path d=\"M0 0h24v24H0V0z\" fill=\"none\"/>\n",
              "    <path d=\"M18.56 5.44l.94 2.06.94-2.06 2.06-.94-2.06-.94-.94-2.06-.94 2.06-2.06.94zm-11 1L8.5 8.5l.94-2.06 2.06-.94-2.06-.94L8.5 2.5l-.94 2.06-2.06.94zm10 10l.94 2.06.94-2.06 2.06-.94-2.06-.94-.94-2.06-.94 2.06-2.06.94z\"/><path d=\"M17.41 7.96l-1.37-1.37c-.4-.4-.92-.59-1.43-.59-.52 0-1.04.2-1.43.59L10.3 9.45l-7.72 7.72c-.78.78-.78 2.05 0 2.83L4 21.41c.39.39.9.59 1.41.59.51 0 1.02-.2 1.41-.59l7.78-7.78 2.81-2.81c.8-.78.8-2.07 0-2.86zM5.41 20L4 18.59l7.72-7.72 1.47 1.35L5.41 20z\"/>\n",
              "  </svg>\n",
              "      </button>\n",
              "      \n",
              "  <style>\n",
              "    .colab-df-container {\n",
              "      display:flex;\n",
              "      flex-wrap:wrap;\n",
              "      gap: 12px;\n",
              "    }\n",
              "\n",
              "    .colab-df-convert {\n",
              "      background-color: #E8F0FE;\n",
              "      border: none;\n",
              "      border-radius: 50%;\n",
              "      cursor: pointer;\n",
              "      display: none;\n",
              "      fill: #1967D2;\n",
              "      height: 32px;\n",
              "      padding: 0 0 0 0;\n",
              "      width: 32px;\n",
              "    }\n",
              "\n",
              "    .colab-df-convert:hover {\n",
              "      background-color: #E2EBFA;\n",
              "      box-shadow: 0px 1px 2px rgba(60, 64, 67, 0.3), 0px 1px 3px 1px rgba(60, 64, 67, 0.15);\n",
              "      fill: #174EA6;\n",
              "    }\n",
              "\n",
              "    [theme=dark] .colab-df-convert {\n",
              "      background-color: #3B4455;\n",
              "      fill: #D2E3FC;\n",
              "    }\n",
              "\n",
              "    [theme=dark] .colab-df-convert:hover {\n",
              "      background-color: #434B5C;\n",
              "      box-shadow: 0px 1px 3px 1px rgba(0, 0, 0, 0.15);\n",
              "      filter: drop-shadow(0px 1px 2px rgba(0, 0, 0, 0.3));\n",
              "      fill: #FFFFFF;\n",
              "    }\n",
              "  </style>\n",
              "\n",
              "      <script>\n",
              "        const buttonEl =\n",
              "          document.querySelector('#df-9db6db2a-2879-402a-9b07-cf99b407f1da button.colab-df-convert');\n",
              "        buttonEl.style.display =\n",
              "          google.colab.kernel.accessAllowed ? 'block' : 'none';\n",
              "\n",
              "        async function convertToInteractive(key) {\n",
              "          const element = document.querySelector('#df-9db6db2a-2879-402a-9b07-cf99b407f1da');\n",
              "          const dataTable =\n",
              "            await google.colab.kernel.invokeFunction('convertToInteractive',\n",
              "                                                     [key], {});\n",
              "          if (!dataTable) return;\n",
              "\n",
              "          const docLinkHtml = 'Like what you see? Visit the ' +\n",
              "            '<a target=\"_blank\" href=https://colab.research.google.com/notebooks/data_table.ipynb>data table notebook</a>'\n",
              "            + ' to learn more about interactive tables.';\n",
              "          element.innerHTML = '';\n",
              "          dataTable['output_type'] = 'display_data';\n",
              "          await google.colab.output.renderOutput(dataTable, element);\n",
              "          const docLink = document.createElement('div');\n",
              "          docLink.innerHTML = docLinkHtml;\n",
              "          element.appendChild(docLink);\n",
              "        }\n",
              "      </script>\n",
              "    </div>\n",
              "  </div>\n",
              "  "
            ]
          },
          "metadata": {},
          "execution_count": 2
        }
      ],
      "source": [
        "# Wczytaj dane treningowe i testowe\n",
        "import numpy as np\n",
        "import matplotlib.pyplot as plt\n",
        "import pandas as pd\n",
        "\n",
        "train_set = pd.read_csv('https://raw.githubusercontent.com/mladbago/podstawy_sztucznej_inteligencji/main/Dane/adult/adult.data', sep=\", \",header = None)\n",
        "test_set = pd.read_csv('https://raw.githubusercontent.com/mladbago/podstawy_sztucznej_inteligencji/main/Dane/adult/adult.test', sep=\", \",skiprows = 1, header = None) # Make sure to skip a row for the test set\n",
        "\n",
        "col_labels = ['age', 'workclass', 'fnlwgt', 'education', 'education_num', 'marital_status', 'occupation', \n",
        "              'relationship', 'race', 'sex', 'capital_gain', 'capital_loss', 'hours_per_week', 'native_country',\n",
        "             'wage_class']\n",
        "train_set.columns = col_labels\n",
        "test_set.columns = col_labels\n",
        "\n",
        "train = train_set.replace('?', np.nan).dropna()\n",
        "test = test_set.replace('?', np.nan).dropna()\n",
        "\n",
        "train_set.head()\n"
      ]
    },
    {
      "cell_type": "code",
      "execution_count": 3,
      "metadata": {
        "id": "0qwKRhArQYFo",
        "outputId": "8dd7f5b6-5d9c-4001-d782-5c90a55a0a22",
        "colab": {
          "base_uri": "https://localhost:8080/"
        }
      },
      "outputs": [
        {
          "output_type": "stream",
          "name": "stdout",
          "text": [
            "(30162, 41)\n"
          ]
        },
        {
          "output_type": "execute_result",
          "data": {
            "text/plain": [
              "(15060, 41)"
            ]
          },
          "metadata": {},
          "execution_count": 3
        }
      ],
      "source": [
        "\n",
        "\n",
        "\n",
        "\n",
        "dataset = pd.concat([train,test])\n",
        "\n",
        "dataset['wage_class'] = dataset.wage_class.replace({'<=50K.': 0,'<=50K':0, '>50K.':1, '>50K':1})\n",
        "\n",
        "dataset.drop([\"fnlwgt\"],axis=1,inplace=True)\n",
        "\n",
        "dataset.drop([\"education\"],axis=1,inplace=True)\n",
        "\n",
        "x = dataset.groupby('native_country')[\"wage_class\"].mean()\n",
        "\n",
        "d = dict(pd.cut(x[x.index!=\" United-States\"],5,labels=range(5)))\n",
        "\n",
        "dataset['native_country'] = dataset['native_country'].replace(d)\n",
        "\n",
        "dataset = pd.get_dummies(dataset,drop_first=True)\n",
        "\n",
        "train = dataset.iloc[:train.shape[0]]\n",
        "test = dataset.iloc[train.shape[0]:]\n",
        "\n",
        "X_train = train.drop(\"wage_class\",axis=1)\n",
        "y_train = train.wage_class\n",
        "\n",
        "X_test = test.drop(\"wage_class\",axis=1)\n",
        "y_test = test.wage_class\n",
        "\n",
        "from sklearn.preprocessing import StandardScaler\n",
        "sc = StandardScaler()\n",
        "X_train = sc.fit_transform(X_train)\n",
        "X_test = sc.transform(X_test)\n",
        "\n",
        "print(X_train.shape)\n",
        "X_test.shape"
      ]
    },
    {
      "cell_type": "markdown",
      "metadata": {
        "id": "XPste5YIQYFp"
      },
      "source": [
        "# SGD"
      ]
    },
    {
      "cell_type": "code",
      "execution_count": 4,
      "metadata": {
        "id": "7inP-68dQYFp",
        "outputId": "7c8c704c-7a4f-483a-d3a0-645447fb456e",
        "colab": {
          "base_uri": "https://localhost:8080/"
        }
      },
      "outputs": [
        {
          "output_type": "stream",
          "name": "stdout",
          "text": [
            "Model: \"sequential\"\n",
            "_________________________________________________________________\n",
            " Layer (type)                Output Shape              Param #   \n",
            "=================================================================\n",
            " dense (Dense)               (None, 100)               4200      \n",
            "                                                                 \n",
            " dense_1 (Dense)             (None, 50)                5050      \n",
            "                                                                 \n",
            " dense_2 (Dense)             (None, 10)                510       \n",
            "                                                                 \n",
            " dense_3 (Dense)             (None, 1)                 11        \n",
            "                                                                 \n",
            "=================================================================\n",
            "Total params: 9,771\n",
            "Trainable params: 9,771\n",
            "Non-trainable params: 0\n",
            "_________________________________________________________________\n"
          ]
        }
      ],
      "source": [
        "from keras.models import Sequential\n",
        "from keras.layers import Dense\n",
        "\n",
        "from keras.callbacks import History\n",
        "\n",
        "history_sgd = History()\n",
        "model = Sequential()\n",
        "model.add(Dense(100,activation=\"sigmoid\",input_shape=(X_train.shape[1],)))\n",
        "model.add(Dense(50,activation=\"sigmoid\"))\n",
        "model.add(Dense(10,activation=\"sigmoid\"))\n",
        "model.add(Dense(1,activation=\"sigmoid\"))\n",
        "model.summary()"
      ]
    },
    {
      "cell_type": "code",
      "execution_count": 6,
      "metadata": {
        "id": "iHyMTkHPQYFq",
        "outputId": "17de7d46-074c-4bf2-8f54-5302cbab2d8f",
        "colab": {
          "base_uri": "https://localhost:8080/"
        }
      },
      "outputs": [
        {
          "output_type": "stream",
          "name": "stderr",
          "text": [
            "/usr/local/lib/python3.10/dist-packages/keras/optimizers/legacy/gradient_descent.py:114: UserWarning: The `lr` argument is deprecated, use `learning_rate` instead.\n",
            "  super().__init__(name, **kwargs)\n"
          ]
        }
      ],
      "source": [
        "sgd = tf.keras.optimizers.legacy.SGD(lr=0.01, decay=1e-6, momentum=0.9, nesterov=True)\n",
        "model.compile(loss=\"binary_crossentropy\",optimizer=sgd, metrics=[\"accuracy\"])"
      ]
    },
    {
      "cell_type": "code",
      "execution_count": null,
      "metadata": {
        "id": "wm9EvKKuQYFq",
        "outputId": "1987f384-683b-4166-d4ed-2c5f9ad2a4d9"
      },
      "outputs": [
        {
          "name": "stdout",
          "output_type": "stream",
          "text": [
            "Train on 30162 samples, validate on 15060 samples\n",
            "Epoch 1/100\n",
            "30162/30162 [==============================] - 1s 48us/step - loss: 0.5327 - accuracy: 0.7517 - val_loss: 0.4264 - val_accuracy: 0.7808\n",
            "Epoch 2/100\n",
            "30162/30162 [==============================] - 1s 48us/step - loss: 0.3604 - accuracy: 0.8292 - val_loss: 0.3446 - val_accuracy: 0.8350\n",
            "Epoch 3/100\n",
            "30162/30162 [==============================] - 1s 44us/step - loss: 0.3392 - accuracy: 0.8394 - val_loss: 0.3351 - val_accuracy: 0.8435\n",
            "Epoch 4/100\n",
            "30162/30162 [==============================] - 1s 45us/step - loss: 0.3335 - accuracy: 0.8436 - val_loss: 0.3337 - val_accuracy: 0.8427\n",
            "Epoch 5/100\n",
            "30162/30162 [==============================] - 2s 55us/step - loss: 0.3305 - accuracy: 0.8438 - val_loss: 0.3290 - val_accuracy: 0.8461\n",
            "Epoch 6/100\n",
            "30162/30162 [==============================] - 1s 48us/step - loss: 0.3289 - accuracy: 0.8460 - val_loss: 0.3285 - val_accuracy: 0.8475\n",
            "Epoch 7/100\n",
            "30162/30162 [==============================] - 1s 46us/step - loss: 0.3270 - accuracy: 0.8453 - val_loss: 0.3284 - val_accuracy: 0.8463\n",
            "Epoch 8/100\n",
            "30162/30162 [==============================] - 1s 48us/step - loss: 0.3263 - accuracy: 0.8467 - val_loss: 0.3280 - val_accuracy: 0.8464\n",
            "Epoch 9/100\n",
            "30162/30162 [==============================] - 1s 45us/step - loss: 0.3254 - accuracy: 0.8466 - val_loss: 0.3267 - val_accuracy: 0.8472\n",
            "Epoch 10/100\n",
            "30162/30162 [==============================] - 1s 46us/step - loss: 0.3245 - accuracy: 0.8471 - val_loss: 0.3279 - val_accuracy: 0.8460\n",
            "Epoch 11/100\n",
            "30162/30162 [==============================] - 1s 44us/step - loss: 0.3244 - accuracy: 0.8472 - val_loss: 0.3250 - val_accuracy: 0.8466\n",
            "Epoch 12/100\n",
            "30162/30162 [==============================] - 1s 46us/step - loss: 0.3229 - accuracy: 0.8472 - val_loss: 0.3260 - val_accuracy: 0.8476\n",
            "Epoch 13/100\n",
            "30162/30162 [==============================] - 1s 47us/step - loss: 0.3221 - accuracy: 0.8483 - val_loss: 0.3252 - val_accuracy: 0.8475\n",
            "Epoch 14/100\n",
            "30162/30162 [==============================] - 1s 45us/step - loss: 0.3217 - accuracy: 0.8494 - val_loss: 0.3284 - val_accuracy: 0.8466\n",
            "Epoch 15/100\n",
            "30162/30162 [==============================] - 1s 44us/step - loss: 0.3207 - accuracy: 0.8496 - val_loss: 0.3229 - val_accuracy: 0.8473\n",
            "Epoch 16/100\n",
            "30162/30162 [==============================] - 1s 43us/step - loss: 0.3202 - accuracy: 0.8503 - val_loss: 0.3226 - val_accuracy: 0.8480\n",
            "Epoch 17/100\n",
            "30162/30162 [==============================] - 1s 43us/step - loss: 0.3195 - accuracy: 0.8500 - val_loss: 0.3218 - val_accuracy: 0.8485\n",
            "Epoch 18/100\n",
            "30162/30162 [==============================] - 1s 45us/step - loss: 0.3190 - accuracy: 0.8506 - val_loss: 0.3219 - val_accuracy: 0.8485\n",
            "Epoch 19/100\n",
            "30162/30162 [==============================] - 1s 45us/step - loss: 0.3188 - accuracy: 0.8502 - val_loss: 0.3216 - val_accuracy: 0.8482\n",
            "Epoch 20/100\n",
            "30162/30162 [==============================] - 1s 45us/step - loss: 0.3176 - accuracy: 0.8518 - val_loss: 0.3221 - val_accuracy: 0.8489\n",
            "Epoch 21/100\n",
            "30162/30162 [==============================] - 1s 43us/step - loss: 0.3177 - accuracy: 0.8502 - val_loss: 0.3206 - val_accuracy: 0.8488\n",
            "Epoch 22/100\n",
            "30162/30162 [==============================] - 2s 51us/step - loss: 0.3169 - accuracy: 0.8514 - val_loss: 0.3220 - val_accuracy: 0.8491\n",
            "Epoch 23/100\n",
            "30162/30162 [==============================] - 2s 50us/step - loss: 0.3165 - accuracy: 0.8511 - val_loss: 0.3225 - val_accuracy: 0.8469\n",
            "Epoch 24/100\n",
            "30162/30162 [==============================] - 1s 42us/step - loss: 0.3159 - accuracy: 0.8518 - val_loss: 0.3211 - val_accuracy: 0.8484\n",
            "Epoch 25/100\n",
            "30162/30162 [==============================] - 1s 46us/step - loss: 0.3157 - accuracy: 0.8514 - val_loss: 0.3211 - val_accuracy: 0.8494\n",
            "Epoch 26/100\n",
            "30162/30162 [==============================] - 1s 46us/step - loss: 0.3151 - accuracy: 0.8523 - val_loss: 0.3210 - val_accuracy: 0.8495\n",
            "Epoch 27/100\n",
            "30162/30162 [==============================] - 1s 42us/step - loss: 0.3149 - accuracy: 0.8516 - val_loss: 0.3223 - val_accuracy: 0.8470\n",
            "Epoch 28/100\n",
            "30162/30162 [==============================] - 1s 43us/step - loss: 0.3139 - accuracy: 0.8510 - val_loss: 0.3223 - val_accuracy: 0.8477\n",
            "Epoch 29/100\n",
            "30162/30162 [==============================] - 1s 46us/step - loss: 0.3137 - accuracy: 0.8512 - val_loss: 0.3189 - val_accuracy: 0.8504\n",
            "Epoch 30/100\n",
            "30162/30162 [==============================] - 1s 43us/step - loss: 0.3131 - accuracy: 0.8521 - val_loss: 0.3249 - val_accuracy: 0.8448\n",
            "Epoch 31/100\n",
            "30162/30162 [==============================] - 1s 42us/step - loss: 0.3130 - accuracy: 0.8532 - val_loss: 0.3204 - val_accuracy: 0.8478\n",
            "Epoch 32/100\n",
            "30162/30162 [==============================] - 1s 46us/step - loss: 0.3126 - accuracy: 0.8525 - val_loss: 0.3191 - val_accuracy: 0.8497\n",
            "Epoch 33/100\n",
            "30162/30162 [==============================] - 1s 44us/step - loss: 0.3117 - accuracy: 0.8530 - val_loss: 0.3313 - val_accuracy: 0.8390\n",
            "Epoch 34/100\n",
            "30162/30162 [==============================] - 1s 46us/step - loss: 0.3115 - accuracy: 0.8536 - val_loss: 0.3245 - val_accuracy: 0.8453\n",
            "Epoch 35/100\n",
            "30162/30162 [==============================] - 1s 45us/step - loss: 0.3110 - accuracy: 0.8537 - val_loss: 0.3179 - val_accuracy: 0.8513\n",
            "Epoch 36/100\n",
            "30162/30162 [==============================] - 1s 43us/step - loss: 0.3114 - accuracy: 0.8539 - val_loss: 0.3212 - val_accuracy: 0.8482\n",
            "Epoch 37/100\n",
            "30162/30162 [==============================] - 1s 44us/step - loss: 0.3100 - accuracy: 0.8535 - val_loss: 0.3190 - val_accuracy: 0.8488\n",
            "Epoch 38/100\n",
            "30162/30162 [==============================] - 1s 46us/step - loss: 0.3101 - accuracy: 0.8537 - val_loss: 0.3198 - val_accuracy: 0.8493\n",
            "Epoch 39/100\n",
            "30162/30162 [==============================] - 1s 45us/step - loss: 0.3095 - accuracy: 0.8547 - val_loss: 0.3180 - val_accuracy: 0.8501\n",
            "Epoch 40/100\n",
            "30162/30162 [==============================] - 1s 44us/step - loss: 0.3095 - accuracy: 0.8548 - val_loss: 0.3181 - val_accuracy: 0.8519\n",
            "Epoch 41/100\n",
            "30162/30162 [==============================] - 1s 43us/step - loss: 0.3092 - accuracy: 0.8554 - val_loss: 0.3178 - val_accuracy: 0.8521\n",
            "Epoch 42/100\n",
            "30162/30162 [==============================] - 1s 45us/step - loss: 0.3082 - accuracy: 0.8552 - val_loss: 0.3259 - val_accuracy: 0.8452\n",
            "Epoch 43/100\n",
            "30162/30162 [==============================] - 1s 49us/step - loss: 0.3082 - accuracy: 0.8564 - val_loss: 0.3182 - val_accuracy: 0.8513\n",
            "Epoch 44/100\n",
            "30162/30162 [==============================] - 1s 44us/step - loss: 0.3083 - accuracy: 0.8544 - val_loss: 0.3186 - val_accuracy: 0.8501\n",
            "Epoch 45/100\n",
            "30162/30162 [==============================] - 1s 45us/step - loss: 0.3077 - accuracy: 0.8552 - val_loss: 0.3183 - val_accuracy: 0.8505\n",
            "Epoch 46/100\n",
            "30162/30162 [==============================] - 1s 45us/step - loss: 0.3069 - accuracy: 0.8558 - val_loss: 0.3177 - val_accuracy: 0.8518\n",
            "Epoch 47/100\n",
            "30162/30162 [==============================] - 1s 44us/step - loss: 0.3068 - accuracy: 0.8559 - val_loss: 0.3204 - val_accuracy: 0.8501\n",
            "Epoch 48/100\n",
            "30162/30162 [==============================] - 1s 44us/step - loss: 0.3068 - accuracy: 0.8570 - val_loss: 0.3180 - val_accuracy: 0.8509\n",
            "Epoch 49/100\n",
            "30162/30162 [==============================] - 1s 47us/step - loss: 0.3063 - accuracy: 0.8555 - val_loss: 0.3189 - val_accuracy: 0.8512\n",
            "Epoch 50/100\n",
            "30162/30162 [==============================] - 1s 43us/step - loss: 0.3061 - accuracy: 0.8560 - val_loss: 0.3175 - val_accuracy: 0.8505\n",
            "Epoch 51/100\n",
            "30162/30162 [==============================] - 1s 43us/step - loss: 0.3059 - accuracy: 0.8555 - val_loss: 0.3200 - val_accuracy: 0.8498\n",
            "Epoch 52/100\n",
            "30162/30162 [==============================] - 1s 44us/step - loss: 0.3054 - accuracy: 0.8561 - val_loss: 0.3207 - val_accuracy: 0.8507\n",
            "Epoch 53/100\n",
            "30162/30162 [==============================] - 1s 44us/step - loss: 0.3051 - accuracy: 0.8560 - val_loss: 0.3188 - val_accuracy: 0.8507\n",
            "Epoch 54/100\n",
            "30162/30162 [==============================] - 1s 45us/step - loss: 0.3050 - accuracy: 0.8572 - val_loss: 0.3191 - val_accuracy: 0.8505\n",
            "Epoch 55/100\n",
            "30162/30162 [==============================] - 1s 45us/step - loss: 0.3046 - accuracy: 0.8579 - val_loss: 0.3198 - val_accuracy: 0.8505\n"
          ]
        },
        {
          "name": "stdout",
          "output_type": "stream",
          "text": [
            "Epoch 56/100\n",
            "30162/30162 [==============================] - 1s 43us/step - loss: 0.3044 - accuracy: 0.8569 - val_loss: 0.3189 - val_accuracy: 0.8503\n",
            "Epoch 57/100\n",
            "30162/30162 [==============================] - 1s 43us/step - loss: 0.3039 - accuracy: 0.8572 - val_loss: 0.3202 - val_accuracy: 0.8505\n",
            "Epoch 58/100\n",
            "30162/30162 [==============================] - 1s 44us/step - loss: 0.3033 - accuracy: 0.8578 - val_loss: 0.3193 - val_accuracy: 0.8508\n",
            "Epoch 59/100\n",
            "30162/30162 [==============================] - 1s 44us/step - loss: 0.3039 - accuracy: 0.8574 - val_loss: 0.3189 - val_accuracy: 0.8499\n",
            "Epoch 60/100\n",
            "30162/30162 [==============================] - 1s 47us/step - loss: 0.3034 - accuracy: 0.8575 - val_loss: 0.3278 - val_accuracy: 0.8420\n",
            "Epoch 61/100\n",
            "30162/30162 [==============================] - 1s 45us/step - loss: 0.3030 - accuracy: 0.8573 - val_loss: 0.3195 - val_accuracy: 0.8489\n",
            "Epoch 62/100\n",
            "30162/30162 [==============================] - 1s 44us/step - loss: 0.3024 - accuracy: 0.8593 - val_loss: 0.3232 - val_accuracy: 0.8490\n",
            "Epoch 63/100\n",
            "30162/30162 [==============================] - 1s 45us/step - loss: 0.3023 - accuracy: 0.8587 - val_loss: 0.3233 - val_accuracy: 0.8501\n",
            "Epoch 64/100\n",
            "30162/30162 [==============================] - 1s 45us/step - loss: 0.3021 - accuracy: 0.8586 - val_loss: 0.3201 - val_accuracy: 0.8495\n",
            "Epoch 65/100\n",
            "30162/30162 [==============================] - 1s 43us/step - loss: 0.3017 - accuracy: 0.8590 - val_loss: 0.3197 - val_accuracy: 0.8517\n",
            "Epoch 66/100\n",
            "30162/30162 [==============================] - 1s 44us/step - loss: 0.3018 - accuracy: 0.8593 - val_loss: 0.3203 - val_accuracy: 0.8502\n",
            "Epoch 67/100\n",
            "30162/30162 [==============================] - 1s 44us/step - loss: 0.3015 - accuracy: 0.8579 - val_loss: 0.3259 - val_accuracy: 0.8504\n",
            "Epoch 68/100\n",
            "30162/30162 [==============================] - 1s 44us/step - loss: 0.3004 - accuracy: 0.8584 - val_loss: 0.3222 - val_accuracy: 0.8498\n",
            "Epoch 69/100\n",
            "30162/30162 [==============================] - 1s 47us/step - loss: 0.3010 - accuracy: 0.8596 - val_loss: 0.3223 - val_accuracy: 0.8480\n",
            "Epoch 70/100\n",
            "30162/30162 [==============================] - 1s 45us/step - loss: 0.3007 - accuracy: 0.8585 - val_loss: 0.3216 - val_accuracy: 0.8492\n",
            "Epoch 71/100\n",
            "30162/30162 [==============================] - 1s 44us/step - loss: 0.3005 - accuracy: 0.8587 - val_loss: 0.3209 - val_accuracy: 0.8497\n",
            "Epoch 72/100\n",
            "30162/30162 [==============================] - 1s 43us/step - loss: 0.3000 - accuracy: 0.8586 - val_loss: 0.3218 - val_accuracy: 0.8489\n",
            "Epoch 73/100\n",
            "30162/30162 [==============================] - 1s 44us/step - loss: 0.2998 - accuracy: 0.8584 - val_loss: 0.3223 - val_accuracy: 0.8489\n",
            "Epoch 74/100\n",
            "30162/30162 [==============================] - 1s 43us/step - loss: 0.3001 - accuracy: 0.8589 - val_loss: 0.3209 - val_accuracy: 0.8505\n",
            "Epoch 75/100\n",
            "30162/30162 [==============================] - 1s 43us/step - loss: 0.2997 - accuracy: 0.8592 - val_loss: 0.3226 - val_accuracy: 0.8487\n",
            "Epoch 76/100\n",
            "30162/30162 [==============================] - 1s 44us/step - loss: 0.2993 - accuracy: 0.8595 - val_loss: 0.3232 - val_accuracy: 0.8477\n",
            "Epoch 77/100\n",
            "30162/30162 [==============================] - 1s 44us/step - loss: 0.2986 - accuracy: 0.8591 - val_loss: 0.3248 - val_accuracy: 0.8487\n",
            "Epoch 78/100\n",
            "30162/30162 [==============================] - 1s 48us/step - loss: 0.2985 - accuracy: 0.8590 - val_loss: 0.3261 - val_accuracy: 0.8484\n",
            "Epoch 79/100\n",
            "30162/30162 [==============================] - 1s 45us/step - loss: 0.2980 - accuracy: 0.8602 - val_loss: 0.3318 - val_accuracy: 0.8474\n",
            "Epoch 80/100\n",
            "30162/30162 [==============================] - 1s 45us/step - loss: 0.2981 - accuracy: 0.8611 - val_loss: 0.3229 - val_accuracy: 0.8493\n",
            "Epoch 81/100\n",
            "30162/30162 [==============================] - 1s 43us/step - loss: 0.2983 - accuracy: 0.8602 - val_loss: 0.3238 - val_accuracy: 0.8490\n",
            "Epoch 82/100\n",
            "30162/30162 [==============================] - 1s 44us/step - loss: 0.2975 - accuracy: 0.8603 - val_loss: 0.3239 - val_accuracy: 0.8503\n",
            "Epoch 83/100\n",
            "30162/30162 [==============================] - 1s 43us/step - loss: 0.2979 - accuracy: 0.8604 - val_loss: 0.3243 - val_accuracy: 0.8477\n",
            "Epoch 84/100\n",
            "30162/30162 [==============================] - 1s 44us/step - loss: 0.2969 - accuracy: 0.8610 - val_loss: 0.3242 - val_accuracy: 0.8493\n",
            "Epoch 85/100\n",
            "30162/30162 [==============================] - 1s 45us/step - loss: 0.2966 - accuracy: 0.8615 - val_loss: 0.3264 - val_accuracy: 0.8480\n",
            "Epoch 86/100\n",
            "30162/30162 [==============================] - 1s 46us/step - loss: 0.2967 - accuracy: 0.8617 - val_loss: 0.3229 - val_accuracy: 0.8500\n",
            "Epoch 87/100\n",
            "30162/30162 [==============================] - 1s 48us/step - loss: 0.2962 - accuracy: 0.8605 - val_loss: 0.3235 - val_accuracy: 0.8485\n",
            "Epoch 88/100\n",
            "30162/30162 [==============================] - 2s 56us/step - loss: 0.2958 - accuracy: 0.8608 - val_loss: 0.3274 - val_accuracy: 0.8483\n",
            "Epoch 89/100\n",
            "30162/30162 [==============================] - 2s 50us/step - loss: 0.2958 - accuracy: 0.8605 - val_loss: 0.3248 - val_accuracy: 0.8481\n",
            "Epoch 90/100\n",
            "30162/30162 [==============================] - 1s 43us/step - loss: 0.2961 - accuracy: 0.8610 - val_loss: 0.3252 - val_accuracy: 0.8481\n",
            "Epoch 91/100\n",
            "30162/30162 [==============================] - 1s 43us/step - loss: 0.2954 - accuracy: 0.8611 - val_loss: 0.3261 - val_accuracy: 0.8501\n",
            "Epoch 92/100\n",
            "30162/30162 [==============================] - 1s 45us/step - loss: 0.2952 - accuracy: 0.8611 - val_loss: 0.3255 - val_accuracy: 0.8475\n",
            "Epoch 93/100\n",
            "30162/30162 [==============================] - 1s 42us/step - loss: 0.2945 - accuracy: 0.8613 - val_loss: 0.3245 - val_accuracy: 0.8478\n",
            "Epoch 94/100\n",
            "30162/30162 [==============================] - 1s 43us/step - loss: 0.2941 - accuracy: 0.8621 - val_loss: 0.3261 - val_accuracy: 0.8504\n",
            "Epoch 95/100\n",
            "30162/30162 [==============================] - 1s 44us/step - loss: 0.2942 - accuracy: 0.8620 - val_loss: 0.3280 - val_accuracy: 0.8453\n",
            "Epoch 96/100\n",
            "30162/30162 [==============================] - 1s 42us/step - loss: 0.2940 - accuracy: 0.8615 - val_loss: 0.3362 - val_accuracy: 0.8387\n",
            "Epoch 97/100\n",
            "30162/30162 [==============================] - 1s 40us/step - loss: 0.2935 - accuracy: 0.8624 - val_loss: 0.3271 - val_accuracy: 0.8461\n",
            "Epoch 98/100\n",
            "30162/30162 [==============================] - 1s 43us/step - loss: 0.2931 - accuracy: 0.8611 - val_loss: 0.3282 - val_accuracy: 0.8483\n",
            "Epoch 99/100\n",
            "30162/30162 [==============================] - 1s 46us/step - loss: 0.2924 - accuracy: 0.8616 - val_loss: 0.3299 - val_accuracy: 0.8494\n",
            "Epoch 100/100\n",
            "30162/30162 [==============================] - 1s 44us/step - loss: 0.2928 - accuracy: 0.8630 - val_loss: 0.3263 - val_accuracy: 0.8485\n"
          ]
        },
        {
          "data": {
            "text/plain": [
              "<keras.callbacks.callbacks.History at 0x2058ace80>"
            ]
          },
          "execution_count": 7,
          "metadata": {},
          "output_type": "execute_result"
        }
      ],
      "source": [
        "model.fit(X_train, y_train, validation_data= (X_test, y_test), batch_size=32,epochs=100, callbacks=[history_sgd])"
      ]
    },
    {
      "cell_type": "code",
      "execution_count": null,
      "metadata": {
        "id": "9xnLWipdQYFr",
        "outputId": "891dca42-fa5f-4dc3-902d-d0e641d0941a"
      },
      "outputs": [
        {
          "data": {
            "text/plain": [
              "dict_keys(['val_loss', 'val_accuracy', 'loss', 'accuracy'])"
            ]
          },
          "execution_count": 8,
          "metadata": {},
          "output_type": "execute_result"
        }
      ],
      "source": [
        "history_sgd.history.keys()"
      ]
    },
    {
      "cell_type": "code",
      "execution_count": null,
      "metadata": {
        "id": "IBNJn1fkQYFr",
        "outputId": "0832a677-e25a-4f5a-fa5b-b75457d08b53"
      },
      "outputs": [
        {
          "data": {
            "image/png": "[encoded data removed]",
            "text/plain": [
              "<Figure size 432x288 with 1 Axes>"
            ]
          },
          "metadata": {
            "needs_background": "light"
          },
          "output_type": "display_data"
        }
      ],
      "source": [
        "import matplotlib.pyplot as pl\n",
        "plt.plot(history_sgd.history['accuracy'], label = \"tarina\")\n",
        "plt.plot(history_sgd.history['val_accuracy'], label = \"test\")\n",
        "plt.legend()\n",
        "plt.show()"
      ]
    },
    {
      "cell_type": "code",
      "execution_count": null,
      "metadata": {
        "id": "MhLZujN4QYFs",
        "outputId": "789e31c3-d886-47f8-bc99-20aa99fbdca4"
      },
      "outputs": [
        {
          "data": {
            "image/png": "[encoded data removed]",
            "text/plain": [
              "<Figure size 432x288 with 1 Axes>"
            ]
          },
          "metadata": {
            "needs_background": "light"
          },
          "output_type": "display_data"
        }
      ],
      "source": [
        "import matplotlib.pyplot as pl\n",
        "plt.plot(history_sgd.history['loss'], label = \"tarina\")\n",
        "plt.plot(history_sgd.history['val_loss'], label = \"test\")\n",
        "plt.legend()\n",
        "plt.show()"
      ]
    },
    {
      "cell_type": "markdown",
      "metadata": {
        "id": "OJbUNvCgQYFt"
      },
      "source": [
        "# RMSprop"
      ]
    },
    {
      "cell_type": "code",
      "execution_count": 7,
      "metadata": {
        "id": "GqPA7-o6QYFt",
        "outputId": "05db5e8b-5129-4766-cdc3-8a74b62e1358",
        "colab": {
          "base_uri": "https://localhost:8080/",
          "height": 380
        }
      },
      "outputs": [
        {
          "output_type": "stream",
          "name": "stdout",
          "text": [
            "Epoch 1/100\n",
            "772/943 [=======================>......] - ETA: 0s - loss: 0.3991 - accuracy: 0.8172"
          ]
        },
        {
          "output_type": "error",
          "ename": "KeyboardInterrupt",
          "evalue": "ignored",
          "traceback": [
            "\u001b[0;31m---------------------------------------------------------------------------\u001b[0m",
            "\u001b[0;31mKeyboardInterrupt\u001b[0m                         Traceback (most recent call last)",
            "\u001b[0;32m<ipython-input-7-f82d4f9ad097>\u001b[0m in \u001b[0;36m<cell line: 3>\u001b[0;34m()\u001b[0m\n\u001b[1;32m      1\u001b[0m \u001b[0mRMSprop\u001b[0m \u001b[0;34m=\u001b[0m \u001b[0mkeras\u001b[0m\u001b[0;34m.\u001b[0m\u001b[0moptimizers\u001b[0m\u001b[0;34m.\u001b[0m\u001b[0mRMSprop\u001b[0m\u001b[0;34m(\u001b[0m\u001b[0mlearning_rate\u001b[0m\u001b[0;34m=\u001b[0m\u001b[0;36m0.001\u001b[0m\u001b[0;34m,\u001b[0m \u001b[0mrho\u001b[0m\u001b[0;34m=\u001b[0m\u001b[0;36m0.9\u001b[0m\u001b[0;34m)\u001b[0m\u001b[0;34m\u001b[0m\u001b[0;34m\u001b[0m\u001b[0m\n\u001b[1;32m      2\u001b[0m \u001b[0mmodel\u001b[0m\u001b[0;34m.\u001b[0m\u001b[0mcompile\u001b[0m\u001b[0;34m(\u001b[0m\u001b[0mloss\u001b[0m\u001b[0;34m=\u001b[0m\u001b[0;34m\"binary_crossentropy\"\u001b[0m\u001b[0;34m,\u001b[0m\u001b[0moptimizer\u001b[0m\u001b[0;34m=\u001b[0m\u001b[0mRMSprop\u001b[0m\u001b[0;34m,\u001b[0m \u001b[0mmetrics\u001b[0m\u001b[0;34m=\u001b[0m\u001b[0;34m[\u001b[0m\u001b[0;34m\"accuracy\"\u001b[0m\u001b[0;34m]\u001b[0m\u001b[0;34m)\u001b[0m\u001b[0;34m\u001b[0m\u001b[0;34m\u001b[0m\u001b[0m\n\u001b[0;32m----> 3\u001b[0;31m \u001b[0mmodel\u001b[0m\u001b[0;34m.\u001b[0m\u001b[0mfit\u001b[0m\u001b[0;34m(\u001b[0m\u001b[0mX_train\u001b[0m\u001b[0;34m,\u001b[0m \u001b[0my_train\u001b[0m\u001b[0;34m,\u001b[0m \u001b[0mvalidation_data\u001b[0m\u001b[0;34m=\u001b[0m \u001b[0;34m(\u001b[0m\u001b[0mX_test\u001b[0m\u001b[0;34m,\u001b[0m \u001b[0my_test\u001b[0m\u001b[0;34m)\u001b[0m\u001b[0;34m,\u001b[0m \u001b[0mbatch_size\u001b[0m\u001b[0;34m=\u001b[0m\u001b[0;36m32\u001b[0m\u001b[0;34m,\u001b[0m\u001b[0mepochs\u001b[0m\u001b[0;34m=\u001b[0m\u001b[0;36m100\u001b[0m\u001b[0;34m,\u001b[0m \u001b[0mcallbacks\u001b[0m\u001b[0;34m=\u001b[0m\u001b[0;34m[\u001b[0m\u001b[0mhistory_sgd\u001b[0m\u001b[0;34m]\u001b[0m\u001b[0;34m)\u001b[0m\u001b[0;34m\u001b[0m\u001b[0;34m\u001b[0m\u001b[0m\n\u001b[0m",
            "\u001b[0;32m/usr/local/lib/python3.10/dist-packages/keras/utils/traceback_utils.py\u001b[0m in \u001b[0;36merror_handler\u001b[0;34m(*args, **kwargs)\u001b[0m\n\u001b[1;32m     63\u001b[0m         \u001b[0mfiltered_tb\u001b[0m \u001b[0;34m=\u001b[0m \u001b[0;32mNone\u001b[0m\u001b[0;34m\u001b[0m\u001b[0;34m\u001b[0m\u001b[0m\n\u001b[1;32m     64\u001b[0m         \u001b[0;32mtry\u001b[0m\u001b[0;34m:\u001b[0m\u001b[0;34m\u001b[0m\u001b[0;34m\u001b[0m\u001b[0m\n\u001b[0;32m---> 65\u001b[0;31m             \u001b[0;32mreturn\u001b[0m \u001b[0mfn\u001b[0m\u001b[0;34m(\u001b[0m\u001b[0;34m*\u001b[0m\u001b[0margs\u001b[0m\u001b[0;34m,\u001b[0m \u001b[0;34m**\u001b[0m\u001b[0mkwargs\u001b[0m\u001b[0;34m)\u001b[0m\u001b[0;34m\u001b[0m\u001b[0;34m\u001b[0m\u001b[0m\n\u001b[0m\u001b[1;32m     66\u001b[0m         \u001b[0;32mexcept\u001b[0m \u001b[0mException\u001b[0m \u001b[0;32mas\u001b[0m \u001b[0me\u001b[0m\u001b[0;34m:\u001b[0m\u001b[0;34m\u001b[0m\u001b[0;34m\u001b[0m\u001b[0m\n\u001b[1;32m     67\u001b[0m             \u001b[0mfiltered_tb\u001b[0m \u001b[0;34m=\u001b[0m \u001b[0m_process_traceback_frames\u001b[0m\u001b[0;34m(\u001b[0m\u001b[0me\u001b[0m\u001b[0;34m.\u001b[0m\u001b[0m__traceback__\u001b[0m\u001b[0;34m)\u001b[0m\u001b[0;34m\u001b[0m\u001b[0;34m\u001b[0m\u001b[0m\n",
            "\u001b[0;32m/usr/local/lib/python3.10/dist-packages/keras/engine/training.py\u001b[0m in \u001b[0;36mfit\u001b[0;34m(self, x, y, batch_size, epochs, verbose, callbacks, validation_split, validation_data, shuffle, class_weight, sample_weight, initial_epoch, steps_per_epoch, validation_steps, validation_batch_size, validation_freq, max_queue_size, workers, use_multiprocessing)\u001b[0m\n\u001b[1;32m   1683\u001b[0m                         ):\n\u001b[1;32m   1684\u001b[0m                             \u001b[0mcallbacks\u001b[0m\u001b[0;34m.\u001b[0m\u001b[0mon_train_batch_begin\u001b[0m\u001b[0;34m(\u001b[0m\u001b[0mstep\u001b[0m\u001b[0;34m)\u001b[0m\u001b[0;34m\u001b[0m\u001b[0;34m\u001b[0m\u001b[0m\n\u001b[0;32m-> 1685\u001b[0;31m                             \u001b[0mtmp_logs\u001b[0m \u001b[0;34m=\u001b[0m \u001b[0mself\u001b[0m\u001b[0;34m.\u001b[0m\u001b[0mtrain_function\u001b[0m\u001b[0;34m(\u001b[0m\u001b[0miterator\u001b[0m\u001b[0;34m)\u001b[0m\u001b[0;34m\u001b[0m\u001b[0;34m\u001b[0m\u001b[0m\n\u001b[0m\u001b[1;32m   1686\u001b[0m                             \u001b[0;32mif\u001b[0m \u001b[0mdata_handler\u001b[0m\u001b[0;34m.\u001b[0m\u001b[0mshould_sync\u001b[0m\u001b[0;34m:\u001b[0m\u001b[0;34m\u001b[0m\u001b[0;34m\u001b[0m\u001b[0m\n\u001b[1;32m   1687\u001b[0m                                 \u001b[0mcontext\u001b[0m\u001b[0;34m.\u001b[0m\u001b[0masync_wait\u001b[0m\u001b[0;34m(\u001b[0m\u001b[0;34m)\u001b[0m\u001b[0;34m\u001b[0m\u001b[0;34m\u001b[0m\u001b[0m\n",
            "\u001b[0;32m/usr/local/lib/python3.10/dist-packages/tensorflow/python/util/traceback_utils.py\u001b[0m in \u001b[0;36merror_handler\u001b[0;34m(*args, **kwargs)\u001b[0m\n\u001b[1;32m    148\u001b[0m     \u001b[0mfiltered_tb\u001b[0m \u001b[0;34m=\u001b[0m \u001b[0;32mNone\u001b[0m\u001b[0;34m\u001b[0m\u001b[0;34m\u001b[0m\u001b[0m\n\u001b[1;32m    149\u001b[0m     \u001b[0;32mtry\u001b[0m\u001b[0;34m:\u001b[0m\u001b[0;34m\u001b[0m\u001b[0;34m\u001b[0m\u001b[0m\n\u001b[0;32m--> 150\u001b[0;31m       \u001b[0;32mreturn\u001b[0m \u001b[0mfn\u001b[0m\u001b[0;34m(\u001b[0m\u001b[0;34m*\u001b[0m\u001b[0margs\u001b[0m\u001b[0;34m,\u001b[0m \u001b[0;34m**\u001b[0m\u001b[0mkwargs\u001b[0m\u001b[0;34m)\u001b[0m\u001b[0;34m\u001b[0m\u001b[0;34m\u001b[0m\u001b[0m\n\u001b[0m\u001b[1;32m    151\u001b[0m     \u001b[0;32mexcept\u001b[0m \u001b[0mException\u001b[0m \u001b[0;32mas\u001b[0m \u001b[0me\u001b[0m\u001b[0;34m:\u001b[0m\u001b[0;34m\u001b[0m\u001b[0;34m\u001b[0m\u001b[0m\n\u001b[1;32m    152\u001b[0m       \u001b[0mfiltered_tb\u001b[0m \u001b[0;34m=\u001b[0m \u001b[0m_process_traceback_frames\u001b[0m\u001b[0;34m(\u001b[0m\u001b[0me\u001b[0m\u001b[0;34m.\u001b[0m\u001b[0m__traceback__\u001b[0m\u001b[0;34m)\u001b[0m\u001b[0;34m\u001b[0m\u001b[0;34m\u001b[0m\u001b[0m\n",
            "\u001b[0;32m/usr/local/lib/python3.10/dist-packages/tensorflow/python/eager/polymorphic_function/polymorphic_function.py\u001b[0m in \u001b[0;36m__call__\u001b[0;34m(self, *args, **kwds)\u001b[0m\n\u001b[1;32m    892\u001b[0m \u001b[0;34m\u001b[0m\u001b[0m\n\u001b[1;32m    893\u001b[0m       \u001b[0;32mwith\u001b[0m \u001b[0mOptionalXlaContext\u001b[0m\u001b[0;34m(\u001b[0m\u001b[0mself\u001b[0m\u001b[0;34m.\u001b[0m\u001b[0m_jit_compile\u001b[0m\u001b[0;34m)\u001b[0m\u001b[0;34m:\u001b[0m\u001b[0;34m\u001b[0m\u001b[0;34m\u001b[0m\u001b[0m\n\u001b[0;32m--> 894\u001b[0;31m         \u001b[0mresult\u001b[0m \u001b[0;34m=\u001b[0m \u001b[0mself\u001b[0m\u001b[0;34m.\u001b[0m\u001b[0m_call\u001b[0m\u001b[0;34m(\u001b[0m\u001b[0;34m*\u001b[0m\u001b[0margs\u001b[0m\u001b[0;34m,\u001b[0m \u001b[0;34m**\u001b[0m\u001b[0mkwds\u001b[0m\u001b[0;34m)\u001b[0m\u001b[0;34m\u001b[0m\u001b[0;34m\u001b[0m\u001b[0m\n\u001b[0m\u001b[1;32m    895\u001b[0m \u001b[0;34m\u001b[0m\u001b[0m\n\u001b[1;32m    896\u001b[0m       \u001b[0mnew_tracing_count\u001b[0m \u001b[0;34m=\u001b[0m \u001b[0mself\u001b[0m\u001b[0;34m.\u001b[0m\u001b[0mexperimental_get_tracing_count\u001b[0m\u001b[0;34m(\u001b[0m\u001b[0;34m)\u001b[0m\u001b[0;34m\u001b[0m\u001b[0;34m\u001b[0m\u001b[0m\n",
            "\u001b[0;32m/usr/local/lib/python3.10/dist-packages/tensorflow/python/eager/polymorphic_function/polymorphic_function.py\u001b[0m in \u001b[0;36m_call\u001b[0;34m(self, *args, **kwds)\u001b[0m\n\u001b[1;32m    924\u001b[0m       \u001b[0;31m# In this case we have created variables on the first call, so we run the\u001b[0m\u001b[0;34m\u001b[0m\u001b[0;34m\u001b[0m\u001b[0m\n\u001b[1;32m    925\u001b[0m       \u001b[0;31m# defunned version which is guaranteed to never create variables.\u001b[0m\u001b[0;34m\u001b[0m\u001b[0;34m\u001b[0m\u001b[0m\n\u001b[0;32m--> 926\u001b[0;31m       \u001b[0;32mreturn\u001b[0m \u001b[0mself\u001b[0m\u001b[0;34m.\u001b[0m\u001b[0m_no_variable_creation_fn\u001b[0m\u001b[0;34m(\u001b[0m\u001b[0;34m*\u001b[0m\u001b[0margs\u001b[0m\u001b[0;34m,\u001b[0m \u001b[0;34m**\u001b[0m\u001b[0mkwds\u001b[0m\u001b[0;34m)\u001b[0m  \u001b[0;31m# pylint: disable=not-callable\u001b[0m\u001b[0;34m\u001b[0m\u001b[0;34m\u001b[0m\u001b[0m\n\u001b[0m\u001b[1;32m    927\u001b[0m     \u001b[0;32melif\u001b[0m \u001b[0mself\u001b[0m\u001b[0;34m.\u001b[0m\u001b[0m_variable_creation_fn\u001b[0m \u001b[0;32mis\u001b[0m \u001b[0;32mnot\u001b[0m \u001b[0;32mNone\u001b[0m\u001b[0;34m:\u001b[0m\u001b[0;34m\u001b[0m\u001b[0;34m\u001b[0m\u001b[0m\n\u001b[1;32m    928\u001b[0m       \u001b[0;31m# Release the lock early so that multiple threads can perform the call\u001b[0m\u001b[0;34m\u001b[0m\u001b[0;34m\u001b[0m\u001b[0m\n",
            "\u001b[0;32m/usr/local/lib/python3.10/dist-packages/tensorflow/python/eager/polymorphic_function/tracing_compiler.py\u001b[0m in \u001b[0;36m__call__\u001b[0;34m(self, *args, **kwargs)\u001b[0m\n\u001b[1;32m    141\u001b[0m       (concrete_function,\n\u001b[1;32m    142\u001b[0m        filtered_flat_args) = self._maybe_define_function(args, kwargs)\n\u001b[0;32m--> 143\u001b[0;31m     return concrete_function._call_flat(\n\u001b[0m\u001b[1;32m    144\u001b[0m         filtered_flat_args, captured_inputs=concrete_function.captured_inputs)  # pylint: disable=protected-access\n\u001b[1;32m    145\u001b[0m \u001b[0;34m\u001b[0m\u001b[0m\n",
            "\u001b[0;32m/usr/local/lib/python3.10/dist-packages/tensorflow/python/eager/polymorphic_function/monomorphic_function.py\u001b[0m in \u001b[0;36m_call_flat\u001b[0;34m(self, args, captured_inputs, cancellation_manager)\u001b[0m\n\u001b[1;32m   1755\u001b[0m         and executing_eagerly):\n\u001b[1;32m   1756\u001b[0m       \u001b[0;31m# No tape is watching; skip to running the function.\u001b[0m\u001b[0;34m\u001b[0m\u001b[0;34m\u001b[0m\u001b[0m\n\u001b[0;32m-> 1757\u001b[0;31m       return self._build_call_outputs(self._inference_function.call(\n\u001b[0m\u001b[1;32m   1758\u001b[0m           ctx, args, cancellation_manager=cancellation_manager))\n\u001b[1;32m   1759\u001b[0m     forward_backward = self._select_forward_and_backward_functions(\n",
            "\u001b[0;32m/usr/local/lib/python3.10/dist-packages/tensorflow/python/eager/polymorphic_function/monomorphic_function.py\u001b[0m in \u001b[0;36mcall\u001b[0;34m(self, ctx, args, cancellation_manager)\u001b[0m\n\u001b[1;32m    379\u001b[0m       \u001b[0;32mwith\u001b[0m \u001b[0m_InterpolateFunctionError\u001b[0m\u001b[0;34m(\u001b[0m\u001b[0mself\u001b[0m\u001b[0;34m)\u001b[0m\u001b[0;34m:\u001b[0m\u001b[0;34m\u001b[0m\u001b[0;34m\u001b[0m\u001b[0m\n\u001b[1;32m    380\u001b[0m         \u001b[0;32mif\u001b[0m \u001b[0mcancellation_manager\u001b[0m \u001b[0;32mis\u001b[0m \u001b[0;32mNone\u001b[0m\u001b[0;34m:\u001b[0m\u001b[0;34m\u001b[0m\u001b[0;34m\u001b[0m\u001b[0m\n\u001b[0;32m--> 381\u001b[0;31m           outputs = execute.execute(\n\u001b[0m\u001b[1;32m    382\u001b[0m               \u001b[0mstr\u001b[0m\u001b[0;34m(\u001b[0m\u001b[0mself\u001b[0m\u001b[0;34m.\u001b[0m\u001b[0msignature\u001b[0m\u001b[0;34m.\u001b[0m\u001b[0mname\u001b[0m\u001b[0;34m)\u001b[0m\u001b[0;34m,\u001b[0m\u001b[0;34m\u001b[0m\u001b[0;34m\u001b[0m\u001b[0m\n\u001b[1;32m    383\u001b[0m               \u001b[0mnum_outputs\u001b[0m\u001b[0;34m=\u001b[0m\u001b[0mself\u001b[0m\u001b[0;34m.\u001b[0m\u001b[0m_num_outputs\u001b[0m\u001b[0;34m,\u001b[0m\u001b[0;34m\u001b[0m\u001b[0;34m\u001b[0m\u001b[0m\n",
            "\u001b[0;32m/usr/local/lib/python3.10/dist-packages/tensorflow/python/eager/execute.py\u001b[0m in \u001b[0;36mquick_execute\u001b[0;34m(op_name, num_outputs, inputs, attrs, ctx, name)\u001b[0m\n\u001b[1;32m     50\u001b[0m   \u001b[0;32mtry\u001b[0m\u001b[0;34m:\u001b[0m\u001b[0;34m\u001b[0m\u001b[0;34m\u001b[0m\u001b[0m\n\u001b[1;32m     51\u001b[0m     \u001b[0mctx\u001b[0m\u001b[0;34m.\u001b[0m\u001b[0mensure_initialized\u001b[0m\u001b[0;34m(\u001b[0m\u001b[0;34m)\u001b[0m\u001b[0;34m\u001b[0m\u001b[0;34m\u001b[0m\u001b[0m\n\u001b[0;32m---> 52\u001b[0;31m     tensors = pywrap_tfe.TFE_Py_Execute(ctx._handle, device_name, op_name,\n\u001b[0m\u001b[1;32m     53\u001b[0m                                         inputs, attrs, num_outputs)\n\u001b[1;32m     54\u001b[0m   \u001b[0;32mexcept\u001b[0m \u001b[0mcore\u001b[0m\u001b[0;34m.\u001b[0m\u001b[0m_NotOkStatusException\u001b[0m \u001b[0;32mas\u001b[0m \u001b[0me\u001b[0m\u001b[0;34m:\u001b[0m\u001b[0;34m\u001b[0m\u001b[0;34m\u001b[0m\u001b[0m\n",
            "\u001b[0;31mKeyboardInterrupt\u001b[0m: "
          ]
        }
      ],
      "source": [
        "RMSprop = keras.optimizers.RMSprop(learning_rate=0.001, rho=0.9)\n",
        "model.compile(loss=\"binary_crossentropy\",optimizer=RMSprop, metrics=[\"accuracy\"])\n",
        "model.fit(X_train, y_train, validation_data= (X_test, y_test), batch_size=32,epochs=100, callbacks=[history_sgd])"
      ]
    },
    {
      "cell_type": "code",
      "execution_count": 8,
      "metadata": {
        "id": "FuulqgmFQYFt",
        "outputId": "5b4cd6b4-43ec-41ff-9e28-970974ee56ae",
        "colab": {
          "base_uri": "https://localhost:8080/"
        }
      },
      "outputs": [
        {
          "output_type": "execute_result",
          "data": {
            "text/plain": [
              "dict_keys([])"
            ]
          },
          "metadata": {},
          "execution_count": 8
        }
      ],
      "source": [
        "history_sgd.history.keys()"
      ]
    },
    {
      "cell_type": "code",
      "source": [
        "plt.plot(history_sgd.history['loss'], label = \"tarina\")\n",
        "plt.plot(history_sgd.history['val_loss'], label = \"test\")\n",
        "plt.legend()\n",
        "plt.show()"
      ],
      "metadata": {
        "id": "8H3PzCMMRNMg"
      },
      "execution_count": null,
      "outputs": []
    },
    {
      "cell_type": "code",
      "source": [
        "plt.plot(history_sgd.history['accuracy'], label = \"tarina\")\n",
        "plt.plot(history_sgd.history['val_accuracy'], label = \"test\")\n",
        "plt.legend()\n",
        "plt.show()"
      ],
      "metadata": {
        "id": "kyFyCGXeRPod"
      },
      "execution_count": null,
      "outputs": []
    },
    {
      "cell_type": "markdown",
      "metadata": {
        "id": "FqFbnK0zQYFt"
      },
      "source": [
        "# Adagrad"
      ]
    },
    {
      "cell_type": "code",
      "execution_count": null,
      "metadata": {
        "id": "KcSHCfBoQYFu"
      },
      "outputs": [],
      "source": [
        "Adagrad = keras.optimizers.Adagrad(learning_rate=0.01)\n",
        "model.compile(loss=\"binary_crossentropy\",optimizer=Adagrad, metrics=[\"accuracy\"])"
      ]
    },
    {
      "cell_type": "code",
      "execution_count": null,
      "metadata": {
        "id": "ECYcs45TQYFu"
      },
      "outputs": [],
      "source": [
        "model.fit(X_train, y_train, validation_data= (X_test, y_test), batch_size=32,epochs=100, callbacks=[history_sgd])"
      ]
    },
    {
      "cell_type": "code",
      "source": [
        "history_sgd.history.keys()"
      ],
      "metadata": {
        "id": "DBBHHJc8RWsm"
      },
      "execution_count": null,
      "outputs": []
    },
    {
      "cell_type": "code",
      "source": [
        "import matplotlib.pyplot as pl\n",
        "plt.plot(history_sgd.history['accuracy'], label = \"tarina\")\n",
        "plt.plot(history_sgd.history['val_accuracy'], label = \"test\")\n",
        "plt.legend()\n",
        "plt.show()"
      ],
      "metadata": {
        "id": "rDdNpX07ReWu"
      },
      "execution_count": null,
      "outputs": []
    },
    {
      "cell_type": "markdown",
      "metadata": {
        "id": "f1VacHJAQYFu"
      },
      "source": [
        "# Adadelta"
      ]
    },
    {
      "cell_type": "code",
      "execution_count": null,
      "metadata": {
        "id": "M-LIZX9cQYFu"
      },
      "outputs": [],
      "source": [
        "Adadelta = keras.optimizers.Adadelta(learning_rate=1.0, rho=0.95)\n",
        "model.compile(loss=\"binary_crossentropy\",optimizer=Adadelta, metrics=[\"accuracy\"])"
      ]
    },
    {
      "cell_type": "code",
      "execution_count": null,
      "metadata": {
        "id": "T7Z0jUlzQYFv"
      },
      "outputs": [],
      "source": [
        "model.fit(X_train, y_train, validation_data= (X_test, y_test), batch_size=32,epochs=100, callbacks=[history_sgd])"
      ]
    },
    {
      "cell_type": "code",
      "source": [
        "history_sgd.history.keys()"
      ],
      "metadata": {
        "id": "9uU2uG89RkS9"
      },
      "execution_count": null,
      "outputs": []
    },
    {
      "cell_type": "code",
      "source": [
        "import matplotlib.pyplot as pl\n",
        "plt.plot(history_sgd.history['accuracy'], label = \"tarina\")\n",
        "plt.plot(history_sgd.history['val_accuracy'], label = \"test\")\n",
        "plt.legend()\n",
        "plt.show()"
      ],
      "metadata": {
        "id": "zgv4HqoBRkwu"
      },
      "execution_count": null,
      "outputs": []
    },
    {
      "cell_type": "markdown",
      "metadata": {
        "id": "V8eaNEKIQYFv"
      },
      "source": [
        "# Adam"
      ]
    },
    {
      "cell_type": "code",
      "execution_count": null,
      "metadata": {
        "id": "gTZZze2VQYFv"
      },
      "outputs": [],
      "source": [
        "Adam = keras.optimizers.Adam(learning_rate=0.001, beta_1=0.9, beta_2=0.999, amsgrad=False)\n",
        "model.compile(loss=\"binary_crossentropy\",optimizer=Adam, metrics=[\"accuracy\"])\n"
      ]
    },
    {
      "cell_type": "code",
      "source": [
        "model.fit(X_train, y_train, validation_data= (X_test, y_test), batch_size=32,epochs=100, callbacks=[history_sgd])"
      ],
      "metadata": {
        "id": "sSMjTIAoRpfN"
      },
      "execution_count": null,
      "outputs": []
    },
    {
      "cell_type": "code",
      "source": [
        "history_sgd.history.keys()"
      ],
      "metadata": {
        "id": "wMhh7BtTRrRN"
      },
      "execution_count": null,
      "outputs": []
    },
    {
      "cell_type": "code",
      "source": [
        "import matplotlib.pyplot as pl\n",
        "plt.plot(history_sgd.history['accuracy'], label = \"tarina\")\n",
        "plt.plot(history_sgd.history['val_accuracy'], label = \"test\")\n",
        "plt.legend()\n",
        "plt.show()"
      ],
      "metadata": {
        "id": "vIvNgrYXRs8N"
      },
      "execution_count": null,
      "outputs": []
    },
    {
      "cell_type": "markdown",
      "metadata": {
        "id": "ErjWq3alQYFv"
      },
      "source": [
        "# Adam"
      ]
    },
    {
      "cell_type": "code",
      "execution_count": null,
      "metadata": {
        "id": "sl_EnU6QQYFv"
      },
      "outputs": [],
      "source": [
        "Adam = keras.optimizers.Adam(learning_rate=0.0001, beta_1=0.9, beta_2=0.999, amsgrad=False)\n",
        "model.compile(loss=\"binary_crossentropy\",optimizer=Adam, metrics=[\"accuracy\"])\n"
      ]
    },
    {
      "cell_type": "code",
      "source": [
        "model.fit(X_train, y_train, validation_data= (X_test, y_test), batch_size=32,epochs=100, callbacks=[history_sgd])"
      ],
      "metadata": {
        "id": "2z-Fs50tRwv-"
      },
      "execution_count": null,
      "outputs": []
    },
    {
      "cell_type": "code",
      "source": [
        "history_sgd.history.keys()"
      ],
      "metadata": {
        "id": "FoJyeJSXRzX1"
      },
      "execution_count": null,
      "outputs": []
    },
    {
      "cell_type": "code",
      "source": [
        "import matplotlib.pyplot as pl\n",
        "plt.plot(history_sgd.history['accuracy'], label = \"tarina\")\n",
        "plt.plot(history_sgd.history['val_accuracy'], label = \"test\")\n",
        "plt.legend()\n",
        "plt.show()"
      ],
      "metadata": {
        "id": "HOXHSV0pR1LR"
      },
      "execution_count": null,
      "outputs": []
    }
  ],
  "metadata": {
    "kernelspec": {
      "display_name": "Python 3",
      "language": "python",
      "name": "python3"
    },
    "language_info": {
      "codemirror_mode": {
        "name": "ipython",
        "version": 3
      },
      "file_extension": ".py",
      "mimetype": "text/x-python",
      "name": "python",
      "nbconvert_exporter": "python",
      "pygments_lexer": "ipython3",
      "version": "3.7.3"
    },
    "colab": {
      "provenance": [],
      "include_colab_link": true
    }
  },
  "nbformat": 4,
  "nbformat_minor": 0
}