{
  "cells": [
    {
      "cell_type": "markdown",
      "metadata": {
        "id": "view-in-github",
        "colab_type": "text"
      },
      "source": [
        "<a href=\"https://colab.research.google.com/github/mladbago/podstawy_sztucznej_inteligencji/blob/main/Z03_A_correlation.ipynb\" target=\"_parent\"><img src=\"https://colab.research.google.com/assets/colab-badge.svg\" alt=\"Open In Colab\"/></a>"
      ]
    },
    {
      "cell_type": "code",
      "execution_count": 1,
      "metadata": {
        "collapsed": true,
        "id": "Nd5FzxfpNApy"
      },
      "outputs": [],
      "source": [
        "import numpy as np\n",
        "from scipy import stats\n",
        "import pandas as pd\n",
        "import matplotlib.pyplot as plt"
      ]
    },
    {
      "cell_type": "markdown",
      "metadata": {
        "id": "cAWBx7_hNAp0"
      },
      "source": [
        "# Korelacja"
      ]
    },
    {
      "cell_type": "markdown",
      "metadata": {
        "id": "ZQgpK4MCNAp1"
      },
      "source": [
        "Współczynnik korelacji między dwiema zmiennymi odpowiada na pytanie: \n",
        "\n",
        "<i>Czy dwie zmienne są powiązane? </i> \n",
        "\n",
        "## Współczynnik korelacji Pearsona \n",
        "\n",
        "Współczynnik korelacji Pearsona - współczynnik określający poziom zależności liniowej między zmiennymi losowymi.\n",
        "\n",
        "## Korelacja rang Spearmana \n",
        "\n",
        "Korelacja rang Spearmana (lub: korelacja rangowa Spearmana, rho Spearmana) – jedna z nieparametrycznych miar monotonicznej zależności statystycznej między zmiennymi losowymi.\n",
        "\n",
        "Korelacja rangowa przyjmuje zawsze wartości z przedziału $[-1,+1]$. Ich interpretacja jest podobna do klasycznego współczynnika korelacji Pearsona, z jednym zastrzeżeniem: \n",
        "- w odróżnieniu od współczynnika Pearsona, który mierzy liniową zależność między zmiennymi, a wszelkie inne związki traktuje jak zaburzone zależności liniowe, korelacja rangowa pokazuje dowolną monotoniczną zależność (także nieliniową).\n",
        "\n",
        "## Korelacja Tau Kendalla \n",
        "\n",
        "Tau Kendalla – statystyka będąca jedną z miar monotonicznej zależności dwóch zmiennych losowych. Służy w praktyce do opisu korelacji między zmiennymi porządkowymi.\n",
        "\n",
        "Tau Kendalla przyjmuje wartości od -1 do 1 włącznie. +1 oznacza, że każda ze zmiennych rośnie przy wzroście drugiej. -1 oznacza że każda maleje przy wzroście drugiej. Tym samym tau Kendalla, podobnie jak korelacja rangowa jest miarą monotonicznej zależności zmiennych losowych."
      ]
    },
    {
      "cell_type": "markdown",
      "metadata": {
        "id": "-fSZ6BoJNAp2"
      },
      "source": [
        "# Zadanie 1 \n",
        "Policz korelacje: \n",
        "<ul>\n",
        "<li>pearson</li>\n",
        "<li>spearman</li>\n",
        "<li>kendall</li>\n",
        "</ul>\n",
        "\n",
        "dla zbioru:"
      ]
    },
    {
      "cell_type": "code",
      "execution_count": null,
      "metadata": {
        "collapsed": true,
        "id": "Id2j1WkhNAp3"
      },
      "outputs": [],
      "source": [
        "f = lambda x: (x)\n",
        "x_tr = np.linspace(0., 5, 200)\n",
        "y_tr = f(x_tr)\n",
        "x = stats.uniform(1,3).rvs(100)\n",
        "y = f(x) + stats.norm(0,0.1).rvs(len(x))"
      ]
    },
    {
      "cell_type": "code",
      "execution_count": null,
      "metadata": {
        "id": "Gds2UPMeNAp4",
        "outputId": "874d3946-73aa-4e60-9840-9f19a44a96e3",
        "colab": {
          "base_uri": "https://localhost:8080/",
          "height": 378
        }
      },
      "outputs": [
        {
          "output_type": "display_data",
          "data": {
            "text/plain": [
              "<Figure size 432x432 with 1 Axes>"
            ],
            "image/png": "[encoded data removed]"
          },
          "metadata": {
            "needs_background": "light"
          }
        }
      ],
      "source": [
        "plt.figure(figsize=(6,6));\n",
        "axes = plt.gca()\n",
        "axes.set_xlim([0,5])\n",
        "axes.set_ylim([0,5])\n",
        "plt.plot(x_tr, y_tr, '--k');\n",
        "plt.plot(x, y, 'ok', ms=3);\n",
        "plt.show()"
      ]
    },
    {
      "cell_type": "code",
      "execution_count": null,
      "metadata": {
        "id": "jvsr6mBXNAp5",
        "outputId": "3d93d513-cc19-4808-b7f6-a3ff9eeda1e2",
        "colab": {
          "base_uri": "https://localhost:8080/"
        }
      },
      "outputs": [
        {
          "output_type": "stream",
          "name": "stdout",
          "text": [
            "{'pearson': 0.9945364654956328, 'spearman': 0.9918751875187517, 'kendall': 0.9317171717171718}\n"
          ]
        }
      ],
      "source": [
        "corr = {}\n",
        "corr['pearson'], _ = stats.pearsonr(x,y)\n",
        "corr['spearman'], _ = stats.spearmanr(x,y)\n",
        "corr['kendall'], _ = stats.kendalltau(x,y)\n",
        "print(corr)    "
      ]
    },
    {
      "cell_type": "markdown",
      "metadata": {
        "id": "thglPqTxNAp6"
      },
      "source": [
        "# Zadanie 2 \n",
        "Policz korelacje: \n",
        "<ul>\n",
        "<li>pearson</li>\n",
        "<li>spearman</li>\n",
        "<li>kendall</li>\n",
        "</ul>\n",
        "\n",
        "dla zbioru:"
      ]
    },
    {
      "cell_type": "code",
      "execution_count": null,
      "metadata": {
        "collapsed": true,
        "id": "WIGylhqiNAp6"
      },
      "outputs": [],
      "source": [
        "f = lambda x: (-x+5)\n",
        "x_tr = np.linspace(0., 5, 200)\n",
        "y_tr = f(x_tr)\n",
        "x = stats.uniform(1,3).rvs(100)\n",
        "y = f(x) + stats.norm(0,0.1).rvs(len(x))"
      ]
    },
    {
      "cell_type": "code",
      "execution_count": null,
      "metadata": {
        "id": "ItzdlwqZNAp6",
        "outputId": "463b3ab0-9638-4c0a-b0da-f907b3e11ef4",
        "colab": {
          "base_uri": "https://localhost:8080/",
          "height": 378
        }
      },
      "outputs": [
        {
          "output_type": "display_data",
          "data": {
            "text/plain": [
              "<Figure size 432x432 with 1 Axes>"
            ],
            "image/png": "[encoded data removed]"
          },
          "metadata": {
            "needs_background": "light"
          }
        }
      ],
      "source": [
        "plt.figure(figsize=(6,6));\n",
        "axes = plt.gca()\n",
        "axes.set_xlim([0,5])\n",
        "axes.set_ylim([0,5])\n",
        "plt.plot(x_tr, y_tr, '--k');\n",
        "plt.plot(x, y, 'ok', ms=3);\n",
        "plt.show()"
      ]
    },
    {
      "cell_type": "code",
      "execution_count": null,
      "metadata": {
        "collapsed": true,
        "id": "H1VOoT0SNAp7",
        "outputId": "8dd9fed3-cc51-4d0f-f0fd-58c411aef552",
        "colab": {
          "base_uri": "https://localhost:8080/"
        }
      },
      "outputs": [
        {
          "output_type": "stream",
          "name": "stdout",
          "text": [
            "{'pearson': -0.9930137105877335, 'spearman': -0.9906990699069906, 'kendall': -0.924848484848485}\n"
          ]
        }
      ],
      "source": [
        "corr = {}\n",
        "corr['pearson'], _ = stats.pearsonr(x,y)\n",
        "corr['spearman'], _ = stats.spearmanr(x,y)\n",
        "corr['kendall'], _ = stats.kendalltau(x,y)\n",
        "print(corr)  "
      ]
    },
    {
      "cell_type": "markdown",
      "metadata": {
        "id": "2A7kX6qkNAp7"
      },
      "source": [
        "# Zadanie 3\n",
        "Policz korelacje: \n",
        "<ul>\n",
        "<li>pearson</li>\n",
        "<li>spearman</li>\n",
        "<li>kendall</li>\n",
        "</ul>\n",
        "\n",
        "dla zbioru:"
      ]
    },
    {
      "cell_type": "code",
      "execution_count": null,
      "metadata": {
        "id": "WT30oks7NAp7",
        "outputId": "d412ceab-3063-47b5-bb3e-87556725d15a",
        "colab": {
          "base_uri": "https://localhost:8080/",
          "height": 378
        }
      },
      "outputs": [
        {
          "output_type": "display_data",
          "data": {
            "text/plain": [
              "<Figure size 432x432 with 1 Axes>"
            ],
            "image/png": "[encoded data removed]"
          },
          "metadata": {
            "needs_background": "light"
          }
        }
      ],
      "source": [
        "f = lambda x: (x)\n",
        "x_tr = np.linspace(0., 5, 200)\n",
        "y_tr = f(x_tr)\n",
        "x = stats.uniform(1,3).rvs(100)\n",
        "y = f(x) + stats.norm(0,0.5).rvs(len(x))\n",
        "\n",
        "plt.figure(figsize=(6,6));\n",
        "axes = plt.gca()\n",
        "axes.set_xlim([0,5])\n",
        "axes.set_ylim([0,5])\n",
        "plt.plot(x_tr, y_tr, '--k');\n",
        "plt.plot(x, y, 'ok', ms=3);\n",
        "plt.show()"
      ]
    },
    {
      "cell_type": "code",
      "execution_count": null,
      "metadata": {
        "collapsed": true,
        "id": "j_AzZpJlNAp8",
        "outputId": "ee2cfa80-54c6-4f0b-c50c-7b6e0985b9bc",
        "colab": {
          "base_uri": "https://localhost:8080/"
        }
      },
      "outputs": [
        {
          "output_type": "stream",
          "name": "stdout",
          "text": [
            "{'pearson': 0.8688649749958375, 'spearman': 0.8705790579057904, 'kendall': 0.661010101010101}\n"
          ]
        }
      ],
      "source": [
        "corr = {}\n",
        "corr['pearson'], _ = stats.pearsonr(x,y)\n",
        "corr['spearman'], _ = stats.spearmanr(x,y)\n",
        "corr['kendall'], _ = stats.kendalltau(x,y)\n",
        "print(corr)  "
      ]
    },
    {
      "cell_type": "markdown",
      "metadata": {
        "id": "xi4P8EL_NAqB"
      },
      "source": [
        "# Zadanie 4\n",
        "Policz korelacje: \n",
        "<ul>\n",
        "<li>pearson</li>\n",
        "<li>spearman</li>\n",
        "<li>kendall</li>\n",
        "</ul>\n",
        "\n",
        "dla zbioru:"
      ]
    },
    {
      "cell_type": "code",
      "execution_count": null,
      "metadata": {
        "collapsed": true,
        "id": "VABidY9-NAqC"
      },
      "outputs": [],
      "source": [
        "f = lambda x: x**2\n",
        "x_tr = np.linspace(-10, 10, 200)\n",
        "y_tr = f(x_tr)\n",
        "x = stats.uniform(-3,6).rvs(100)\n",
        "y = f(x) + stats.norm(0,0.3).rvs(len(x))"
      ]
    },
    {
      "cell_type": "code",
      "execution_count": null,
      "metadata": {
        "id": "q9Bq6IrtNAqC",
        "outputId": "7fc3d1db-ffd4-4ce1-9eae-800caa6a89a7",
        "colab": {
          "base_uri": "https://localhost:8080/",
          "height": 378
        }
      },
      "outputs": [
        {
          "output_type": "display_data",
          "data": {
            "text/plain": [
              "<Figure size 432x432 with 1 Axes>"
            ],
            "image/png": "[encoded data removed]"
          },
          "metadata": {
            "needs_background": "light"
          }
        }
      ],
      "source": [
        "plt.figure(figsize=(6,6));\n",
        "axes = plt.gca()\n",
        "axes.set_xlim([-3,3])\n",
        "axes.set_ylim([0,10])\n",
        "# axes.set_ylim([np.min(y),f(5)])\n",
        "plt.plot(x_tr, y_tr, '--k');\n",
        "plt.plot(x, y, 'ok', ms=3);\n",
        "plt.show()"
      ]
    },
    {
      "cell_type": "code",
      "execution_count": null,
      "metadata": {
        "collapsed": true,
        "id": "7lO4a5B-NAqC",
        "outputId": "920098d2-823d-46a1-99d7-907a07072e05",
        "colab": {
          "base_uri": "https://localhost:8080/"
        }
      },
      "outputs": [
        {
          "output_type": "stream",
          "name": "stdout",
          "text": [
            "{'pearson': 0.019975092182491428, 'spearman': -0.07073507350735073, 'kendall': -0.08646464646464648}\n"
          ]
        }
      ],
      "source": [
        "corr = {}\n",
        "corr['pearson'], _ = stats.pearsonr(x,y)\n",
        "corr['spearman'], _ = stats.spearmanr(x,y)\n",
        "corr['kendall'], _ = stats.kendalltau(x,y)\n",
        "print(corr)"
      ]
    },
    {
      "cell_type": "markdown",
      "metadata": {
        "id": "NrI77_A2NAqD"
      },
      "source": [
        "# Zadanie 5\n",
        "Wygeneruj zbiór tak by \n",
        "<ul>\n",
        "<li>korelacja pearsona wynosiła około 0.5</li>\n",
        "<li>korelacja spearmana wynosiła około 1</li>\n",
        "<li>korelacja kendalla wynosiła około 1</li>\n",
        "</ul>"
      ]
    },
    {
      "cell_type": "code",
      "execution_count": 22,
      "metadata": {
        "collapsed": true,
        "id": "eJmmqD8nNAqD",
        "outputId": "69ed1032-209f-41be-9fd2-8e517cf6d04a",
        "colab": {
          "base_uri": "https://localhost:8080/",
          "height": 395
        }
      },
      "outputs": [
        {
          "output_type": "display_data",
          "data": {
            "text/plain": [
              "<Figure size 432x432 with 1 Axes>"
            ],
            "image/png": "[encoded data removed]"
          },
          "metadata": {
            "needs_background": "light"
          }
        },
        {
          "output_type": "stream",
          "name": "stdout",
          "text": [
            "{'pearson': 0.49153325701665285, 'spearman': 0.9999999999999999, 'kendall': 1.0}\n"
          ]
        }
      ],
      "source": [
        "f = lambda x: (x **22 +1)\n",
        "x_tr = np.linspace(0., 5, 200)\n",
        "y_tr = f(x_tr)\n",
        "x = stats.uniform(1,3).rvs(100)\n",
        "y = f(x) + stats.norm(0,0.1).rvs(len(x))\n",
        "\n",
        "plt.figure(figsize=(6,6));\n",
        "axes = plt.gca()\n",
        "axes.set_xlim([-3,3])\n",
        "axes.set_ylim([0,10])\n",
        "# axes.set_ylim([np.min(y),f(5)])\n",
        "plt.plot(x_tr, y_tr, '--k');\n",
        "plt.plot(x, y, 'ok', ms=3);\n",
        "plt.show()\n",
        "corr = {}\n",
        "corr['pearson'], _ = stats.pearsonr(x,y)\n",
        "corr['spearman'], _ = stats.spearmanr(x,y)\n",
        "corr['kendall'], _ = stats.kendalltau(x,y)\n",
        "print(corr)\n",
        "\n"
      ]
    },
    {
      "cell_type": "code",
      "execution_count": null,
      "metadata": {
        "collapsed": true,
        "id": "b_ANgF9CNAqD"
      },
      "outputs": [],
      "source": []
    }
  ],
  "metadata": {
    "kernelspec": {
      "display_name": "Python 3",
      "language": "python",
      "name": "python3"
    },
    "language_info": {
      "codemirror_mode": {
        "name": "ipython",
        "version": 3
      },
      "file_extension": ".py",
      "mimetype": "text/x-python",
      "name": "python",
      "nbconvert_exporter": "python",
      "pygments_lexer": "ipython3",
      "version": "3.8.5"
    },
    "colab": {
      "provenance": [],
      "toc_visible": true,
      "include_colab_link": true
    }
  },
  "nbformat": 4,
  "nbformat_minor": 0
}